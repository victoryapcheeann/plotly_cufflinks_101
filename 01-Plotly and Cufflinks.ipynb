{
 "cells": [
  {
   "cell_type": "markdown",
   "metadata": {},
   "source": [
    "___\n",
    "\n",
    "<a href='http://www.pieriandata.com'> <img src='../Pierian_Data_Logo.png' /></a>\n",
    "___\n",
    "# Plotly and Cufflinks"
   ]
  },
  {
   "cell_type": "markdown",
   "metadata": {},
   "source": [
    "Plotly is a library that allows you to create interactive plots that you can use in dashboards or websites (you can save them as html files or static images).\n",
    "\n",
    "## Installation\n",
    "\n",
    "In order for this all to work, you'll need to install plotly and cufflinks to call plots directly off of a pandas dataframe. These libraries are not currently available through **conda** but are available through **pip**. Install the libraries at your command line/terminal using:\n",
    "\n",
    "    pip install plotly\n",
    "    pip install cufflinks\n",
    "\n",
    "** NOTE: Make sure you only have one installation of Python on your computer when you do this, otherwise the installation may not work. **\n",
    "\n",
    "## Imports and Set-up"
   ]
  },
  {
   "cell_type": "code",
   "execution_count": 1,
   "metadata": {},
   "outputs": [],
   "source": [
    "import pandas as pd\n",
    "import numpy as np\n",
    "%matplotlib inline"
   ]
  },
  {
   "cell_type": "code",
   "execution_count": 2,
   "metadata": {},
   "outputs": [
    {
     "name": "stdout",
     "output_type": "stream",
     "text": [
      "4.9.0\n"
     ]
    }
   ],
   "source": [
    "from plotly import __version__\n",
    "from plotly.offline import download_plotlyjs, init_notebook_mode, plot, iplot\n",
    "\n",
    "print(__version__) # requires version >= 1.9.0"
   ]
  },
  {
   "cell_type": "code",
   "execution_count": 3,
   "metadata": {},
   "outputs": [],
   "source": [
    "import cufflinks as cf"
   ]
  },
  {
   "cell_type": "code",
   "execution_count": 4,
   "metadata": {},
   "outputs": [
    {
     "data": {
      "text/html": [
       "        <script type=\"text/javascript\">\n",
       "        window.PlotlyConfig = {MathJaxConfig: 'local'};\n",
       "        if (window.MathJax) {MathJax.Hub.Config({SVG: {font: \"STIX-Web\"}});}\n",
       "        if (typeof require !== 'undefined') {\n",
       "        require.undef(\"plotly\");\n",
       "        requirejs.config({\n",
       "            paths: {\n",
       "                'plotly': ['https://cdn.plot.ly/plotly-latest.min']\n",
       "            }\n",
       "        });\n",
       "        require(['plotly'], function(Plotly) {\n",
       "            window._Plotly = Plotly;\n",
       "        });\n",
       "        }\n",
       "        </script>\n",
       "        "
      ]
     },
     "metadata": {},
     "output_type": "display_data"
    }
   ],
   "source": [
    "# For Notebooks\n",
    "init_notebook_mode(connected=True)"
   ]
  },
  {
   "cell_type": "code",
   "execution_count": 5,
   "metadata": {},
   "outputs": [
    {
     "data": {
      "text/html": [
       "        <script type=\"text/javascript\">\n",
       "        window.PlotlyConfig = {MathJaxConfig: 'local'};\n",
       "        if (window.MathJax) {MathJax.Hub.Config({SVG: {font: \"STIX-Web\"}});}\n",
       "        if (typeof require !== 'undefined') {\n",
       "        require.undef(\"plotly\");\n",
       "        requirejs.config({\n",
       "            paths: {\n",
       "                'plotly': ['https://cdn.plot.ly/plotly-latest.min']\n",
       "            }\n",
       "        });\n",
       "        require(['plotly'], function(Plotly) {\n",
       "            window._Plotly = Plotly;\n",
       "        });\n",
       "        }\n",
       "        </script>\n",
       "        "
      ]
     },
     "metadata": {},
     "output_type": "display_data"
    }
   ],
   "source": [
    "# For offline use\n",
    "cf.go_offline()"
   ]
  },
  {
   "cell_type": "markdown",
   "metadata": {},
   "source": [
    "### Fake Data"
   ]
  },
  {
   "cell_type": "code",
   "execution_count": 6,
   "metadata": {},
   "outputs": [],
   "source": [
    "df = pd.DataFrame(np.random.randn(100,4),columns='A B C D'.split())"
   ]
  },
  {
   "cell_type": "code",
   "execution_count": 7,
   "metadata": {},
   "outputs": [
    {
     "data": {
      "text/html": [
       "<div>\n",
       "<style scoped>\n",
       "    .dataframe tbody tr th:only-of-type {\n",
       "        vertical-align: middle;\n",
       "    }\n",
       "\n",
       "    .dataframe tbody tr th {\n",
       "        vertical-align: top;\n",
       "    }\n",
       "\n",
       "    .dataframe thead th {\n",
       "        text-align: right;\n",
       "    }\n",
       "</style>\n",
       "<table border=\"1\" class=\"dataframe\">\n",
       "  <thead>\n",
       "    <tr style=\"text-align: right;\">\n",
       "      <th></th>\n",
       "      <th>A</th>\n",
       "      <th>B</th>\n",
       "      <th>C</th>\n",
       "      <th>D</th>\n",
       "    </tr>\n",
       "  </thead>\n",
       "  <tbody>\n",
       "    <tr>\n",
       "      <th>0</th>\n",
       "      <td>-3.089169</td>\n",
       "      <td>-0.649733</td>\n",
       "      <td>0.961986</td>\n",
       "      <td>0.110503</td>\n",
       "    </tr>\n",
       "    <tr>\n",
       "      <th>1</th>\n",
       "      <td>-0.150938</td>\n",
       "      <td>0.287932</td>\n",
       "      <td>0.013861</td>\n",
       "      <td>-0.612452</td>\n",
       "    </tr>\n",
       "    <tr>\n",
       "      <th>2</th>\n",
       "      <td>0.132268</td>\n",
       "      <td>-0.640655</td>\n",
       "      <td>-1.080802</td>\n",
       "      <td>-0.005613</td>\n",
       "    </tr>\n",
       "    <tr>\n",
       "      <th>3</th>\n",
       "      <td>-0.943648</td>\n",
       "      <td>0.442889</td>\n",
       "      <td>0.483947</td>\n",
       "      <td>-0.182619</td>\n",
       "    </tr>\n",
       "    <tr>\n",
       "      <th>4</th>\n",
       "      <td>1.093915</td>\n",
       "      <td>-0.055168</td>\n",
       "      <td>0.512046</td>\n",
       "      <td>0.414559</td>\n",
       "    </tr>\n",
       "  </tbody>\n",
       "</table>\n",
       "</div>"
      ],
      "text/plain": [
       "          A         B         C         D\n",
       "0 -3.089169 -0.649733  0.961986  0.110503\n",
       "1 -0.150938  0.287932  0.013861 -0.612452\n",
       "2  0.132268 -0.640655 -1.080802 -0.005613\n",
       "3 -0.943648  0.442889  0.483947 -0.182619\n",
       "4  1.093915 -0.055168  0.512046  0.414559"
      ]
     },
     "execution_count": 7,
     "metadata": {},
     "output_type": "execute_result"
    }
   ],
   "source": [
    "df.head()"
   ]
  },
  {
   "cell_type": "code",
   "execution_count": 8,
   "metadata": {},
   "outputs": [],
   "source": [
    "df2 = pd.DataFrame({'Category':['A','B','C'],'Values':[32,43,50]})"
   ]
  },
  {
   "cell_type": "code",
   "execution_count": 9,
   "metadata": {},
   "outputs": [
    {
     "data": {
      "text/html": [
       "<div>\n",
       "<style scoped>\n",
       "    .dataframe tbody tr th:only-of-type {\n",
       "        vertical-align: middle;\n",
       "    }\n",
       "\n",
       "    .dataframe tbody tr th {\n",
       "        vertical-align: top;\n",
       "    }\n",
       "\n",
       "    .dataframe thead th {\n",
       "        text-align: right;\n",
       "    }\n",
       "</style>\n",
       "<table border=\"1\" class=\"dataframe\">\n",
       "  <thead>\n",
       "    <tr style=\"text-align: right;\">\n",
       "      <th></th>\n",
       "      <th>Category</th>\n",
       "      <th>Values</th>\n",
       "    </tr>\n",
       "  </thead>\n",
       "  <tbody>\n",
       "    <tr>\n",
       "      <th>0</th>\n",
       "      <td>A</td>\n",
       "      <td>32</td>\n",
       "    </tr>\n",
       "    <tr>\n",
       "      <th>1</th>\n",
       "      <td>B</td>\n",
       "      <td>43</td>\n",
       "    </tr>\n",
       "    <tr>\n",
       "      <th>2</th>\n",
       "      <td>C</td>\n",
       "      <td>50</td>\n",
       "    </tr>\n",
       "  </tbody>\n",
       "</table>\n",
       "</div>"
      ],
      "text/plain": [
       "  Category  Values\n",
       "0        A      32\n",
       "1        B      43\n",
       "2        C      50"
      ]
     },
     "execution_count": 9,
     "metadata": {},
     "output_type": "execute_result"
    }
   ],
   "source": [
    "df2.head()"
   ]
  },
  {
   "cell_type": "markdown",
   "metadata": {},
   "source": [
    "## Using Cufflinks and iplot()\n",
    "\n",
    "* scatter\n",
    "* bar\n",
    "* box\n",
    "* spread\n",
    "* ratio\n",
    "* heatmap\n",
    "* surface\n",
    "* histogram\n",
    "* bubble"
   ]
  },
  {
   "cell_type": "markdown",
   "metadata": {},
   "source": [
    "## Scatter"
   ]
  },
  {
   "cell_type": "code",
   "execution_count": 10,
   "metadata": {},
   "outputs": [
    {
     "data": {
      "application/vnd.plotly.v1+json": {
       "config": {
        "linkText": "Export to plot.ly",
        "plotlyServerURL": "https://plot.ly",
        "showLink": true
       },
       "data": [
        {
         "line": {
          "color": "rgba(255, 153, 51, 1.0)",
          "dash": "solid",
          "shape": "linear",
          "width": 1.3
         },
         "marker": {
          "size": 10,
          "symbol": "circle"
         },
         "mode": "markers",
         "name": "B",
         "text": "",
         "type": "scatter",
         "x": [
          -3.0891690814370802,
          -0.15093812636863455,
          0.13226757129359545,
          -0.9436480441721036,
          1.0939150837805443,
          2.233999101663424,
          -1.408821280745671,
          0.6644399525912178,
          -1.6692209129812499,
          -0.5781750330564617,
          0.3259479485936982,
          0.35337291909405744,
          -0.9355951333970114,
          1.3993657665589674,
          -0.7264432065839201,
          1.2706747152305884,
          0.08987776345309252,
          -0.8739620333814003,
          0.45305462405840774,
          2.077131993710634,
          -0.6497997380408793,
          0.10363703694124451,
          0.3685517032749556,
          -1.660889834320239,
          0.22748720155204724,
          -0.17608486595685274,
          1.9508324776532389,
          -0.948824710656382,
          0.24637108641800815,
          -0.17990593133279728,
          -0.5755789986094119,
          -0.22662134604804202,
          -0.8538680787755056,
          0.013849875503001482,
          0.32597581297179595,
          -0.8570921503818173,
          1.1028656743252894,
          0.5423182366845734,
          -0.5223174727704796,
          0.8231902161617701,
          0.7082832668864215,
          -2.3610760141909157,
          0.2248092690337905,
          -0.36923956224707316,
          0.47222005942496675,
          1.1822084221798006,
          -0.7039689666073455,
          -1.6448332982778755,
          -0.7701095141840978,
          1.563570590474163,
          -1.012153140899084,
          0.23841585632035256,
          -0.10407886028953234,
          -1.5621766835347606,
          2.287473672845577,
          -1.6895900849694523,
          0.523563807588396,
          -0.2458264678003052,
          -0.4110176453047839,
          0.05109260418553095,
          1.124657961564242,
          0.039085117909342014,
          0.07476390135402051,
          -1.6844573466745725,
          0.012687342579481247,
          -0.8125959503982871,
          0.5429420065790311,
          1.1584453916061306,
          0.2913230192637508,
          -0.5259598537222732,
          -0.40300408177855257,
          -0.3231243016908354,
          1.1195392948215908,
          1.1177784724135182,
          -0.2934667283084928,
          0.44485367348780974,
          0.31945308725082366,
          -0.035216205859157454,
          0.5326000062572194,
          -0.23700601438944363,
          -2.125131809986599,
          1.9665838565142724,
          -0.10621838516393992,
          -1.5297894140868404,
          1.1923521839899056,
          0.42434109188195157,
          -0.5928653108372631,
          0.5444827992464166,
          1.908321054359214,
          0.9201338704472097,
          -0.37017190530359384,
          -0.1287567243335507,
          0.5198475796450365,
          -1.0026106354082849,
          -0.5048666794652888,
          -2.2145820644230936,
          1.223006137776256,
          0.7997705039572335,
          -1.2287365551191047,
          -0.33203915961161806
         ],
         "y": [
          -0.6497331758939314,
          0.28793182818506585,
          -0.6406546473476662,
          0.44288871491097204,
          -0.05516775452979829,
          0.24357440760663784,
          0.19862804394467937,
          0.017871486326105964,
          0.9419586907313144,
          -0.5922269136030222,
          0.4632576220139533,
          -1.02180267541963,
          0.009211380888768295,
          -1.452374979601723,
          0.6076363939370528,
          1.1372970733571235,
          0.8216723348917082,
          0.5156034911723388,
          -0.8402491636980118,
          0.5738466498177162,
          0.4230814437763436,
          -0.2618550866393429,
          -1.4581184044032003,
          1.186524523218494,
          0.16490060860000813,
          0.745770744854132,
          -0.6610696189050297,
          1.3500768352975112,
          1.1987687800465134,
          2.3096028492876384,
          0.5457531625457045,
          -1.8574236349528406,
          -1.18998017247201,
          1.5181164047083455,
          0.14452515865031162,
          0.6790308519434948,
          0.7527245917195355,
          -0.5019644786553503,
          -0.3098563757594705,
          -1.6270825975794787,
          -1.1153274885862796,
          0.0698844178409464,
          -0.13836448145307176,
          0.2977336458815172,
          -1.7761185605661562,
          -1.193535811393635,
          0.6582749459954654,
          0.11742272648375549,
          -0.43788297088276346,
          -1.245679984165115,
          -0.4235286643493187,
          0.02211086881471649,
          -1.4213475477328146,
          -1.547286954040525,
          -2.418368303116361,
          -2.5416510859474353,
          -0.20012910611234505,
          0.2207315892413318,
          0.9806114155971659,
          -0.4514072244754144,
          0.237972413598495,
          1.6661274988172907,
          0.0008207307891878887,
          1.5532407406951003,
          0.05639598449363403,
          -2.2076194668262348,
          -1.2757423993728216,
          -0.7671078846184362,
          -0.44014447187790706,
          -0.09534239410143637,
          0.23862260010165232,
          1.5184905362081385,
          0.25022791644971093,
          0.13193641305590578,
          0.45377837338234756,
          -0.3976932257246214,
          0.9490242186260665,
          -1.3896518058840215,
          0.20243155758583042,
          -2.764972097819883,
          -0.4773196328772329,
          -0.9363311324586043,
          1.3802374486808353,
          0.4431852775753563,
          -1.1880902100557515,
          0.09022540025355277,
          0.30188535198005945,
          -0.5745808656083056,
          -1.3838746723031254,
          -1.5336549625779974,
          -0.4152479223898434,
          -1.082669504325524,
          1.6255905021979637,
          -0.17810907004411655,
          0.14241206049340105,
          -1.0202946103547477,
          0.7833004639524571,
          -0.06931778148223472,
          -1.1869108938985733,
          -2.033802148596967
         ]
        }
       ],
       "layout": {
        "legend": {
         "bgcolor": "#F5F6F9",
         "font": {
          "color": "#4D5663"
         }
        },
        "paper_bgcolor": "#F5F6F9",
        "plot_bgcolor": "#F5F6F9",
        "template": {
         "data": {
          "bar": [
           {
            "error_x": {
             "color": "#2a3f5f"
            },
            "error_y": {
             "color": "#2a3f5f"
            },
            "marker": {
             "line": {
              "color": "#E5ECF6",
              "width": 0.5
             }
            },
            "type": "bar"
           }
          ],
          "barpolar": [
           {
            "marker": {
             "line": {
              "color": "#E5ECF6",
              "width": 0.5
             }
            },
            "type": "barpolar"
           }
          ],
          "carpet": [
           {
            "aaxis": {
             "endlinecolor": "#2a3f5f",
             "gridcolor": "white",
             "linecolor": "white",
             "minorgridcolor": "white",
             "startlinecolor": "#2a3f5f"
            },
            "baxis": {
             "endlinecolor": "#2a3f5f",
             "gridcolor": "white",
             "linecolor": "white",
             "minorgridcolor": "white",
             "startlinecolor": "#2a3f5f"
            },
            "type": "carpet"
           }
          ],
          "choropleth": [
           {
            "colorbar": {
             "outlinewidth": 0,
             "ticks": ""
            },
            "type": "choropleth"
           }
          ],
          "contour": [
           {
            "colorbar": {
             "outlinewidth": 0,
             "ticks": ""
            },
            "colorscale": [
             [
              0,
              "#0d0887"
             ],
             [
              0.1111111111111111,
              "#46039f"
             ],
             [
              0.2222222222222222,
              "#7201a8"
             ],
             [
              0.3333333333333333,
              "#9c179e"
             ],
             [
              0.4444444444444444,
              "#bd3786"
             ],
             [
              0.5555555555555556,
              "#d8576b"
             ],
             [
              0.6666666666666666,
              "#ed7953"
             ],
             [
              0.7777777777777778,
              "#fb9f3a"
             ],
             [
              0.8888888888888888,
              "#fdca26"
             ],
             [
              1,
              "#f0f921"
             ]
            ],
            "type": "contour"
           }
          ],
          "contourcarpet": [
           {
            "colorbar": {
             "outlinewidth": 0,
             "ticks": ""
            },
            "type": "contourcarpet"
           }
          ],
          "heatmap": [
           {
            "colorbar": {
             "outlinewidth": 0,
             "ticks": ""
            },
            "colorscale": [
             [
              0,
              "#0d0887"
             ],
             [
              0.1111111111111111,
              "#46039f"
             ],
             [
              0.2222222222222222,
              "#7201a8"
             ],
             [
              0.3333333333333333,
              "#9c179e"
             ],
             [
              0.4444444444444444,
              "#bd3786"
             ],
             [
              0.5555555555555556,
              "#d8576b"
             ],
             [
              0.6666666666666666,
              "#ed7953"
             ],
             [
              0.7777777777777778,
              "#fb9f3a"
             ],
             [
              0.8888888888888888,
              "#fdca26"
             ],
             [
              1,
              "#f0f921"
             ]
            ],
            "type": "heatmap"
           }
          ],
          "heatmapgl": [
           {
            "colorbar": {
             "outlinewidth": 0,
             "ticks": ""
            },
            "colorscale": [
             [
              0,
              "#0d0887"
             ],
             [
              0.1111111111111111,
              "#46039f"
             ],
             [
              0.2222222222222222,
              "#7201a8"
             ],
             [
              0.3333333333333333,
              "#9c179e"
             ],
             [
              0.4444444444444444,
              "#bd3786"
             ],
             [
              0.5555555555555556,
              "#d8576b"
             ],
             [
              0.6666666666666666,
              "#ed7953"
             ],
             [
              0.7777777777777778,
              "#fb9f3a"
             ],
             [
              0.8888888888888888,
              "#fdca26"
             ],
             [
              1,
              "#f0f921"
             ]
            ],
            "type": "heatmapgl"
           }
          ],
          "histogram": [
           {
            "marker": {
             "colorbar": {
              "outlinewidth": 0,
              "ticks": ""
             }
            },
            "type": "histogram"
           }
          ],
          "histogram2d": [
           {
            "colorbar": {
             "outlinewidth": 0,
             "ticks": ""
            },
            "colorscale": [
             [
              0,
              "#0d0887"
             ],
             [
              0.1111111111111111,
              "#46039f"
             ],
             [
              0.2222222222222222,
              "#7201a8"
             ],
             [
              0.3333333333333333,
              "#9c179e"
             ],
             [
              0.4444444444444444,
              "#bd3786"
             ],
             [
              0.5555555555555556,
              "#d8576b"
             ],
             [
              0.6666666666666666,
              "#ed7953"
             ],
             [
              0.7777777777777778,
              "#fb9f3a"
             ],
             [
              0.8888888888888888,
              "#fdca26"
             ],
             [
              1,
              "#f0f921"
             ]
            ],
            "type": "histogram2d"
           }
          ],
          "histogram2dcontour": [
           {
            "colorbar": {
             "outlinewidth": 0,
             "ticks": ""
            },
            "colorscale": [
             [
              0,
              "#0d0887"
             ],
             [
              0.1111111111111111,
              "#46039f"
             ],
             [
              0.2222222222222222,
              "#7201a8"
             ],
             [
              0.3333333333333333,
              "#9c179e"
             ],
             [
              0.4444444444444444,
              "#bd3786"
             ],
             [
              0.5555555555555556,
              "#d8576b"
             ],
             [
              0.6666666666666666,
              "#ed7953"
             ],
             [
              0.7777777777777778,
              "#fb9f3a"
             ],
             [
              0.8888888888888888,
              "#fdca26"
             ],
             [
              1,
              "#f0f921"
             ]
            ],
            "type": "histogram2dcontour"
           }
          ],
          "mesh3d": [
           {
            "colorbar": {
             "outlinewidth": 0,
             "ticks": ""
            },
            "type": "mesh3d"
           }
          ],
          "parcoords": [
           {
            "line": {
             "colorbar": {
              "outlinewidth": 0,
              "ticks": ""
             }
            },
            "type": "parcoords"
           }
          ],
          "pie": [
           {
            "automargin": true,
            "type": "pie"
           }
          ],
          "scatter": [
           {
            "marker": {
             "colorbar": {
              "outlinewidth": 0,
              "ticks": ""
             }
            },
            "type": "scatter"
           }
          ],
          "scatter3d": [
           {
            "line": {
             "colorbar": {
              "outlinewidth": 0,
              "ticks": ""
             }
            },
            "marker": {
             "colorbar": {
              "outlinewidth": 0,
              "ticks": ""
             }
            },
            "type": "scatter3d"
           }
          ],
          "scattercarpet": [
           {
            "marker": {
             "colorbar": {
              "outlinewidth": 0,
              "ticks": ""
             }
            },
            "type": "scattercarpet"
           }
          ],
          "scattergeo": [
           {
            "marker": {
             "colorbar": {
              "outlinewidth": 0,
              "ticks": ""
             }
            },
            "type": "scattergeo"
           }
          ],
          "scattergl": [
           {
            "marker": {
             "colorbar": {
              "outlinewidth": 0,
              "ticks": ""
             }
            },
            "type": "scattergl"
           }
          ],
          "scattermapbox": [
           {
            "marker": {
             "colorbar": {
              "outlinewidth": 0,
              "ticks": ""
             }
            },
            "type": "scattermapbox"
           }
          ],
          "scatterpolar": [
           {
            "marker": {
             "colorbar": {
              "outlinewidth": 0,
              "ticks": ""
             }
            },
            "type": "scatterpolar"
           }
          ],
          "scatterpolargl": [
           {
            "marker": {
             "colorbar": {
              "outlinewidth": 0,
              "ticks": ""
             }
            },
            "type": "scatterpolargl"
           }
          ],
          "scatterternary": [
           {
            "marker": {
             "colorbar": {
              "outlinewidth": 0,
              "ticks": ""
             }
            },
            "type": "scatterternary"
           }
          ],
          "surface": [
           {
            "colorbar": {
             "outlinewidth": 0,
             "ticks": ""
            },
            "colorscale": [
             [
              0,
              "#0d0887"
             ],
             [
              0.1111111111111111,
              "#46039f"
             ],
             [
              0.2222222222222222,
              "#7201a8"
             ],
             [
              0.3333333333333333,
              "#9c179e"
             ],
             [
              0.4444444444444444,
              "#bd3786"
             ],
             [
              0.5555555555555556,
              "#d8576b"
             ],
             [
              0.6666666666666666,
              "#ed7953"
             ],
             [
              0.7777777777777778,
              "#fb9f3a"
             ],
             [
              0.8888888888888888,
              "#fdca26"
             ],
             [
              1,
              "#f0f921"
             ]
            ],
            "type": "surface"
           }
          ],
          "table": [
           {
            "cells": {
             "fill": {
              "color": "#EBF0F8"
             },
             "line": {
              "color": "white"
             }
            },
            "header": {
             "fill": {
              "color": "#C8D4E3"
             },
             "line": {
              "color": "white"
             }
            },
            "type": "table"
           }
          ]
         },
         "layout": {
          "annotationdefaults": {
           "arrowcolor": "#2a3f5f",
           "arrowhead": 0,
           "arrowwidth": 1
          },
          "coloraxis": {
           "colorbar": {
            "outlinewidth": 0,
            "ticks": ""
           }
          },
          "colorscale": {
           "diverging": [
            [
             0,
             "#8e0152"
            ],
            [
             0.1,
             "#c51b7d"
            ],
            [
             0.2,
             "#de77ae"
            ],
            [
             0.3,
             "#f1b6da"
            ],
            [
             0.4,
             "#fde0ef"
            ],
            [
             0.5,
             "#f7f7f7"
            ],
            [
             0.6,
             "#e6f5d0"
            ],
            [
             0.7,
             "#b8e186"
            ],
            [
             0.8,
             "#7fbc41"
            ],
            [
             0.9,
             "#4d9221"
            ],
            [
             1,
             "#276419"
            ]
           ],
           "sequential": [
            [
             0,
             "#0d0887"
            ],
            [
             0.1111111111111111,
             "#46039f"
            ],
            [
             0.2222222222222222,
             "#7201a8"
            ],
            [
             0.3333333333333333,
             "#9c179e"
            ],
            [
             0.4444444444444444,
             "#bd3786"
            ],
            [
             0.5555555555555556,
             "#d8576b"
            ],
            [
             0.6666666666666666,
             "#ed7953"
            ],
            [
             0.7777777777777778,
             "#fb9f3a"
            ],
            [
             0.8888888888888888,
             "#fdca26"
            ],
            [
             1,
             "#f0f921"
            ]
           ],
           "sequentialminus": [
            [
             0,
             "#0d0887"
            ],
            [
             0.1111111111111111,
             "#46039f"
            ],
            [
             0.2222222222222222,
             "#7201a8"
            ],
            [
             0.3333333333333333,
             "#9c179e"
            ],
            [
             0.4444444444444444,
             "#bd3786"
            ],
            [
             0.5555555555555556,
             "#d8576b"
            ],
            [
             0.6666666666666666,
             "#ed7953"
            ],
            [
             0.7777777777777778,
             "#fb9f3a"
            ],
            [
             0.8888888888888888,
             "#fdca26"
            ],
            [
             1,
             "#f0f921"
            ]
           ]
          },
          "colorway": [
           "#636efa",
           "#EF553B",
           "#00cc96",
           "#ab63fa",
           "#FFA15A",
           "#19d3f3",
           "#FF6692",
           "#B6E880",
           "#FF97FF",
           "#FECB52"
          ],
          "font": {
           "color": "#2a3f5f"
          },
          "geo": {
           "bgcolor": "white",
           "lakecolor": "white",
           "landcolor": "#E5ECF6",
           "showlakes": true,
           "showland": true,
           "subunitcolor": "white"
          },
          "hoverlabel": {
           "align": "left"
          },
          "hovermode": "closest",
          "mapbox": {
           "style": "light"
          },
          "paper_bgcolor": "white",
          "plot_bgcolor": "#E5ECF6",
          "polar": {
           "angularaxis": {
            "gridcolor": "white",
            "linecolor": "white",
            "ticks": ""
           },
           "bgcolor": "#E5ECF6",
           "radialaxis": {
            "gridcolor": "white",
            "linecolor": "white",
            "ticks": ""
           }
          },
          "scene": {
           "xaxis": {
            "backgroundcolor": "#E5ECF6",
            "gridcolor": "white",
            "gridwidth": 2,
            "linecolor": "white",
            "showbackground": true,
            "ticks": "",
            "zerolinecolor": "white"
           },
           "yaxis": {
            "backgroundcolor": "#E5ECF6",
            "gridcolor": "white",
            "gridwidth": 2,
            "linecolor": "white",
            "showbackground": true,
            "ticks": "",
            "zerolinecolor": "white"
           },
           "zaxis": {
            "backgroundcolor": "#E5ECF6",
            "gridcolor": "white",
            "gridwidth": 2,
            "linecolor": "white",
            "showbackground": true,
            "ticks": "",
            "zerolinecolor": "white"
           }
          },
          "shapedefaults": {
           "line": {
            "color": "#2a3f5f"
           }
          },
          "ternary": {
           "aaxis": {
            "gridcolor": "white",
            "linecolor": "white",
            "ticks": ""
           },
           "baxis": {
            "gridcolor": "white",
            "linecolor": "white",
            "ticks": ""
           },
           "bgcolor": "#E5ECF6",
           "caxis": {
            "gridcolor": "white",
            "linecolor": "white",
            "ticks": ""
           }
          },
          "title": {
           "x": 0.05
          },
          "xaxis": {
           "automargin": true,
           "gridcolor": "white",
           "linecolor": "white",
           "ticks": "",
           "title": {
            "standoff": 15
           },
           "zerolinecolor": "white",
           "zerolinewidth": 2
          },
          "yaxis": {
           "automargin": true,
           "gridcolor": "white",
           "linecolor": "white",
           "ticks": "",
           "title": {
            "standoff": 15
           },
           "zerolinecolor": "white",
           "zerolinewidth": 2
          }
         }
        },
        "title": {
         "font": {
          "color": "#4D5663"
         }
        },
        "xaxis": {
         "gridcolor": "#E1E5ED",
         "showgrid": true,
         "tickfont": {
          "color": "#4D5663"
         },
         "title": {
          "font": {
           "color": "#4D5663"
          },
          "text": ""
         },
         "zerolinecolor": "#E1E5ED"
        },
        "yaxis": {
         "gridcolor": "#E1E5ED",
         "showgrid": true,
         "tickfont": {
          "color": "#4D5663"
         },
         "title": {
          "font": {
           "color": "#4D5663"
          },
          "text": ""
         },
         "zerolinecolor": "#E1E5ED"
        }
       }
      },
      "text/html": [
       "<div>\n",
       "        \n",
       "        \n",
       "            <div id=\"3ebb4734-9ee6-49af-a3d4-277a62d3f77c\" class=\"plotly-graph-div\" style=\"height:525px; width:100%;\"></div>\n",
       "            <script type=\"text/javascript\">\n",
       "                require([\"plotly\"], function(Plotly) {\n",
       "                    window.PLOTLYENV=window.PLOTLYENV || {};\n",
       "                    window.PLOTLYENV.BASE_URL='https://plot.ly';\n",
       "                    \n",
       "                if (document.getElementById(\"3ebb4734-9ee6-49af-a3d4-277a62d3f77c\")) {\n",
       "                    Plotly.newPlot(\n",
       "                        '3ebb4734-9ee6-49af-a3d4-277a62d3f77c',\n",
       "                        [{\"line\": {\"color\": \"rgba(255, 153, 51, 1.0)\", \"dash\": \"solid\", \"shape\": \"linear\", \"width\": 1.3}, \"marker\": {\"size\": 10, \"symbol\": \"circle\"}, \"mode\": \"markers\", \"name\": \"B\", \"text\": \"\", \"type\": \"scatter\", \"x\": [-3.0891690814370802, -0.15093812636863455, 0.13226757129359545, -0.9436480441721036, 1.0939150837805443, 2.233999101663424, -1.408821280745671, 0.6644399525912178, -1.6692209129812499, -0.5781750330564617, 0.3259479485936982, 0.35337291909405744, -0.9355951333970114, 1.3993657665589674, -0.7264432065839201, 1.2706747152305884, 0.08987776345309252, -0.8739620333814003, 0.45305462405840774, 2.077131993710634, -0.6497997380408793, 0.10363703694124451, 0.3685517032749556, -1.660889834320239, 0.22748720155204724, -0.17608486595685274, 1.9508324776532389, -0.948824710656382, 0.24637108641800815, -0.17990593133279728, -0.5755789986094119, -0.22662134604804202, -0.8538680787755056, 0.013849875503001482, 0.32597581297179595, -0.8570921503818173, 1.1028656743252894, 0.5423182366845734, -0.5223174727704796, 0.8231902161617701, 0.7082832668864215, -2.3610760141909157, 0.2248092690337905, -0.36923956224707316, 0.47222005942496675, 1.1822084221798006, -0.7039689666073455, -1.6448332982778755, -0.7701095141840978, 1.563570590474163, -1.012153140899084, 0.23841585632035256, -0.10407886028953234, -1.5621766835347606, 2.287473672845577, -1.6895900849694523, 0.523563807588396, -0.2458264678003052, -0.4110176453047839, 0.05109260418553095, 1.124657961564242, 0.039085117909342014, 0.07476390135402051, -1.6844573466745725, 0.012687342579481247, -0.8125959503982871, 0.5429420065790311, 1.1584453916061306, 0.2913230192637508, -0.5259598537222732, -0.40300408177855257, -0.3231243016908354, 1.1195392948215908, 1.1177784724135182, -0.2934667283084928, 0.44485367348780974, 0.31945308725082366, -0.035216205859157454, 0.5326000062572194, -0.23700601438944363, -2.125131809986599, 1.9665838565142724, -0.10621838516393992, -1.5297894140868404, 1.1923521839899056, 0.42434109188195157, -0.5928653108372631, 0.5444827992464166, 1.908321054359214, 0.9201338704472097, -0.37017190530359384, -0.1287567243335507, 0.5198475796450365, -1.0026106354082849, -0.5048666794652888, -2.2145820644230936, 1.223006137776256, 0.7997705039572335, -1.2287365551191047, -0.33203915961161806], \"y\": [-0.6497331758939314, 0.28793182818506585, -0.6406546473476662, 0.44288871491097204, -0.05516775452979829, 0.24357440760663784, 0.19862804394467937, 0.017871486326105964, 0.9419586907313144, -0.5922269136030222, 0.4632576220139533, -1.02180267541963, 0.009211380888768295, -1.452374979601723, 0.6076363939370528, 1.1372970733571235, 0.8216723348917082, 0.5156034911723388, -0.8402491636980118, 0.5738466498177162, 0.4230814437763436, -0.2618550866393429, -1.4581184044032003, 1.186524523218494, 0.16490060860000813, 0.745770744854132, -0.6610696189050297, 1.3500768352975112, 1.1987687800465134, 2.3096028492876384, 0.5457531625457045, -1.8574236349528406, -1.18998017247201, 1.5181164047083455, 0.14452515865031162, 0.6790308519434948, 0.7527245917195355, -0.5019644786553503, -0.3098563757594705, -1.6270825975794787, -1.1153274885862796, 0.0698844178409464, -0.13836448145307176, 0.2977336458815172, -1.7761185605661562, -1.193535811393635, 0.6582749459954654, 0.11742272648375549, -0.43788297088276346, -1.245679984165115, -0.4235286643493187, 0.02211086881471649, -1.4213475477328146, -1.547286954040525, -2.418368303116361, -2.5416510859474353, -0.20012910611234505, 0.2207315892413318, 0.9806114155971659, -0.4514072244754144, 0.237972413598495, 1.6661274988172907, 0.0008207307891878887, 1.5532407406951003, 0.05639598449363403, -2.2076194668262348, -1.2757423993728216, -0.7671078846184362, -0.44014447187790706, -0.09534239410143637, 0.23862260010165232, 1.5184905362081385, 0.25022791644971093, 0.13193641305590578, 0.45377837338234756, -0.3976932257246214, 0.9490242186260665, -1.3896518058840215, 0.20243155758583042, -2.764972097819883, -0.4773196328772329, -0.9363311324586043, 1.3802374486808353, 0.4431852775753563, -1.1880902100557515, 0.09022540025355277, 0.30188535198005945, -0.5745808656083056, -1.3838746723031254, -1.5336549625779974, -0.4152479223898434, -1.082669504325524, 1.6255905021979637, -0.17810907004411655, 0.14241206049340105, -1.0202946103547477, 0.7833004639524571, -0.06931778148223472, -1.1869108938985733, -2.033802148596967]}],\n",
       "                        {\"legend\": {\"bgcolor\": \"#F5F6F9\", \"font\": {\"color\": \"#4D5663\"}}, \"paper_bgcolor\": \"#F5F6F9\", \"plot_bgcolor\": \"#F5F6F9\", \"template\": {\"data\": {\"bar\": [{\"error_x\": {\"color\": \"#2a3f5f\"}, \"error_y\": {\"color\": \"#2a3f5f\"}, \"marker\": {\"line\": {\"color\": \"#E5ECF6\", \"width\": 0.5}}, \"type\": \"bar\"}], \"barpolar\": [{\"marker\": {\"line\": {\"color\": \"#E5ECF6\", \"width\": 0.5}}, \"type\": \"barpolar\"}], \"carpet\": [{\"aaxis\": {\"endlinecolor\": \"#2a3f5f\", \"gridcolor\": \"white\", \"linecolor\": \"white\", \"minorgridcolor\": \"white\", \"startlinecolor\": \"#2a3f5f\"}, \"baxis\": {\"endlinecolor\": \"#2a3f5f\", \"gridcolor\": \"white\", \"linecolor\": \"white\", \"minorgridcolor\": \"white\", \"startlinecolor\": \"#2a3f5f\"}, \"type\": \"carpet\"}], \"choropleth\": [{\"colorbar\": {\"outlinewidth\": 0, \"ticks\": \"\"}, \"type\": \"choropleth\"}], \"contour\": [{\"colorbar\": {\"outlinewidth\": 0, \"ticks\": \"\"}, \"colorscale\": [[0.0, \"#0d0887\"], [0.1111111111111111, \"#46039f\"], [0.2222222222222222, \"#7201a8\"], [0.3333333333333333, \"#9c179e\"], [0.4444444444444444, \"#bd3786\"], [0.5555555555555556, \"#d8576b\"], [0.6666666666666666, \"#ed7953\"], [0.7777777777777778, \"#fb9f3a\"], [0.8888888888888888, \"#fdca26\"], [1.0, \"#f0f921\"]], \"type\": \"contour\"}], \"contourcarpet\": [{\"colorbar\": {\"outlinewidth\": 0, \"ticks\": \"\"}, \"type\": \"contourcarpet\"}], \"heatmap\": [{\"colorbar\": {\"outlinewidth\": 0, \"ticks\": \"\"}, \"colorscale\": [[0.0, \"#0d0887\"], [0.1111111111111111, \"#46039f\"], [0.2222222222222222, \"#7201a8\"], [0.3333333333333333, \"#9c179e\"], [0.4444444444444444, \"#bd3786\"], [0.5555555555555556, \"#d8576b\"], [0.6666666666666666, \"#ed7953\"], [0.7777777777777778, \"#fb9f3a\"], [0.8888888888888888, \"#fdca26\"], [1.0, \"#f0f921\"]], \"type\": \"heatmap\"}], \"heatmapgl\": [{\"colorbar\": {\"outlinewidth\": 0, \"ticks\": \"\"}, \"colorscale\": [[0.0, \"#0d0887\"], [0.1111111111111111, \"#46039f\"], [0.2222222222222222, \"#7201a8\"], [0.3333333333333333, \"#9c179e\"], [0.4444444444444444, \"#bd3786\"], [0.5555555555555556, \"#d8576b\"], [0.6666666666666666, \"#ed7953\"], [0.7777777777777778, \"#fb9f3a\"], [0.8888888888888888, \"#fdca26\"], [1.0, \"#f0f921\"]], \"type\": \"heatmapgl\"}], \"histogram\": [{\"marker\": {\"colorbar\": {\"outlinewidth\": 0, \"ticks\": \"\"}}, \"type\": \"histogram\"}], \"histogram2d\": [{\"colorbar\": {\"outlinewidth\": 0, \"ticks\": \"\"}, \"colorscale\": [[0.0, \"#0d0887\"], [0.1111111111111111, \"#46039f\"], [0.2222222222222222, \"#7201a8\"], [0.3333333333333333, \"#9c179e\"], [0.4444444444444444, \"#bd3786\"], [0.5555555555555556, \"#d8576b\"], [0.6666666666666666, \"#ed7953\"], [0.7777777777777778, \"#fb9f3a\"], [0.8888888888888888, \"#fdca26\"], [1.0, \"#f0f921\"]], \"type\": \"histogram2d\"}], \"histogram2dcontour\": [{\"colorbar\": {\"outlinewidth\": 0, \"ticks\": \"\"}, \"colorscale\": [[0.0, \"#0d0887\"], [0.1111111111111111, \"#46039f\"], [0.2222222222222222, \"#7201a8\"], [0.3333333333333333, \"#9c179e\"], [0.4444444444444444, \"#bd3786\"], [0.5555555555555556, \"#d8576b\"], [0.6666666666666666, \"#ed7953\"], [0.7777777777777778, \"#fb9f3a\"], [0.8888888888888888, \"#fdca26\"], [1.0, \"#f0f921\"]], \"type\": \"histogram2dcontour\"}], \"mesh3d\": [{\"colorbar\": {\"outlinewidth\": 0, \"ticks\": \"\"}, \"type\": \"mesh3d\"}], \"parcoords\": [{\"line\": {\"colorbar\": {\"outlinewidth\": 0, \"ticks\": \"\"}}, \"type\": \"parcoords\"}], \"pie\": [{\"automargin\": true, \"type\": \"pie\"}], \"scatter\": [{\"marker\": {\"colorbar\": {\"outlinewidth\": 0, \"ticks\": \"\"}}, \"type\": \"scatter\"}], \"scatter3d\": [{\"line\": {\"colorbar\": {\"outlinewidth\": 0, \"ticks\": \"\"}}, \"marker\": {\"colorbar\": {\"outlinewidth\": 0, \"ticks\": \"\"}}, \"type\": \"scatter3d\"}], \"scattercarpet\": [{\"marker\": {\"colorbar\": {\"outlinewidth\": 0, \"ticks\": \"\"}}, \"type\": \"scattercarpet\"}], \"scattergeo\": [{\"marker\": {\"colorbar\": {\"outlinewidth\": 0, \"ticks\": \"\"}}, \"type\": \"scattergeo\"}], \"scattergl\": [{\"marker\": {\"colorbar\": {\"outlinewidth\": 0, \"ticks\": \"\"}}, \"type\": \"scattergl\"}], \"scattermapbox\": [{\"marker\": {\"colorbar\": {\"outlinewidth\": 0, \"ticks\": \"\"}}, \"type\": \"scattermapbox\"}], \"scatterpolar\": [{\"marker\": {\"colorbar\": {\"outlinewidth\": 0, \"ticks\": \"\"}}, \"type\": \"scatterpolar\"}], \"scatterpolargl\": [{\"marker\": {\"colorbar\": {\"outlinewidth\": 0, \"ticks\": \"\"}}, \"type\": \"scatterpolargl\"}], \"scatterternary\": [{\"marker\": {\"colorbar\": {\"outlinewidth\": 0, \"ticks\": \"\"}}, \"type\": \"scatterternary\"}], \"surface\": [{\"colorbar\": {\"outlinewidth\": 0, \"ticks\": \"\"}, \"colorscale\": [[0.0, \"#0d0887\"], [0.1111111111111111, \"#46039f\"], [0.2222222222222222, \"#7201a8\"], [0.3333333333333333, \"#9c179e\"], [0.4444444444444444, \"#bd3786\"], [0.5555555555555556, \"#d8576b\"], [0.6666666666666666, \"#ed7953\"], [0.7777777777777778, \"#fb9f3a\"], [0.8888888888888888, \"#fdca26\"], [1.0, \"#f0f921\"]], \"type\": \"surface\"}], \"table\": [{\"cells\": {\"fill\": {\"color\": \"#EBF0F8\"}, \"line\": {\"color\": \"white\"}}, \"header\": {\"fill\": {\"color\": \"#C8D4E3\"}, \"line\": {\"color\": \"white\"}}, \"type\": \"table\"}]}, \"layout\": {\"annotationdefaults\": {\"arrowcolor\": \"#2a3f5f\", \"arrowhead\": 0, \"arrowwidth\": 1}, \"coloraxis\": {\"colorbar\": {\"outlinewidth\": 0, \"ticks\": \"\"}}, \"colorscale\": {\"diverging\": [[0, \"#8e0152\"], [0.1, \"#c51b7d\"], [0.2, \"#de77ae\"], [0.3, \"#f1b6da\"], [0.4, \"#fde0ef\"], [0.5, \"#f7f7f7\"], [0.6, \"#e6f5d0\"], [0.7, \"#b8e186\"], [0.8, \"#7fbc41\"], [0.9, \"#4d9221\"], [1, \"#276419\"]], \"sequential\": [[0.0, \"#0d0887\"], [0.1111111111111111, \"#46039f\"], [0.2222222222222222, \"#7201a8\"], [0.3333333333333333, \"#9c179e\"], [0.4444444444444444, \"#bd3786\"], [0.5555555555555556, \"#d8576b\"], [0.6666666666666666, \"#ed7953\"], [0.7777777777777778, \"#fb9f3a\"], [0.8888888888888888, \"#fdca26\"], [1.0, \"#f0f921\"]], \"sequentialminus\": [[0.0, \"#0d0887\"], [0.1111111111111111, \"#46039f\"], [0.2222222222222222, \"#7201a8\"], [0.3333333333333333, \"#9c179e\"], [0.4444444444444444, \"#bd3786\"], [0.5555555555555556, \"#d8576b\"], [0.6666666666666666, \"#ed7953\"], [0.7777777777777778, \"#fb9f3a\"], [0.8888888888888888, \"#fdca26\"], [1.0, \"#f0f921\"]]}, \"colorway\": [\"#636efa\", \"#EF553B\", \"#00cc96\", \"#ab63fa\", \"#FFA15A\", \"#19d3f3\", \"#FF6692\", \"#B6E880\", \"#FF97FF\", \"#FECB52\"], \"font\": {\"color\": \"#2a3f5f\"}, \"geo\": {\"bgcolor\": \"white\", \"lakecolor\": \"white\", \"landcolor\": \"#E5ECF6\", \"showlakes\": true, \"showland\": true, \"subunitcolor\": \"white\"}, \"hoverlabel\": {\"align\": \"left\"}, \"hovermode\": \"closest\", \"mapbox\": {\"style\": \"light\"}, \"paper_bgcolor\": \"white\", \"plot_bgcolor\": \"#E5ECF6\", \"polar\": {\"angularaxis\": {\"gridcolor\": \"white\", \"linecolor\": \"white\", \"ticks\": \"\"}, \"bgcolor\": \"#E5ECF6\", \"radialaxis\": {\"gridcolor\": \"white\", \"linecolor\": \"white\", \"ticks\": \"\"}}, \"scene\": {\"xaxis\": {\"backgroundcolor\": \"#E5ECF6\", \"gridcolor\": \"white\", \"gridwidth\": 2, \"linecolor\": \"white\", \"showbackground\": true, \"ticks\": \"\", \"zerolinecolor\": \"white\"}, \"yaxis\": {\"backgroundcolor\": \"#E5ECF6\", \"gridcolor\": \"white\", \"gridwidth\": 2, \"linecolor\": \"white\", \"showbackground\": true, \"ticks\": \"\", \"zerolinecolor\": \"white\"}, \"zaxis\": {\"backgroundcolor\": \"#E5ECF6\", \"gridcolor\": \"white\", \"gridwidth\": 2, \"linecolor\": \"white\", \"showbackground\": true, \"ticks\": \"\", \"zerolinecolor\": \"white\"}}, \"shapedefaults\": {\"line\": {\"color\": \"#2a3f5f\"}}, \"ternary\": {\"aaxis\": {\"gridcolor\": \"white\", \"linecolor\": \"white\", \"ticks\": \"\"}, \"baxis\": {\"gridcolor\": \"white\", \"linecolor\": \"white\", \"ticks\": \"\"}, \"bgcolor\": \"#E5ECF6\", \"caxis\": {\"gridcolor\": \"white\", \"linecolor\": \"white\", \"ticks\": \"\"}}, \"title\": {\"x\": 0.05}, \"xaxis\": {\"automargin\": true, \"gridcolor\": \"white\", \"linecolor\": \"white\", \"ticks\": \"\", \"title\": {\"standoff\": 15}, \"zerolinecolor\": \"white\", \"zerolinewidth\": 2}, \"yaxis\": {\"automargin\": true, \"gridcolor\": \"white\", \"linecolor\": \"white\", \"ticks\": \"\", \"title\": {\"standoff\": 15}, \"zerolinecolor\": \"white\", \"zerolinewidth\": 2}}}, \"title\": {\"font\": {\"color\": \"#4D5663\"}}, \"xaxis\": {\"gridcolor\": \"#E1E5ED\", \"showgrid\": true, \"tickfont\": {\"color\": \"#4D5663\"}, \"title\": {\"font\": {\"color\": \"#4D5663\"}, \"text\": \"\"}, \"zerolinecolor\": \"#E1E5ED\"}, \"yaxis\": {\"gridcolor\": \"#E1E5ED\", \"showgrid\": true, \"tickfont\": {\"color\": \"#4D5663\"}, \"title\": {\"font\": {\"color\": \"#4D5663\"}, \"text\": \"\"}, \"zerolinecolor\": \"#E1E5ED\"}},\n",
       "                        {\"showLink\": true, \"linkText\": \"Export to plot.ly\", \"plotlyServerURL\": \"https://plot.ly\", \"responsive\": true}\n",
       "                    ).then(function(){\n",
       "                            \n",
       "var gd = document.getElementById('3ebb4734-9ee6-49af-a3d4-277a62d3f77c');\n",
       "var x = new MutationObserver(function (mutations, observer) {{\n",
       "        var display = window.getComputedStyle(gd).display;\n",
       "        if (!display || display === 'none') {{\n",
       "            console.log([gd, 'removed!']);\n",
       "            Plotly.purge(gd);\n",
       "            observer.disconnect();\n",
       "        }}\n",
       "}});\n",
       "\n",
       "// Listen for the removal of the full notebook cells\n",
       "var notebookContainer = gd.closest('#notebook-container');\n",
       "if (notebookContainer) {{\n",
       "    x.observe(notebookContainer, {childList: true});\n",
       "}}\n",
       "\n",
       "// Listen for the clearing of the current output cell\n",
       "var outputEl = gd.closest('.output');\n",
       "if (outputEl) {{\n",
       "    x.observe(outputEl, {childList: true});\n",
       "}}\n",
       "\n",
       "                        })\n",
       "                };\n",
       "                });\n",
       "            </script>\n",
       "        </div>"
      ]
     },
     "metadata": {},
     "output_type": "display_data"
    }
   ],
   "source": [
    "df.iplot(kind='scatter',x='A',y='B',mode='markers',size=10)"
   ]
  },
  {
   "cell_type": "markdown",
   "metadata": {},
   "source": [
    "## Bar Plots"
   ]
  },
  {
   "cell_type": "code",
   "execution_count": 11,
   "metadata": {},
   "outputs": [
    {
     "data": {
      "application/vnd.plotly.v1+json": {
       "config": {
        "linkText": "Export to plot.ly",
        "plotlyServerURL": "https://plot.ly",
        "showLink": true
       },
       "data": [
        {
         "marker": {
          "color": "rgba(255, 153, 51, 0.6)",
          "line": {
           "color": "rgba(255, 153, 51, 1.0)",
           "width": 1
          }
         },
         "name": "Values",
         "orientation": "v",
         "text": "",
         "type": "bar",
         "x": [
          "A",
          "B",
          "C"
         ],
         "y": [
          32,
          43,
          50
         ]
        }
       ],
       "layout": {
        "legend": {
         "bgcolor": "#F5F6F9",
         "font": {
          "color": "#4D5663"
         }
        },
        "paper_bgcolor": "#F5F6F9",
        "plot_bgcolor": "#F5F6F9",
        "template": {
         "data": {
          "bar": [
           {
            "error_x": {
             "color": "#2a3f5f"
            },
            "error_y": {
             "color": "#2a3f5f"
            },
            "marker": {
             "line": {
              "color": "#E5ECF6",
              "width": 0.5
             }
            },
            "type": "bar"
           }
          ],
          "barpolar": [
           {
            "marker": {
             "line": {
              "color": "#E5ECF6",
              "width": 0.5
             }
            },
            "type": "barpolar"
           }
          ],
          "carpet": [
           {
            "aaxis": {
             "endlinecolor": "#2a3f5f",
             "gridcolor": "white",
             "linecolor": "white",
             "minorgridcolor": "white",
             "startlinecolor": "#2a3f5f"
            },
            "baxis": {
             "endlinecolor": "#2a3f5f",
             "gridcolor": "white",
             "linecolor": "white",
             "minorgridcolor": "white",
             "startlinecolor": "#2a3f5f"
            },
            "type": "carpet"
           }
          ],
          "choropleth": [
           {
            "colorbar": {
             "outlinewidth": 0,
             "ticks": ""
            },
            "type": "choropleth"
           }
          ],
          "contour": [
           {
            "colorbar": {
             "outlinewidth": 0,
             "ticks": ""
            },
            "colorscale": [
             [
              0,
              "#0d0887"
             ],
             [
              0.1111111111111111,
              "#46039f"
             ],
             [
              0.2222222222222222,
              "#7201a8"
             ],
             [
              0.3333333333333333,
              "#9c179e"
             ],
             [
              0.4444444444444444,
              "#bd3786"
             ],
             [
              0.5555555555555556,
              "#d8576b"
             ],
             [
              0.6666666666666666,
              "#ed7953"
             ],
             [
              0.7777777777777778,
              "#fb9f3a"
             ],
             [
              0.8888888888888888,
              "#fdca26"
             ],
             [
              1,
              "#f0f921"
             ]
            ],
            "type": "contour"
           }
          ],
          "contourcarpet": [
           {
            "colorbar": {
             "outlinewidth": 0,
             "ticks": ""
            },
            "type": "contourcarpet"
           }
          ],
          "heatmap": [
           {
            "colorbar": {
             "outlinewidth": 0,
             "ticks": ""
            },
            "colorscale": [
             [
              0,
              "#0d0887"
             ],
             [
              0.1111111111111111,
              "#46039f"
             ],
             [
              0.2222222222222222,
              "#7201a8"
             ],
             [
              0.3333333333333333,
              "#9c179e"
             ],
             [
              0.4444444444444444,
              "#bd3786"
             ],
             [
              0.5555555555555556,
              "#d8576b"
             ],
             [
              0.6666666666666666,
              "#ed7953"
             ],
             [
              0.7777777777777778,
              "#fb9f3a"
             ],
             [
              0.8888888888888888,
              "#fdca26"
             ],
             [
              1,
              "#f0f921"
             ]
            ],
            "type": "heatmap"
           }
          ],
          "heatmapgl": [
           {
            "colorbar": {
             "outlinewidth": 0,
             "ticks": ""
            },
            "colorscale": [
             [
              0,
              "#0d0887"
             ],
             [
              0.1111111111111111,
              "#46039f"
             ],
             [
              0.2222222222222222,
              "#7201a8"
             ],
             [
              0.3333333333333333,
              "#9c179e"
             ],
             [
              0.4444444444444444,
              "#bd3786"
             ],
             [
              0.5555555555555556,
              "#d8576b"
             ],
             [
              0.6666666666666666,
              "#ed7953"
             ],
             [
              0.7777777777777778,
              "#fb9f3a"
             ],
             [
              0.8888888888888888,
              "#fdca26"
             ],
             [
              1,
              "#f0f921"
             ]
            ],
            "type": "heatmapgl"
           }
          ],
          "histogram": [
           {
            "marker": {
             "colorbar": {
              "outlinewidth": 0,
              "ticks": ""
             }
            },
            "type": "histogram"
           }
          ],
          "histogram2d": [
           {
            "colorbar": {
             "outlinewidth": 0,
             "ticks": ""
            },
            "colorscale": [
             [
              0,
              "#0d0887"
             ],
             [
              0.1111111111111111,
              "#46039f"
             ],
             [
              0.2222222222222222,
              "#7201a8"
             ],
             [
              0.3333333333333333,
              "#9c179e"
             ],
             [
              0.4444444444444444,
              "#bd3786"
             ],
             [
              0.5555555555555556,
              "#d8576b"
             ],
             [
              0.6666666666666666,
              "#ed7953"
             ],
             [
              0.7777777777777778,
              "#fb9f3a"
             ],
             [
              0.8888888888888888,
              "#fdca26"
             ],
             [
              1,
              "#f0f921"
             ]
            ],
            "type": "histogram2d"
           }
          ],
          "histogram2dcontour": [
           {
            "colorbar": {
             "outlinewidth": 0,
             "ticks": ""
            },
            "colorscale": [
             [
              0,
              "#0d0887"
             ],
             [
              0.1111111111111111,
              "#46039f"
             ],
             [
              0.2222222222222222,
              "#7201a8"
             ],
             [
              0.3333333333333333,
              "#9c179e"
             ],
             [
              0.4444444444444444,
              "#bd3786"
             ],
             [
              0.5555555555555556,
              "#d8576b"
             ],
             [
              0.6666666666666666,
              "#ed7953"
             ],
             [
              0.7777777777777778,
              "#fb9f3a"
             ],
             [
              0.8888888888888888,
              "#fdca26"
             ],
             [
              1,
              "#f0f921"
             ]
            ],
            "type": "histogram2dcontour"
           }
          ],
          "mesh3d": [
           {
            "colorbar": {
             "outlinewidth": 0,
             "ticks": ""
            },
            "type": "mesh3d"
           }
          ],
          "parcoords": [
           {
            "line": {
             "colorbar": {
              "outlinewidth": 0,
              "ticks": ""
             }
            },
            "type": "parcoords"
           }
          ],
          "pie": [
           {
            "automargin": true,
            "type": "pie"
           }
          ],
          "scatter": [
           {
            "marker": {
             "colorbar": {
              "outlinewidth": 0,
              "ticks": ""
             }
            },
            "type": "scatter"
           }
          ],
          "scatter3d": [
           {
            "line": {
             "colorbar": {
              "outlinewidth": 0,
              "ticks": ""
             }
            },
            "marker": {
             "colorbar": {
              "outlinewidth": 0,
              "ticks": ""
             }
            },
            "type": "scatter3d"
           }
          ],
          "scattercarpet": [
           {
            "marker": {
             "colorbar": {
              "outlinewidth": 0,
              "ticks": ""
             }
            },
            "type": "scattercarpet"
           }
          ],
          "scattergeo": [
           {
            "marker": {
             "colorbar": {
              "outlinewidth": 0,
              "ticks": ""
             }
            },
            "type": "scattergeo"
           }
          ],
          "scattergl": [
           {
            "marker": {
             "colorbar": {
              "outlinewidth": 0,
              "ticks": ""
             }
            },
            "type": "scattergl"
           }
          ],
          "scattermapbox": [
           {
            "marker": {
             "colorbar": {
              "outlinewidth": 0,
              "ticks": ""
             }
            },
            "type": "scattermapbox"
           }
          ],
          "scatterpolar": [
           {
            "marker": {
             "colorbar": {
              "outlinewidth": 0,
              "ticks": ""
             }
            },
            "type": "scatterpolar"
           }
          ],
          "scatterpolargl": [
           {
            "marker": {
             "colorbar": {
              "outlinewidth": 0,
              "ticks": ""
             }
            },
            "type": "scatterpolargl"
           }
          ],
          "scatterternary": [
           {
            "marker": {
             "colorbar": {
              "outlinewidth": 0,
              "ticks": ""
             }
            },
            "type": "scatterternary"
           }
          ],
          "surface": [
           {
            "colorbar": {
             "outlinewidth": 0,
             "ticks": ""
            },
            "colorscale": [
             [
              0,
              "#0d0887"
             ],
             [
              0.1111111111111111,
              "#46039f"
             ],
             [
              0.2222222222222222,
              "#7201a8"
             ],
             [
              0.3333333333333333,
              "#9c179e"
             ],
             [
              0.4444444444444444,
              "#bd3786"
             ],
             [
              0.5555555555555556,
              "#d8576b"
             ],
             [
              0.6666666666666666,
              "#ed7953"
             ],
             [
              0.7777777777777778,
              "#fb9f3a"
             ],
             [
              0.8888888888888888,
              "#fdca26"
             ],
             [
              1,
              "#f0f921"
             ]
            ],
            "type": "surface"
           }
          ],
          "table": [
           {
            "cells": {
             "fill": {
              "color": "#EBF0F8"
             },
             "line": {
              "color": "white"
             }
            },
            "header": {
             "fill": {
              "color": "#C8D4E3"
             },
             "line": {
              "color": "white"
             }
            },
            "type": "table"
           }
          ]
         },
         "layout": {
          "annotationdefaults": {
           "arrowcolor": "#2a3f5f",
           "arrowhead": 0,
           "arrowwidth": 1
          },
          "coloraxis": {
           "colorbar": {
            "outlinewidth": 0,
            "ticks": ""
           }
          },
          "colorscale": {
           "diverging": [
            [
             0,
             "#8e0152"
            ],
            [
             0.1,
             "#c51b7d"
            ],
            [
             0.2,
             "#de77ae"
            ],
            [
             0.3,
             "#f1b6da"
            ],
            [
             0.4,
             "#fde0ef"
            ],
            [
             0.5,
             "#f7f7f7"
            ],
            [
             0.6,
             "#e6f5d0"
            ],
            [
             0.7,
             "#b8e186"
            ],
            [
             0.8,
             "#7fbc41"
            ],
            [
             0.9,
             "#4d9221"
            ],
            [
             1,
             "#276419"
            ]
           ],
           "sequential": [
            [
             0,
             "#0d0887"
            ],
            [
             0.1111111111111111,
             "#46039f"
            ],
            [
             0.2222222222222222,
             "#7201a8"
            ],
            [
             0.3333333333333333,
             "#9c179e"
            ],
            [
             0.4444444444444444,
             "#bd3786"
            ],
            [
             0.5555555555555556,
             "#d8576b"
            ],
            [
             0.6666666666666666,
             "#ed7953"
            ],
            [
             0.7777777777777778,
             "#fb9f3a"
            ],
            [
             0.8888888888888888,
             "#fdca26"
            ],
            [
             1,
             "#f0f921"
            ]
           ],
           "sequentialminus": [
            [
             0,
             "#0d0887"
            ],
            [
             0.1111111111111111,
             "#46039f"
            ],
            [
             0.2222222222222222,
             "#7201a8"
            ],
            [
             0.3333333333333333,
             "#9c179e"
            ],
            [
             0.4444444444444444,
             "#bd3786"
            ],
            [
             0.5555555555555556,
             "#d8576b"
            ],
            [
             0.6666666666666666,
             "#ed7953"
            ],
            [
             0.7777777777777778,
             "#fb9f3a"
            ],
            [
             0.8888888888888888,
             "#fdca26"
            ],
            [
             1,
             "#f0f921"
            ]
           ]
          },
          "colorway": [
           "#636efa",
           "#EF553B",
           "#00cc96",
           "#ab63fa",
           "#FFA15A",
           "#19d3f3",
           "#FF6692",
           "#B6E880",
           "#FF97FF",
           "#FECB52"
          ],
          "font": {
           "color": "#2a3f5f"
          },
          "geo": {
           "bgcolor": "white",
           "lakecolor": "white",
           "landcolor": "#E5ECF6",
           "showlakes": true,
           "showland": true,
           "subunitcolor": "white"
          },
          "hoverlabel": {
           "align": "left"
          },
          "hovermode": "closest",
          "mapbox": {
           "style": "light"
          },
          "paper_bgcolor": "white",
          "plot_bgcolor": "#E5ECF6",
          "polar": {
           "angularaxis": {
            "gridcolor": "white",
            "linecolor": "white",
            "ticks": ""
           },
           "bgcolor": "#E5ECF6",
           "radialaxis": {
            "gridcolor": "white",
            "linecolor": "white",
            "ticks": ""
           }
          },
          "scene": {
           "xaxis": {
            "backgroundcolor": "#E5ECF6",
            "gridcolor": "white",
            "gridwidth": 2,
            "linecolor": "white",
            "showbackground": true,
            "ticks": "",
            "zerolinecolor": "white"
           },
           "yaxis": {
            "backgroundcolor": "#E5ECF6",
            "gridcolor": "white",
            "gridwidth": 2,
            "linecolor": "white",
            "showbackground": true,
            "ticks": "",
            "zerolinecolor": "white"
           },
           "zaxis": {
            "backgroundcolor": "#E5ECF6",
            "gridcolor": "white",
            "gridwidth": 2,
            "linecolor": "white",
            "showbackground": true,
            "ticks": "",
            "zerolinecolor": "white"
           }
          },
          "shapedefaults": {
           "line": {
            "color": "#2a3f5f"
           }
          },
          "ternary": {
           "aaxis": {
            "gridcolor": "white",
            "linecolor": "white",
            "ticks": ""
           },
           "baxis": {
            "gridcolor": "white",
            "linecolor": "white",
            "ticks": ""
           },
           "bgcolor": "#E5ECF6",
           "caxis": {
            "gridcolor": "white",
            "linecolor": "white",
            "ticks": ""
           }
          },
          "title": {
           "x": 0.05
          },
          "xaxis": {
           "automargin": true,
           "gridcolor": "white",
           "linecolor": "white",
           "ticks": "",
           "title": {
            "standoff": 15
           },
           "zerolinecolor": "white",
           "zerolinewidth": 2
          },
          "yaxis": {
           "automargin": true,
           "gridcolor": "white",
           "linecolor": "white",
           "ticks": "",
           "title": {
            "standoff": 15
           },
           "zerolinecolor": "white",
           "zerolinewidth": 2
          }
         }
        },
        "title": {
         "font": {
          "color": "#4D5663"
         }
        },
        "xaxis": {
         "gridcolor": "#E1E5ED",
         "showgrid": true,
         "tickfont": {
          "color": "#4D5663"
         },
         "title": {
          "font": {
           "color": "#4D5663"
          },
          "text": ""
         },
         "zerolinecolor": "#E1E5ED"
        },
        "yaxis": {
         "gridcolor": "#E1E5ED",
         "showgrid": true,
         "tickfont": {
          "color": "#4D5663"
         },
         "title": {
          "font": {
           "color": "#4D5663"
          },
          "text": ""
         },
         "zerolinecolor": "#E1E5ED"
        }
       }
      },
      "text/html": [
       "<div>\n",
       "        \n",
       "        \n",
       "            <div id=\"bcf2488d-2763-4a7d-bce4-8d311cd3c78d\" class=\"plotly-graph-div\" style=\"height:525px; width:100%;\"></div>\n",
       "            <script type=\"text/javascript\">\n",
       "                require([\"plotly\"], function(Plotly) {\n",
       "                    window.PLOTLYENV=window.PLOTLYENV || {};\n",
       "                    window.PLOTLYENV.BASE_URL='https://plot.ly';\n",
       "                    \n",
       "                if (document.getElementById(\"bcf2488d-2763-4a7d-bce4-8d311cd3c78d\")) {\n",
       "                    Plotly.newPlot(\n",
       "                        'bcf2488d-2763-4a7d-bce4-8d311cd3c78d',\n",
       "                        [{\"marker\": {\"color\": \"rgba(255, 153, 51, 0.6)\", \"line\": {\"color\": \"rgba(255, 153, 51, 1.0)\", \"width\": 1}}, \"name\": \"Values\", \"orientation\": \"v\", \"text\": \"\", \"type\": \"bar\", \"x\": [\"A\", \"B\", \"C\"], \"y\": [32, 43, 50]}],\n",
       "                        {\"legend\": {\"bgcolor\": \"#F5F6F9\", \"font\": {\"color\": \"#4D5663\"}}, \"paper_bgcolor\": \"#F5F6F9\", \"plot_bgcolor\": \"#F5F6F9\", \"template\": {\"data\": {\"bar\": [{\"error_x\": {\"color\": \"#2a3f5f\"}, \"error_y\": {\"color\": \"#2a3f5f\"}, \"marker\": {\"line\": {\"color\": \"#E5ECF6\", \"width\": 0.5}}, \"type\": \"bar\"}], \"barpolar\": [{\"marker\": {\"line\": {\"color\": \"#E5ECF6\", \"width\": 0.5}}, \"type\": \"barpolar\"}], \"carpet\": [{\"aaxis\": {\"endlinecolor\": \"#2a3f5f\", \"gridcolor\": \"white\", \"linecolor\": \"white\", \"minorgridcolor\": \"white\", \"startlinecolor\": \"#2a3f5f\"}, \"baxis\": {\"endlinecolor\": \"#2a3f5f\", \"gridcolor\": \"white\", \"linecolor\": \"white\", \"minorgridcolor\": \"white\", \"startlinecolor\": \"#2a3f5f\"}, \"type\": \"carpet\"}], \"choropleth\": [{\"colorbar\": {\"outlinewidth\": 0, \"ticks\": \"\"}, \"type\": \"choropleth\"}], \"contour\": [{\"colorbar\": {\"outlinewidth\": 0, \"ticks\": \"\"}, \"colorscale\": [[0.0, \"#0d0887\"], [0.1111111111111111, \"#46039f\"], [0.2222222222222222, \"#7201a8\"], [0.3333333333333333, \"#9c179e\"], [0.4444444444444444, \"#bd3786\"], [0.5555555555555556, \"#d8576b\"], [0.6666666666666666, \"#ed7953\"], [0.7777777777777778, \"#fb9f3a\"], [0.8888888888888888, \"#fdca26\"], [1.0, \"#f0f921\"]], \"type\": \"contour\"}], \"contourcarpet\": [{\"colorbar\": {\"outlinewidth\": 0, \"ticks\": \"\"}, \"type\": \"contourcarpet\"}], \"heatmap\": [{\"colorbar\": {\"outlinewidth\": 0, \"ticks\": \"\"}, \"colorscale\": [[0.0, \"#0d0887\"], [0.1111111111111111, \"#46039f\"], [0.2222222222222222, \"#7201a8\"], [0.3333333333333333, \"#9c179e\"], [0.4444444444444444, \"#bd3786\"], [0.5555555555555556, \"#d8576b\"], [0.6666666666666666, \"#ed7953\"], [0.7777777777777778, \"#fb9f3a\"], [0.8888888888888888, \"#fdca26\"], [1.0, \"#f0f921\"]], \"type\": \"heatmap\"}], \"heatmapgl\": [{\"colorbar\": {\"outlinewidth\": 0, \"ticks\": \"\"}, \"colorscale\": [[0.0, \"#0d0887\"], [0.1111111111111111, \"#46039f\"], [0.2222222222222222, \"#7201a8\"], [0.3333333333333333, \"#9c179e\"], [0.4444444444444444, \"#bd3786\"], [0.5555555555555556, \"#d8576b\"], [0.6666666666666666, \"#ed7953\"], [0.7777777777777778, \"#fb9f3a\"], [0.8888888888888888, \"#fdca26\"], [1.0, \"#f0f921\"]], \"type\": \"heatmapgl\"}], \"histogram\": [{\"marker\": {\"colorbar\": {\"outlinewidth\": 0, \"ticks\": \"\"}}, \"type\": \"histogram\"}], \"histogram2d\": [{\"colorbar\": {\"outlinewidth\": 0, \"ticks\": \"\"}, \"colorscale\": [[0.0, \"#0d0887\"], [0.1111111111111111, \"#46039f\"], [0.2222222222222222, \"#7201a8\"], [0.3333333333333333, \"#9c179e\"], [0.4444444444444444, \"#bd3786\"], [0.5555555555555556, \"#d8576b\"], [0.6666666666666666, \"#ed7953\"], [0.7777777777777778, \"#fb9f3a\"], [0.8888888888888888, \"#fdca26\"], [1.0, \"#f0f921\"]], \"type\": \"histogram2d\"}], \"histogram2dcontour\": [{\"colorbar\": {\"outlinewidth\": 0, \"ticks\": \"\"}, \"colorscale\": [[0.0, \"#0d0887\"], [0.1111111111111111, \"#46039f\"], [0.2222222222222222, \"#7201a8\"], [0.3333333333333333, \"#9c179e\"], [0.4444444444444444, \"#bd3786\"], [0.5555555555555556, \"#d8576b\"], [0.6666666666666666, \"#ed7953\"], [0.7777777777777778, \"#fb9f3a\"], [0.8888888888888888, \"#fdca26\"], [1.0, \"#f0f921\"]], \"type\": \"histogram2dcontour\"}], \"mesh3d\": [{\"colorbar\": {\"outlinewidth\": 0, \"ticks\": \"\"}, \"type\": \"mesh3d\"}], \"parcoords\": [{\"line\": {\"colorbar\": {\"outlinewidth\": 0, \"ticks\": \"\"}}, \"type\": \"parcoords\"}], \"pie\": [{\"automargin\": true, \"type\": \"pie\"}], \"scatter\": [{\"marker\": {\"colorbar\": {\"outlinewidth\": 0, \"ticks\": \"\"}}, \"type\": \"scatter\"}], \"scatter3d\": [{\"line\": {\"colorbar\": {\"outlinewidth\": 0, \"ticks\": \"\"}}, \"marker\": {\"colorbar\": {\"outlinewidth\": 0, \"ticks\": \"\"}}, \"type\": \"scatter3d\"}], \"scattercarpet\": [{\"marker\": {\"colorbar\": {\"outlinewidth\": 0, \"ticks\": \"\"}}, \"type\": \"scattercarpet\"}], \"scattergeo\": [{\"marker\": {\"colorbar\": {\"outlinewidth\": 0, \"ticks\": \"\"}}, \"type\": \"scattergeo\"}], \"scattergl\": [{\"marker\": {\"colorbar\": {\"outlinewidth\": 0, \"ticks\": \"\"}}, \"type\": \"scattergl\"}], \"scattermapbox\": [{\"marker\": {\"colorbar\": {\"outlinewidth\": 0, \"ticks\": \"\"}}, \"type\": \"scattermapbox\"}], \"scatterpolar\": [{\"marker\": {\"colorbar\": {\"outlinewidth\": 0, \"ticks\": \"\"}}, \"type\": \"scatterpolar\"}], \"scatterpolargl\": [{\"marker\": {\"colorbar\": {\"outlinewidth\": 0, \"ticks\": \"\"}}, \"type\": \"scatterpolargl\"}], \"scatterternary\": [{\"marker\": {\"colorbar\": {\"outlinewidth\": 0, \"ticks\": \"\"}}, \"type\": \"scatterternary\"}], \"surface\": [{\"colorbar\": {\"outlinewidth\": 0, \"ticks\": \"\"}, \"colorscale\": [[0.0, \"#0d0887\"], [0.1111111111111111, \"#46039f\"], [0.2222222222222222, \"#7201a8\"], [0.3333333333333333, \"#9c179e\"], [0.4444444444444444, \"#bd3786\"], [0.5555555555555556, \"#d8576b\"], [0.6666666666666666, \"#ed7953\"], [0.7777777777777778, \"#fb9f3a\"], [0.8888888888888888, \"#fdca26\"], [1.0, \"#f0f921\"]], \"type\": \"surface\"}], \"table\": [{\"cells\": {\"fill\": {\"color\": \"#EBF0F8\"}, \"line\": {\"color\": \"white\"}}, \"header\": {\"fill\": {\"color\": \"#C8D4E3\"}, \"line\": {\"color\": \"white\"}}, \"type\": \"table\"}]}, \"layout\": {\"annotationdefaults\": {\"arrowcolor\": \"#2a3f5f\", \"arrowhead\": 0, \"arrowwidth\": 1}, \"coloraxis\": {\"colorbar\": {\"outlinewidth\": 0, \"ticks\": \"\"}}, \"colorscale\": {\"diverging\": [[0, \"#8e0152\"], [0.1, \"#c51b7d\"], [0.2, \"#de77ae\"], [0.3, \"#f1b6da\"], [0.4, \"#fde0ef\"], [0.5, \"#f7f7f7\"], [0.6, \"#e6f5d0\"], [0.7, \"#b8e186\"], [0.8, \"#7fbc41\"], [0.9, \"#4d9221\"], [1, \"#276419\"]], \"sequential\": [[0.0, \"#0d0887\"], [0.1111111111111111, \"#46039f\"], [0.2222222222222222, \"#7201a8\"], [0.3333333333333333, \"#9c179e\"], [0.4444444444444444, \"#bd3786\"], [0.5555555555555556, \"#d8576b\"], [0.6666666666666666, \"#ed7953\"], [0.7777777777777778, \"#fb9f3a\"], [0.8888888888888888, \"#fdca26\"], [1.0, \"#f0f921\"]], \"sequentialminus\": [[0.0, \"#0d0887\"], [0.1111111111111111, \"#46039f\"], [0.2222222222222222, \"#7201a8\"], [0.3333333333333333, \"#9c179e\"], [0.4444444444444444, \"#bd3786\"], [0.5555555555555556, \"#d8576b\"], [0.6666666666666666, \"#ed7953\"], [0.7777777777777778, \"#fb9f3a\"], [0.8888888888888888, \"#fdca26\"], [1.0, \"#f0f921\"]]}, \"colorway\": [\"#636efa\", \"#EF553B\", \"#00cc96\", \"#ab63fa\", \"#FFA15A\", \"#19d3f3\", \"#FF6692\", \"#B6E880\", \"#FF97FF\", \"#FECB52\"], \"font\": {\"color\": \"#2a3f5f\"}, \"geo\": {\"bgcolor\": \"white\", \"lakecolor\": \"white\", \"landcolor\": \"#E5ECF6\", \"showlakes\": true, \"showland\": true, \"subunitcolor\": \"white\"}, \"hoverlabel\": {\"align\": \"left\"}, \"hovermode\": \"closest\", \"mapbox\": {\"style\": \"light\"}, \"paper_bgcolor\": \"white\", \"plot_bgcolor\": \"#E5ECF6\", \"polar\": {\"angularaxis\": {\"gridcolor\": \"white\", \"linecolor\": \"white\", \"ticks\": \"\"}, \"bgcolor\": \"#E5ECF6\", \"radialaxis\": {\"gridcolor\": \"white\", \"linecolor\": \"white\", \"ticks\": \"\"}}, \"scene\": {\"xaxis\": {\"backgroundcolor\": \"#E5ECF6\", \"gridcolor\": \"white\", \"gridwidth\": 2, \"linecolor\": \"white\", \"showbackground\": true, \"ticks\": \"\", \"zerolinecolor\": \"white\"}, \"yaxis\": {\"backgroundcolor\": \"#E5ECF6\", \"gridcolor\": \"white\", \"gridwidth\": 2, \"linecolor\": \"white\", \"showbackground\": true, \"ticks\": \"\", \"zerolinecolor\": \"white\"}, \"zaxis\": {\"backgroundcolor\": \"#E5ECF6\", \"gridcolor\": \"white\", \"gridwidth\": 2, \"linecolor\": \"white\", \"showbackground\": true, \"ticks\": \"\", \"zerolinecolor\": \"white\"}}, \"shapedefaults\": {\"line\": {\"color\": \"#2a3f5f\"}}, \"ternary\": {\"aaxis\": {\"gridcolor\": \"white\", \"linecolor\": \"white\", \"ticks\": \"\"}, \"baxis\": {\"gridcolor\": \"white\", \"linecolor\": \"white\", \"ticks\": \"\"}, \"bgcolor\": \"#E5ECF6\", \"caxis\": {\"gridcolor\": \"white\", \"linecolor\": \"white\", \"ticks\": \"\"}}, \"title\": {\"x\": 0.05}, \"xaxis\": {\"automargin\": true, \"gridcolor\": \"white\", \"linecolor\": \"white\", \"ticks\": \"\", \"title\": {\"standoff\": 15}, \"zerolinecolor\": \"white\", \"zerolinewidth\": 2}, \"yaxis\": {\"automargin\": true, \"gridcolor\": \"white\", \"linecolor\": \"white\", \"ticks\": \"\", \"title\": {\"standoff\": 15}, \"zerolinecolor\": \"white\", \"zerolinewidth\": 2}}}, \"title\": {\"font\": {\"color\": \"#4D5663\"}}, \"xaxis\": {\"gridcolor\": \"#E1E5ED\", \"showgrid\": true, \"tickfont\": {\"color\": \"#4D5663\"}, \"title\": {\"font\": {\"color\": \"#4D5663\"}, \"text\": \"\"}, \"zerolinecolor\": \"#E1E5ED\"}, \"yaxis\": {\"gridcolor\": \"#E1E5ED\", \"showgrid\": true, \"tickfont\": {\"color\": \"#4D5663\"}, \"title\": {\"font\": {\"color\": \"#4D5663\"}, \"text\": \"\"}, \"zerolinecolor\": \"#E1E5ED\"}},\n",
       "                        {\"showLink\": true, \"linkText\": \"Export to plot.ly\", \"plotlyServerURL\": \"https://plot.ly\", \"responsive\": true}\n",
       "                    ).then(function(){\n",
       "                            \n",
       "var gd = document.getElementById('bcf2488d-2763-4a7d-bce4-8d311cd3c78d');\n",
       "var x = new MutationObserver(function (mutations, observer) {{\n",
       "        var display = window.getComputedStyle(gd).display;\n",
       "        if (!display || display === 'none') {{\n",
       "            console.log([gd, 'removed!']);\n",
       "            Plotly.purge(gd);\n",
       "            observer.disconnect();\n",
       "        }}\n",
       "}});\n",
       "\n",
       "// Listen for the removal of the full notebook cells\n",
       "var notebookContainer = gd.closest('#notebook-container');\n",
       "if (notebookContainer) {{\n",
       "    x.observe(notebookContainer, {childList: true});\n",
       "}}\n",
       "\n",
       "// Listen for the clearing of the current output cell\n",
       "var outputEl = gd.closest('.output');\n",
       "if (outputEl) {{\n",
       "    x.observe(outputEl, {childList: true});\n",
       "}}\n",
       "\n",
       "                        })\n",
       "                };\n",
       "                });\n",
       "            </script>\n",
       "        </div>"
      ]
     },
     "metadata": {},
     "output_type": "display_data"
    }
   ],
   "source": [
    "df2.iplot(kind='bar',x='Category',y='Values')"
   ]
  },
  {
   "cell_type": "code",
   "execution_count": 12,
   "metadata": {},
   "outputs": [
    {
     "data": {
      "application/vnd.plotly.v1+json": {
       "config": {
        "linkText": "Export to plot.ly",
        "plotlyServerURL": "https://plot.ly",
        "showLink": true
       },
       "data": [
        {
         "marker": {
          "color": "rgba(255, 153, 51, 0.6)",
          "line": {
           "color": "rgba(255, 153, 51, 1.0)",
           "width": 1
          }
         },
         "name": "None",
         "orientation": "v",
         "text": "",
         "type": "bar",
         "x": [
          "A",
          "B",
          "C",
          "D"
         ],
         "y": [
          100,
          100,
          100,
          100
         ]
        }
       ],
       "layout": {
        "legend": {
         "bgcolor": "#F5F6F9",
         "font": {
          "color": "#4D5663"
         }
        },
        "paper_bgcolor": "#F5F6F9",
        "plot_bgcolor": "#F5F6F9",
        "template": {
         "data": {
          "bar": [
           {
            "error_x": {
             "color": "#2a3f5f"
            },
            "error_y": {
             "color": "#2a3f5f"
            },
            "marker": {
             "line": {
              "color": "#E5ECF6",
              "width": 0.5
             }
            },
            "type": "bar"
           }
          ],
          "barpolar": [
           {
            "marker": {
             "line": {
              "color": "#E5ECF6",
              "width": 0.5
             }
            },
            "type": "barpolar"
           }
          ],
          "carpet": [
           {
            "aaxis": {
             "endlinecolor": "#2a3f5f",
             "gridcolor": "white",
             "linecolor": "white",
             "minorgridcolor": "white",
             "startlinecolor": "#2a3f5f"
            },
            "baxis": {
             "endlinecolor": "#2a3f5f",
             "gridcolor": "white",
             "linecolor": "white",
             "minorgridcolor": "white",
             "startlinecolor": "#2a3f5f"
            },
            "type": "carpet"
           }
          ],
          "choropleth": [
           {
            "colorbar": {
             "outlinewidth": 0,
             "ticks": ""
            },
            "type": "choropleth"
           }
          ],
          "contour": [
           {
            "colorbar": {
             "outlinewidth": 0,
             "ticks": ""
            },
            "colorscale": [
             [
              0,
              "#0d0887"
             ],
             [
              0.1111111111111111,
              "#46039f"
             ],
             [
              0.2222222222222222,
              "#7201a8"
             ],
             [
              0.3333333333333333,
              "#9c179e"
             ],
             [
              0.4444444444444444,
              "#bd3786"
             ],
             [
              0.5555555555555556,
              "#d8576b"
             ],
             [
              0.6666666666666666,
              "#ed7953"
             ],
             [
              0.7777777777777778,
              "#fb9f3a"
             ],
             [
              0.8888888888888888,
              "#fdca26"
             ],
             [
              1,
              "#f0f921"
             ]
            ],
            "type": "contour"
           }
          ],
          "contourcarpet": [
           {
            "colorbar": {
             "outlinewidth": 0,
             "ticks": ""
            },
            "type": "contourcarpet"
           }
          ],
          "heatmap": [
           {
            "colorbar": {
             "outlinewidth": 0,
             "ticks": ""
            },
            "colorscale": [
             [
              0,
              "#0d0887"
             ],
             [
              0.1111111111111111,
              "#46039f"
             ],
             [
              0.2222222222222222,
              "#7201a8"
             ],
             [
              0.3333333333333333,
              "#9c179e"
             ],
             [
              0.4444444444444444,
              "#bd3786"
             ],
             [
              0.5555555555555556,
              "#d8576b"
             ],
             [
              0.6666666666666666,
              "#ed7953"
             ],
             [
              0.7777777777777778,
              "#fb9f3a"
             ],
             [
              0.8888888888888888,
              "#fdca26"
             ],
             [
              1,
              "#f0f921"
             ]
            ],
            "type": "heatmap"
           }
          ],
          "heatmapgl": [
           {
            "colorbar": {
             "outlinewidth": 0,
             "ticks": ""
            },
            "colorscale": [
             [
              0,
              "#0d0887"
             ],
             [
              0.1111111111111111,
              "#46039f"
             ],
             [
              0.2222222222222222,
              "#7201a8"
             ],
             [
              0.3333333333333333,
              "#9c179e"
             ],
             [
              0.4444444444444444,
              "#bd3786"
             ],
             [
              0.5555555555555556,
              "#d8576b"
             ],
             [
              0.6666666666666666,
              "#ed7953"
             ],
             [
              0.7777777777777778,
              "#fb9f3a"
             ],
             [
              0.8888888888888888,
              "#fdca26"
             ],
             [
              1,
              "#f0f921"
             ]
            ],
            "type": "heatmapgl"
           }
          ],
          "histogram": [
           {
            "marker": {
             "colorbar": {
              "outlinewidth": 0,
              "ticks": ""
             }
            },
            "type": "histogram"
           }
          ],
          "histogram2d": [
           {
            "colorbar": {
             "outlinewidth": 0,
             "ticks": ""
            },
            "colorscale": [
             [
              0,
              "#0d0887"
             ],
             [
              0.1111111111111111,
              "#46039f"
             ],
             [
              0.2222222222222222,
              "#7201a8"
             ],
             [
              0.3333333333333333,
              "#9c179e"
             ],
             [
              0.4444444444444444,
              "#bd3786"
             ],
             [
              0.5555555555555556,
              "#d8576b"
             ],
             [
              0.6666666666666666,
              "#ed7953"
             ],
             [
              0.7777777777777778,
              "#fb9f3a"
             ],
             [
              0.8888888888888888,
              "#fdca26"
             ],
             [
              1,
              "#f0f921"
             ]
            ],
            "type": "histogram2d"
           }
          ],
          "histogram2dcontour": [
           {
            "colorbar": {
             "outlinewidth": 0,
             "ticks": ""
            },
            "colorscale": [
             [
              0,
              "#0d0887"
             ],
             [
              0.1111111111111111,
              "#46039f"
             ],
             [
              0.2222222222222222,
              "#7201a8"
             ],
             [
              0.3333333333333333,
              "#9c179e"
             ],
             [
              0.4444444444444444,
              "#bd3786"
             ],
             [
              0.5555555555555556,
              "#d8576b"
             ],
             [
              0.6666666666666666,
              "#ed7953"
             ],
             [
              0.7777777777777778,
              "#fb9f3a"
             ],
             [
              0.8888888888888888,
              "#fdca26"
             ],
             [
              1,
              "#f0f921"
             ]
            ],
            "type": "histogram2dcontour"
           }
          ],
          "mesh3d": [
           {
            "colorbar": {
             "outlinewidth": 0,
             "ticks": ""
            },
            "type": "mesh3d"
           }
          ],
          "parcoords": [
           {
            "line": {
             "colorbar": {
              "outlinewidth": 0,
              "ticks": ""
             }
            },
            "type": "parcoords"
           }
          ],
          "pie": [
           {
            "automargin": true,
            "type": "pie"
           }
          ],
          "scatter": [
           {
            "marker": {
             "colorbar": {
              "outlinewidth": 0,
              "ticks": ""
             }
            },
            "type": "scatter"
           }
          ],
          "scatter3d": [
           {
            "line": {
             "colorbar": {
              "outlinewidth": 0,
              "ticks": ""
             }
            },
            "marker": {
             "colorbar": {
              "outlinewidth": 0,
              "ticks": ""
             }
            },
            "type": "scatter3d"
           }
          ],
          "scattercarpet": [
           {
            "marker": {
             "colorbar": {
              "outlinewidth": 0,
              "ticks": ""
             }
            },
            "type": "scattercarpet"
           }
          ],
          "scattergeo": [
           {
            "marker": {
             "colorbar": {
              "outlinewidth": 0,
              "ticks": ""
             }
            },
            "type": "scattergeo"
           }
          ],
          "scattergl": [
           {
            "marker": {
             "colorbar": {
              "outlinewidth": 0,
              "ticks": ""
             }
            },
            "type": "scattergl"
           }
          ],
          "scattermapbox": [
           {
            "marker": {
             "colorbar": {
              "outlinewidth": 0,
              "ticks": ""
             }
            },
            "type": "scattermapbox"
           }
          ],
          "scatterpolar": [
           {
            "marker": {
             "colorbar": {
              "outlinewidth": 0,
              "ticks": ""
             }
            },
            "type": "scatterpolar"
           }
          ],
          "scatterpolargl": [
           {
            "marker": {
             "colorbar": {
              "outlinewidth": 0,
              "ticks": ""
             }
            },
            "type": "scatterpolargl"
           }
          ],
          "scatterternary": [
           {
            "marker": {
             "colorbar": {
              "outlinewidth": 0,
              "ticks": ""
             }
            },
            "type": "scatterternary"
           }
          ],
          "surface": [
           {
            "colorbar": {
             "outlinewidth": 0,
             "ticks": ""
            },
            "colorscale": [
             [
              0,
              "#0d0887"
             ],
             [
              0.1111111111111111,
              "#46039f"
             ],
             [
              0.2222222222222222,
              "#7201a8"
             ],
             [
              0.3333333333333333,
              "#9c179e"
             ],
             [
              0.4444444444444444,
              "#bd3786"
             ],
             [
              0.5555555555555556,
              "#d8576b"
             ],
             [
              0.6666666666666666,
              "#ed7953"
             ],
             [
              0.7777777777777778,
              "#fb9f3a"
             ],
             [
              0.8888888888888888,
              "#fdca26"
             ],
             [
              1,
              "#f0f921"
             ]
            ],
            "type": "surface"
           }
          ],
          "table": [
           {
            "cells": {
             "fill": {
              "color": "#EBF0F8"
             },
             "line": {
              "color": "white"
             }
            },
            "header": {
             "fill": {
              "color": "#C8D4E3"
             },
             "line": {
              "color": "white"
             }
            },
            "type": "table"
           }
          ]
         },
         "layout": {
          "annotationdefaults": {
           "arrowcolor": "#2a3f5f",
           "arrowhead": 0,
           "arrowwidth": 1
          },
          "coloraxis": {
           "colorbar": {
            "outlinewidth": 0,
            "ticks": ""
           }
          },
          "colorscale": {
           "diverging": [
            [
             0,
             "#8e0152"
            ],
            [
             0.1,
             "#c51b7d"
            ],
            [
             0.2,
             "#de77ae"
            ],
            [
             0.3,
             "#f1b6da"
            ],
            [
             0.4,
             "#fde0ef"
            ],
            [
             0.5,
             "#f7f7f7"
            ],
            [
             0.6,
             "#e6f5d0"
            ],
            [
             0.7,
             "#b8e186"
            ],
            [
             0.8,
             "#7fbc41"
            ],
            [
             0.9,
             "#4d9221"
            ],
            [
             1,
             "#276419"
            ]
           ],
           "sequential": [
            [
             0,
             "#0d0887"
            ],
            [
             0.1111111111111111,
             "#46039f"
            ],
            [
             0.2222222222222222,
             "#7201a8"
            ],
            [
             0.3333333333333333,
             "#9c179e"
            ],
            [
             0.4444444444444444,
             "#bd3786"
            ],
            [
             0.5555555555555556,
             "#d8576b"
            ],
            [
             0.6666666666666666,
             "#ed7953"
            ],
            [
             0.7777777777777778,
             "#fb9f3a"
            ],
            [
             0.8888888888888888,
             "#fdca26"
            ],
            [
             1,
             "#f0f921"
            ]
           ],
           "sequentialminus": [
            [
             0,
             "#0d0887"
            ],
            [
             0.1111111111111111,
             "#46039f"
            ],
            [
             0.2222222222222222,
             "#7201a8"
            ],
            [
             0.3333333333333333,
             "#9c179e"
            ],
            [
             0.4444444444444444,
             "#bd3786"
            ],
            [
             0.5555555555555556,
             "#d8576b"
            ],
            [
             0.6666666666666666,
             "#ed7953"
            ],
            [
             0.7777777777777778,
             "#fb9f3a"
            ],
            [
             0.8888888888888888,
             "#fdca26"
            ],
            [
             1,
             "#f0f921"
            ]
           ]
          },
          "colorway": [
           "#636efa",
           "#EF553B",
           "#00cc96",
           "#ab63fa",
           "#FFA15A",
           "#19d3f3",
           "#FF6692",
           "#B6E880",
           "#FF97FF",
           "#FECB52"
          ],
          "font": {
           "color": "#2a3f5f"
          },
          "geo": {
           "bgcolor": "white",
           "lakecolor": "white",
           "landcolor": "#E5ECF6",
           "showlakes": true,
           "showland": true,
           "subunitcolor": "white"
          },
          "hoverlabel": {
           "align": "left"
          },
          "hovermode": "closest",
          "mapbox": {
           "style": "light"
          },
          "paper_bgcolor": "white",
          "plot_bgcolor": "#E5ECF6",
          "polar": {
           "angularaxis": {
            "gridcolor": "white",
            "linecolor": "white",
            "ticks": ""
           },
           "bgcolor": "#E5ECF6",
           "radialaxis": {
            "gridcolor": "white",
            "linecolor": "white",
            "ticks": ""
           }
          },
          "scene": {
           "xaxis": {
            "backgroundcolor": "#E5ECF6",
            "gridcolor": "white",
            "gridwidth": 2,
            "linecolor": "white",
            "showbackground": true,
            "ticks": "",
            "zerolinecolor": "white"
           },
           "yaxis": {
            "backgroundcolor": "#E5ECF6",
            "gridcolor": "white",
            "gridwidth": 2,
            "linecolor": "white",
            "showbackground": true,
            "ticks": "",
            "zerolinecolor": "white"
           },
           "zaxis": {
            "backgroundcolor": "#E5ECF6",
            "gridcolor": "white",
            "gridwidth": 2,
            "linecolor": "white",
            "showbackground": true,
            "ticks": "",
            "zerolinecolor": "white"
           }
          },
          "shapedefaults": {
           "line": {
            "color": "#2a3f5f"
           }
          },
          "ternary": {
           "aaxis": {
            "gridcolor": "white",
            "linecolor": "white",
            "ticks": ""
           },
           "baxis": {
            "gridcolor": "white",
            "linecolor": "white",
            "ticks": ""
           },
           "bgcolor": "#E5ECF6",
           "caxis": {
            "gridcolor": "white",
            "linecolor": "white",
            "ticks": ""
           }
          },
          "title": {
           "x": 0.05
          },
          "xaxis": {
           "automargin": true,
           "gridcolor": "white",
           "linecolor": "white",
           "ticks": "",
           "title": {
            "standoff": 15
           },
           "zerolinecolor": "white",
           "zerolinewidth": 2
          },
          "yaxis": {
           "automargin": true,
           "gridcolor": "white",
           "linecolor": "white",
           "ticks": "",
           "title": {
            "standoff": 15
           },
           "zerolinecolor": "white",
           "zerolinewidth": 2
          }
         }
        },
        "title": {
         "font": {
          "color": "#4D5663"
         }
        },
        "xaxis": {
         "gridcolor": "#E1E5ED",
         "showgrid": true,
         "tickfont": {
          "color": "#4D5663"
         },
         "title": {
          "font": {
           "color": "#4D5663"
          },
          "text": ""
         },
         "zerolinecolor": "#E1E5ED"
        },
        "yaxis": {
         "gridcolor": "#E1E5ED",
         "showgrid": true,
         "tickfont": {
          "color": "#4D5663"
         },
         "title": {
          "font": {
           "color": "#4D5663"
          },
          "text": ""
         },
         "zerolinecolor": "#E1E5ED"
        }
       }
      },
      "text/html": [
       "<div>\n",
       "        \n",
       "        \n",
       "            <div id=\"7d88cd00-534a-4080-958c-af52a30252f2\" class=\"plotly-graph-div\" style=\"height:525px; width:100%;\"></div>\n",
       "            <script type=\"text/javascript\">\n",
       "                require([\"plotly\"], function(Plotly) {\n",
       "                    window.PLOTLYENV=window.PLOTLYENV || {};\n",
       "                    window.PLOTLYENV.BASE_URL='https://plot.ly';\n",
       "                    \n",
       "                if (document.getElementById(\"7d88cd00-534a-4080-958c-af52a30252f2\")) {\n",
       "                    Plotly.newPlot(\n",
       "                        '7d88cd00-534a-4080-958c-af52a30252f2',\n",
       "                        [{\"marker\": {\"color\": \"rgba(255, 153, 51, 0.6)\", \"line\": {\"color\": \"rgba(255, 153, 51, 1.0)\", \"width\": 1}}, \"name\": \"None\", \"orientation\": \"v\", \"text\": \"\", \"type\": \"bar\", \"x\": [\"A\", \"B\", \"C\", \"D\"], \"y\": [100, 100, 100, 100]}],\n",
       "                        {\"legend\": {\"bgcolor\": \"#F5F6F9\", \"font\": {\"color\": \"#4D5663\"}}, \"paper_bgcolor\": \"#F5F6F9\", \"plot_bgcolor\": \"#F5F6F9\", \"template\": {\"data\": {\"bar\": [{\"error_x\": {\"color\": \"#2a3f5f\"}, \"error_y\": {\"color\": \"#2a3f5f\"}, \"marker\": {\"line\": {\"color\": \"#E5ECF6\", \"width\": 0.5}}, \"type\": \"bar\"}], \"barpolar\": [{\"marker\": {\"line\": {\"color\": \"#E5ECF6\", \"width\": 0.5}}, \"type\": \"barpolar\"}], \"carpet\": [{\"aaxis\": {\"endlinecolor\": \"#2a3f5f\", \"gridcolor\": \"white\", \"linecolor\": \"white\", \"minorgridcolor\": \"white\", \"startlinecolor\": \"#2a3f5f\"}, \"baxis\": {\"endlinecolor\": \"#2a3f5f\", \"gridcolor\": \"white\", \"linecolor\": \"white\", \"minorgridcolor\": \"white\", \"startlinecolor\": \"#2a3f5f\"}, \"type\": \"carpet\"}], \"choropleth\": [{\"colorbar\": {\"outlinewidth\": 0, \"ticks\": \"\"}, \"type\": \"choropleth\"}], \"contour\": [{\"colorbar\": {\"outlinewidth\": 0, \"ticks\": \"\"}, \"colorscale\": [[0.0, \"#0d0887\"], [0.1111111111111111, \"#46039f\"], [0.2222222222222222, \"#7201a8\"], [0.3333333333333333, \"#9c179e\"], [0.4444444444444444, \"#bd3786\"], [0.5555555555555556, \"#d8576b\"], [0.6666666666666666, \"#ed7953\"], [0.7777777777777778, \"#fb9f3a\"], [0.8888888888888888, \"#fdca26\"], [1.0, \"#f0f921\"]], \"type\": \"contour\"}], \"contourcarpet\": [{\"colorbar\": {\"outlinewidth\": 0, \"ticks\": \"\"}, \"type\": \"contourcarpet\"}], \"heatmap\": [{\"colorbar\": {\"outlinewidth\": 0, \"ticks\": \"\"}, \"colorscale\": [[0.0, \"#0d0887\"], [0.1111111111111111, \"#46039f\"], [0.2222222222222222, \"#7201a8\"], [0.3333333333333333, \"#9c179e\"], [0.4444444444444444, \"#bd3786\"], [0.5555555555555556, \"#d8576b\"], [0.6666666666666666, \"#ed7953\"], [0.7777777777777778, \"#fb9f3a\"], [0.8888888888888888, \"#fdca26\"], [1.0, \"#f0f921\"]], \"type\": \"heatmap\"}], \"heatmapgl\": [{\"colorbar\": {\"outlinewidth\": 0, \"ticks\": \"\"}, \"colorscale\": [[0.0, \"#0d0887\"], [0.1111111111111111, \"#46039f\"], [0.2222222222222222, \"#7201a8\"], [0.3333333333333333, \"#9c179e\"], [0.4444444444444444, \"#bd3786\"], [0.5555555555555556, \"#d8576b\"], [0.6666666666666666, \"#ed7953\"], [0.7777777777777778, \"#fb9f3a\"], [0.8888888888888888, \"#fdca26\"], [1.0, \"#f0f921\"]], \"type\": \"heatmapgl\"}], \"histogram\": [{\"marker\": {\"colorbar\": {\"outlinewidth\": 0, \"ticks\": \"\"}}, \"type\": \"histogram\"}], \"histogram2d\": [{\"colorbar\": {\"outlinewidth\": 0, \"ticks\": \"\"}, \"colorscale\": [[0.0, \"#0d0887\"], [0.1111111111111111, \"#46039f\"], [0.2222222222222222, \"#7201a8\"], [0.3333333333333333, \"#9c179e\"], [0.4444444444444444, \"#bd3786\"], [0.5555555555555556, \"#d8576b\"], [0.6666666666666666, \"#ed7953\"], [0.7777777777777778, \"#fb9f3a\"], [0.8888888888888888, \"#fdca26\"], [1.0, \"#f0f921\"]], \"type\": \"histogram2d\"}], \"histogram2dcontour\": [{\"colorbar\": {\"outlinewidth\": 0, \"ticks\": \"\"}, \"colorscale\": [[0.0, \"#0d0887\"], [0.1111111111111111, \"#46039f\"], [0.2222222222222222, \"#7201a8\"], [0.3333333333333333, \"#9c179e\"], [0.4444444444444444, \"#bd3786\"], [0.5555555555555556, \"#d8576b\"], [0.6666666666666666, \"#ed7953\"], [0.7777777777777778, \"#fb9f3a\"], [0.8888888888888888, \"#fdca26\"], [1.0, \"#f0f921\"]], \"type\": \"histogram2dcontour\"}], \"mesh3d\": [{\"colorbar\": {\"outlinewidth\": 0, \"ticks\": \"\"}, \"type\": \"mesh3d\"}], \"parcoords\": [{\"line\": {\"colorbar\": {\"outlinewidth\": 0, \"ticks\": \"\"}}, \"type\": \"parcoords\"}], \"pie\": [{\"automargin\": true, \"type\": \"pie\"}], \"scatter\": [{\"marker\": {\"colorbar\": {\"outlinewidth\": 0, \"ticks\": \"\"}}, \"type\": \"scatter\"}], \"scatter3d\": [{\"line\": {\"colorbar\": {\"outlinewidth\": 0, \"ticks\": \"\"}}, \"marker\": {\"colorbar\": {\"outlinewidth\": 0, \"ticks\": \"\"}}, \"type\": \"scatter3d\"}], \"scattercarpet\": [{\"marker\": {\"colorbar\": {\"outlinewidth\": 0, \"ticks\": \"\"}}, \"type\": \"scattercarpet\"}], \"scattergeo\": [{\"marker\": {\"colorbar\": {\"outlinewidth\": 0, \"ticks\": \"\"}}, \"type\": \"scattergeo\"}], \"scattergl\": [{\"marker\": {\"colorbar\": {\"outlinewidth\": 0, \"ticks\": \"\"}}, \"type\": \"scattergl\"}], \"scattermapbox\": [{\"marker\": {\"colorbar\": {\"outlinewidth\": 0, \"ticks\": \"\"}}, \"type\": \"scattermapbox\"}], \"scatterpolar\": [{\"marker\": {\"colorbar\": {\"outlinewidth\": 0, \"ticks\": \"\"}}, \"type\": \"scatterpolar\"}], \"scatterpolargl\": [{\"marker\": {\"colorbar\": {\"outlinewidth\": 0, \"ticks\": \"\"}}, \"type\": \"scatterpolargl\"}], \"scatterternary\": [{\"marker\": {\"colorbar\": {\"outlinewidth\": 0, \"ticks\": \"\"}}, \"type\": \"scatterternary\"}], \"surface\": [{\"colorbar\": {\"outlinewidth\": 0, \"ticks\": \"\"}, \"colorscale\": [[0.0, \"#0d0887\"], [0.1111111111111111, \"#46039f\"], [0.2222222222222222, \"#7201a8\"], [0.3333333333333333, \"#9c179e\"], [0.4444444444444444, \"#bd3786\"], [0.5555555555555556, \"#d8576b\"], [0.6666666666666666, \"#ed7953\"], [0.7777777777777778, \"#fb9f3a\"], [0.8888888888888888, \"#fdca26\"], [1.0, \"#f0f921\"]], \"type\": \"surface\"}], \"table\": [{\"cells\": {\"fill\": {\"color\": \"#EBF0F8\"}, \"line\": {\"color\": \"white\"}}, \"header\": {\"fill\": {\"color\": \"#C8D4E3\"}, \"line\": {\"color\": \"white\"}}, \"type\": \"table\"}]}, \"layout\": {\"annotationdefaults\": {\"arrowcolor\": \"#2a3f5f\", \"arrowhead\": 0, \"arrowwidth\": 1}, \"coloraxis\": {\"colorbar\": {\"outlinewidth\": 0, \"ticks\": \"\"}}, \"colorscale\": {\"diverging\": [[0, \"#8e0152\"], [0.1, \"#c51b7d\"], [0.2, \"#de77ae\"], [0.3, \"#f1b6da\"], [0.4, \"#fde0ef\"], [0.5, \"#f7f7f7\"], [0.6, \"#e6f5d0\"], [0.7, \"#b8e186\"], [0.8, \"#7fbc41\"], [0.9, \"#4d9221\"], [1, \"#276419\"]], \"sequential\": [[0.0, \"#0d0887\"], [0.1111111111111111, \"#46039f\"], [0.2222222222222222, \"#7201a8\"], [0.3333333333333333, \"#9c179e\"], [0.4444444444444444, \"#bd3786\"], [0.5555555555555556, \"#d8576b\"], [0.6666666666666666, \"#ed7953\"], [0.7777777777777778, \"#fb9f3a\"], [0.8888888888888888, \"#fdca26\"], [1.0, \"#f0f921\"]], \"sequentialminus\": [[0.0, \"#0d0887\"], [0.1111111111111111, \"#46039f\"], [0.2222222222222222, \"#7201a8\"], [0.3333333333333333, \"#9c179e\"], [0.4444444444444444, \"#bd3786\"], [0.5555555555555556, \"#d8576b\"], [0.6666666666666666, \"#ed7953\"], [0.7777777777777778, \"#fb9f3a\"], [0.8888888888888888, \"#fdca26\"], [1.0, \"#f0f921\"]]}, \"colorway\": [\"#636efa\", \"#EF553B\", \"#00cc96\", \"#ab63fa\", \"#FFA15A\", \"#19d3f3\", \"#FF6692\", \"#B6E880\", \"#FF97FF\", \"#FECB52\"], \"font\": {\"color\": \"#2a3f5f\"}, \"geo\": {\"bgcolor\": \"white\", \"lakecolor\": \"white\", \"landcolor\": \"#E5ECF6\", \"showlakes\": true, \"showland\": true, \"subunitcolor\": \"white\"}, \"hoverlabel\": {\"align\": \"left\"}, \"hovermode\": \"closest\", \"mapbox\": {\"style\": \"light\"}, \"paper_bgcolor\": \"white\", \"plot_bgcolor\": \"#E5ECF6\", \"polar\": {\"angularaxis\": {\"gridcolor\": \"white\", \"linecolor\": \"white\", \"ticks\": \"\"}, \"bgcolor\": \"#E5ECF6\", \"radialaxis\": {\"gridcolor\": \"white\", \"linecolor\": \"white\", \"ticks\": \"\"}}, \"scene\": {\"xaxis\": {\"backgroundcolor\": \"#E5ECF6\", \"gridcolor\": \"white\", \"gridwidth\": 2, \"linecolor\": \"white\", \"showbackground\": true, \"ticks\": \"\", \"zerolinecolor\": \"white\"}, \"yaxis\": {\"backgroundcolor\": \"#E5ECF6\", \"gridcolor\": \"white\", \"gridwidth\": 2, \"linecolor\": \"white\", \"showbackground\": true, \"ticks\": \"\", \"zerolinecolor\": \"white\"}, \"zaxis\": {\"backgroundcolor\": \"#E5ECF6\", \"gridcolor\": \"white\", \"gridwidth\": 2, \"linecolor\": \"white\", \"showbackground\": true, \"ticks\": \"\", \"zerolinecolor\": \"white\"}}, \"shapedefaults\": {\"line\": {\"color\": \"#2a3f5f\"}}, \"ternary\": {\"aaxis\": {\"gridcolor\": \"white\", \"linecolor\": \"white\", \"ticks\": \"\"}, \"baxis\": {\"gridcolor\": \"white\", \"linecolor\": \"white\", \"ticks\": \"\"}, \"bgcolor\": \"#E5ECF6\", \"caxis\": {\"gridcolor\": \"white\", \"linecolor\": \"white\", \"ticks\": \"\"}}, \"title\": {\"x\": 0.05}, \"xaxis\": {\"automargin\": true, \"gridcolor\": \"white\", \"linecolor\": \"white\", \"ticks\": \"\", \"title\": {\"standoff\": 15}, \"zerolinecolor\": \"white\", \"zerolinewidth\": 2}, \"yaxis\": {\"automargin\": true, \"gridcolor\": \"white\", \"linecolor\": \"white\", \"ticks\": \"\", \"title\": {\"standoff\": 15}, \"zerolinecolor\": \"white\", \"zerolinewidth\": 2}}}, \"title\": {\"font\": {\"color\": \"#4D5663\"}}, \"xaxis\": {\"gridcolor\": \"#E1E5ED\", \"showgrid\": true, \"tickfont\": {\"color\": \"#4D5663\"}, \"title\": {\"font\": {\"color\": \"#4D5663\"}, \"text\": \"\"}, \"zerolinecolor\": \"#E1E5ED\"}, \"yaxis\": {\"gridcolor\": \"#E1E5ED\", \"showgrid\": true, \"tickfont\": {\"color\": \"#4D5663\"}, \"title\": {\"font\": {\"color\": \"#4D5663\"}, \"text\": \"\"}, \"zerolinecolor\": \"#E1E5ED\"}},\n",
       "                        {\"showLink\": true, \"linkText\": \"Export to plot.ly\", \"plotlyServerURL\": \"https://plot.ly\", \"responsive\": true}\n",
       "                    ).then(function(){\n",
       "                            \n",
       "var gd = document.getElementById('7d88cd00-534a-4080-958c-af52a30252f2');\n",
       "var x = new MutationObserver(function (mutations, observer) {{\n",
       "        var display = window.getComputedStyle(gd).display;\n",
       "        if (!display || display === 'none') {{\n",
       "            console.log([gd, 'removed!']);\n",
       "            Plotly.purge(gd);\n",
       "            observer.disconnect();\n",
       "        }}\n",
       "}});\n",
       "\n",
       "// Listen for the removal of the full notebook cells\n",
       "var notebookContainer = gd.closest('#notebook-container');\n",
       "if (notebookContainer) {{\n",
       "    x.observe(notebookContainer, {childList: true});\n",
       "}}\n",
       "\n",
       "// Listen for the clearing of the current output cell\n",
       "var outputEl = gd.closest('.output');\n",
       "if (outputEl) {{\n",
       "    x.observe(outputEl, {childList: true});\n",
       "}}\n",
       "\n",
       "                        })\n",
       "                };\n",
       "                });\n",
       "            </script>\n",
       "        </div>"
      ]
     },
     "metadata": {},
     "output_type": "display_data"
    }
   ],
   "source": [
    "df.count().iplot(kind='bar')"
   ]
  },
  {
   "cell_type": "markdown",
   "metadata": {},
   "source": [
    "## Boxplots"
   ]
  },
  {
   "cell_type": "code",
   "execution_count": 13,
   "metadata": {},
   "outputs": [
    {
     "data": {
      "application/vnd.plotly.v1+json": {
       "config": {
        "linkText": "Export to plot.ly",
        "plotlyServerURL": "https://plot.ly",
        "showLink": true
       },
       "data": [
        {
         "boxpoints": false,
         "line": {
          "width": 1.3
         },
         "marker": {
          "color": "rgba(255, 153, 51, 1.0)"
         },
         "name": "A",
         "orientation": "v",
         "type": "box",
         "y": [
          -3.0891690814370802,
          -0.15093812636863455,
          0.13226757129359545,
          -0.9436480441721036,
          1.0939150837805443,
          2.233999101663424,
          -1.408821280745671,
          0.6644399525912178,
          -1.6692209129812499,
          -0.5781750330564617,
          0.3259479485936982,
          0.35337291909405744,
          -0.9355951333970114,
          1.3993657665589674,
          -0.7264432065839201,
          1.2706747152305884,
          0.08987776345309252,
          -0.8739620333814003,
          0.45305462405840774,
          2.077131993710634,
          -0.6497997380408793,
          0.10363703694124451,
          0.3685517032749556,
          -1.660889834320239,
          0.22748720155204724,
          -0.17608486595685274,
          1.9508324776532389,
          -0.948824710656382,
          0.24637108641800815,
          -0.17990593133279728,
          -0.5755789986094119,
          -0.22662134604804202,
          -0.8538680787755056,
          0.013849875503001482,
          0.32597581297179595,
          -0.8570921503818173,
          1.1028656743252894,
          0.5423182366845734,
          -0.5223174727704796,
          0.8231902161617701,
          0.7082832668864215,
          -2.3610760141909157,
          0.2248092690337905,
          -0.36923956224707316,
          0.47222005942496675,
          1.1822084221798006,
          -0.7039689666073455,
          -1.6448332982778755,
          -0.7701095141840978,
          1.563570590474163,
          -1.012153140899084,
          0.23841585632035256,
          -0.10407886028953234,
          -1.5621766835347606,
          2.287473672845577,
          -1.6895900849694523,
          0.523563807588396,
          -0.2458264678003052,
          -0.4110176453047839,
          0.05109260418553095,
          1.124657961564242,
          0.039085117909342014,
          0.07476390135402051,
          -1.6844573466745725,
          0.012687342579481247,
          -0.8125959503982871,
          0.5429420065790311,
          1.1584453916061306,
          0.2913230192637508,
          -0.5259598537222732,
          -0.40300408177855257,
          -0.3231243016908354,
          1.1195392948215908,
          1.1177784724135182,
          -0.2934667283084928,
          0.44485367348780974,
          0.31945308725082366,
          -0.035216205859157454,
          0.5326000062572194,
          -0.23700601438944363,
          -2.125131809986599,
          1.9665838565142724,
          -0.10621838516393992,
          -1.5297894140868404,
          1.1923521839899056,
          0.42434109188195157,
          -0.5928653108372631,
          0.5444827992464166,
          1.908321054359214,
          0.9201338704472097,
          -0.37017190530359384,
          -0.1287567243335507,
          0.5198475796450365,
          -1.0026106354082849,
          -0.5048666794652888,
          -2.2145820644230936,
          1.223006137776256,
          0.7997705039572335,
          -1.2287365551191047,
          -0.33203915961161806
         ]
        },
        {
         "boxpoints": false,
         "line": {
          "width": 1.3
         },
         "marker": {
          "color": "rgba(55, 128, 191, 1.0)"
         },
         "name": "B",
         "orientation": "v",
         "type": "box",
         "y": [
          -0.6497331758939314,
          0.28793182818506585,
          -0.6406546473476662,
          0.44288871491097204,
          -0.05516775452979829,
          0.24357440760663784,
          0.19862804394467937,
          0.017871486326105964,
          0.9419586907313144,
          -0.5922269136030222,
          0.4632576220139533,
          -1.02180267541963,
          0.009211380888768295,
          -1.452374979601723,
          0.6076363939370528,
          1.1372970733571235,
          0.8216723348917082,
          0.5156034911723388,
          -0.8402491636980118,
          0.5738466498177162,
          0.4230814437763436,
          -0.2618550866393429,
          -1.4581184044032003,
          1.186524523218494,
          0.16490060860000813,
          0.745770744854132,
          -0.6610696189050297,
          1.3500768352975112,
          1.1987687800465134,
          2.3096028492876384,
          0.5457531625457045,
          -1.8574236349528406,
          -1.18998017247201,
          1.5181164047083455,
          0.14452515865031162,
          0.6790308519434948,
          0.7527245917195355,
          -0.5019644786553503,
          -0.3098563757594705,
          -1.6270825975794787,
          -1.1153274885862796,
          0.0698844178409464,
          -0.13836448145307176,
          0.2977336458815172,
          -1.7761185605661562,
          -1.193535811393635,
          0.6582749459954654,
          0.11742272648375549,
          -0.43788297088276346,
          -1.245679984165115,
          -0.4235286643493187,
          0.02211086881471649,
          -1.4213475477328146,
          -1.547286954040525,
          -2.418368303116361,
          -2.5416510859474353,
          -0.20012910611234505,
          0.2207315892413318,
          0.9806114155971659,
          -0.4514072244754144,
          0.237972413598495,
          1.6661274988172907,
          0.0008207307891878887,
          1.5532407406951003,
          0.05639598449363403,
          -2.2076194668262348,
          -1.2757423993728216,
          -0.7671078846184362,
          -0.44014447187790706,
          -0.09534239410143637,
          0.23862260010165232,
          1.5184905362081385,
          0.25022791644971093,
          0.13193641305590578,
          0.45377837338234756,
          -0.3976932257246214,
          0.9490242186260665,
          -1.3896518058840215,
          0.20243155758583042,
          -2.764972097819883,
          -0.4773196328772329,
          -0.9363311324586043,
          1.3802374486808353,
          0.4431852775753563,
          -1.1880902100557515,
          0.09022540025355277,
          0.30188535198005945,
          -0.5745808656083056,
          -1.3838746723031254,
          -1.5336549625779974,
          -0.4152479223898434,
          -1.082669504325524,
          1.6255905021979637,
          -0.17810907004411655,
          0.14241206049340105,
          -1.0202946103547477,
          0.7833004639524571,
          -0.06931778148223472,
          -1.1869108938985733,
          -2.033802148596967
         ]
        },
        {
         "boxpoints": false,
         "line": {
          "width": 1.3
         },
         "marker": {
          "color": "rgba(50, 171, 96, 1.0)"
         },
         "name": "C",
         "orientation": "v",
         "type": "box",
         "y": [
          0.9619864109999505,
          0.013861433124429024,
          -1.080802469415181,
          0.48394736756975465,
          0.5120455320718367,
          -0.07461927759886754,
          -1.7116495686300837,
          -0.7941224015842213,
          -0.359982515449631,
          2.6745291203697064,
          0.6625547804469379,
          0.5543288624679773,
          1.1228832734953376,
          -1.2822038585448226,
          -0.2028591814433585,
          -0.4585655584372579,
          1.530143430213587,
          1.0235453829774301,
          1.0657320351516428,
          -0.245555618283886,
          -0.48372789991790716,
          -0.8924145655354128,
          0.8975670741950776,
          1.403164132195382,
          0.9439061819923983,
          3.322002335024259,
          -1.1917255310677242,
          1.091491906789954,
          -0.3090403016788589,
          -0.1821533835253619,
          1.6000615513425562,
          0.5834606969058104,
          2.0605042011016717,
          2.1430312958731497,
          1.435862401885988,
          0.38330105195076053,
          0.5299620273942501,
          -1.1011927744095378,
          -0.4560719189166262,
          1.3187435732055468,
          -0.6262044047356647,
          0.7759933962752779,
          0.14898495093892095,
          0.17276867432275977,
          -0.5734086258180138,
          -0.46059040736721557,
          -0.4820270970689329,
          0.42454817310839793,
          0.31678870805642284,
          2.226580343415447,
          -2.100178939821205,
          -0.6777191227343066,
          -0.07593291355797825,
          -0.29078936781913733,
          -0.1479278877933601,
          -0.5337128733236507,
          -1.0884208272743663,
          -0.17689088266606753,
          0.6443317772577273,
          -1.081747000816026,
          -0.6797158400543877,
          1.3592817961076138,
          -0.97400826809905,
          0.8000777057336252,
          -0.3391473095647177,
          -0.33020829329881907,
          -0.07473964326480681,
          -1.3164933774734262,
          0.8479769033662022,
          0.08885550585322498,
          0.15289914397809903,
          0.6595739702774656,
          0.22037688269560846,
          -0.13957798528689355,
          0.05885903363046422,
          0.6555514628496011,
          1.5344164506794673,
          -0.1054607191728966,
          -0.5532004116851079,
          -1.3918707742871401,
          -1.134772579008437,
          0.7504308512256543,
          -0.22493595896064514,
          0.07560723155093399,
          0.45091299097546106,
          -0.35330262350828423,
          0.4937702034710105,
          1.1911471751155656,
          -2.1749000273482473,
          0.5232842800110749,
          -1.3723098190400498,
          -0.7057695398486414,
          0.332218882688542,
          0.0612355899764811,
          0.6998434626043681,
          1.2238485278958968,
          -0.023588204438006112,
          -1.0295786628035937,
          -0.9071492852350115,
          0.4874545774258891
         ]
        },
        {
         "boxpoints": false,
         "line": {
          "width": 1.3
         },
         "marker": {
          "color": "rgba(128, 0, 128, 1.0)"
         },
         "name": "D",
         "orientation": "v",
         "type": "box",
         "y": [
          0.11050283807346196,
          -0.6124519706476302,
          -0.00561315329695152,
          -0.18261862691991845,
          0.41455853153288924,
          -0.9573252294798228,
          0.4156840411424442,
          -0.42541802906630616,
          -0.7906395130066903,
          1.159504221124273,
          -0.8038416619241505,
          0.16270227606158777,
          0.2438330149343708,
          0.48945929261815685,
          -0.7377423679967747,
          -1.5013180272814242,
          -0.643086110853051,
          -0.8612656915115359,
          -0.35851515949006085,
          -1.0003156654011942,
          0.014773346526293222,
          -0.713762377375046,
          0.6368727732731856,
          0.037647868384242465,
          0.10508579589441149,
          -1.1502573728741479,
          1.68870168764999,
          -0.5241742579212024,
          -1.7029651313661043,
          0.18803789128216897,
          -0.11189755001370763,
          1.4856279178531,
          0.9457722185909986,
          -0.8571479221356121,
          0.43856032875207024,
          -0.20769438603808665,
          -1.4498420292908414,
          -0.9651352015610288,
          1.2675464240310226,
          0.480737969028045,
          0.016015135067592324,
          -0.13272468560906403,
          -0.7413674497679424,
          -0.8074776559821747,
          2.366449510073591,
          0.36879685013716024,
          1.852901160330411,
          -1.4056068871461007,
          -1.8343914940514774,
          0.4055089561501989,
          -0.01641516565126167,
          0.56076005092558,
          -1.4279760341826349,
          0.08022771064908127,
          -0.4134028490854769,
          -1.3537498298209454,
          -0.8709997719077641,
          1.4167591925300114,
          -0.9603161056524859,
          0.32210591102733355,
          -0.4623669023363312,
          2.9957917512313936,
          1.0826892840731102,
          0.6974145019740375,
          -1.0850372392841683,
          0.03782675709880494,
          -0.5271667243565479,
          -1.153364461047902,
          -0.41514991419021874,
          -1.3442282083089776,
          -1.1820500090637647,
          1.377094529882286,
          -2.1237777792754655,
          -0.2760040563599227,
          2.2563598302747043,
          -0.5694714715794288,
          0.27349453000384927,
          -1.6268433135512381,
          1.8336785734758279,
          -0.953298534223817,
          2.266810757115749,
          0.6034859938950822,
          -0.8710853636668698,
          0.6993586649335948,
          0.8280448254298782,
          -0.41886578625999427,
          1.65365778438744,
          1.2904717470899971,
          -0.13086895146558986,
          -0.4886000284738405,
          0.5498406201161541,
          -0.9161257933044573,
          0.7174653339539276,
          0.5061810704031973,
          2.5841091186584526,
          -0.9222603526618206,
          -0.5553901503671522,
          1.0519565453843718,
          0.5045188846409153,
          0.024140113407438185
         ]
        }
       ],
       "layout": {
        "legend": {
         "bgcolor": "#F5F6F9",
         "font": {
          "color": "#4D5663"
         }
        },
        "paper_bgcolor": "#F5F6F9",
        "plot_bgcolor": "#F5F6F9",
        "template": {
         "data": {
          "bar": [
           {
            "error_x": {
             "color": "#2a3f5f"
            },
            "error_y": {
             "color": "#2a3f5f"
            },
            "marker": {
             "line": {
              "color": "#E5ECF6",
              "width": 0.5
             }
            },
            "type": "bar"
           }
          ],
          "barpolar": [
           {
            "marker": {
             "line": {
              "color": "#E5ECF6",
              "width": 0.5
             }
            },
            "type": "barpolar"
           }
          ],
          "carpet": [
           {
            "aaxis": {
             "endlinecolor": "#2a3f5f",
             "gridcolor": "white",
             "linecolor": "white",
             "minorgridcolor": "white",
             "startlinecolor": "#2a3f5f"
            },
            "baxis": {
             "endlinecolor": "#2a3f5f",
             "gridcolor": "white",
             "linecolor": "white",
             "minorgridcolor": "white",
             "startlinecolor": "#2a3f5f"
            },
            "type": "carpet"
           }
          ],
          "choropleth": [
           {
            "colorbar": {
             "outlinewidth": 0,
             "ticks": ""
            },
            "type": "choropleth"
           }
          ],
          "contour": [
           {
            "colorbar": {
             "outlinewidth": 0,
             "ticks": ""
            },
            "colorscale": [
             [
              0,
              "#0d0887"
             ],
             [
              0.1111111111111111,
              "#46039f"
             ],
             [
              0.2222222222222222,
              "#7201a8"
             ],
             [
              0.3333333333333333,
              "#9c179e"
             ],
             [
              0.4444444444444444,
              "#bd3786"
             ],
             [
              0.5555555555555556,
              "#d8576b"
             ],
             [
              0.6666666666666666,
              "#ed7953"
             ],
             [
              0.7777777777777778,
              "#fb9f3a"
             ],
             [
              0.8888888888888888,
              "#fdca26"
             ],
             [
              1,
              "#f0f921"
             ]
            ],
            "type": "contour"
           }
          ],
          "contourcarpet": [
           {
            "colorbar": {
             "outlinewidth": 0,
             "ticks": ""
            },
            "type": "contourcarpet"
           }
          ],
          "heatmap": [
           {
            "colorbar": {
             "outlinewidth": 0,
             "ticks": ""
            },
            "colorscale": [
             [
              0,
              "#0d0887"
             ],
             [
              0.1111111111111111,
              "#46039f"
             ],
             [
              0.2222222222222222,
              "#7201a8"
             ],
             [
              0.3333333333333333,
              "#9c179e"
             ],
             [
              0.4444444444444444,
              "#bd3786"
             ],
             [
              0.5555555555555556,
              "#d8576b"
             ],
             [
              0.6666666666666666,
              "#ed7953"
             ],
             [
              0.7777777777777778,
              "#fb9f3a"
             ],
             [
              0.8888888888888888,
              "#fdca26"
             ],
             [
              1,
              "#f0f921"
             ]
            ],
            "type": "heatmap"
           }
          ],
          "heatmapgl": [
           {
            "colorbar": {
             "outlinewidth": 0,
             "ticks": ""
            },
            "colorscale": [
             [
              0,
              "#0d0887"
             ],
             [
              0.1111111111111111,
              "#46039f"
             ],
             [
              0.2222222222222222,
              "#7201a8"
             ],
             [
              0.3333333333333333,
              "#9c179e"
             ],
             [
              0.4444444444444444,
              "#bd3786"
             ],
             [
              0.5555555555555556,
              "#d8576b"
             ],
             [
              0.6666666666666666,
              "#ed7953"
             ],
             [
              0.7777777777777778,
              "#fb9f3a"
             ],
             [
              0.8888888888888888,
              "#fdca26"
             ],
             [
              1,
              "#f0f921"
             ]
            ],
            "type": "heatmapgl"
           }
          ],
          "histogram": [
           {
            "marker": {
             "colorbar": {
              "outlinewidth": 0,
              "ticks": ""
             }
            },
            "type": "histogram"
           }
          ],
          "histogram2d": [
           {
            "colorbar": {
             "outlinewidth": 0,
             "ticks": ""
            },
            "colorscale": [
             [
              0,
              "#0d0887"
             ],
             [
              0.1111111111111111,
              "#46039f"
             ],
             [
              0.2222222222222222,
              "#7201a8"
             ],
             [
              0.3333333333333333,
              "#9c179e"
             ],
             [
              0.4444444444444444,
              "#bd3786"
             ],
             [
              0.5555555555555556,
              "#d8576b"
             ],
             [
              0.6666666666666666,
              "#ed7953"
             ],
             [
              0.7777777777777778,
              "#fb9f3a"
             ],
             [
              0.8888888888888888,
              "#fdca26"
             ],
             [
              1,
              "#f0f921"
             ]
            ],
            "type": "histogram2d"
           }
          ],
          "histogram2dcontour": [
           {
            "colorbar": {
             "outlinewidth": 0,
             "ticks": ""
            },
            "colorscale": [
             [
              0,
              "#0d0887"
             ],
             [
              0.1111111111111111,
              "#46039f"
             ],
             [
              0.2222222222222222,
              "#7201a8"
             ],
             [
              0.3333333333333333,
              "#9c179e"
             ],
             [
              0.4444444444444444,
              "#bd3786"
             ],
             [
              0.5555555555555556,
              "#d8576b"
             ],
             [
              0.6666666666666666,
              "#ed7953"
             ],
             [
              0.7777777777777778,
              "#fb9f3a"
             ],
             [
              0.8888888888888888,
              "#fdca26"
             ],
             [
              1,
              "#f0f921"
             ]
            ],
            "type": "histogram2dcontour"
           }
          ],
          "mesh3d": [
           {
            "colorbar": {
             "outlinewidth": 0,
             "ticks": ""
            },
            "type": "mesh3d"
           }
          ],
          "parcoords": [
           {
            "line": {
             "colorbar": {
              "outlinewidth": 0,
              "ticks": ""
             }
            },
            "type": "parcoords"
           }
          ],
          "pie": [
           {
            "automargin": true,
            "type": "pie"
           }
          ],
          "scatter": [
           {
            "marker": {
             "colorbar": {
              "outlinewidth": 0,
              "ticks": ""
             }
            },
            "type": "scatter"
           }
          ],
          "scatter3d": [
           {
            "line": {
             "colorbar": {
              "outlinewidth": 0,
              "ticks": ""
             }
            },
            "marker": {
             "colorbar": {
              "outlinewidth": 0,
              "ticks": ""
             }
            },
            "type": "scatter3d"
           }
          ],
          "scattercarpet": [
           {
            "marker": {
             "colorbar": {
              "outlinewidth": 0,
              "ticks": ""
             }
            },
            "type": "scattercarpet"
           }
          ],
          "scattergeo": [
           {
            "marker": {
             "colorbar": {
              "outlinewidth": 0,
              "ticks": ""
             }
            },
            "type": "scattergeo"
           }
          ],
          "scattergl": [
           {
            "marker": {
             "colorbar": {
              "outlinewidth": 0,
              "ticks": ""
             }
            },
            "type": "scattergl"
           }
          ],
          "scattermapbox": [
           {
            "marker": {
             "colorbar": {
              "outlinewidth": 0,
              "ticks": ""
             }
            },
            "type": "scattermapbox"
           }
          ],
          "scatterpolar": [
           {
            "marker": {
             "colorbar": {
              "outlinewidth": 0,
              "ticks": ""
             }
            },
            "type": "scatterpolar"
           }
          ],
          "scatterpolargl": [
           {
            "marker": {
             "colorbar": {
              "outlinewidth": 0,
              "ticks": ""
             }
            },
            "type": "scatterpolargl"
           }
          ],
          "scatterternary": [
           {
            "marker": {
             "colorbar": {
              "outlinewidth": 0,
              "ticks": ""
             }
            },
            "type": "scatterternary"
           }
          ],
          "surface": [
           {
            "colorbar": {
             "outlinewidth": 0,
             "ticks": ""
            },
            "colorscale": [
             [
              0,
              "#0d0887"
             ],
             [
              0.1111111111111111,
              "#46039f"
             ],
             [
              0.2222222222222222,
              "#7201a8"
             ],
             [
              0.3333333333333333,
              "#9c179e"
             ],
             [
              0.4444444444444444,
              "#bd3786"
             ],
             [
              0.5555555555555556,
              "#d8576b"
             ],
             [
              0.6666666666666666,
              "#ed7953"
             ],
             [
              0.7777777777777778,
              "#fb9f3a"
             ],
             [
              0.8888888888888888,
              "#fdca26"
             ],
             [
              1,
              "#f0f921"
             ]
            ],
            "type": "surface"
           }
          ],
          "table": [
           {
            "cells": {
             "fill": {
              "color": "#EBF0F8"
             },
             "line": {
              "color": "white"
             }
            },
            "header": {
             "fill": {
              "color": "#C8D4E3"
             },
             "line": {
              "color": "white"
             }
            },
            "type": "table"
           }
          ]
         },
         "layout": {
          "annotationdefaults": {
           "arrowcolor": "#2a3f5f",
           "arrowhead": 0,
           "arrowwidth": 1
          },
          "coloraxis": {
           "colorbar": {
            "outlinewidth": 0,
            "ticks": ""
           }
          },
          "colorscale": {
           "diverging": [
            [
             0,
             "#8e0152"
            ],
            [
             0.1,
             "#c51b7d"
            ],
            [
             0.2,
             "#de77ae"
            ],
            [
             0.3,
             "#f1b6da"
            ],
            [
             0.4,
             "#fde0ef"
            ],
            [
             0.5,
             "#f7f7f7"
            ],
            [
             0.6,
             "#e6f5d0"
            ],
            [
             0.7,
             "#b8e186"
            ],
            [
             0.8,
             "#7fbc41"
            ],
            [
             0.9,
             "#4d9221"
            ],
            [
             1,
             "#276419"
            ]
           ],
           "sequential": [
            [
             0,
             "#0d0887"
            ],
            [
             0.1111111111111111,
             "#46039f"
            ],
            [
             0.2222222222222222,
             "#7201a8"
            ],
            [
             0.3333333333333333,
             "#9c179e"
            ],
            [
             0.4444444444444444,
             "#bd3786"
            ],
            [
             0.5555555555555556,
             "#d8576b"
            ],
            [
             0.6666666666666666,
             "#ed7953"
            ],
            [
             0.7777777777777778,
             "#fb9f3a"
            ],
            [
             0.8888888888888888,
             "#fdca26"
            ],
            [
             1,
             "#f0f921"
            ]
           ],
           "sequentialminus": [
            [
             0,
             "#0d0887"
            ],
            [
             0.1111111111111111,
             "#46039f"
            ],
            [
             0.2222222222222222,
             "#7201a8"
            ],
            [
             0.3333333333333333,
             "#9c179e"
            ],
            [
             0.4444444444444444,
             "#bd3786"
            ],
            [
             0.5555555555555556,
             "#d8576b"
            ],
            [
             0.6666666666666666,
             "#ed7953"
            ],
            [
             0.7777777777777778,
             "#fb9f3a"
            ],
            [
             0.8888888888888888,
             "#fdca26"
            ],
            [
             1,
             "#f0f921"
            ]
           ]
          },
          "colorway": [
           "#636efa",
           "#EF553B",
           "#00cc96",
           "#ab63fa",
           "#FFA15A",
           "#19d3f3",
           "#FF6692",
           "#B6E880",
           "#FF97FF",
           "#FECB52"
          ],
          "font": {
           "color": "#2a3f5f"
          },
          "geo": {
           "bgcolor": "white",
           "lakecolor": "white",
           "landcolor": "#E5ECF6",
           "showlakes": true,
           "showland": true,
           "subunitcolor": "white"
          },
          "hoverlabel": {
           "align": "left"
          },
          "hovermode": "closest",
          "mapbox": {
           "style": "light"
          },
          "paper_bgcolor": "white",
          "plot_bgcolor": "#E5ECF6",
          "polar": {
           "angularaxis": {
            "gridcolor": "white",
            "linecolor": "white",
            "ticks": ""
           },
           "bgcolor": "#E5ECF6",
           "radialaxis": {
            "gridcolor": "white",
            "linecolor": "white",
            "ticks": ""
           }
          },
          "scene": {
           "xaxis": {
            "backgroundcolor": "#E5ECF6",
            "gridcolor": "white",
            "gridwidth": 2,
            "linecolor": "white",
            "showbackground": true,
            "ticks": "",
            "zerolinecolor": "white"
           },
           "yaxis": {
            "backgroundcolor": "#E5ECF6",
            "gridcolor": "white",
            "gridwidth": 2,
            "linecolor": "white",
            "showbackground": true,
            "ticks": "",
            "zerolinecolor": "white"
           },
           "zaxis": {
            "backgroundcolor": "#E5ECF6",
            "gridcolor": "white",
            "gridwidth": 2,
            "linecolor": "white",
            "showbackground": true,
            "ticks": "",
            "zerolinecolor": "white"
           }
          },
          "shapedefaults": {
           "line": {
            "color": "#2a3f5f"
           }
          },
          "ternary": {
           "aaxis": {
            "gridcolor": "white",
            "linecolor": "white",
            "ticks": ""
           },
           "baxis": {
            "gridcolor": "white",
            "linecolor": "white",
            "ticks": ""
           },
           "bgcolor": "#E5ECF6",
           "caxis": {
            "gridcolor": "white",
            "linecolor": "white",
            "ticks": ""
           }
          },
          "title": {
           "x": 0.05
          },
          "xaxis": {
           "automargin": true,
           "gridcolor": "white",
           "linecolor": "white",
           "ticks": "",
           "title": {
            "standoff": 15
           },
           "zerolinecolor": "white",
           "zerolinewidth": 2
          },
          "yaxis": {
           "automargin": true,
           "gridcolor": "white",
           "linecolor": "white",
           "ticks": "",
           "title": {
            "standoff": 15
           },
           "zerolinecolor": "white",
           "zerolinewidth": 2
          }
         }
        },
        "title": {
         "font": {
          "color": "#4D5663"
         }
        },
        "xaxis": {
         "gridcolor": "#E1E5ED",
         "showgrid": true,
         "tickfont": {
          "color": "#4D5663"
         },
         "title": {
          "font": {
           "color": "#4D5663"
          },
          "text": ""
         },
         "zerolinecolor": "#E1E5ED"
        },
        "yaxis": {
         "gridcolor": "#E1E5ED",
         "showgrid": true,
         "tickfont": {
          "color": "#4D5663"
         },
         "title": {
          "font": {
           "color": "#4D5663"
          },
          "text": ""
         },
         "zerolinecolor": "#E1E5ED"
        }
       }
      },
      "text/html": [
       "<div>\n",
       "        \n",
       "        \n",
       "            <div id=\"7ea207f3-1e2f-4d82-a092-6cdaf4801fcb\" class=\"plotly-graph-div\" style=\"height:525px; width:100%;\"></div>\n",
       "            <script type=\"text/javascript\">\n",
       "                require([\"plotly\"], function(Plotly) {\n",
       "                    window.PLOTLYENV=window.PLOTLYENV || {};\n",
       "                    window.PLOTLYENV.BASE_URL='https://plot.ly';\n",
       "                    \n",
       "                if (document.getElementById(\"7ea207f3-1e2f-4d82-a092-6cdaf4801fcb\")) {\n",
       "                    Plotly.newPlot(\n",
       "                        '7ea207f3-1e2f-4d82-a092-6cdaf4801fcb',\n",
       "                        [{\"boxpoints\": false, \"line\": {\"width\": 1.3}, \"marker\": {\"color\": \"rgba(255, 153, 51, 1.0)\"}, \"name\": \"A\", \"orientation\": \"v\", \"type\": \"box\", \"y\": [-3.0891690814370802, -0.15093812636863455, 0.13226757129359545, -0.9436480441721036, 1.0939150837805443, 2.233999101663424, -1.408821280745671, 0.6644399525912178, -1.6692209129812499, -0.5781750330564617, 0.3259479485936982, 0.35337291909405744, -0.9355951333970114, 1.3993657665589674, -0.7264432065839201, 1.2706747152305884, 0.08987776345309252, -0.8739620333814003, 0.45305462405840774, 2.077131993710634, -0.6497997380408793, 0.10363703694124451, 0.3685517032749556, -1.660889834320239, 0.22748720155204724, -0.17608486595685274, 1.9508324776532389, -0.948824710656382, 0.24637108641800815, -0.17990593133279728, -0.5755789986094119, -0.22662134604804202, -0.8538680787755056, 0.013849875503001482, 0.32597581297179595, -0.8570921503818173, 1.1028656743252894, 0.5423182366845734, -0.5223174727704796, 0.8231902161617701, 0.7082832668864215, -2.3610760141909157, 0.2248092690337905, -0.36923956224707316, 0.47222005942496675, 1.1822084221798006, -0.7039689666073455, -1.6448332982778755, -0.7701095141840978, 1.563570590474163, -1.012153140899084, 0.23841585632035256, -0.10407886028953234, -1.5621766835347606, 2.287473672845577, -1.6895900849694523, 0.523563807588396, -0.2458264678003052, -0.4110176453047839, 0.05109260418553095, 1.124657961564242, 0.039085117909342014, 0.07476390135402051, -1.6844573466745725, 0.012687342579481247, -0.8125959503982871, 0.5429420065790311, 1.1584453916061306, 0.2913230192637508, -0.5259598537222732, -0.40300408177855257, -0.3231243016908354, 1.1195392948215908, 1.1177784724135182, -0.2934667283084928, 0.44485367348780974, 0.31945308725082366, -0.035216205859157454, 0.5326000062572194, -0.23700601438944363, -2.125131809986599, 1.9665838565142724, -0.10621838516393992, -1.5297894140868404, 1.1923521839899056, 0.42434109188195157, -0.5928653108372631, 0.5444827992464166, 1.908321054359214, 0.9201338704472097, -0.37017190530359384, -0.1287567243335507, 0.5198475796450365, -1.0026106354082849, -0.5048666794652888, -2.2145820644230936, 1.223006137776256, 0.7997705039572335, -1.2287365551191047, -0.33203915961161806]}, {\"boxpoints\": false, \"line\": {\"width\": 1.3}, \"marker\": {\"color\": \"rgba(55, 128, 191, 1.0)\"}, \"name\": \"B\", \"orientation\": \"v\", \"type\": \"box\", \"y\": [-0.6497331758939314, 0.28793182818506585, -0.6406546473476662, 0.44288871491097204, -0.05516775452979829, 0.24357440760663784, 0.19862804394467937, 0.017871486326105964, 0.9419586907313144, -0.5922269136030222, 0.4632576220139533, -1.02180267541963, 0.009211380888768295, -1.452374979601723, 0.6076363939370528, 1.1372970733571235, 0.8216723348917082, 0.5156034911723388, -0.8402491636980118, 0.5738466498177162, 0.4230814437763436, -0.2618550866393429, -1.4581184044032003, 1.186524523218494, 0.16490060860000813, 0.745770744854132, -0.6610696189050297, 1.3500768352975112, 1.1987687800465134, 2.3096028492876384, 0.5457531625457045, -1.8574236349528406, -1.18998017247201, 1.5181164047083455, 0.14452515865031162, 0.6790308519434948, 0.7527245917195355, -0.5019644786553503, -0.3098563757594705, -1.6270825975794787, -1.1153274885862796, 0.0698844178409464, -0.13836448145307176, 0.2977336458815172, -1.7761185605661562, -1.193535811393635, 0.6582749459954654, 0.11742272648375549, -0.43788297088276346, -1.245679984165115, -0.4235286643493187, 0.02211086881471649, -1.4213475477328146, -1.547286954040525, -2.418368303116361, -2.5416510859474353, -0.20012910611234505, 0.2207315892413318, 0.9806114155971659, -0.4514072244754144, 0.237972413598495, 1.6661274988172907, 0.0008207307891878887, 1.5532407406951003, 0.05639598449363403, -2.2076194668262348, -1.2757423993728216, -0.7671078846184362, -0.44014447187790706, -0.09534239410143637, 0.23862260010165232, 1.5184905362081385, 0.25022791644971093, 0.13193641305590578, 0.45377837338234756, -0.3976932257246214, 0.9490242186260665, -1.3896518058840215, 0.20243155758583042, -2.764972097819883, -0.4773196328772329, -0.9363311324586043, 1.3802374486808353, 0.4431852775753563, -1.1880902100557515, 0.09022540025355277, 0.30188535198005945, -0.5745808656083056, -1.3838746723031254, -1.5336549625779974, -0.4152479223898434, -1.082669504325524, 1.6255905021979637, -0.17810907004411655, 0.14241206049340105, -1.0202946103547477, 0.7833004639524571, -0.06931778148223472, -1.1869108938985733, -2.033802148596967]}, {\"boxpoints\": false, \"line\": {\"width\": 1.3}, \"marker\": {\"color\": \"rgba(50, 171, 96, 1.0)\"}, \"name\": \"C\", \"orientation\": \"v\", \"type\": \"box\", \"y\": [0.9619864109999505, 0.013861433124429024, -1.080802469415181, 0.48394736756975465, 0.5120455320718367, -0.07461927759886754, -1.7116495686300837, -0.7941224015842213, -0.359982515449631, 2.6745291203697064, 0.6625547804469379, 0.5543288624679773, 1.1228832734953376, -1.2822038585448226, -0.2028591814433585, -0.4585655584372579, 1.530143430213587, 1.0235453829774301, 1.0657320351516428, -0.245555618283886, -0.48372789991790716, -0.8924145655354128, 0.8975670741950776, 1.403164132195382, 0.9439061819923983, 3.322002335024259, -1.1917255310677242, 1.091491906789954, -0.3090403016788589, -0.1821533835253619, 1.6000615513425562, 0.5834606969058104, 2.0605042011016717, 2.1430312958731497, 1.435862401885988, 0.38330105195076053, 0.5299620273942501, -1.1011927744095378, -0.4560719189166262, 1.3187435732055468, -0.6262044047356647, 0.7759933962752779, 0.14898495093892095, 0.17276867432275977, -0.5734086258180138, -0.46059040736721557, -0.4820270970689329, 0.42454817310839793, 0.31678870805642284, 2.226580343415447, -2.100178939821205, -0.6777191227343066, -0.07593291355797825, -0.29078936781913733, -0.1479278877933601, -0.5337128733236507, -1.0884208272743663, -0.17689088266606753, 0.6443317772577273, -1.081747000816026, -0.6797158400543877, 1.3592817961076138, -0.97400826809905, 0.8000777057336252, -0.3391473095647177, -0.33020829329881907, -0.07473964326480681, -1.3164933774734262, 0.8479769033662022, 0.08885550585322498, 0.15289914397809903, 0.6595739702774656, 0.22037688269560846, -0.13957798528689355, 0.05885903363046422, 0.6555514628496011, 1.5344164506794673, -0.1054607191728966, -0.5532004116851079, -1.3918707742871401, -1.134772579008437, 0.7504308512256543, -0.22493595896064514, 0.07560723155093399, 0.45091299097546106, -0.35330262350828423, 0.4937702034710105, 1.1911471751155656, -2.1749000273482473, 0.5232842800110749, -1.3723098190400498, -0.7057695398486414, 0.332218882688542, 0.0612355899764811, 0.6998434626043681, 1.2238485278958968, -0.023588204438006112, -1.0295786628035937, -0.9071492852350115, 0.4874545774258891]}, {\"boxpoints\": false, \"line\": {\"width\": 1.3}, \"marker\": {\"color\": \"rgba(128, 0, 128, 1.0)\"}, \"name\": \"D\", \"orientation\": \"v\", \"type\": \"box\", \"y\": [0.11050283807346196, -0.6124519706476302, -0.00561315329695152, -0.18261862691991845, 0.41455853153288924, -0.9573252294798228, 0.4156840411424442, -0.42541802906630616, -0.7906395130066903, 1.159504221124273, -0.8038416619241505, 0.16270227606158777, 0.2438330149343708, 0.48945929261815685, -0.7377423679967747, -1.5013180272814242, -0.643086110853051, -0.8612656915115359, -0.35851515949006085, -1.0003156654011942, 0.014773346526293222, -0.713762377375046, 0.6368727732731856, 0.037647868384242465, 0.10508579589441149, -1.1502573728741479, 1.68870168764999, -0.5241742579212024, -1.7029651313661043, 0.18803789128216897, -0.11189755001370763, 1.4856279178531, 0.9457722185909986, -0.8571479221356121, 0.43856032875207024, -0.20769438603808665, -1.4498420292908414, -0.9651352015610288, 1.2675464240310226, 0.480737969028045, 0.016015135067592324, -0.13272468560906403, -0.7413674497679424, -0.8074776559821747, 2.366449510073591, 0.36879685013716024, 1.852901160330411, -1.4056068871461007, -1.8343914940514774, 0.4055089561501989, -0.01641516565126167, 0.56076005092558, -1.4279760341826349, 0.08022771064908127, -0.4134028490854769, -1.3537498298209454, -0.8709997719077641, 1.4167591925300114, -0.9603161056524859, 0.32210591102733355, -0.4623669023363312, 2.9957917512313936, 1.0826892840731102, 0.6974145019740375, -1.0850372392841683, 0.03782675709880494, -0.5271667243565479, -1.153364461047902, -0.41514991419021874, -1.3442282083089776, -1.1820500090637647, 1.377094529882286, -2.1237777792754655, -0.2760040563599227, 2.2563598302747043, -0.5694714715794288, 0.27349453000384927, -1.6268433135512381, 1.8336785734758279, -0.953298534223817, 2.266810757115749, 0.6034859938950822, -0.8710853636668698, 0.6993586649335948, 0.8280448254298782, -0.41886578625999427, 1.65365778438744, 1.2904717470899971, -0.13086895146558986, -0.4886000284738405, 0.5498406201161541, -0.9161257933044573, 0.7174653339539276, 0.5061810704031973, 2.5841091186584526, -0.9222603526618206, -0.5553901503671522, 1.0519565453843718, 0.5045188846409153, 0.024140113407438185]}],\n",
       "                        {\"legend\": {\"bgcolor\": \"#F5F6F9\", \"font\": {\"color\": \"#4D5663\"}}, \"paper_bgcolor\": \"#F5F6F9\", \"plot_bgcolor\": \"#F5F6F9\", \"template\": {\"data\": {\"bar\": [{\"error_x\": {\"color\": \"#2a3f5f\"}, \"error_y\": {\"color\": \"#2a3f5f\"}, \"marker\": {\"line\": {\"color\": \"#E5ECF6\", \"width\": 0.5}}, \"type\": \"bar\"}], \"barpolar\": [{\"marker\": {\"line\": {\"color\": \"#E5ECF6\", \"width\": 0.5}}, \"type\": \"barpolar\"}], \"carpet\": [{\"aaxis\": {\"endlinecolor\": \"#2a3f5f\", \"gridcolor\": \"white\", \"linecolor\": \"white\", \"minorgridcolor\": \"white\", \"startlinecolor\": \"#2a3f5f\"}, \"baxis\": {\"endlinecolor\": \"#2a3f5f\", \"gridcolor\": \"white\", \"linecolor\": \"white\", \"minorgridcolor\": \"white\", \"startlinecolor\": \"#2a3f5f\"}, \"type\": \"carpet\"}], \"choropleth\": [{\"colorbar\": {\"outlinewidth\": 0, \"ticks\": \"\"}, \"type\": \"choropleth\"}], \"contour\": [{\"colorbar\": {\"outlinewidth\": 0, \"ticks\": \"\"}, \"colorscale\": [[0.0, \"#0d0887\"], [0.1111111111111111, \"#46039f\"], [0.2222222222222222, \"#7201a8\"], [0.3333333333333333, \"#9c179e\"], [0.4444444444444444, \"#bd3786\"], [0.5555555555555556, \"#d8576b\"], [0.6666666666666666, \"#ed7953\"], [0.7777777777777778, \"#fb9f3a\"], [0.8888888888888888, \"#fdca26\"], [1.0, \"#f0f921\"]], \"type\": \"contour\"}], \"contourcarpet\": [{\"colorbar\": {\"outlinewidth\": 0, \"ticks\": \"\"}, \"type\": \"contourcarpet\"}], \"heatmap\": [{\"colorbar\": {\"outlinewidth\": 0, \"ticks\": \"\"}, \"colorscale\": [[0.0, \"#0d0887\"], [0.1111111111111111, \"#46039f\"], [0.2222222222222222, \"#7201a8\"], [0.3333333333333333, \"#9c179e\"], [0.4444444444444444, \"#bd3786\"], [0.5555555555555556, \"#d8576b\"], [0.6666666666666666, \"#ed7953\"], [0.7777777777777778, \"#fb9f3a\"], [0.8888888888888888, \"#fdca26\"], [1.0, \"#f0f921\"]], \"type\": \"heatmap\"}], \"heatmapgl\": [{\"colorbar\": {\"outlinewidth\": 0, \"ticks\": \"\"}, \"colorscale\": [[0.0, \"#0d0887\"], [0.1111111111111111, \"#46039f\"], [0.2222222222222222, \"#7201a8\"], [0.3333333333333333, \"#9c179e\"], [0.4444444444444444, \"#bd3786\"], [0.5555555555555556, \"#d8576b\"], [0.6666666666666666, \"#ed7953\"], [0.7777777777777778, \"#fb9f3a\"], [0.8888888888888888, \"#fdca26\"], [1.0, \"#f0f921\"]], \"type\": \"heatmapgl\"}], \"histogram\": [{\"marker\": {\"colorbar\": {\"outlinewidth\": 0, \"ticks\": \"\"}}, \"type\": \"histogram\"}], \"histogram2d\": [{\"colorbar\": {\"outlinewidth\": 0, \"ticks\": \"\"}, \"colorscale\": [[0.0, \"#0d0887\"], [0.1111111111111111, \"#46039f\"], [0.2222222222222222, \"#7201a8\"], [0.3333333333333333, \"#9c179e\"], [0.4444444444444444, \"#bd3786\"], [0.5555555555555556, \"#d8576b\"], [0.6666666666666666, \"#ed7953\"], [0.7777777777777778, \"#fb9f3a\"], [0.8888888888888888, \"#fdca26\"], [1.0, \"#f0f921\"]], \"type\": \"histogram2d\"}], \"histogram2dcontour\": [{\"colorbar\": {\"outlinewidth\": 0, \"ticks\": \"\"}, \"colorscale\": [[0.0, \"#0d0887\"], [0.1111111111111111, \"#46039f\"], [0.2222222222222222, \"#7201a8\"], [0.3333333333333333, \"#9c179e\"], [0.4444444444444444, \"#bd3786\"], [0.5555555555555556, \"#d8576b\"], [0.6666666666666666, \"#ed7953\"], [0.7777777777777778, \"#fb9f3a\"], [0.8888888888888888, \"#fdca26\"], [1.0, \"#f0f921\"]], \"type\": \"histogram2dcontour\"}], \"mesh3d\": [{\"colorbar\": {\"outlinewidth\": 0, \"ticks\": \"\"}, \"type\": \"mesh3d\"}], \"parcoords\": [{\"line\": {\"colorbar\": {\"outlinewidth\": 0, \"ticks\": \"\"}}, \"type\": \"parcoords\"}], \"pie\": [{\"automargin\": true, \"type\": \"pie\"}], \"scatter\": [{\"marker\": {\"colorbar\": {\"outlinewidth\": 0, \"ticks\": \"\"}}, \"type\": \"scatter\"}], \"scatter3d\": [{\"line\": {\"colorbar\": {\"outlinewidth\": 0, \"ticks\": \"\"}}, \"marker\": {\"colorbar\": {\"outlinewidth\": 0, \"ticks\": \"\"}}, \"type\": \"scatter3d\"}], \"scattercarpet\": [{\"marker\": {\"colorbar\": {\"outlinewidth\": 0, \"ticks\": \"\"}}, \"type\": \"scattercarpet\"}], \"scattergeo\": [{\"marker\": {\"colorbar\": {\"outlinewidth\": 0, \"ticks\": \"\"}}, \"type\": \"scattergeo\"}], \"scattergl\": [{\"marker\": {\"colorbar\": {\"outlinewidth\": 0, \"ticks\": \"\"}}, \"type\": \"scattergl\"}], \"scattermapbox\": [{\"marker\": {\"colorbar\": {\"outlinewidth\": 0, \"ticks\": \"\"}}, \"type\": \"scattermapbox\"}], \"scatterpolar\": [{\"marker\": {\"colorbar\": {\"outlinewidth\": 0, \"ticks\": \"\"}}, \"type\": \"scatterpolar\"}], \"scatterpolargl\": [{\"marker\": {\"colorbar\": {\"outlinewidth\": 0, \"ticks\": \"\"}}, \"type\": \"scatterpolargl\"}], \"scatterternary\": [{\"marker\": {\"colorbar\": {\"outlinewidth\": 0, \"ticks\": \"\"}}, \"type\": \"scatterternary\"}], \"surface\": [{\"colorbar\": {\"outlinewidth\": 0, \"ticks\": \"\"}, \"colorscale\": [[0.0, \"#0d0887\"], [0.1111111111111111, \"#46039f\"], [0.2222222222222222, \"#7201a8\"], [0.3333333333333333, \"#9c179e\"], [0.4444444444444444, \"#bd3786\"], [0.5555555555555556, \"#d8576b\"], [0.6666666666666666, \"#ed7953\"], [0.7777777777777778, \"#fb9f3a\"], [0.8888888888888888, \"#fdca26\"], [1.0, \"#f0f921\"]], \"type\": \"surface\"}], \"table\": [{\"cells\": {\"fill\": {\"color\": \"#EBF0F8\"}, \"line\": {\"color\": \"white\"}}, \"header\": {\"fill\": {\"color\": \"#C8D4E3\"}, \"line\": {\"color\": \"white\"}}, \"type\": \"table\"}]}, \"layout\": {\"annotationdefaults\": {\"arrowcolor\": \"#2a3f5f\", \"arrowhead\": 0, \"arrowwidth\": 1}, \"coloraxis\": {\"colorbar\": {\"outlinewidth\": 0, \"ticks\": \"\"}}, \"colorscale\": {\"diverging\": [[0, \"#8e0152\"], [0.1, \"#c51b7d\"], [0.2, \"#de77ae\"], [0.3, \"#f1b6da\"], [0.4, \"#fde0ef\"], [0.5, \"#f7f7f7\"], [0.6, \"#e6f5d0\"], [0.7, \"#b8e186\"], [0.8, \"#7fbc41\"], [0.9, \"#4d9221\"], [1, \"#276419\"]], \"sequential\": [[0.0, \"#0d0887\"], [0.1111111111111111, \"#46039f\"], [0.2222222222222222, \"#7201a8\"], [0.3333333333333333, \"#9c179e\"], [0.4444444444444444, \"#bd3786\"], [0.5555555555555556, \"#d8576b\"], [0.6666666666666666, \"#ed7953\"], [0.7777777777777778, \"#fb9f3a\"], [0.8888888888888888, \"#fdca26\"], [1.0, \"#f0f921\"]], \"sequentialminus\": [[0.0, \"#0d0887\"], [0.1111111111111111, \"#46039f\"], [0.2222222222222222, \"#7201a8\"], [0.3333333333333333, \"#9c179e\"], [0.4444444444444444, \"#bd3786\"], [0.5555555555555556, \"#d8576b\"], [0.6666666666666666, \"#ed7953\"], [0.7777777777777778, \"#fb9f3a\"], [0.8888888888888888, \"#fdca26\"], [1.0, \"#f0f921\"]]}, \"colorway\": [\"#636efa\", \"#EF553B\", \"#00cc96\", \"#ab63fa\", \"#FFA15A\", \"#19d3f3\", \"#FF6692\", \"#B6E880\", \"#FF97FF\", \"#FECB52\"], \"font\": {\"color\": \"#2a3f5f\"}, \"geo\": {\"bgcolor\": \"white\", \"lakecolor\": \"white\", \"landcolor\": \"#E5ECF6\", \"showlakes\": true, \"showland\": true, \"subunitcolor\": \"white\"}, \"hoverlabel\": {\"align\": \"left\"}, \"hovermode\": \"closest\", \"mapbox\": {\"style\": \"light\"}, \"paper_bgcolor\": \"white\", \"plot_bgcolor\": \"#E5ECF6\", \"polar\": {\"angularaxis\": {\"gridcolor\": \"white\", \"linecolor\": \"white\", \"ticks\": \"\"}, \"bgcolor\": \"#E5ECF6\", \"radialaxis\": {\"gridcolor\": \"white\", \"linecolor\": \"white\", \"ticks\": \"\"}}, \"scene\": {\"xaxis\": {\"backgroundcolor\": \"#E5ECF6\", \"gridcolor\": \"white\", \"gridwidth\": 2, \"linecolor\": \"white\", \"showbackground\": true, \"ticks\": \"\", \"zerolinecolor\": \"white\"}, \"yaxis\": {\"backgroundcolor\": \"#E5ECF6\", \"gridcolor\": \"white\", \"gridwidth\": 2, \"linecolor\": \"white\", \"showbackground\": true, \"ticks\": \"\", \"zerolinecolor\": \"white\"}, \"zaxis\": {\"backgroundcolor\": \"#E5ECF6\", \"gridcolor\": \"white\", \"gridwidth\": 2, \"linecolor\": \"white\", \"showbackground\": true, \"ticks\": \"\", \"zerolinecolor\": \"white\"}}, \"shapedefaults\": {\"line\": {\"color\": \"#2a3f5f\"}}, \"ternary\": {\"aaxis\": {\"gridcolor\": \"white\", \"linecolor\": \"white\", \"ticks\": \"\"}, \"baxis\": {\"gridcolor\": \"white\", \"linecolor\": \"white\", \"ticks\": \"\"}, \"bgcolor\": \"#E5ECF6\", \"caxis\": {\"gridcolor\": \"white\", \"linecolor\": \"white\", \"ticks\": \"\"}}, \"title\": {\"x\": 0.05}, \"xaxis\": {\"automargin\": true, \"gridcolor\": \"white\", \"linecolor\": \"white\", \"ticks\": \"\", \"title\": {\"standoff\": 15}, \"zerolinecolor\": \"white\", \"zerolinewidth\": 2}, \"yaxis\": {\"automargin\": true, \"gridcolor\": \"white\", \"linecolor\": \"white\", \"ticks\": \"\", \"title\": {\"standoff\": 15}, \"zerolinecolor\": \"white\", \"zerolinewidth\": 2}}}, \"title\": {\"font\": {\"color\": \"#4D5663\"}}, \"xaxis\": {\"gridcolor\": \"#E1E5ED\", \"showgrid\": true, \"tickfont\": {\"color\": \"#4D5663\"}, \"title\": {\"font\": {\"color\": \"#4D5663\"}, \"text\": \"\"}, \"zerolinecolor\": \"#E1E5ED\"}, \"yaxis\": {\"gridcolor\": \"#E1E5ED\", \"showgrid\": true, \"tickfont\": {\"color\": \"#4D5663\"}, \"title\": {\"font\": {\"color\": \"#4D5663\"}, \"text\": \"\"}, \"zerolinecolor\": \"#E1E5ED\"}},\n",
       "                        {\"showLink\": true, \"linkText\": \"Export to plot.ly\", \"plotlyServerURL\": \"https://plot.ly\", \"responsive\": true}\n",
       "                    ).then(function(){\n",
       "                            \n",
       "var gd = document.getElementById('7ea207f3-1e2f-4d82-a092-6cdaf4801fcb');\n",
       "var x = new MutationObserver(function (mutations, observer) {{\n",
       "        var display = window.getComputedStyle(gd).display;\n",
       "        if (!display || display === 'none') {{\n",
       "            console.log([gd, 'removed!']);\n",
       "            Plotly.purge(gd);\n",
       "            observer.disconnect();\n",
       "        }}\n",
       "}});\n",
       "\n",
       "// Listen for the removal of the full notebook cells\n",
       "var notebookContainer = gd.closest('#notebook-container');\n",
       "if (notebookContainer) {{\n",
       "    x.observe(notebookContainer, {childList: true});\n",
       "}}\n",
       "\n",
       "// Listen for the clearing of the current output cell\n",
       "var outputEl = gd.closest('.output');\n",
       "if (outputEl) {{\n",
       "    x.observe(outputEl, {childList: true});\n",
       "}}\n",
       "\n",
       "                        })\n",
       "                };\n",
       "                });\n",
       "            </script>\n",
       "        </div>"
      ]
     },
     "metadata": {},
     "output_type": "display_data"
    }
   ],
   "source": [
    "df.iplot(kind='box')"
   ]
  },
  {
   "cell_type": "markdown",
   "metadata": {},
   "source": [
    "## 3d Surface"
   ]
  },
  {
   "cell_type": "code",
   "execution_count": 14,
   "metadata": {},
   "outputs": [
    {
     "data": {
      "application/vnd.plotly.v1+json": {
       "config": {
        "linkText": "Export to plot.ly",
        "plotlyServerURL": "https://plot.ly",
        "showLink": true
       },
       "data": [
        {
         "colorscale": [
          [
           0,
           "rgb(165,0,38)"
          ],
          [
           0.1,
           "rgb(215,48,39)"
          ],
          [
           0.2,
           "rgb(244,109,67)"
          ],
          [
           0.3,
           "rgb(253,174,97)"
          ],
          [
           0.4,
           "rgb(254,224,144)"
          ],
          [
           0.5,
           "rgb(255,255,191)"
          ],
          [
           0.6,
           "rgb(224,243,248)"
          ],
          [
           0.7,
           "rgb(171,217,233)"
          ],
          [
           0.8,
           "rgb(116,173,209)"
          ],
          [
           0.9,
           "rgb(69,117,180)"
          ],
          [
           1,
           "rgb(49,54,149)"
          ]
         ],
         "type": "surface",
         "x": [
          0,
          1,
          2,
          3,
          4
         ],
         "y": [
          "x",
          "y",
          "z"
         ],
         "z": [
          [
           1,
           2,
           3,
           4,
           5
          ],
          [
           10,
           20,
           30,
           20,
           10
          ],
          [
           5,
           4,
           3,
           2,
           1
          ]
         ]
        }
       ],
       "layout": {
        "legend": {
         "bgcolor": "#F5F6F9",
         "font": {
          "color": "#4D5663"
         }
        },
        "paper_bgcolor": "#F5F6F9",
        "plot_bgcolor": "#F5F6F9",
        "template": {
         "data": {
          "bar": [
           {
            "error_x": {
             "color": "#2a3f5f"
            },
            "error_y": {
             "color": "#2a3f5f"
            },
            "marker": {
             "line": {
              "color": "#E5ECF6",
              "width": 0.5
             }
            },
            "type": "bar"
           }
          ],
          "barpolar": [
           {
            "marker": {
             "line": {
              "color": "#E5ECF6",
              "width": 0.5
             }
            },
            "type": "barpolar"
           }
          ],
          "carpet": [
           {
            "aaxis": {
             "endlinecolor": "#2a3f5f",
             "gridcolor": "white",
             "linecolor": "white",
             "minorgridcolor": "white",
             "startlinecolor": "#2a3f5f"
            },
            "baxis": {
             "endlinecolor": "#2a3f5f",
             "gridcolor": "white",
             "linecolor": "white",
             "minorgridcolor": "white",
             "startlinecolor": "#2a3f5f"
            },
            "type": "carpet"
           }
          ],
          "choropleth": [
           {
            "colorbar": {
             "outlinewidth": 0,
             "ticks": ""
            },
            "type": "choropleth"
           }
          ],
          "contour": [
           {
            "colorbar": {
             "outlinewidth": 0,
             "ticks": ""
            },
            "colorscale": [
             [
              0,
              "#0d0887"
             ],
             [
              0.1111111111111111,
              "#46039f"
             ],
             [
              0.2222222222222222,
              "#7201a8"
             ],
             [
              0.3333333333333333,
              "#9c179e"
             ],
             [
              0.4444444444444444,
              "#bd3786"
             ],
             [
              0.5555555555555556,
              "#d8576b"
             ],
             [
              0.6666666666666666,
              "#ed7953"
             ],
             [
              0.7777777777777778,
              "#fb9f3a"
             ],
             [
              0.8888888888888888,
              "#fdca26"
             ],
             [
              1,
              "#f0f921"
             ]
            ],
            "type": "contour"
           }
          ],
          "contourcarpet": [
           {
            "colorbar": {
             "outlinewidth": 0,
             "ticks": ""
            },
            "type": "contourcarpet"
           }
          ],
          "heatmap": [
           {
            "colorbar": {
             "outlinewidth": 0,
             "ticks": ""
            },
            "colorscale": [
             [
              0,
              "#0d0887"
             ],
             [
              0.1111111111111111,
              "#46039f"
             ],
             [
              0.2222222222222222,
              "#7201a8"
             ],
             [
              0.3333333333333333,
              "#9c179e"
             ],
             [
              0.4444444444444444,
              "#bd3786"
             ],
             [
              0.5555555555555556,
              "#d8576b"
             ],
             [
              0.6666666666666666,
              "#ed7953"
             ],
             [
              0.7777777777777778,
              "#fb9f3a"
             ],
             [
              0.8888888888888888,
              "#fdca26"
             ],
             [
              1,
              "#f0f921"
             ]
            ],
            "type": "heatmap"
           }
          ],
          "heatmapgl": [
           {
            "colorbar": {
             "outlinewidth": 0,
             "ticks": ""
            },
            "colorscale": [
             [
              0,
              "#0d0887"
             ],
             [
              0.1111111111111111,
              "#46039f"
             ],
             [
              0.2222222222222222,
              "#7201a8"
             ],
             [
              0.3333333333333333,
              "#9c179e"
             ],
             [
              0.4444444444444444,
              "#bd3786"
             ],
             [
              0.5555555555555556,
              "#d8576b"
             ],
             [
              0.6666666666666666,
              "#ed7953"
             ],
             [
              0.7777777777777778,
              "#fb9f3a"
             ],
             [
              0.8888888888888888,
              "#fdca26"
             ],
             [
              1,
              "#f0f921"
             ]
            ],
            "type": "heatmapgl"
           }
          ],
          "histogram": [
           {
            "marker": {
             "colorbar": {
              "outlinewidth": 0,
              "ticks": ""
             }
            },
            "type": "histogram"
           }
          ],
          "histogram2d": [
           {
            "colorbar": {
             "outlinewidth": 0,
             "ticks": ""
            },
            "colorscale": [
             [
              0,
              "#0d0887"
             ],
             [
              0.1111111111111111,
              "#46039f"
             ],
             [
              0.2222222222222222,
              "#7201a8"
             ],
             [
              0.3333333333333333,
              "#9c179e"
             ],
             [
              0.4444444444444444,
              "#bd3786"
             ],
             [
              0.5555555555555556,
              "#d8576b"
             ],
             [
              0.6666666666666666,
              "#ed7953"
             ],
             [
              0.7777777777777778,
              "#fb9f3a"
             ],
             [
              0.8888888888888888,
              "#fdca26"
             ],
             [
              1,
              "#f0f921"
             ]
            ],
            "type": "histogram2d"
           }
          ],
          "histogram2dcontour": [
           {
            "colorbar": {
             "outlinewidth": 0,
             "ticks": ""
            },
            "colorscale": [
             [
              0,
              "#0d0887"
             ],
             [
              0.1111111111111111,
              "#46039f"
             ],
             [
              0.2222222222222222,
              "#7201a8"
             ],
             [
              0.3333333333333333,
              "#9c179e"
             ],
             [
              0.4444444444444444,
              "#bd3786"
             ],
             [
              0.5555555555555556,
              "#d8576b"
             ],
             [
              0.6666666666666666,
              "#ed7953"
             ],
             [
              0.7777777777777778,
              "#fb9f3a"
             ],
             [
              0.8888888888888888,
              "#fdca26"
             ],
             [
              1,
              "#f0f921"
             ]
            ],
            "type": "histogram2dcontour"
           }
          ],
          "mesh3d": [
           {
            "colorbar": {
             "outlinewidth": 0,
             "ticks": ""
            },
            "type": "mesh3d"
           }
          ],
          "parcoords": [
           {
            "line": {
             "colorbar": {
              "outlinewidth": 0,
              "ticks": ""
             }
            },
            "type": "parcoords"
           }
          ],
          "pie": [
           {
            "automargin": true,
            "type": "pie"
           }
          ],
          "scatter": [
           {
            "marker": {
             "colorbar": {
              "outlinewidth": 0,
              "ticks": ""
             }
            },
            "type": "scatter"
           }
          ],
          "scatter3d": [
           {
            "line": {
             "colorbar": {
              "outlinewidth": 0,
              "ticks": ""
             }
            },
            "marker": {
             "colorbar": {
              "outlinewidth": 0,
              "ticks": ""
             }
            },
            "type": "scatter3d"
           }
          ],
          "scattercarpet": [
           {
            "marker": {
             "colorbar": {
              "outlinewidth": 0,
              "ticks": ""
             }
            },
            "type": "scattercarpet"
           }
          ],
          "scattergeo": [
           {
            "marker": {
             "colorbar": {
              "outlinewidth": 0,
              "ticks": ""
             }
            },
            "type": "scattergeo"
           }
          ],
          "scattergl": [
           {
            "marker": {
             "colorbar": {
              "outlinewidth": 0,
              "ticks": ""
             }
            },
            "type": "scattergl"
           }
          ],
          "scattermapbox": [
           {
            "marker": {
             "colorbar": {
              "outlinewidth": 0,
              "ticks": ""
             }
            },
            "type": "scattermapbox"
           }
          ],
          "scatterpolar": [
           {
            "marker": {
             "colorbar": {
              "outlinewidth": 0,
              "ticks": ""
             }
            },
            "type": "scatterpolar"
           }
          ],
          "scatterpolargl": [
           {
            "marker": {
             "colorbar": {
              "outlinewidth": 0,
              "ticks": ""
             }
            },
            "type": "scatterpolargl"
           }
          ],
          "scatterternary": [
           {
            "marker": {
             "colorbar": {
              "outlinewidth": 0,
              "ticks": ""
             }
            },
            "type": "scatterternary"
           }
          ],
          "surface": [
           {
            "colorbar": {
             "outlinewidth": 0,
             "ticks": ""
            },
            "colorscale": [
             [
              0,
              "#0d0887"
             ],
             [
              0.1111111111111111,
              "#46039f"
             ],
             [
              0.2222222222222222,
              "#7201a8"
             ],
             [
              0.3333333333333333,
              "#9c179e"
             ],
             [
              0.4444444444444444,
              "#bd3786"
             ],
             [
              0.5555555555555556,
              "#d8576b"
             ],
             [
              0.6666666666666666,
              "#ed7953"
             ],
             [
              0.7777777777777778,
              "#fb9f3a"
             ],
             [
              0.8888888888888888,
              "#fdca26"
             ],
             [
              1,
              "#f0f921"
             ]
            ],
            "type": "surface"
           }
          ],
          "table": [
           {
            "cells": {
             "fill": {
              "color": "#EBF0F8"
             },
             "line": {
              "color": "white"
             }
            },
            "header": {
             "fill": {
              "color": "#C8D4E3"
             },
             "line": {
              "color": "white"
             }
            },
            "type": "table"
           }
          ]
         },
         "layout": {
          "annotationdefaults": {
           "arrowcolor": "#2a3f5f",
           "arrowhead": 0,
           "arrowwidth": 1
          },
          "coloraxis": {
           "colorbar": {
            "outlinewidth": 0,
            "ticks": ""
           }
          },
          "colorscale": {
           "diverging": [
            [
             0,
             "#8e0152"
            ],
            [
             0.1,
             "#c51b7d"
            ],
            [
             0.2,
             "#de77ae"
            ],
            [
             0.3,
             "#f1b6da"
            ],
            [
             0.4,
             "#fde0ef"
            ],
            [
             0.5,
             "#f7f7f7"
            ],
            [
             0.6,
             "#e6f5d0"
            ],
            [
             0.7,
             "#b8e186"
            ],
            [
             0.8,
             "#7fbc41"
            ],
            [
             0.9,
             "#4d9221"
            ],
            [
             1,
             "#276419"
            ]
           ],
           "sequential": [
            [
             0,
             "#0d0887"
            ],
            [
             0.1111111111111111,
             "#46039f"
            ],
            [
             0.2222222222222222,
             "#7201a8"
            ],
            [
             0.3333333333333333,
             "#9c179e"
            ],
            [
             0.4444444444444444,
             "#bd3786"
            ],
            [
             0.5555555555555556,
             "#d8576b"
            ],
            [
             0.6666666666666666,
             "#ed7953"
            ],
            [
             0.7777777777777778,
             "#fb9f3a"
            ],
            [
             0.8888888888888888,
             "#fdca26"
            ],
            [
             1,
             "#f0f921"
            ]
           ],
           "sequentialminus": [
            [
             0,
             "#0d0887"
            ],
            [
             0.1111111111111111,
             "#46039f"
            ],
            [
             0.2222222222222222,
             "#7201a8"
            ],
            [
             0.3333333333333333,
             "#9c179e"
            ],
            [
             0.4444444444444444,
             "#bd3786"
            ],
            [
             0.5555555555555556,
             "#d8576b"
            ],
            [
             0.6666666666666666,
             "#ed7953"
            ],
            [
             0.7777777777777778,
             "#fb9f3a"
            ],
            [
             0.8888888888888888,
             "#fdca26"
            ],
            [
             1,
             "#f0f921"
            ]
           ]
          },
          "colorway": [
           "#636efa",
           "#EF553B",
           "#00cc96",
           "#ab63fa",
           "#FFA15A",
           "#19d3f3",
           "#FF6692",
           "#B6E880",
           "#FF97FF",
           "#FECB52"
          ],
          "font": {
           "color": "#2a3f5f"
          },
          "geo": {
           "bgcolor": "white",
           "lakecolor": "white",
           "landcolor": "#E5ECF6",
           "showlakes": true,
           "showland": true,
           "subunitcolor": "white"
          },
          "hoverlabel": {
           "align": "left"
          },
          "hovermode": "closest",
          "mapbox": {
           "style": "light"
          },
          "paper_bgcolor": "white",
          "plot_bgcolor": "#E5ECF6",
          "polar": {
           "angularaxis": {
            "gridcolor": "white",
            "linecolor": "white",
            "ticks": ""
           },
           "bgcolor": "#E5ECF6",
           "radialaxis": {
            "gridcolor": "white",
            "linecolor": "white",
            "ticks": ""
           }
          },
          "scene": {
           "xaxis": {
            "backgroundcolor": "#E5ECF6",
            "gridcolor": "white",
            "gridwidth": 2,
            "linecolor": "white",
            "showbackground": true,
            "ticks": "",
            "zerolinecolor": "white"
           },
           "yaxis": {
            "backgroundcolor": "#E5ECF6",
            "gridcolor": "white",
            "gridwidth": 2,
            "linecolor": "white",
            "showbackground": true,
            "ticks": "",
            "zerolinecolor": "white"
           },
           "zaxis": {
            "backgroundcolor": "#E5ECF6",
            "gridcolor": "white",
            "gridwidth": 2,
            "linecolor": "white",
            "showbackground": true,
            "ticks": "",
            "zerolinecolor": "white"
           }
          },
          "shapedefaults": {
           "line": {
            "color": "#2a3f5f"
           }
          },
          "ternary": {
           "aaxis": {
            "gridcolor": "white",
            "linecolor": "white",
            "ticks": ""
           },
           "baxis": {
            "gridcolor": "white",
            "linecolor": "white",
            "ticks": ""
           },
           "bgcolor": "#E5ECF6",
           "caxis": {
            "gridcolor": "white",
            "linecolor": "white",
            "ticks": ""
           }
          },
          "title": {
           "x": 0.05
          },
          "xaxis": {
           "automargin": true,
           "gridcolor": "white",
           "linecolor": "white",
           "ticks": "",
           "title": {
            "standoff": 15
           },
           "zerolinecolor": "white",
           "zerolinewidth": 2
          },
          "yaxis": {
           "automargin": true,
           "gridcolor": "white",
           "linecolor": "white",
           "ticks": "",
           "title": {
            "standoff": 15
           },
           "zerolinecolor": "white",
           "zerolinewidth": 2
          }
         }
        },
        "title": {
         "font": {
          "color": "#4D5663"
         }
        },
        "xaxis": {
         "gridcolor": "#E1E5ED",
         "showgrid": true,
         "tickfont": {
          "color": "#4D5663"
         },
         "title": {
          "font": {
           "color": "#4D5663"
          },
          "text": ""
         },
         "zerolinecolor": "#E1E5ED"
        },
        "yaxis": {
         "gridcolor": "#E1E5ED",
         "showgrid": true,
         "tickfont": {
          "color": "#4D5663"
         },
         "title": {
          "font": {
           "color": "#4D5663"
          },
          "text": ""
         },
         "zerolinecolor": "#E1E5ED"
        }
       }
      },
      "text/html": [
       "<div>\n",
       "        \n",
       "        \n",
       "            <div id=\"a9f21f13-bac3-4347-943c-cd583910e7d0\" class=\"plotly-graph-div\" style=\"height:525px; width:100%;\"></div>\n",
       "            <script type=\"text/javascript\">\n",
       "                require([\"plotly\"], function(Plotly) {\n",
       "                    window.PLOTLYENV=window.PLOTLYENV || {};\n",
       "                    window.PLOTLYENV.BASE_URL='https://plot.ly';\n",
       "                    \n",
       "                if (document.getElementById(\"a9f21f13-bac3-4347-943c-cd583910e7d0\")) {\n",
       "                    Plotly.newPlot(\n",
       "                        'a9f21f13-bac3-4347-943c-cd583910e7d0',\n",
       "                        [{\"colorscale\": [[0.0, \"rgb(165,0,38)\"], [0.1, \"rgb(215,48,39)\"], [0.2, \"rgb(244,109,67)\"], [0.3, \"rgb(253,174,97)\"], [0.4, \"rgb(254,224,144)\"], [0.5, \"rgb(255,255,191)\"], [0.6, \"rgb(224,243,248)\"], [0.7, \"rgb(171,217,233)\"], [0.8, \"rgb(116,173,209)\"], [0.9, \"rgb(69,117,180)\"], [1.0, \"rgb(49,54,149)\"]], \"type\": \"surface\", \"x\": [0, 1, 2, 3, 4], \"y\": [\"x\", \"y\", \"z\"], \"z\": [[1, 2, 3, 4, 5], [10, 20, 30, 20, 10], [5, 4, 3, 2, 1]]}],\n",
       "                        {\"legend\": {\"bgcolor\": \"#F5F6F9\", \"font\": {\"color\": \"#4D5663\"}}, \"paper_bgcolor\": \"#F5F6F9\", \"plot_bgcolor\": \"#F5F6F9\", \"template\": {\"data\": {\"bar\": [{\"error_x\": {\"color\": \"#2a3f5f\"}, \"error_y\": {\"color\": \"#2a3f5f\"}, \"marker\": {\"line\": {\"color\": \"#E5ECF6\", \"width\": 0.5}}, \"type\": \"bar\"}], \"barpolar\": [{\"marker\": {\"line\": {\"color\": \"#E5ECF6\", \"width\": 0.5}}, \"type\": \"barpolar\"}], \"carpet\": [{\"aaxis\": {\"endlinecolor\": \"#2a3f5f\", \"gridcolor\": \"white\", \"linecolor\": \"white\", \"minorgridcolor\": \"white\", \"startlinecolor\": \"#2a3f5f\"}, \"baxis\": {\"endlinecolor\": \"#2a3f5f\", \"gridcolor\": \"white\", \"linecolor\": \"white\", \"minorgridcolor\": \"white\", \"startlinecolor\": \"#2a3f5f\"}, \"type\": \"carpet\"}], \"choropleth\": [{\"colorbar\": {\"outlinewidth\": 0, \"ticks\": \"\"}, \"type\": \"choropleth\"}], \"contour\": [{\"colorbar\": {\"outlinewidth\": 0, \"ticks\": \"\"}, \"colorscale\": [[0.0, \"#0d0887\"], [0.1111111111111111, \"#46039f\"], [0.2222222222222222, \"#7201a8\"], [0.3333333333333333, \"#9c179e\"], [0.4444444444444444, \"#bd3786\"], [0.5555555555555556, \"#d8576b\"], [0.6666666666666666, \"#ed7953\"], [0.7777777777777778, \"#fb9f3a\"], [0.8888888888888888, \"#fdca26\"], [1.0, \"#f0f921\"]], \"type\": \"contour\"}], \"contourcarpet\": [{\"colorbar\": {\"outlinewidth\": 0, \"ticks\": \"\"}, \"type\": \"contourcarpet\"}], \"heatmap\": [{\"colorbar\": {\"outlinewidth\": 0, \"ticks\": \"\"}, \"colorscale\": [[0.0, \"#0d0887\"], [0.1111111111111111, \"#46039f\"], [0.2222222222222222, \"#7201a8\"], [0.3333333333333333, \"#9c179e\"], [0.4444444444444444, \"#bd3786\"], [0.5555555555555556, \"#d8576b\"], [0.6666666666666666, \"#ed7953\"], [0.7777777777777778, \"#fb9f3a\"], [0.8888888888888888, \"#fdca26\"], [1.0, \"#f0f921\"]], \"type\": \"heatmap\"}], \"heatmapgl\": [{\"colorbar\": {\"outlinewidth\": 0, \"ticks\": \"\"}, \"colorscale\": [[0.0, \"#0d0887\"], [0.1111111111111111, \"#46039f\"], [0.2222222222222222, \"#7201a8\"], [0.3333333333333333, \"#9c179e\"], [0.4444444444444444, \"#bd3786\"], [0.5555555555555556, \"#d8576b\"], [0.6666666666666666, \"#ed7953\"], [0.7777777777777778, \"#fb9f3a\"], [0.8888888888888888, \"#fdca26\"], [1.0, \"#f0f921\"]], \"type\": \"heatmapgl\"}], \"histogram\": [{\"marker\": {\"colorbar\": {\"outlinewidth\": 0, \"ticks\": \"\"}}, \"type\": \"histogram\"}], \"histogram2d\": [{\"colorbar\": {\"outlinewidth\": 0, \"ticks\": \"\"}, \"colorscale\": [[0.0, \"#0d0887\"], [0.1111111111111111, \"#46039f\"], [0.2222222222222222, \"#7201a8\"], [0.3333333333333333, \"#9c179e\"], [0.4444444444444444, \"#bd3786\"], [0.5555555555555556, \"#d8576b\"], [0.6666666666666666, \"#ed7953\"], [0.7777777777777778, \"#fb9f3a\"], [0.8888888888888888, \"#fdca26\"], [1.0, \"#f0f921\"]], \"type\": \"histogram2d\"}], \"histogram2dcontour\": [{\"colorbar\": {\"outlinewidth\": 0, \"ticks\": \"\"}, \"colorscale\": [[0.0, \"#0d0887\"], [0.1111111111111111, \"#46039f\"], [0.2222222222222222, \"#7201a8\"], [0.3333333333333333, \"#9c179e\"], [0.4444444444444444, \"#bd3786\"], [0.5555555555555556, \"#d8576b\"], [0.6666666666666666, \"#ed7953\"], [0.7777777777777778, \"#fb9f3a\"], [0.8888888888888888, \"#fdca26\"], [1.0, \"#f0f921\"]], \"type\": \"histogram2dcontour\"}], \"mesh3d\": [{\"colorbar\": {\"outlinewidth\": 0, \"ticks\": \"\"}, \"type\": \"mesh3d\"}], \"parcoords\": [{\"line\": {\"colorbar\": {\"outlinewidth\": 0, \"ticks\": \"\"}}, \"type\": \"parcoords\"}], \"pie\": [{\"automargin\": true, \"type\": \"pie\"}], \"scatter\": [{\"marker\": {\"colorbar\": {\"outlinewidth\": 0, \"ticks\": \"\"}}, \"type\": \"scatter\"}], \"scatter3d\": [{\"line\": {\"colorbar\": {\"outlinewidth\": 0, \"ticks\": \"\"}}, \"marker\": {\"colorbar\": {\"outlinewidth\": 0, \"ticks\": \"\"}}, \"type\": \"scatter3d\"}], \"scattercarpet\": [{\"marker\": {\"colorbar\": {\"outlinewidth\": 0, \"ticks\": \"\"}}, \"type\": \"scattercarpet\"}], \"scattergeo\": [{\"marker\": {\"colorbar\": {\"outlinewidth\": 0, \"ticks\": \"\"}}, \"type\": \"scattergeo\"}], \"scattergl\": [{\"marker\": {\"colorbar\": {\"outlinewidth\": 0, \"ticks\": \"\"}}, \"type\": \"scattergl\"}], \"scattermapbox\": [{\"marker\": {\"colorbar\": {\"outlinewidth\": 0, \"ticks\": \"\"}}, \"type\": \"scattermapbox\"}], \"scatterpolar\": [{\"marker\": {\"colorbar\": {\"outlinewidth\": 0, \"ticks\": \"\"}}, \"type\": \"scatterpolar\"}], \"scatterpolargl\": [{\"marker\": {\"colorbar\": {\"outlinewidth\": 0, \"ticks\": \"\"}}, \"type\": \"scatterpolargl\"}], \"scatterternary\": [{\"marker\": {\"colorbar\": {\"outlinewidth\": 0, \"ticks\": \"\"}}, \"type\": \"scatterternary\"}], \"surface\": [{\"colorbar\": {\"outlinewidth\": 0, \"ticks\": \"\"}, \"colorscale\": [[0.0, \"#0d0887\"], [0.1111111111111111, \"#46039f\"], [0.2222222222222222, \"#7201a8\"], [0.3333333333333333, \"#9c179e\"], [0.4444444444444444, \"#bd3786\"], [0.5555555555555556, \"#d8576b\"], [0.6666666666666666, \"#ed7953\"], [0.7777777777777778, \"#fb9f3a\"], [0.8888888888888888, \"#fdca26\"], [1.0, \"#f0f921\"]], \"type\": \"surface\"}], \"table\": [{\"cells\": {\"fill\": {\"color\": \"#EBF0F8\"}, \"line\": {\"color\": \"white\"}}, \"header\": {\"fill\": {\"color\": \"#C8D4E3\"}, \"line\": {\"color\": \"white\"}}, \"type\": \"table\"}]}, \"layout\": {\"annotationdefaults\": {\"arrowcolor\": \"#2a3f5f\", \"arrowhead\": 0, \"arrowwidth\": 1}, \"coloraxis\": {\"colorbar\": {\"outlinewidth\": 0, \"ticks\": \"\"}}, \"colorscale\": {\"diverging\": [[0, \"#8e0152\"], [0.1, \"#c51b7d\"], [0.2, \"#de77ae\"], [0.3, \"#f1b6da\"], [0.4, \"#fde0ef\"], [0.5, \"#f7f7f7\"], [0.6, \"#e6f5d0\"], [0.7, \"#b8e186\"], [0.8, \"#7fbc41\"], [0.9, \"#4d9221\"], [1, \"#276419\"]], \"sequential\": [[0.0, \"#0d0887\"], [0.1111111111111111, \"#46039f\"], [0.2222222222222222, \"#7201a8\"], [0.3333333333333333, \"#9c179e\"], [0.4444444444444444, \"#bd3786\"], [0.5555555555555556, \"#d8576b\"], [0.6666666666666666, \"#ed7953\"], [0.7777777777777778, \"#fb9f3a\"], [0.8888888888888888, \"#fdca26\"], [1.0, \"#f0f921\"]], \"sequentialminus\": [[0.0, \"#0d0887\"], [0.1111111111111111, \"#46039f\"], [0.2222222222222222, \"#7201a8\"], [0.3333333333333333, \"#9c179e\"], [0.4444444444444444, \"#bd3786\"], [0.5555555555555556, \"#d8576b\"], [0.6666666666666666, \"#ed7953\"], [0.7777777777777778, \"#fb9f3a\"], [0.8888888888888888, \"#fdca26\"], [1.0, \"#f0f921\"]]}, \"colorway\": [\"#636efa\", \"#EF553B\", \"#00cc96\", \"#ab63fa\", \"#FFA15A\", \"#19d3f3\", \"#FF6692\", \"#B6E880\", \"#FF97FF\", \"#FECB52\"], \"font\": {\"color\": \"#2a3f5f\"}, \"geo\": {\"bgcolor\": \"white\", \"lakecolor\": \"white\", \"landcolor\": \"#E5ECF6\", \"showlakes\": true, \"showland\": true, \"subunitcolor\": \"white\"}, \"hoverlabel\": {\"align\": \"left\"}, \"hovermode\": \"closest\", \"mapbox\": {\"style\": \"light\"}, \"paper_bgcolor\": \"white\", \"plot_bgcolor\": \"#E5ECF6\", \"polar\": {\"angularaxis\": {\"gridcolor\": \"white\", \"linecolor\": \"white\", \"ticks\": \"\"}, \"bgcolor\": \"#E5ECF6\", \"radialaxis\": {\"gridcolor\": \"white\", \"linecolor\": \"white\", \"ticks\": \"\"}}, \"scene\": {\"xaxis\": {\"backgroundcolor\": \"#E5ECF6\", \"gridcolor\": \"white\", \"gridwidth\": 2, \"linecolor\": \"white\", \"showbackground\": true, \"ticks\": \"\", \"zerolinecolor\": \"white\"}, \"yaxis\": {\"backgroundcolor\": \"#E5ECF6\", \"gridcolor\": \"white\", \"gridwidth\": 2, \"linecolor\": \"white\", \"showbackground\": true, \"ticks\": \"\", \"zerolinecolor\": \"white\"}, \"zaxis\": {\"backgroundcolor\": \"#E5ECF6\", \"gridcolor\": \"white\", \"gridwidth\": 2, \"linecolor\": \"white\", \"showbackground\": true, \"ticks\": \"\", \"zerolinecolor\": \"white\"}}, \"shapedefaults\": {\"line\": {\"color\": \"#2a3f5f\"}}, \"ternary\": {\"aaxis\": {\"gridcolor\": \"white\", \"linecolor\": \"white\", \"ticks\": \"\"}, \"baxis\": {\"gridcolor\": \"white\", \"linecolor\": \"white\", \"ticks\": \"\"}, \"bgcolor\": \"#E5ECF6\", \"caxis\": {\"gridcolor\": \"white\", \"linecolor\": \"white\", \"ticks\": \"\"}}, \"title\": {\"x\": 0.05}, \"xaxis\": {\"automargin\": true, \"gridcolor\": \"white\", \"linecolor\": \"white\", \"ticks\": \"\", \"title\": {\"standoff\": 15}, \"zerolinecolor\": \"white\", \"zerolinewidth\": 2}, \"yaxis\": {\"automargin\": true, \"gridcolor\": \"white\", \"linecolor\": \"white\", \"ticks\": \"\", \"title\": {\"standoff\": 15}, \"zerolinecolor\": \"white\", \"zerolinewidth\": 2}}}, \"title\": {\"font\": {\"color\": \"#4D5663\"}}, \"xaxis\": {\"gridcolor\": \"#E1E5ED\", \"showgrid\": true, \"tickfont\": {\"color\": \"#4D5663\"}, \"title\": {\"font\": {\"color\": \"#4D5663\"}, \"text\": \"\"}, \"zerolinecolor\": \"#E1E5ED\"}, \"yaxis\": {\"gridcolor\": \"#E1E5ED\", \"showgrid\": true, \"tickfont\": {\"color\": \"#4D5663\"}, \"title\": {\"font\": {\"color\": \"#4D5663\"}, \"text\": \"\"}, \"zerolinecolor\": \"#E1E5ED\"}},\n",
       "                        {\"showLink\": true, \"linkText\": \"Export to plot.ly\", \"plotlyServerURL\": \"https://plot.ly\", \"responsive\": true}\n",
       "                    ).then(function(){\n",
       "                            \n",
       "var gd = document.getElementById('a9f21f13-bac3-4347-943c-cd583910e7d0');\n",
       "var x = new MutationObserver(function (mutations, observer) {{\n",
       "        var display = window.getComputedStyle(gd).display;\n",
       "        if (!display || display === 'none') {{\n",
       "            console.log([gd, 'removed!']);\n",
       "            Plotly.purge(gd);\n",
       "            observer.disconnect();\n",
       "        }}\n",
       "}});\n",
       "\n",
       "// Listen for the removal of the full notebook cells\n",
       "var notebookContainer = gd.closest('#notebook-container');\n",
       "if (notebookContainer) {{\n",
       "    x.observe(notebookContainer, {childList: true});\n",
       "}}\n",
       "\n",
       "// Listen for the clearing of the current output cell\n",
       "var outputEl = gd.closest('.output');\n",
       "if (outputEl) {{\n",
       "    x.observe(outputEl, {childList: true});\n",
       "}}\n",
       "\n",
       "                        })\n",
       "                };\n",
       "                });\n",
       "            </script>\n",
       "        </div>"
      ]
     },
     "metadata": {},
     "output_type": "display_data"
    }
   ],
   "source": [
    "df3 = pd.DataFrame({'x':[1,2,3,4,5],'y':[10,20,30,20,10],'z':[5,4,3,2,1]})\n",
    "df3.iplot(kind='surface',colorscale='rdylbu')"
   ]
  },
  {
   "cell_type": "markdown",
   "metadata": {},
   "source": [
    "## Spread"
   ]
  },
  {
   "cell_type": "code",
   "execution_count": 15,
   "metadata": {},
   "outputs": [
    {
     "name": "stderr",
     "output_type": "stream",
     "text": [
      "/opt/anaconda3/lib/python3.7/site-packages/cufflinks/plotlytools.py:849: FutureWarning:\n",
      "\n",
      "The pandas.np module is deprecated and will be removed from pandas in a future version. Import numpy directly instead\n",
      "\n",
      "/opt/anaconda3/lib/python3.7/site-packages/cufflinks/plotlytools.py:850: FutureWarning:\n",
      "\n",
      "The pandas.np module is deprecated and will be removed from pandas in a future version. Import numpy directly instead\n",
      "\n"
     ]
    },
    {
     "data": {
      "application/vnd.plotly.v1+json": {
       "config": {
        "linkText": "Export to plot.ly",
        "plotlyServerURL": "https://plot.ly",
        "showLink": true
       },
       "data": [
        {
         "line": {
          "color": "rgba(255, 153, 51, 1.0)",
          "dash": "solid",
          "shape": "linear",
          "width": 1.3
         },
         "mode": "lines",
         "name": "A",
         "text": "",
         "type": "scatter",
         "x": [
          0,
          1,
          2,
          3,
          4,
          5,
          6,
          7,
          8,
          9,
          10,
          11,
          12,
          13,
          14,
          15,
          16,
          17,
          18,
          19,
          20,
          21,
          22,
          23,
          24,
          25,
          26,
          27,
          28,
          29,
          30,
          31,
          32,
          33,
          34,
          35,
          36,
          37,
          38,
          39,
          40,
          41,
          42,
          43,
          44,
          45,
          46,
          47,
          48,
          49,
          50,
          51,
          52,
          53,
          54,
          55,
          56,
          57,
          58,
          59,
          60,
          61,
          62,
          63,
          64,
          65,
          66,
          67,
          68,
          69,
          70,
          71,
          72,
          73,
          74,
          75,
          76,
          77,
          78,
          79,
          80,
          81,
          82,
          83,
          84,
          85,
          86,
          87,
          88,
          89,
          90,
          91,
          92,
          93,
          94,
          95,
          96,
          97,
          98,
          99
         ],
         "y": [
          -3.0891690814370802,
          -0.15093812636863455,
          0.13226757129359545,
          -0.9436480441721036,
          1.0939150837805443,
          2.233999101663424,
          -1.408821280745671,
          0.6644399525912178,
          -1.6692209129812499,
          -0.5781750330564617,
          0.3259479485936982,
          0.35337291909405744,
          -0.9355951333970114,
          1.3993657665589674,
          -0.7264432065839201,
          1.2706747152305884,
          0.08987776345309252,
          -0.8739620333814003,
          0.45305462405840774,
          2.077131993710634,
          -0.6497997380408793,
          0.10363703694124451,
          0.3685517032749556,
          -1.660889834320239,
          0.22748720155204724,
          -0.17608486595685274,
          1.9508324776532389,
          -0.948824710656382,
          0.24637108641800815,
          -0.17990593133279728,
          -0.5755789986094119,
          -0.22662134604804202,
          -0.8538680787755056,
          0.013849875503001482,
          0.32597581297179595,
          -0.8570921503818173,
          1.1028656743252894,
          0.5423182366845734,
          -0.5223174727704796,
          0.8231902161617701,
          0.7082832668864215,
          -2.3610760141909157,
          0.2248092690337905,
          -0.36923956224707316,
          0.47222005942496675,
          1.1822084221798006,
          -0.7039689666073455,
          -1.6448332982778755,
          -0.7701095141840978,
          1.563570590474163,
          -1.012153140899084,
          0.23841585632035256,
          -0.10407886028953234,
          -1.5621766835347606,
          2.287473672845577,
          -1.6895900849694523,
          0.523563807588396,
          -0.2458264678003052,
          -0.4110176453047839,
          0.05109260418553095,
          1.124657961564242,
          0.039085117909342014,
          0.07476390135402051,
          -1.6844573466745725,
          0.012687342579481247,
          -0.8125959503982871,
          0.5429420065790311,
          1.1584453916061306,
          0.2913230192637508,
          -0.5259598537222732,
          -0.40300408177855257,
          -0.3231243016908354,
          1.1195392948215908,
          1.1177784724135182,
          -0.2934667283084928,
          0.44485367348780974,
          0.31945308725082366,
          -0.035216205859157454,
          0.5326000062572194,
          -0.23700601438944363,
          -2.125131809986599,
          1.9665838565142724,
          -0.10621838516393992,
          -1.5297894140868404,
          1.1923521839899056,
          0.42434109188195157,
          -0.5928653108372631,
          0.5444827992464166,
          1.908321054359214,
          0.9201338704472097,
          -0.37017190530359384,
          -0.1287567243335507,
          0.5198475796450365,
          -1.0026106354082849,
          -0.5048666794652888,
          -2.2145820644230936,
          1.223006137776256,
          0.7997705039572335,
          -1.2287365551191047,
          -0.33203915961161806
         ]
        },
        {
         "line": {
          "color": "rgba(55, 128, 191, 1.0)",
          "dash": "solid",
          "shape": "linear",
          "width": 1.3
         },
         "mode": "lines",
         "name": "B",
         "text": "",
         "type": "scatter",
         "x": [
          0,
          1,
          2,
          3,
          4,
          5,
          6,
          7,
          8,
          9,
          10,
          11,
          12,
          13,
          14,
          15,
          16,
          17,
          18,
          19,
          20,
          21,
          22,
          23,
          24,
          25,
          26,
          27,
          28,
          29,
          30,
          31,
          32,
          33,
          34,
          35,
          36,
          37,
          38,
          39,
          40,
          41,
          42,
          43,
          44,
          45,
          46,
          47,
          48,
          49,
          50,
          51,
          52,
          53,
          54,
          55,
          56,
          57,
          58,
          59,
          60,
          61,
          62,
          63,
          64,
          65,
          66,
          67,
          68,
          69,
          70,
          71,
          72,
          73,
          74,
          75,
          76,
          77,
          78,
          79,
          80,
          81,
          82,
          83,
          84,
          85,
          86,
          87,
          88,
          89,
          90,
          91,
          92,
          93,
          94,
          95,
          96,
          97,
          98,
          99
         ],
         "y": [
          -0.6497331758939314,
          0.28793182818506585,
          -0.6406546473476662,
          0.44288871491097204,
          -0.05516775452979829,
          0.24357440760663784,
          0.19862804394467937,
          0.017871486326105964,
          0.9419586907313144,
          -0.5922269136030222,
          0.4632576220139533,
          -1.02180267541963,
          0.009211380888768295,
          -1.452374979601723,
          0.6076363939370528,
          1.1372970733571235,
          0.8216723348917082,
          0.5156034911723388,
          -0.8402491636980118,
          0.5738466498177162,
          0.4230814437763436,
          -0.2618550866393429,
          -1.4581184044032003,
          1.186524523218494,
          0.16490060860000813,
          0.745770744854132,
          -0.6610696189050297,
          1.3500768352975112,
          1.1987687800465134,
          2.3096028492876384,
          0.5457531625457045,
          -1.8574236349528406,
          -1.18998017247201,
          1.5181164047083455,
          0.14452515865031162,
          0.6790308519434948,
          0.7527245917195355,
          -0.5019644786553503,
          -0.3098563757594705,
          -1.6270825975794787,
          -1.1153274885862796,
          0.0698844178409464,
          -0.13836448145307176,
          0.2977336458815172,
          -1.7761185605661562,
          -1.193535811393635,
          0.6582749459954654,
          0.11742272648375549,
          -0.43788297088276346,
          -1.245679984165115,
          -0.4235286643493187,
          0.02211086881471649,
          -1.4213475477328146,
          -1.547286954040525,
          -2.418368303116361,
          -2.5416510859474353,
          -0.20012910611234505,
          0.2207315892413318,
          0.9806114155971659,
          -0.4514072244754144,
          0.237972413598495,
          1.6661274988172907,
          0.0008207307891878887,
          1.5532407406951003,
          0.05639598449363403,
          -2.2076194668262348,
          -1.2757423993728216,
          -0.7671078846184362,
          -0.44014447187790706,
          -0.09534239410143637,
          0.23862260010165232,
          1.5184905362081385,
          0.25022791644971093,
          0.13193641305590578,
          0.45377837338234756,
          -0.3976932257246214,
          0.9490242186260665,
          -1.3896518058840215,
          0.20243155758583042,
          -2.764972097819883,
          -0.4773196328772329,
          -0.9363311324586043,
          1.3802374486808353,
          0.4431852775753563,
          -1.1880902100557515,
          0.09022540025355277,
          0.30188535198005945,
          -0.5745808656083056,
          -1.3838746723031254,
          -1.5336549625779974,
          -0.4152479223898434,
          -1.082669504325524,
          1.6255905021979637,
          -0.17810907004411655,
          0.14241206049340105,
          -1.0202946103547477,
          0.7833004639524571,
          -0.06931778148223472,
          -1.1869108938985733,
          -2.033802148596967
         ]
        },
        {
         "connectgaps": false,
         "fill": "tozeroy",
         "line": {
          "color": "green",
          "dash": "solid",
          "shape": "linear",
          "width": 0.5
         },
         "mode": "lines",
         "name": "Spread",
         "showlegend": false,
         "type": "scatter",
         "x": [
          0,
          1,
          2,
          3,
          4,
          5,
          6,
          7,
          8,
          9,
          10,
          11,
          12,
          13,
          14,
          15,
          16,
          17,
          18,
          19,
          20,
          21,
          22,
          23,
          24,
          25,
          26,
          27,
          28,
          29,
          30,
          31,
          32,
          33,
          34,
          35,
          36,
          37,
          38,
          39,
          40,
          41,
          42,
          43,
          44,
          45,
          46,
          47,
          48,
          49,
          50,
          51,
          52,
          53,
          54,
          55,
          56,
          57,
          58,
          59,
          60,
          61,
          62,
          63,
          64,
          65,
          66,
          67,
          68,
          69,
          70,
          71,
          72,
          73,
          74,
          75,
          76,
          77,
          78,
          79,
          80,
          81,
          82,
          83,
          84,
          85,
          86,
          87,
          88,
          89,
          90,
          91,
          92,
          93,
          94,
          95,
          96,
          97,
          98,
          99
         ],
         "xaxis": "x2",
         "y": [
          "",
          "",
          0.7729222186412616,
          "",
          1.1490828383103426,
          1.9904246940567862,
          "",
          0.6465684662651119,
          "",
          0.01405188054656048,
          "",
          1.3751755945136876,
          "",
          2.85174074616069,
          "",
          0.1333776418734649,
          "",
          "",
          1.2933037877564195,
          1.5032853438929177,
          "",
          0.36549212358058747,
          1.826670107678156,
          "",
          0.06258659295203911,
          "",
          2.6119020965582687,
          "",
          "",
          "",
          "",
          1.6308022889047986,
          0.3361120936965044,
          "",
          0.18145065432148433,
          "",
          0.35014108260575383,
          1.0442827153399237,
          "",
          2.4502728137412486,
          1.8236107554727012,
          "",
          0.3631737504868623,
          "",
          2.248338619991123,
          2.3757442335734353,
          "",
          "",
          "",
          2.809250574639278,
          "",
          0.21630498750563606,
          1.3172686874432822,
          "",
          4.705841975961938,
          0.852061000977983,
          0.7236929137007411,
          "",
          "",
          0.5024998286609453,
          0.8866855479657471,
          "",
          0.07394317056483263,
          "",
          "",
          1.3950235164279476,
          1.8186844059518528,
          1.9255532762245666,
          0.7314674911416579,
          "",
          "",
          "",
          0.8693113783718798,
          0.9858420593576125,
          "",
          0.8425468992124312,
          "",
          1.354435600024864,
          0.33016844867138895,
          2.5279660834304396,
          "",
          2.902914988972877,
          "",
          "",
          2.380442394045657,
          0.3341156916283988,
          "",
          1.119063664854722,
          3.2921957266623396,
          2.4537888330252073,
          0.04507601708624959,
          0.9539127799919732,
          "",
          "",
          "",
          "",
          0.4397056738237989,
          0.8690882854394681,
          "",
          1.7017629889853487
         ],
         "yaxis": "y2"
        },
        {
         "connectgaps": false,
         "fill": "tozeroy",
         "line": {
          "color": "red",
          "dash": "solid",
          "shape": "linear",
          "width": 0.5
         },
         "mode": "lines",
         "name": "Spread",
         "showlegend": false,
         "type": "scatter",
         "x": [
          0,
          1,
          2,
          3,
          4,
          5,
          6,
          7,
          8,
          9,
          10,
          11,
          12,
          13,
          14,
          15,
          16,
          17,
          18,
          19,
          20,
          21,
          22,
          23,
          24,
          25,
          26,
          27,
          28,
          29,
          30,
          31,
          32,
          33,
          34,
          35,
          36,
          37,
          38,
          39,
          40,
          41,
          42,
          43,
          44,
          45,
          46,
          47,
          48,
          49,
          50,
          51,
          52,
          53,
          54,
          55,
          56,
          57,
          58,
          59,
          60,
          61,
          62,
          63,
          64,
          65,
          66,
          67,
          68,
          69,
          70,
          71,
          72,
          73,
          74,
          75,
          76,
          77,
          78,
          79,
          80,
          81,
          82,
          83,
          84,
          85,
          86,
          87,
          88,
          89,
          90,
          91,
          92,
          93,
          94,
          95,
          96,
          97,
          98,
          99
         ],
         "xaxis": "x2",
         "y": [
          -2.439435905543149,
          -0.43886995455370037,
          "",
          -1.3865367590830755,
          "",
          "",
          -1.6074493246903505,
          "",
          -2.6111796037125643,
          "",
          -0.13730967342025513,
          "",
          -0.9448065142857797,
          "",
          -1.334079600520973,
          "",
          -0.7317945714386157,
          -1.3895655245537393,
          "",
          "",
          -1.0728811818172228,
          "",
          "",
          -2.847414357538733,
          "",
          -0.9218556108109848,
          "",
          -2.298901545953893,
          -0.9523976936285052,
          -2.4895087806204357,
          -1.1213321611551164,
          "",
          "",
          -1.504266529205344,
          "",
          -1.536123002325312,
          "",
          "",
          -0.21246109701100907,
          "",
          "",
          -2.430960432031862,
          "",
          -0.6669732081285904,
          "",
          "",
          -1.362243912602811,
          -1.762256024761631,
          -0.33222654330133433,
          "",
          -0.5886244765497654,
          "",
          "",
          -0.014889729494235615,
          "",
          "",
          "",
          -0.466558057041637,
          -1.3916290609019497,
          "",
          "",
          -1.6270423809079486,
          "",
          -3.237698087369673,
          -0.04370864191415279,
          "",
          "",
          "",
          "",
          -0.4306174596208368,
          -0.6416266818802049,
          -1.8416148378989738,
          "",
          "",
          -0.7472451016908404,
          "",
          -0.6295711313752428,
          "",
          "",
          "",
          -1.647812177109366,
          "",
          -1.4864558338447753,
          -1.9729746916621966,
          "",
          "",
          -0.8947506628173225,
          "",
          "",
          "",
          "",
          "",
          -1.1057429225529272,
          -0.8245015653641683,
          -0.6472787399586899,
          -1.194287454068346,
          "",
          "",
          -0.04182566122053144,
          ""
         ],
         "yaxis": "y2"
        }
       ],
       "layout": {
        "hovermode": "x",
        "legend": {
         "bgcolor": "#F5F6F9",
         "font": {
          "color": "#4D5663"
         }
        },
        "paper_bgcolor": "#F5F6F9",
        "plot_bgcolor": "#F5F6F9",
        "template": {
         "data": {
          "bar": [
           {
            "error_x": {
             "color": "#2a3f5f"
            },
            "error_y": {
             "color": "#2a3f5f"
            },
            "marker": {
             "line": {
              "color": "#E5ECF6",
              "width": 0.5
             }
            },
            "type": "bar"
           }
          ],
          "barpolar": [
           {
            "marker": {
             "line": {
              "color": "#E5ECF6",
              "width": 0.5
             }
            },
            "type": "barpolar"
           }
          ],
          "carpet": [
           {
            "aaxis": {
             "endlinecolor": "#2a3f5f",
             "gridcolor": "white",
             "linecolor": "white",
             "minorgridcolor": "white",
             "startlinecolor": "#2a3f5f"
            },
            "baxis": {
             "endlinecolor": "#2a3f5f",
             "gridcolor": "white",
             "linecolor": "white",
             "minorgridcolor": "white",
             "startlinecolor": "#2a3f5f"
            },
            "type": "carpet"
           }
          ],
          "choropleth": [
           {
            "colorbar": {
             "outlinewidth": 0,
             "ticks": ""
            },
            "type": "choropleth"
           }
          ],
          "contour": [
           {
            "colorbar": {
             "outlinewidth": 0,
             "ticks": ""
            },
            "colorscale": [
             [
              0,
              "#0d0887"
             ],
             [
              0.1111111111111111,
              "#46039f"
             ],
             [
              0.2222222222222222,
              "#7201a8"
             ],
             [
              0.3333333333333333,
              "#9c179e"
             ],
             [
              0.4444444444444444,
              "#bd3786"
             ],
             [
              0.5555555555555556,
              "#d8576b"
             ],
             [
              0.6666666666666666,
              "#ed7953"
             ],
             [
              0.7777777777777778,
              "#fb9f3a"
             ],
             [
              0.8888888888888888,
              "#fdca26"
             ],
             [
              1,
              "#f0f921"
             ]
            ],
            "type": "contour"
           }
          ],
          "contourcarpet": [
           {
            "colorbar": {
             "outlinewidth": 0,
             "ticks": ""
            },
            "type": "contourcarpet"
           }
          ],
          "heatmap": [
           {
            "colorbar": {
             "outlinewidth": 0,
             "ticks": ""
            },
            "colorscale": [
             [
              0,
              "#0d0887"
             ],
             [
              0.1111111111111111,
              "#46039f"
             ],
             [
              0.2222222222222222,
              "#7201a8"
             ],
             [
              0.3333333333333333,
              "#9c179e"
             ],
             [
              0.4444444444444444,
              "#bd3786"
             ],
             [
              0.5555555555555556,
              "#d8576b"
             ],
             [
              0.6666666666666666,
              "#ed7953"
             ],
             [
              0.7777777777777778,
              "#fb9f3a"
             ],
             [
              0.8888888888888888,
              "#fdca26"
             ],
             [
              1,
              "#f0f921"
             ]
            ],
            "type": "heatmap"
           }
          ],
          "heatmapgl": [
           {
            "colorbar": {
             "outlinewidth": 0,
             "ticks": ""
            },
            "colorscale": [
             [
              0,
              "#0d0887"
             ],
             [
              0.1111111111111111,
              "#46039f"
             ],
             [
              0.2222222222222222,
              "#7201a8"
             ],
             [
              0.3333333333333333,
              "#9c179e"
             ],
             [
              0.4444444444444444,
              "#bd3786"
             ],
             [
              0.5555555555555556,
              "#d8576b"
             ],
             [
              0.6666666666666666,
              "#ed7953"
             ],
             [
              0.7777777777777778,
              "#fb9f3a"
             ],
             [
              0.8888888888888888,
              "#fdca26"
             ],
             [
              1,
              "#f0f921"
             ]
            ],
            "type": "heatmapgl"
           }
          ],
          "histogram": [
           {
            "marker": {
             "colorbar": {
              "outlinewidth": 0,
              "ticks": ""
             }
            },
            "type": "histogram"
           }
          ],
          "histogram2d": [
           {
            "colorbar": {
             "outlinewidth": 0,
             "ticks": ""
            },
            "colorscale": [
             [
              0,
              "#0d0887"
             ],
             [
              0.1111111111111111,
              "#46039f"
             ],
             [
              0.2222222222222222,
              "#7201a8"
             ],
             [
              0.3333333333333333,
              "#9c179e"
             ],
             [
              0.4444444444444444,
              "#bd3786"
             ],
             [
              0.5555555555555556,
              "#d8576b"
             ],
             [
              0.6666666666666666,
              "#ed7953"
             ],
             [
              0.7777777777777778,
              "#fb9f3a"
             ],
             [
              0.8888888888888888,
              "#fdca26"
             ],
             [
              1,
              "#f0f921"
             ]
            ],
            "type": "histogram2d"
           }
          ],
          "histogram2dcontour": [
           {
            "colorbar": {
             "outlinewidth": 0,
             "ticks": ""
            },
            "colorscale": [
             [
              0,
              "#0d0887"
             ],
             [
              0.1111111111111111,
              "#46039f"
             ],
             [
              0.2222222222222222,
              "#7201a8"
             ],
             [
              0.3333333333333333,
              "#9c179e"
             ],
             [
              0.4444444444444444,
              "#bd3786"
             ],
             [
              0.5555555555555556,
              "#d8576b"
             ],
             [
              0.6666666666666666,
              "#ed7953"
             ],
             [
              0.7777777777777778,
              "#fb9f3a"
             ],
             [
              0.8888888888888888,
              "#fdca26"
             ],
             [
              1,
              "#f0f921"
             ]
            ],
            "type": "histogram2dcontour"
           }
          ],
          "mesh3d": [
           {
            "colorbar": {
             "outlinewidth": 0,
             "ticks": ""
            },
            "type": "mesh3d"
           }
          ],
          "parcoords": [
           {
            "line": {
             "colorbar": {
              "outlinewidth": 0,
              "ticks": ""
             }
            },
            "type": "parcoords"
           }
          ],
          "pie": [
           {
            "automargin": true,
            "type": "pie"
           }
          ],
          "scatter": [
           {
            "marker": {
             "colorbar": {
              "outlinewidth": 0,
              "ticks": ""
             }
            },
            "type": "scatter"
           }
          ],
          "scatter3d": [
           {
            "line": {
             "colorbar": {
              "outlinewidth": 0,
              "ticks": ""
             }
            },
            "marker": {
             "colorbar": {
              "outlinewidth": 0,
              "ticks": ""
             }
            },
            "type": "scatter3d"
           }
          ],
          "scattercarpet": [
           {
            "marker": {
             "colorbar": {
              "outlinewidth": 0,
              "ticks": ""
             }
            },
            "type": "scattercarpet"
           }
          ],
          "scattergeo": [
           {
            "marker": {
             "colorbar": {
              "outlinewidth": 0,
              "ticks": ""
             }
            },
            "type": "scattergeo"
           }
          ],
          "scattergl": [
           {
            "marker": {
             "colorbar": {
              "outlinewidth": 0,
              "ticks": ""
             }
            },
            "type": "scattergl"
           }
          ],
          "scattermapbox": [
           {
            "marker": {
             "colorbar": {
              "outlinewidth": 0,
              "ticks": ""
             }
            },
            "type": "scattermapbox"
           }
          ],
          "scatterpolar": [
           {
            "marker": {
             "colorbar": {
              "outlinewidth": 0,
              "ticks": ""
             }
            },
            "type": "scatterpolar"
           }
          ],
          "scatterpolargl": [
           {
            "marker": {
             "colorbar": {
              "outlinewidth": 0,
              "ticks": ""
             }
            },
            "type": "scatterpolargl"
           }
          ],
          "scatterternary": [
           {
            "marker": {
             "colorbar": {
              "outlinewidth": 0,
              "ticks": ""
             }
            },
            "type": "scatterternary"
           }
          ],
          "surface": [
           {
            "colorbar": {
             "outlinewidth": 0,
             "ticks": ""
            },
            "colorscale": [
             [
              0,
              "#0d0887"
             ],
             [
              0.1111111111111111,
              "#46039f"
             ],
             [
              0.2222222222222222,
              "#7201a8"
             ],
             [
              0.3333333333333333,
              "#9c179e"
             ],
             [
              0.4444444444444444,
              "#bd3786"
             ],
             [
              0.5555555555555556,
              "#d8576b"
             ],
             [
              0.6666666666666666,
              "#ed7953"
             ],
             [
              0.7777777777777778,
              "#fb9f3a"
             ],
             [
              0.8888888888888888,
              "#fdca26"
             ],
             [
              1,
              "#f0f921"
             ]
            ],
            "type": "surface"
           }
          ],
          "table": [
           {
            "cells": {
             "fill": {
              "color": "#EBF0F8"
             },
             "line": {
              "color": "white"
             }
            },
            "header": {
             "fill": {
              "color": "#C8D4E3"
             },
             "line": {
              "color": "white"
             }
            },
            "type": "table"
           }
          ]
         },
         "layout": {
          "annotationdefaults": {
           "arrowcolor": "#2a3f5f",
           "arrowhead": 0,
           "arrowwidth": 1
          },
          "coloraxis": {
           "colorbar": {
            "outlinewidth": 0,
            "ticks": ""
           }
          },
          "colorscale": {
           "diverging": [
            [
             0,
             "#8e0152"
            ],
            [
             0.1,
             "#c51b7d"
            ],
            [
             0.2,
             "#de77ae"
            ],
            [
             0.3,
             "#f1b6da"
            ],
            [
             0.4,
             "#fde0ef"
            ],
            [
             0.5,
             "#f7f7f7"
            ],
            [
             0.6,
             "#e6f5d0"
            ],
            [
             0.7,
             "#b8e186"
            ],
            [
             0.8,
             "#7fbc41"
            ],
            [
             0.9,
             "#4d9221"
            ],
            [
             1,
             "#276419"
            ]
           ],
           "sequential": [
            [
             0,
             "#0d0887"
            ],
            [
             0.1111111111111111,
             "#46039f"
            ],
            [
             0.2222222222222222,
             "#7201a8"
            ],
            [
             0.3333333333333333,
             "#9c179e"
            ],
            [
             0.4444444444444444,
             "#bd3786"
            ],
            [
             0.5555555555555556,
             "#d8576b"
            ],
            [
             0.6666666666666666,
             "#ed7953"
            ],
            [
             0.7777777777777778,
             "#fb9f3a"
            ],
            [
             0.8888888888888888,
             "#fdca26"
            ],
            [
             1,
             "#f0f921"
            ]
           ],
           "sequentialminus": [
            [
             0,
             "#0d0887"
            ],
            [
             0.1111111111111111,
             "#46039f"
            ],
            [
             0.2222222222222222,
             "#7201a8"
            ],
            [
             0.3333333333333333,
             "#9c179e"
            ],
            [
             0.4444444444444444,
             "#bd3786"
            ],
            [
             0.5555555555555556,
             "#d8576b"
            ],
            [
             0.6666666666666666,
             "#ed7953"
            ],
            [
             0.7777777777777778,
             "#fb9f3a"
            ],
            [
             0.8888888888888888,
             "#fdca26"
            ],
            [
             1,
             "#f0f921"
            ]
           ]
          },
          "colorway": [
           "#636efa",
           "#EF553B",
           "#00cc96",
           "#ab63fa",
           "#FFA15A",
           "#19d3f3",
           "#FF6692",
           "#B6E880",
           "#FF97FF",
           "#FECB52"
          ],
          "font": {
           "color": "#2a3f5f"
          },
          "geo": {
           "bgcolor": "white",
           "lakecolor": "white",
           "landcolor": "#E5ECF6",
           "showlakes": true,
           "showland": true,
           "subunitcolor": "white"
          },
          "hoverlabel": {
           "align": "left"
          },
          "hovermode": "closest",
          "mapbox": {
           "style": "light"
          },
          "paper_bgcolor": "white",
          "plot_bgcolor": "#E5ECF6",
          "polar": {
           "angularaxis": {
            "gridcolor": "white",
            "linecolor": "white",
            "ticks": ""
           },
           "bgcolor": "#E5ECF6",
           "radialaxis": {
            "gridcolor": "white",
            "linecolor": "white",
            "ticks": ""
           }
          },
          "scene": {
           "xaxis": {
            "backgroundcolor": "#E5ECF6",
            "gridcolor": "white",
            "gridwidth": 2,
            "linecolor": "white",
            "showbackground": true,
            "ticks": "",
            "zerolinecolor": "white"
           },
           "yaxis": {
            "backgroundcolor": "#E5ECF6",
            "gridcolor": "white",
            "gridwidth": 2,
            "linecolor": "white",
            "showbackground": true,
            "ticks": "",
            "zerolinecolor": "white"
           },
           "zaxis": {
            "backgroundcolor": "#E5ECF6",
            "gridcolor": "white",
            "gridwidth": 2,
            "linecolor": "white",
            "showbackground": true,
            "ticks": "",
            "zerolinecolor": "white"
           }
          },
          "shapedefaults": {
           "line": {
            "color": "#2a3f5f"
           }
          },
          "ternary": {
           "aaxis": {
            "gridcolor": "white",
            "linecolor": "white",
            "ticks": ""
           },
           "baxis": {
            "gridcolor": "white",
            "linecolor": "white",
            "ticks": ""
           },
           "bgcolor": "#E5ECF6",
           "caxis": {
            "gridcolor": "white",
            "linecolor": "white",
            "ticks": ""
           }
          },
          "title": {
           "x": 0.05
          },
          "xaxis": {
           "automargin": true,
           "gridcolor": "white",
           "linecolor": "white",
           "ticks": "",
           "title": {
            "standoff": 15
           },
           "zerolinecolor": "white",
           "zerolinewidth": 2
          },
          "yaxis": {
           "automargin": true,
           "gridcolor": "white",
           "linecolor": "white",
           "ticks": "",
           "title": {
            "standoff": 15
           },
           "zerolinecolor": "white",
           "zerolinewidth": 2
          }
         }
        },
        "title": {
         "font": {
          "color": "#4D5663"
         }
        },
        "xaxis": {
         "gridcolor": "#E1E5ED",
         "showgrid": true,
         "tickfont": {
          "color": "#4D5663"
         },
         "title": {
          "font": {
           "color": "#4D5663"
          },
          "text": ""
         },
         "zerolinecolor": "#E1E5ED"
        },
        "xaxis2": {
         "anchor": "y2",
         "gridcolor": "#E1E5ED",
         "showgrid": true,
         "showticklabels": false,
         "tickfont": {
          "color": "#4D5663"
         },
         "title": {
          "font": {
           "color": "#4D5663"
          },
          "text": ""
         },
         "zerolinecolor": "#E1E5ED"
        },
        "yaxis": {
         "domain": [
          0.3,
          1
         ],
         "gridcolor": "#E1E5ED",
         "showgrid": true,
         "tickfont": {
          "color": "#4D5663"
         },
         "title": {
          "font": {
           "color": "#4D5663"
          },
          "text": ""
         },
         "zerolinecolor": "#E1E5ED"
        },
        "yaxis2": {
         "domain": [
          0,
          0.25
         ],
         "gridcolor": "#E1E5ED",
         "showgrid": true,
         "tickfont": {
          "color": "#4D5663"
         },
         "title": {
          "font": {
           "color": "#4D5663"
          },
          "text": "Spread"
         },
         "zerolinecolor": "#E1E5ED"
        }
       }
      },
      "text/html": [
       "<div>\n",
       "        \n",
       "        \n",
       "            <div id=\"940ab646-ab25-4f0e-b673-fccf9089c12a\" class=\"plotly-graph-div\" style=\"height:525px; width:100%;\"></div>\n",
       "            <script type=\"text/javascript\">\n",
       "                require([\"plotly\"], function(Plotly) {\n",
       "                    window.PLOTLYENV=window.PLOTLYENV || {};\n",
       "                    window.PLOTLYENV.BASE_URL='https://plot.ly';\n",
       "                    \n",
       "                if (document.getElementById(\"940ab646-ab25-4f0e-b673-fccf9089c12a\")) {\n",
       "                    Plotly.newPlot(\n",
       "                        '940ab646-ab25-4f0e-b673-fccf9089c12a',\n",
       "                        [{\"line\": {\"color\": \"rgba(255, 153, 51, 1.0)\", \"dash\": \"solid\", \"shape\": \"linear\", \"width\": 1.3}, \"mode\": \"lines\", \"name\": \"A\", \"text\": \"\", \"type\": \"scatter\", \"x\": [0, 1, 2, 3, 4, 5, 6, 7, 8, 9, 10, 11, 12, 13, 14, 15, 16, 17, 18, 19, 20, 21, 22, 23, 24, 25, 26, 27, 28, 29, 30, 31, 32, 33, 34, 35, 36, 37, 38, 39, 40, 41, 42, 43, 44, 45, 46, 47, 48, 49, 50, 51, 52, 53, 54, 55, 56, 57, 58, 59, 60, 61, 62, 63, 64, 65, 66, 67, 68, 69, 70, 71, 72, 73, 74, 75, 76, 77, 78, 79, 80, 81, 82, 83, 84, 85, 86, 87, 88, 89, 90, 91, 92, 93, 94, 95, 96, 97, 98, 99], \"y\": [-3.0891690814370802, -0.15093812636863455, 0.13226757129359545, -0.9436480441721036, 1.0939150837805443, 2.233999101663424, -1.408821280745671, 0.6644399525912178, -1.6692209129812499, -0.5781750330564617, 0.3259479485936982, 0.35337291909405744, -0.9355951333970114, 1.3993657665589674, -0.7264432065839201, 1.2706747152305884, 0.08987776345309252, -0.8739620333814003, 0.45305462405840774, 2.077131993710634, -0.6497997380408793, 0.10363703694124451, 0.3685517032749556, -1.660889834320239, 0.22748720155204724, -0.17608486595685274, 1.9508324776532389, -0.948824710656382, 0.24637108641800815, -0.17990593133279728, -0.5755789986094119, -0.22662134604804202, -0.8538680787755056, 0.013849875503001482, 0.32597581297179595, -0.8570921503818173, 1.1028656743252894, 0.5423182366845734, -0.5223174727704796, 0.8231902161617701, 0.7082832668864215, -2.3610760141909157, 0.2248092690337905, -0.36923956224707316, 0.47222005942496675, 1.1822084221798006, -0.7039689666073455, -1.6448332982778755, -0.7701095141840978, 1.563570590474163, -1.012153140899084, 0.23841585632035256, -0.10407886028953234, -1.5621766835347606, 2.287473672845577, -1.6895900849694523, 0.523563807588396, -0.2458264678003052, -0.4110176453047839, 0.05109260418553095, 1.124657961564242, 0.039085117909342014, 0.07476390135402051, -1.6844573466745725, 0.012687342579481247, -0.8125959503982871, 0.5429420065790311, 1.1584453916061306, 0.2913230192637508, -0.5259598537222732, -0.40300408177855257, -0.3231243016908354, 1.1195392948215908, 1.1177784724135182, -0.2934667283084928, 0.44485367348780974, 0.31945308725082366, -0.035216205859157454, 0.5326000062572194, -0.23700601438944363, -2.125131809986599, 1.9665838565142724, -0.10621838516393992, -1.5297894140868404, 1.1923521839899056, 0.42434109188195157, -0.5928653108372631, 0.5444827992464166, 1.908321054359214, 0.9201338704472097, -0.37017190530359384, -0.1287567243335507, 0.5198475796450365, -1.0026106354082849, -0.5048666794652888, -2.2145820644230936, 1.223006137776256, 0.7997705039572335, -1.2287365551191047, -0.33203915961161806]}, {\"line\": {\"color\": \"rgba(55, 128, 191, 1.0)\", \"dash\": \"solid\", \"shape\": \"linear\", \"width\": 1.3}, \"mode\": \"lines\", \"name\": \"B\", \"text\": \"\", \"type\": \"scatter\", \"x\": [0, 1, 2, 3, 4, 5, 6, 7, 8, 9, 10, 11, 12, 13, 14, 15, 16, 17, 18, 19, 20, 21, 22, 23, 24, 25, 26, 27, 28, 29, 30, 31, 32, 33, 34, 35, 36, 37, 38, 39, 40, 41, 42, 43, 44, 45, 46, 47, 48, 49, 50, 51, 52, 53, 54, 55, 56, 57, 58, 59, 60, 61, 62, 63, 64, 65, 66, 67, 68, 69, 70, 71, 72, 73, 74, 75, 76, 77, 78, 79, 80, 81, 82, 83, 84, 85, 86, 87, 88, 89, 90, 91, 92, 93, 94, 95, 96, 97, 98, 99], \"y\": [-0.6497331758939314, 0.28793182818506585, -0.6406546473476662, 0.44288871491097204, -0.05516775452979829, 0.24357440760663784, 0.19862804394467937, 0.017871486326105964, 0.9419586907313144, -0.5922269136030222, 0.4632576220139533, -1.02180267541963, 0.009211380888768295, -1.452374979601723, 0.6076363939370528, 1.1372970733571235, 0.8216723348917082, 0.5156034911723388, -0.8402491636980118, 0.5738466498177162, 0.4230814437763436, -0.2618550866393429, -1.4581184044032003, 1.186524523218494, 0.16490060860000813, 0.745770744854132, -0.6610696189050297, 1.3500768352975112, 1.1987687800465134, 2.3096028492876384, 0.5457531625457045, -1.8574236349528406, -1.18998017247201, 1.5181164047083455, 0.14452515865031162, 0.6790308519434948, 0.7527245917195355, -0.5019644786553503, -0.3098563757594705, -1.6270825975794787, -1.1153274885862796, 0.0698844178409464, -0.13836448145307176, 0.2977336458815172, -1.7761185605661562, -1.193535811393635, 0.6582749459954654, 0.11742272648375549, -0.43788297088276346, -1.245679984165115, -0.4235286643493187, 0.02211086881471649, -1.4213475477328146, -1.547286954040525, -2.418368303116361, -2.5416510859474353, -0.20012910611234505, 0.2207315892413318, 0.9806114155971659, -0.4514072244754144, 0.237972413598495, 1.6661274988172907, 0.0008207307891878887, 1.5532407406951003, 0.05639598449363403, -2.2076194668262348, -1.2757423993728216, -0.7671078846184362, -0.44014447187790706, -0.09534239410143637, 0.23862260010165232, 1.5184905362081385, 0.25022791644971093, 0.13193641305590578, 0.45377837338234756, -0.3976932257246214, 0.9490242186260665, -1.3896518058840215, 0.20243155758583042, -2.764972097819883, -0.4773196328772329, -0.9363311324586043, 1.3802374486808353, 0.4431852775753563, -1.1880902100557515, 0.09022540025355277, 0.30188535198005945, -0.5745808656083056, -1.3838746723031254, -1.5336549625779974, -0.4152479223898434, -1.082669504325524, 1.6255905021979637, -0.17810907004411655, 0.14241206049340105, -1.0202946103547477, 0.7833004639524571, -0.06931778148223472, -1.1869108938985733, -2.033802148596967]}, {\"connectgaps\": false, \"fill\": \"tozeroy\", \"line\": {\"color\": \"green\", \"dash\": \"solid\", \"shape\": \"linear\", \"width\": 0.5}, \"mode\": \"lines\", \"name\": \"Spread\", \"showlegend\": false, \"type\": \"scatter\", \"x\": [0, 1, 2, 3, 4, 5, 6, 7, 8, 9, 10, 11, 12, 13, 14, 15, 16, 17, 18, 19, 20, 21, 22, 23, 24, 25, 26, 27, 28, 29, 30, 31, 32, 33, 34, 35, 36, 37, 38, 39, 40, 41, 42, 43, 44, 45, 46, 47, 48, 49, 50, 51, 52, 53, 54, 55, 56, 57, 58, 59, 60, 61, 62, 63, 64, 65, 66, 67, 68, 69, 70, 71, 72, 73, 74, 75, 76, 77, 78, 79, 80, 81, 82, 83, 84, 85, 86, 87, 88, 89, 90, 91, 92, 93, 94, 95, 96, 97, 98, 99], \"xaxis\": \"x2\", \"y\": [\"\", \"\", 0.7729222186412616, \"\", 1.1490828383103426, 1.9904246940567862, \"\", 0.6465684662651119, \"\", 0.01405188054656048, \"\", 1.3751755945136876, \"\", 2.85174074616069, \"\", 0.1333776418734649, \"\", \"\", 1.2933037877564195, 1.5032853438929177, \"\", 0.36549212358058747, 1.826670107678156, \"\", 0.06258659295203911, \"\", 2.6119020965582687, \"\", \"\", \"\", \"\", 1.6308022889047986, 0.3361120936965044, \"\", 0.18145065432148433, \"\", 0.35014108260575383, 1.0442827153399237, \"\", 2.4502728137412486, 1.8236107554727012, \"\", 0.3631737504868623, \"\", 2.248338619991123, 2.3757442335734353, \"\", \"\", \"\", 2.809250574639278, \"\", 0.21630498750563606, 1.3172686874432822, \"\", 4.705841975961938, 0.852061000977983, 0.7236929137007411, \"\", \"\", 0.5024998286609453, 0.8866855479657471, \"\", 0.07394317056483263, \"\", \"\", 1.3950235164279476, 1.8186844059518528, 1.9255532762245666, 0.7314674911416579, \"\", \"\", \"\", 0.8693113783718798, 0.9858420593576125, \"\", 0.8425468992124312, \"\", 1.354435600024864, 0.33016844867138895, 2.5279660834304396, \"\", 2.902914988972877, \"\", \"\", 2.380442394045657, 0.3341156916283988, \"\", 1.119063664854722, 3.2921957266623396, 2.4537888330252073, 0.04507601708624959, 0.9539127799919732, \"\", \"\", \"\", \"\", 0.4397056738237989, 0.8690882854394681, \"\", 1.7017629889853487], \"yaxis\": \"y2\"}, {\"connectgaps\": false, \"fill\": \"tozeroy\", \"line\": {\"color\": \"red\", \"dash\": \"solid\", \"shape\": \"linear\", \"width\": 0.5}, \"mode\": \"lines\", \"name\": \"Spread\", \"showlegend\": false, \"type\": \"scatter\", \"x\": [0, 1, 2, 3, 4, 5, 6, 7, 8, 9, 10, 11, 12, 13, 14, 15, 16, 17, 18, 19, 20, 21, 22, 23, 24, 25, 26, 27, 28, 29, 30, 31, 32, 33, 34, 35, 36, 37, 38, 39, 40, 41, 42, 43, 44, 45, 46, 47, 48, 49, 50, 51, 52, 53, 54, 55, 56, 57, 58, 59, 60, 61, 62, 63, 64, 65, 66, 67, 68, 69, 70, 71, 72, 73, 74, 75, 76, 77, 78, 79, 80, 81, 82, 83, 84, 85, 86, 87, 88, 89, 90, 91, 92, 93, 94, 95, 96, 97, 98, 99], \"xaxis\": \"x2\", \"y\": [-2.439435905543149, -0.43886995455370037, \"\", -1.3865367590830755, \"\", \"\", -1.6074493246903505, \"\", -2.6111796037125643, \"\", -0.13730967342025513, \"\", -0.9448065142857797, \"\", -1.334079600520973, \"\", -0.7317945714386157, -1.3895655245537393, \"\", \"\", -1.0728811818172228, \"\", \"\", -2.847414357538733, \"\", -0.9218556108109848, \"\", -2.298901545953893, -0.9523976936285052, -2.4895087806204357, -1.1213321611551164, \"\", \"\", -1.504266529205344, \"\", -1.536123002325312, \"\", \"\", -0.21246109701100907, \"\", \"\", -2.430960432031862, \"\", -0.6669732081285904, \"\", \"\", -1.362243912602811, -1.762256024761631, -0.33222654330133433, \"\", -0.5886244765497654, \"\", \"\", -0.014889729494235615, \"\", \"\", \"\", -0.466558057041637, -1.3916290609019497, \"\", \"\", -1.6270423809079486, \"\", -3.237698087369673, -0.04370864191415279, \"\", \"\", \"\", \"\", -0.4306174596208368, -0.6416266818802049, -1.8416148378989738, \"\", \"\", -0.7472451016908404, \"\", -0.6295711313752428, \"\", \"\", \"\", -1.647812177109366, \"\", -1.4864558338447753, -1.9729746916621966, \"\", \"\", -0.8947506628173225, \"\", \"\", \"\", \"\", \"\", -1.1057429225529272, -0.8245015653641683, -0.6472787399586899, -1.194287454068346, \"\", \"\", -0.04182566122053144, \"\"], \"yaxis\": \"y2\"}],\n",
       "                        {\"hovermode\": \"x\", \"legend\": {\"bgcolor\": \"#F5F6F9\", \"font\": {\"color\": \"#4D5663\"}}, \"paper_bgcolor\": \"#F5F6F9\", \"plot_bgcolor\": \"#F5F6F9\", \"template\": {\"data\": {\"bar\": [{\"error_x\": {\"color\": \"#2a3f5f\"}, \"error_y\": {\"color\": \"#2a3f5f\"}, \"marker\": {\"line\": {\"color\": \"#E5ECF6\", \"width\": 0.5}}, \"type\": \"bar\"}], \"barpolar\": [{\"marker\": {\"line\": {\"color\": \"#E5ECF6\", \"width\": 0.5}}, \"type\": \"barpolar\"}], \"carpet\": [{\"aaxis\": {\"endlinecolor\": \"#2a3f5f\", \"gridcolor\": \"white\", \"linecolor\": \"white\", \"minorgridcolor\": \"white\", \"startlinecolor\": \"#2a3f5f\"}, \"baxis\": {\"endlinecolor\": \"#2a3f5f\", \"gridcolor\": \"white\", \"linecolor\": \"white\", \"minorgridcolor\": \"white\", \"startlinecolor\": \"#2a3f5f\"}, \"type\": \"carpet\"}], \"choropleth\": [{\"colorbar\": {\"outlinewidth\": 0, \"ticks\": \"\"}, \"type\": \"choropleth\"}], \"contour\": [{\"colorbar\": {\"outlinewidth\": 0, \"ticks\": \"\"}, \"colorscale\": [[0.0, \"#0d0887\"], [0.1111111111111111, \"#46039f\"], [0.2222222222222222, \"#7201a8\"], [0.3333333333333333, \"#9c179e\"], [0.4444444444444444, \"#bd3786\"], [0.5555555555555556, \"#d8576b\"], [0.6666666666666666, \"#ed7953\"], [0.7777777777777778, \"#fb9f3a\"], [0.8888888888888888, \"#fdca26\"], [1.0, \"#f0f921\"]], \"type\": \"contour\"}], \"contourcarpet\": [{\"colorbar\": {\"outlinewidth\": 0, \"ticks\": \"\"}, \"type\": \"contourcarpet\"}], \"heatmap\": [{\"colorbar\": {\"outlinewidth\": 0, \"ticks\": \"\"}, \"colorscale\": [[0.0, \"#0d0887\"], [0.1111111111111111, \"#46039f\"], [0.2222222222222222, \"#7201a8\"], [0.3333333333333333, \"#9c179e\"], [0.4444444444444444, \"#bd3786\"], [0.5555555555555556, \"#d8576b\"], [0.6666666666666666, \"#ed7953\"], [0.7777777777777778, \"#fb9f3a\"], [0.8888888888888888, \"#fdca26\"], [1.0, \"#f0f921\"]], \"type\": \"heatmap\"}], \"heatmapgl\": [{\"colorbar\": {\"outlinewidth\": 0, \"ticks\": \"\"}, \"colorscale\": [[0.0, \"#0d0887\"], [0.1111111111111111, \"#46039f\"], [0.2222222222222222, \"#7201a8\"], [0.3333333333333333, \"#9c179e\"], [0.4444444444444444, \"#bd3786\"], [0.5555555555555556, \"#d8576b\"], [0.6666666666666666, \"#ed7953\"], [0.7777777777777778, \"#fb9f3a\"], [0.8888888888888888, \"#fdca26\"], [1.0, \"#f0f921\"]], \"type\": \"heatmapgl\"}], \"histogram\": [{\"marker\": {\"colorbar\": {\"outlinewidth\": 0, \"ticks\": \"\"}}, \"type\": \"histogram\"}], \"histogram2d\": [{\"colorbar\": {\"outlinewidth\": 0, \"ticks\": \"\"}, \"colorscale\": [[0.0, \"#0d0887\"], [0.1111111111111111, \"#46039f\"], [0.2222222222222222, \"#7201a8\"], [0.3333333333333333, \"#9c179e\"], [0.4444444444444444, \"#bd3786\"], [0.5555555555555556, \"#d8576b\"], [0.6666666666666666, \"#ed7953\"], [0.7777777777777778, \"#fb9f3a\"], [0.8888888888888888, \"#fdca26\"], [1.0, \"#f0f921\"]], \"type\": \"histogram2d\"}], \"histogram2dcontour\": [{\"colorbar\": {\"outlinewidth\": 0, \"ticks\": \"\"}, \"colorscale\": [[0.0, \"#0d0887\"], [0.1111111111111111, \"#46039f\"], [0.2222222222222222, \"#7201a8\"], [0.3333333333333333, \"#9c179e\"], [0.4444444444444444, \"#bd3786\"], [0.5555555555555556, \"#d8576b\"], [0.6666666666666666, \"#ed7953\"], [0.7777777777777778, \"#fb9f3a\"], [0.8888888888888888, \"#fdca26\"], [1.0, \"#f0f921\"]], \"type\": \"histogram2dcontour\"}], \"mesh3d\": [{\"colorbar\": {\"outlinewidth\": 0, \"ticks\": \"\"}, \"type\": \"mesh3d\"}], \"parcoords\": [{\"line\": {\"colorbar\": {\"outlinewidth\": 0, \"ticks\": \"\"}}, \"type\": \"parcoords\"}], \"pie\": [{\"automargin\": true, \"type\": \"pie\"}], \"scatter\": [{\"marker\": {\"colorbar\": {\"outlinewidth\": 0, \"ticks\": \"\"}}, \"type\": \"scatter\"}], \"scatter3d\": [{\"line\": {\"colorbar\": {\"outlinewidth\": 0, \"ticks\": \"\"}}, \"marker\": {\"colorbar\": {\"outlinewidth\": 0, \"ticks\": \"\"}}, \"type\": \"scatter3d\"}], \"scattercarpet\": [{\"marker\": {\"colorbar\": {\"outlinewidth\": 0, \"ticks\": \"\"}}, \"type\": \"scattercarpet\"}], \"scattergeo\": [{\"marker\": {\"colorbar\": {\"outlinewidth\": 0, \"ticks\": \"\"}}, \"type\": \"scattergeo\"}], \"scattergl\": [{\"marker\": {\"colorbar\": {\"outlinewidth\": 0, \"ticks\": \"\"}}, \"type\": \"scattergl\"}], \"scattermapbox\": [{\"marker\": {\"colorbar\": {\"outlinewidth\": 0, \"ticks\": \"\"}}, \"type\": \"scattermapbox\"}], \"scatterpolar\": [{\"marker\": {\"colorbar\": {\"outlinewidth\": 0, \"ticks\": \"\"}}, \"type\": \"scatterpolar\"}], \"scatterpolargl\": [{\"marker\": {\"colorbar\": {\"outlinewidth\": 0, \"ticks\": \"\"}}, \"type\": \"scatterpolargl\"}], \"scatterternary\": [{\"marker\": {\"colorbar\": {\"outlinewidth\": 0, \"ticks\": \"\"}}, \"type\": \"scatterternary\"}], \"surface\": [{\"colorbar\": {\"outlinewidth\": 0, \"ticks\": \"\"}, \"colorscale\": [[0.0, \"#0d0887\"], [0.1111111111111111, \"#46039f\"], [0.2222222222222222, \"#7201a8\"], [0.3333333333333333, \"#9c179e\"], [0.4444444444444444, \"#bd3786\"], [0.5555555555555556, \"#d8576b\"], [0.6666666666666666, \"#ed7953\"], [0.7777777777777778, \"#fb9f3a\"], [0.8888888888888888, \"#fdca26\"], [1.0, \"#f0f921\"]], \"type\": \"surface\"}], \"table\": [{\"cells\": {\"fill\": {\"color\": \"#EBF0F8\"}, \"line\": {\"color\": \"white\"}}, \"header\": {\"fill\": {\"color\": \"#C8D4E3\"}, \"line\": {\"color\": \"white\"}}, \"type\": \"table\"}]}, \"layout\": {\"annotationdefaults\": {\"arrowcolor\": \"#2a3f5f\", \"arrowhead\": 0, \"arrowwidth\": 1}, \"coloraxis\": {\"colorbar\": {\"outlinewidth\": 0, \"ticks\": \"\"}}, \"colorscale\": {\"diverging\": [[0, \"#8e0152\"], [0.1, \"#c51b7d\"], [0.2, \"#de77ae\"], [0.3, \"#f1b6da\"], [0.4, \"#fde0ef\"], [0.5, \"#f7f7f7\"], [0.6, \"#e6f5d0\"], [0.7, \"#b8e186\"], [0.8, \"#7fbc41\"], [0.9, \"#4d9221\"], [1, \"#276419\"]], \"sequential\": [[0.0, \"#0d0887\"], [0.1111111111111111, \"#46039f\"], [0.2222222222222222, \"#7201a8\"], [0.3333333333333333, \"#9c179e\"], [0.4444444444444444, \"#bd3786\"], [0.5555555555555556, \"#d8576b\"], [0.6666666666666666, \"#ed7953\"], [0.7777777777777778, \"#fb9f3a\"], [0.8888888888888888, \"#fdca26\"], [1.0, \"#f0f921\"]], \"sequentialminus\": [[0.0, \"#0d0887\"], [0.1111111111111111, \"#46039f\"], [0.2222222222222222, \"#7201a8\"], [0.3333333333333333, \"#9c179e\"], [0.4444444444444444, \"#bd3786\"], [0.5555555555555556, \"#d8576b\"], [0.6666666666666666, \"#ed7953\"], [0.7777777777777778, \"#fb9f3a\"], [0.8888888888888888, \"#fdca26\"], [1.0, \"#f0f921\"]]}, \"colorway\": [\"#636efa\", \"#EF553B\", \"#00cc96\", \"#ab63fa\", \"#FFA15A\", \"#19d3f3\", \"#FF6692\", \"#B6E880\", \"#FF97FF\", \"#FECB52\"], \"font\": {\"color\": \"#2a3f5f\"}, \"geo\": {\"bgcolor\": \"white\", \"lakecolor\": \"white\", \"landcolor\": \"#E5ECF6\", \"showlakes\": true, \"showland\": true, \"subunitcolor\": \"white\"}, \"hoverlabel\": {\"align\": \"left\"}, \"hovermode\": \"closest\", \"mapbox\": {\"style\": \"light\"}, \"paper_bgcolor\": \"white\", \"plot_bgcolor\": \"#E5ECF6\", \"polar\": {\"angularaxis\": {\"gridcolor\": \"white\", \"linecolor\": \"white\", \"ticks\": \"\"}, \"bgcolor\": \"#E5ECF6\", \"radialaxis\": {\"gridcolor\": \"white\", \"linecolor\": \"white\", \"ticks\": \"\"}}, \"scene\": {\"xaxis\": {\"backgroundcolor\": \"#E5ECF6\", \"gridcolor\": \"white\", \"gridwidth\": 2, \"linecolor\": \"white\", \"showbackground\": true, \"ticks\": \"\", \"zerolinecolor\": \"white\"}, \"yaxis\": {\"backgroundcolor\": \"#E5ECF6\", \"gridcolor\": \"white\", \"gridwidth\": 2, \"linecolor\": \"white\", \"showbackground\": true, \"ticks\": \"\", \"zerolinecolor\": \"white\"}, \"zaxis\": {\"backgroundcolor\": \"#E5ECF6\", \"gridcolor\": \"white\", \"gridwidth\": 2, \"linecolor\": \"white\", \"showbackground\": true, \"ticks\": \"\", \"zerolinecolor\": \"white\"}}, \"shapedefaults\": {\"line\": {\"color\": \"#2a3f5f\"}}, \"ternary\": {\"aaxis\": {\"gridcolor\": \"white\", \"linecolor\": \"white\", \"ticks\": \"\"}, \"baxis\": {\"gridcolor\": \"white\", \"linecolor\": \"white\", \"ticks\": \"\"}, \"bgcolor\": \"#E5ECF6\", \"caxis\": {\"gridcolor\": \"white\", \"linecolor\": \"white\", \"ticks\": \"\"}}, \"title\": {\"x\": 0.05}, \"xaxis\": {\"automargin\": true, \"gridcolor\": \"white\", \"linecolor\": \"white\", \"ticks\": \"\", \"title\": {\"standoff\": 15}, \"zerolinecolor\": \"white\", \"zerolinewidth\": 2}, \"yaxis\": {\"automargin\": true, \"gridcolor\": \"white\", \"linecolor\": \"white\", \"ticks\": \"\", \"title\": {\"standoff\": 15}, \"zerolinecolor\": \"white\", \"zerolinewidth\": 2}}}, \"title\": {\"font\": {\"color\": \"#4D5663\"}}, \"xaxis\": {\"gridcolor\": \"#E1E5ED\", \"showgrid\": true, \"tickfont\": {\"color\": \"#4D5663\"}, \"title\": {\"font\": {\"color\": \"#4D5663\"}, \"text\": \"\"}, \"zerolinecolor\": \"#E1E5ED\"}, \"xaxis2\": {\"anchor\": \"y2\", \"gridcolor\": \"#E1E5ED\", \"showgrid\": true, \"showticklabels\": false, \"tickfont\": {\"color\": \"#4D5663\"}, \"title\": {\"font\": {\"color\": \"#4D5663\"}, \"text\": \"\"}, \"zerolinecolor\": \"#E1E5ED\"}, \"yaxis\": {\"domain\": [0.3, 1], \"gridcolor\": \"#E1E5ED\", \"showgrid\": true, \"tickfont\": {\"color\": \"#4D5663\"}, \"title\": {\"font\": {\"color\": \"#4D5663\"}, \"text\": \"\"}, \"zerolinecolor\": \"#E1E5ED\"}, \"yaxis2\": {\"domain\": [0, 0.25], \"gridcolor\": \"#E1E5ED\", \"showgrid\": true, \"tickfont\": {\"color\": \"#4D5663\"}, \"title\": {\"font\": {\"color\": \"#4D5663\"}, \"text\": \"Spread\"}, \"zerolinecolor\": \"#E1E5ED\"}},\n",
       "                        {\"showLink\": true, \"linkText\": \"Export to plot.ly\", \"plotlyServerURL\": \"https://plot.ly\", \"responsive\": true}\n",
       "                    ).then(function(){\n",
       "                            \n",
       "var gd = document.getElementById('940ab646-ab25-4f0e-b673-fccf9089c12a');\n",
       "var x = new MutationObserver(function (mutations, observer) {{\n",
       "        var display = window.getComputedStyle(gd).display;\n",
       "        if (!display || display === 'none') {{\n",
       "            console.log([gd, 'removed!']);\n",
       "            Plotly.purge(gd);\n",
       "            observer.disconnect();\n",
       "        }}\n",
       "}});\n",
       "\n",
       "// Listen for the removal of the full notebook cells\n",
       "var notebookContainer = gd.closest('#notebook-container');\n",
       "if (notebookContainer) {{\n",
       "    x.observe(notebookContainer, {childList: true});\n",
       "}}\n",
       "\n",
       "// Listen for the clearing of the current output cell\n",
       "var outputEl = gd.closest('.output');\n",
       "if (outputEl) {{\n",
       "    x.observe(outputEl, {childList: true});\n",
       "}}\n",
       "\n",
       "                        })\n",
       "                };\n",
       "                });\n",
       "            </script>\n",
       "        </div>"
      ]
     },
     "metadata": {},
     "output_type": "display_data"
    }
   ],
   "source": [
    "df[['A','B']].iplot(kind='spread')"
   ]
  },
  {
   "cell_type": "markdown",
   "metadata": {},
   "source": [
    "## histogram"
   ]
  },
  {
   "cell_type": "code",
   "execution_count": 16,
   "metadata": {},
   "outputs": [
    {
     "data": {
      "application/vnd.plotly.v1+json": {
       "config": {
        "linkText": "Export to plot.ly",
        "plotlyServerURL": "https://plot.ly",
        "showLink": true
       },
       "data": [
        {
         "histfunc": "count",
         "histnorm": "",
         "marker": {
          "color": "rgba(255, 153, 51, 1.0)",
          "line": {
           "color": "#4D5663",
           "width": 1.3
          }
         },
         "name": "A",
         "nbinsx": 25,
         "opacity": 0.8,
         "orientation": "v",
         "type": "histogram",
         "x": [
          -3.0891690814370802,
          -0.15093812636863455,
          0.13226757129359545,
          -0.9436480441721036,
          1.0939150837805443,
          2.233999101663424,
          -1.408821280745671,
          0.6644399525912178,
          -1.6692209129812499,
          -0.5781750330564617,
          0.3259479485936982,
          0.35337291909405744,
          -0.9355951333970114,
          1.3993657665589674,
          -0.7264432065839201,
          1.2706747152305884,
          0.08987776345309252,
          -0.8739620333814003,
          0.45305462405840774,
          2.077131993710634,
          -0.6497997380408793,
          0.10363703694124451,
          0.3685517032749556,
          -1.660889834320239,
          0.22748720155204724,
          -0.17608486595685274,
          1.9508324776532389,
          -0.948824710656382,
          0.24637108641800815,
          -0.17990593133279728,
          -0.5755789986094119,
          -0.22662134604804202,
          -0.8538680787755056,
          0.013849875503001482,
          0.32597581297179595,
          -0.8570921503818173,
          1.1028656743252894,
          0.5423182366845734,
          -0.5223174727704796,
          0.8231902161617701,
          0.7082832668864215,
          -2.3610760141909157,
          0.2248092690337905,
          -0.36923956224707316,
          0.47222005942496675,
          1.1822084221798006,
          -0.7039689666073455,
          -1.6448332982778755,
          -0.7701095141840978,
          1.563570590474163,
          -1.012153140899084,
          0.23841585632035256,
          -0.10407886028953234,
          -1.5621766835347606,
          2.287473672845577,
          -1.6895900849694523,
          0.523563807588396,
          -0.2458264678003052,
          -0.4110176453047839,
          0.05109260418553095,
          1.124657961564242,
          0.039085117909342014,
          0.07476390135402051,
          -1.6844573466745725,
          0.012687342579481247,
          -0.8125959503982871,
          0.5429420065790311,
          1.1584453916061306,
          0.2913230192637508,
          -0.5259598537222732,
          -0.40300408177855257,
          -0.3231243016908354,
          1.1195392948215908,
          1.1177784724135182,
          -0.2934667283084928,
          0.44485367348780974,
          0.31945308725082366,
          -0.035216205859157454,
          0.5326000062572194,
          -0.23700601438944363,
          -2.125131809986599,
          1.9665838565142724,
          -0.10621838516393992,
          -1.5297894140868404,
          1.1923521839899056,
          0.42434109188195157,
          -0.5928653108372631,
          0.5444827992464166,
          1.908321054359214,
          0.9201338704472097,
          -0.37017190530359384,
          -0.1287567243335507,
          0.5198475796450365,
          -1.0026106354082849,
          -0.5048666794652888,
          -2.2145820644230936,
          1.223006137776256,
          0.7997705039572335,
          -1.2287365551191047,
          -0.33203915961161806
         ]
        }
       ],
       "layout": {
        "barmode": "overlay",
        "legend": {
         "bgcolor": "#F5F6F9",
         "font": {
          "color": "#4D5663"
         }
        },
        "paper_bgcolor": "#F5F6F9",
        "plot_bgcolor": "#F5F6F9",
        "template": {
         "data": {
          "bar": [
           {
            "error_x": {
             "color": "#2a3f5f"
            },
            "error_y": {
             "color": "#2a3f5f"
            },
            "marker": {
             "line": {
              "color": "#E5ECF6",
              "width": 0.5
             }
            },
            "type": "bar"
           }
          ],
          "barpolar": [
           {
            "marker": {
             "line": {
              "color": "#E5ECF6",
              "width": 0.5
             }
            },
            "type": "barpolar"
           }
          ],
          "carpet": [
           {
            "aaxis": {
             "endlinecolor": "#2a3f5f",
             "gridcolor": "white",
             "linecolor": "white",
             "minorgridcolor": "white",
             "startlinecolor": "#2a3f5f"
            },
            "baxis": {
             "endlinecolor": "#2a3f5f",
             "gridcolor": "white",
             "linecolor": "white",
             "minorgridcolor": "white",
             "startlinecolor": "#2a3f5f"
            },
            "type": "carpet"
           }
          ],
          "choropleth": [
           {
            "colorbar": {
             "outlinewidth": 0,
             "ticks": ""
            },
            "type": "choropleth"
           }
          ],
          "contour": [
           {
            "colorbar": {
             "outlinewidth": 0,
             "ticks": ""
            },
            "colorscale": [
             [
              0,
              "#0d0887"
             ],
             [
              0.1111111111111111,
              "#46039f"
             ],
             [
              0.2222222222222222,
              "#7201a8"
             ],
             [
              0.3333333333333333,
              "#9c179e"
             ],
             [
              0.4444444444444444,
              "#bd3786"
             ],
             [
              0.5555555555555556,
              "#d8576b"
             ],
             [
              0.6666666666666666,
              "#ed7953"
             ],
             [
              0.7777777777777778,
              "#fb9f3a"
             ],
             [
              0.8888888888888888,
              "#fdca26"
             ],
             [
              1,
              "#f0f921"
             ]
            ],
            "type": "contour"
           }
          ],
          "contourcarpet": [
           {
            "colorbar": {
             "outlinewidth": 0,
             "ticks": ""
            },
            "type": "contourcarpet"
           }
          ],
          "heatmap": [
           {
            "colorbar": {
             "outlinewidth": 0,
             "ticks": ""
            },
            "colorscale": [
             [
              0,
              "#0d0887"
             ],
             [
              0.1111111111111111,
              "#46039f"
             ],
             [
              0.2222222222222222,
              "#7201a8"
             ],
             [
              0.3333333333333333,
              "#9c179e"
             ],
             [
              0.4444444444444444,
              "#bd3786"
             ],
             [
              0.5555555555555556,
              "#d8576b"
             ],
             [
              0.6666666666666666,
              "#ed7953"
             ],
             [
              0.7777777777777778,
              "#fb9f3a"
             ],
             [
              0.8888888888888888,
              "#fdca26"
             ],
             [
              1,
              "#f0f921"
             ]
            ],
            "type": "heatmap"
           }
          ],
          "heatmapgl": [
           {
            "colorbar": {
             "outlinewidth": 0,
             "ticks": ""
            },
            "colorscale": [
             [
              0,
              "#0d0887"
             ],
             [
              0.1111111111111111,
              "#46039f"
             ],
             [
              0.2222222222222222,
              "#7201a8"
             ],
             [
              0.3333333333333333,
              "#9c179e"
             ],
             [
              0.4444444444444444,
              "#bd3786"
             ],
             [
              0.5555555555555556,
              "#d8576b"
             ],
             [
              0.6666666666666666,
              "#ed7953"
             ],
             [
              0.7777777777777778,
              "#fb9f3a"
             ],
             [
              0.8888888888888888,
              "#fdca26"
             ],
             [
              1,
              "#f0f921"
             ]
            ],
            "type": "heatmapgl"
           }
          ],
          "histogram": [
           {
            "marker": {
             "colorbar": {
              "outlinewidth": 0,
              "ticks": ""
             }
            },
            "type": "histogram"
           }
          ],
          "histogram2d": [
           {
            "colorbar": {
             "outlinewidth": 0,
             "ticks": ""
            },
            "colorscale": [
             [
              0,
              "#0d0887"
             ],
             [
              0.1111111111111111,
              "#46039f"
             ],
             [
              0.2222222222222222,
              "#7201a8"
             ],
             [
              0.3333333333333333,
              "#9c179e"
             ],
             [
              0.4444444444444444,
              "#bd3786"
             ],
             [
              0.5555555555555556,
              "#d8576b"
             ],
             [
              0.6666666666666666,
              "#ed7953"
             ],
             [
              0.7777777777777778,
              "#fb9f3a"
             ],
             [
              0.8888888888888888,
              "#fdca26"
             ],
             [
              1,
              "#f0f921"
             ]
            ],
            "type": "histogram2d"
           }
          ],
          "histogram2dcontour": [
           {
            "colorbar": {
             "outlinewidth": 0,
             "ticks": ""
            },
            "colorscale": [
             [
              0,
              "#0d0887"
             ],
             [
              0.1111111111111111,
              "#46039f"
             ],
             [
              0.2222222222222222,
              "#7201a8"
             ],
             [
              0.3333333333333333,
              "#9c179e"
             ],
             [
              0.4444444444444444,
              "#bd3786"
             ],
             [
              0.5555555555555556,
              "#d8576b"
             ],
             [
              0.6666666666666666,
              "#ed7953"
             ],
             [
              0.7777777777777778,
              "#fb9f3a"
             ],
             [
              0.8888888888888888,
              "#fdca26"
             ],
             [
              1,
              "#f0f921"
             ]
            ],
            "type": "histogram2dcontour"
           }
          ],
          "mesh3d": [
           {
            "colorbar": {
             "outlinewidth": 0,
             "ticks": ""
            },
            "type": "mesh3d"
           }
          ],
          "parcoords": [
           {
            "line": {
             "colorbar": {
              "outlinewidth": 0,
              "ticks": ""
             }
            },
            "type": "parcoords"
           }
          ],
          "pie": [
           {
            "automargin": true,
            "type": "pie"
           }
          ],
          "scatter": [
           {
            "marker": {
             "colorbar": {
              "outlinewidth": 0,
              "ticks": ""
             }
            },
            "type": "scatter"
           }
          ],
          "scatter3d": [
           {
            "line": {
             "colorbar": {
              "outlinewidth": 0,
              "ticks": ""
             }
            },
            "marker": {
             "colorbar": {
              "outlinewidth": 0,
              "ticks": ""
             }
            },
            "type": "scatter3d"
           }
          ],
          "scattercarpet": [
           {
            "marker": {
             "colorbar": {
              "outlinewidth": 0,
              "ticks": ""
             }
            },
            "type": "scattercarpet"
           }
          ],
          "scattergeo": [
           {
            "marker": {
             "colorbar": {
              "outlinewidth": 0,
              "ticks": ""
             }
            },
            "type": "scattergeo"
           }
          ],
          "scattergl": [
           {
            "marker": {
             "colorbar": {
              "outlinewidth": 0,
              "ticks": ""
             }
            },
            "type": "scattergl"
           }
          ],
          "scattermapbox": [
           {
            "marker": {
             "colorbar": {
              "outlinewidth": 0,
              "ticks": ""
             }
            },
            "type": "scattermapbox"
           }
          ],
          "scatterpolar": [
           {
            "marker": {
             "colorbar": {
              "outlinewidth": 0,
              "ticks": ""
             }
            },
            "type": "scatterpolar"
           }
          ],
          "scatterpolargl": [
           {
            "marker": {
             "colorbar": {
              "outlinewidth": 0,
              "ticks": ""
             }
            },
            "type": "scatterpolargl"
           }
          ],
          "scatterternary": [
           {
            "marker": {
             "colorbar": {
              "outlinewidth": 0,
              "ticks": ""
             }
            },
            "type": "scatterternary"
           }
          ],
          "surface": [
           {
            "colorbar": {
             "outlinewidth": 0,
             "ticks": ""
            },
            "colorscale": [
             [
              0,
              "#0d0887"
             ],
             [
              0.1111111111111111,
              "#46039f"
             ],
             [
              0.2222222222222222,
              "#7201a8"
             ],
             [
              0.3333333333333333,
              "#9c179e"
             ],
             [
              0.4444444444444444,
              "#bd3786"
             ],
             [
              0.5555555555555556,
              "#d8576b"
             ],
             [
              0.6666666666666666,
              "#ed7953"
             ],
             [
              0.7777777777777778,
              "#fb9f3a"
             ],
             [
              0.8888888888888888,
              "#fdca26"
             ],
             [
              1,
              "#f0f921"
             ]
            ],
            "type": "surface"
           }
          ],
          "table": [
           {
            "cells": {
             "fill": {
              "color": "#EBF0F8"
             },
             "line": {
              "color": "white"
             }
            },
            "header": {
             "fill": {
              "color": "#C8D4E3"
             },
             "line": {
              "color": "white"
             }
            },
            "type": "table"
           }
          ]
         },
         "layout": {
          "annotationdefaults": {
           "arrowcolor": "#2a3f5f",
           "arrowhead": 0,
           "arrowwidth": 1
          },
          "coloraxis": {
           "colorbar": {
            "outlinewidth": 0,
            "ticks": ""
           }
          },
          "colorscale": {
           "diverging": [
            [
             0,
             "#8e0152"
            ],
            [
             0.1,
             "#c51b7d"
            ],
            [
             0.2,
             "#de77ae"
            ],
            [
             0.3,
             "#f1b6da"
            ],
            [
             0.4,
             "#fde0ef"
            ],
            [
             0.5,
             "#f7f7f7"
            ],
            [
             0.6,
             "#e6f5d0"
            ],
            [
             0.7,
             "#b8e186"
            ],
            [
             0.8,
             "#7fbc41"
            ],
            [
             0.9,
             "#4d9221"
            ],
            [
             1,
             "#276419"
            ]
           ],
           "sequential": [
            [
             0,
             "#0d0887"
            ],
            [
             0.1111111111111111,
             "#46039f"
            ],
            [
             0.2222222222222222,
             "#7201a8"
            ],
            [
             0.3333333333333333,
             "#9c179e"
            ],
            [
             0.4444444444444444,
             "#bd3786"
            ],
            [
             0.5555555555555556,
             "#d8576b"
            ],
            [
             0.6666666666666666,
             "#ed7953"
            ],
            [
             0.7777777777777778,
             "#fb9f3a"
            ],
            [
             0.8888888888888888,
             "#fdca26"
            ],
            [
             1,
             "#f0f921"
            ]
           ],
           "sequentialminus": [
            [
             0,
             "#0d0887"
            ],
            [
             0.1111111111111111,
             "#46039f"
            ],
            [
             0.2222222222222222,
             "#7201a8"
            ],
            [
             0.3333333333333333,
             "#9c179e"
            ],
            [
             0.4444444444444444,
             "#bd3786"
            ],
            [
             0.5555555555555556,
             "#d8576b"
            ],
            [
             0.6666666666666666,
             "#ed7953"
            ],
            [
             0.7777777777777778,
             "#fb9f3a"
            ],
            [
             0.8888888888888888,
             "#fdca26"
            ],
            [
             1,
             "#f0f921"
            ]
           ]
          },
          "colorway": [
           "#636efa",
           "#EF553B",
           "#00cc96",
           "#ab63fa",
           "#FFA15A",
           "#19d3f3",
           "#FF6692",
           "#B6E880",
           "#FF97FF",
           "#FECB52"
          ],
          "font": {
           "color": "#2a3f5f"
          },
          "geo": {
           "bgcolor": "white",
           "lakecolor": "white",
           "landcolor": "#E5ECF6",
           "showlakes": true,
           "showland": true,
           "subunitcolor": "white"
          },
          "hoverlabel": {
           "align": "left"
          },
          "hovermode": "closest",
          "mapbox": {
           "style": "light"
          },
          "paper_bgcolor": "white",
          "plot_bgcolor": "#E5ECF6",
          "polar": {
           "angularaxis": {
            "gridcolor": "white",
            "linecolor": "white",
            "ticks": ""
           },
           "bgcolor": "#E5ECF6",
           "radialaxis": {
            "gridcolor": "white",
            "linecolor": "white",
            "ticks": ""
           }
          },
          "scene": {
           "xaxis": {
            "backgroundcolor": "#E5ECF6",
            "gridcolor": "white",
            "gridwidth": 2,
            "linecolor": "white",
            "showbackground": true,
            "ticks": "",
            "zerolinecolor": "white"
           },
           "yaxis": {
            "backgroundcolor": "#E5ECF6",
            "gridcolor": "white",
            "gridwidth": 2,
            "linecolor": "white",
            "showbackground": true,
            "ticks": "",
            "zerolinecolor": "white"
           },
           "zaxis": {
            "backgroundcolor": "#E5ECF6",
            "gridcolor": "white",
            "gridwidth": 2,
            "linecolor": "white",
            "showbackground": true,
            "ticks": "",
            "zerolinecolor": "white"
           }
          },
          "shapedefaults": {
           "line": {
            "color": "#2a3f5f"
           }
          },
          "ternary": {
           "aaxis": {
            "gridcolor": "white",
            "linecolor": "white",
            "ticks": ""
           },
           "baxis": {
            "gridcolor": "white",
            "linecolor": "white",
            "ticks": ""
           },
           "bgcolor": "#E5ECF6",
           "caxis": {
            "gridcolor": "white",
            "linecolor": "white",
            "ticks": ""
           }
          },
          "title": {
           "x": 0.05
          },
          "xaxis": {
           "automargin": true,
           "gridcolor": "white",
           "linecolor": "white",
           "ticks": "",
           "title": {
            "standoff": 15
           },
           "zerolinecolor": "white",
           "zerolinewidth": 2
          },
          "yaxis": {
           "automargin": true,
           "gridcolor": "white",
           "linecolor": "white",
           "ticks": "",
           "title": {
            "standoff": 15
           },
           "zerolinecolor": "white",
           "zerolinewidth": 2
          }
         }
        },
        "title": {
         "font": {
          "color": "#4D5663"
         }
        },
        "xaxis": {
         "gridcolor": "#E1E5ED",
         "showgrid": true,
         "tickfont": {
          "color": "#4D5663"
         },
         "title": {
          "font": {
           "color": "#4D5663"
          },
          "text": ""
         },
         "zerolinecolor": "#E1E5ED"
        },
        "yaxis": {
         "gridcolor": "#E1E5ED",
         "showgrid": true,
         "tickfont": {
          "color": "#4D5663"
         },
         "title": {
          "font": {
           "color": "#4D5663"
          },
          "text": ""
         },
         "zerolinecolor": "#E1E5ED"
        }
       }
      },
      "text/html": [
       "<div>\n",
       "        \n",
       "        \n",
       "            <div id=\"54ed275c-ebe4-4783-85d3-e16df05d6a42\" class=\"plotly-graph-div\" style=\"height:525px; width:100%;\"></div>\n",
       "            <script type=\"text/javascript\">\n",
       "                require([\"plotly\"], function(Plotly) {\n",
       "                    window.PLOTLYENV=window.PLOTLYENV || {};\n",
       "                    window.PLOTLYENV.BASE_URL='https://plot.ly';\n",
       "                    \n",
       "                if (document.getElementById(\"54ed275c-ebe4-4783-85d3-e16df05d6a42\")) {\n",
       "                    Plotly.newPlot(\n",
       "                        '54ed275c-ebe4-4783-85d3-e16df05d6a42',\n",
       "                        [{\"histfunc\": \"count\", \"histnorm\": \"\", \"marker\": {\"color\": \"rgba(255, 153, 51, 1.0)\", \"line\": {\"color\": \"#4D5663\", \"width\": 1.3}}, \"name\": \"A\", \"nbinsx\": 25, \"opacity\": 0.8, \"orientation\": \"v\", \"type\": \"histogram\", \"x\": [-3.0891690814370802, -0.15093812636863455, 0.13226757129359545, -0.9436480441721036, 1.0939150837805443, 2.233999101663424, -1.408821280745671, 0.6644399525912178, -1.6692209129812499, -0.5781750330564617, 0.3259479485936982, 0.35337291909405744, -0.9355951333970114, 1.3993657665589674, -0.7264432065839201, 1.2706747152305884, 0.08987776345309252, -0.8739620333814003, 0.45305462405840774, 2.077131993710634, -0.6497997380408793, 0.10363703694124451, 0.3685517032749556, -1.660889834320239, 0.22748720155204724, -0.17608486595685274, 1.9508324776532389, -0.948824710656382, 0.24637108641800815, -0.17990593133279728, -0.5755789986094119, -0.22662134604804202, -0.8538680787755056, 0.013849875503001482, 0.32597581297179595, -0.8570921503818173, 1.1028656743252894, 0.5423182366845734, -0.5223174727704796, 0.8231902161617701, 0.7082832668864215, -2.3610760141909157, 0.2248092690337905, -0.36923956224707316, 0.47222005942496675, 1.1822084221798006, -0.7039689666073455, -1.6448332982778755, -0.7701095141840978, 1.563570590474163, -1.012153140899084, 0.23841585632035256, -0.10407886028953234, -1.5621766835347606, 2.287473672845577, -1.6895900849694523, 0.523563807588396, -0.2458264678003052, -0.4110176453047839, 0.05109260418553095, 1.124657961564242, 0.039085117909342014, 0.07476390135402051, -1.6844573466745725, 0.012687342579481247, -0.8125959503982871, 0.5429420065790311, 1.1584453916061306, 0.2913230192637508, -0.5259598537222732, -0.40300408177855257, -0.3231243016908354, 1.1195392948215908, 1.1177784724135182, -0.2934667283084928, 0.44485367348780974, 0.31945308725082366, -0.035216205859157454, 0.5326000062572194, -0.23700601438944363, -2.125131809986599, 1.9665838565142724, -0.10621838516393992, -1.5297894140868404, 1.1923521839899056, 0.42434109188195157, -0.5928653108372631, 0.5444827992464166, 1.908321054359214, 0.9201338704472097, -0.37017190530359384, -0.1287567243335507, 0.5198475796450365, -1.0026106354082849, -0.5048666794652888, -2.2145820644230936, 1.223006137776256, 0.7997705039572335, -1.2287365551191047, -0.33203915961161806]}],\n",
       "                        {\"barmode\": \"overlay\", \"legend\": {\"bgcolor\": \"#F5F6F9\", \"font\": {\"color\": \"#4D5663\"}}, \"paper_bgcolor\": \"#F5F6F9\", \"plot_bgcolor\": \"#F5F6F9\", \"template\": {\"data\": {\"bar\": [{\"error_x\": {\"color\": \"#2a3f5f\"}, \"error_y\": {\"color\": \"#2a3f5f\"}, \"marker\": {\"line\": {\"color\": \"#E5ECF6\", \"width\": 0.5}}, \"type\": \"bar\"}], \"barpolar\": [{\"marker\": {\"line\": {\"color\": \"#E5ECF6\", \"width\": 0.5}}, \"type\": \"barpolar\"}], \"carpet\": [{\"aaxis\": {\"endlinecolor\": \"#2a3f5f\", \"gridcolor\": \"white\", \"linecolor\": \"white\", \"minorgridcolor\": \"white\", \"startlinecolor\": \"#2a3f5f\"}, \"baxis\": {\"endlinecolor\": \"#2a3f5f\", \"gridcolor\": \"white\", \"linecolor\": \"white\", \"minorgridcolor\": \"white\", \"startlinecolor\": \"#2a3f5f\"}, \"type\": \"carpet\"}], \"choropleth\": [{\"colorbar\": {\"outlinewidth\": 0, \"ticks\": \"\"}, \"type\": \"choropleth\"}], \"contour\": [{\"colorbar\": {\"outlinewidth\": 0, \"ticks\": \"\"}, \"colorscale\": [[0.0, \"#0d0887\"], [0.1111111111111111, \"#46039f\"], [0.2222222222222222, \"#7201a8\"], [0.3333333333333333, \"#9c179e\"], [0.4444444444444444, \"#bd3786\"], [0.5555555555555556, \"#d8576b\"], [0.6666666666666666, \"#ed7953\"], [0.7777777777777778, \"#fb9f3a\"], [0.8888888888888888, \"#fdca26\"], [1.0, \"#f0f921\"]], \"type\": \"contour\"}], \"contourcarpet\": [{\"colorbar\": {\"outlinewidth\": 0, \"ticks\": \"\"}, \"type\": \"contourcarpet\"}], \"heatmap\": [{\"colorbar\": {\"outlinewidth\": 0, \"ticks\": \"\"}, \"colorscale\": [[0.0, \"#0d0887\"], [0.1111111111111111, \"#46039f\"], [0.2222222222222222, \"#7201a8\"], [0.3333333333333333, \"#9c179e\"], [0.4444444444444444, \"#bd3786\"], [0.5555555555555556, \"#d8576b\"], [0.6666666666666666, \"#ed7953\"], [0.7777777777777778, \"#fb9f3a\"], [0.8888888888888888, \"#fdca26\"], [1.0, \"#f0f921\"]], \"type\": \"heatmap\"}], \"heatmapgl\": [{\"colorbar\": {\"outlinewidth\": 0, \"ticks\": \"\"}, \"colorscale\": [[0.0, \"#0d0887\"], [0.1111111111111111, \"#46039f\"], [0.2222222222222222, \"#7201a8\"], [0.3333333333333333, \"#9c179e\"], [0.4444444444444444, \"#bd3786\"], [0.5555555555555556, \"#d8576b\"], [0.6666666666666666, \"#ed7953\"], [0.7777777777777778, \"#fb9f3a\"], [0.8888888888888888, \"#fdca26\"], [1.0, \"#f0f921\"]], \"type\": \"heatmapgl\"}], \"histogram\": [{\"marker\": {\"colorbar\": {\"outlinewidth\": 0, \"ticks\": \"\"}}, \"type\": \"histogram\"}], \"histogram2d\": [{\"colorbar\": {\"outlinewidth\": 0, \"ticks\": \"\"}, \"colorscale\": [[0.0, \"#0d0887\"], [0.1111111111111111, \"#46039f\"], [0.2222222222222222, \"#7201a8\"], [0.3333333333333333, \"#9c179e\"], [0.4444444444444444, \"#bd3786\"], [0.5555555555555556, \"#d8576b\"], [0.6666666666666666, \"#ed7953\"], [0.7777777777777778, \"#fb9f3a\"], [0.8888888888888888, \"#fdca26\"], [1.0, \"#f0f921\"]], \"type\": \"histogram2d\"}], \"histogram2dcontour\": [{\"colorbar\": {\"outlinewidth\": 0, \"ticks\": \"\"}, \"colorscale\": [[0.0, \"#0d0887\"], [0.1111111111111111, \"#46039f\"], [0.2222222222222222, \"#7201a8\"], [0.3333333333333333, \"#9c179e\"], [0.4444444444444444, \"#bd3786\"], [0.5555555555555556, \"#d8576b\"], [0.6666666666666666, \"#ed7953\"], [0.7777777777777778, \"#fb9f3a\"], [0.8888888888888888, \"#fdca26\"], [1.0, \"#f0f921\"]], \"type\": \"histogram2dcontour\"}], \"mesh3d\": [{\"colorbar\": {\"outlinewidth\": 0, \"ticks\": \"\"}, \"type\": \"mesh3d\"}], \"parcoords\": [{\"line\": {\"colorbar\": {\"outlinewidth\": 0, \"ticks\": \"\"}}, \"type\": \"parcoords\"}], \"pie\": [{\"automargin\": true, \"type\": \"pie\"}], \"scatter\": [{\"marker\": {\"colorbar\": {\"outlinewidth\": 0, \"ticks\": \"\"}}, \"type\": \"scatter\"}], \"scatter3d\": [{\"line\": {\"colorbar\": {\"outlinewidth\": 0, \"ticks\": \"\"}}, \"marker\": {\"colorbar\": {\"outlinewidth\": 0, \"ticks\": \"\"}}, \"type\": \"scatter3d\"}], \"scattercarpet\": [{\"marker\": {\"colorbar\": {\"outlinewidth\": 0, \"ticks\": \"\"}}, \"type\": \"scattercarpet\"}], \"scattergeo\": [{\"marker\": {\"colorbar\": {\"outlinewidth\": 0, \"ticks\": \"\"}}, \"type\": \"scattergeo\"}], \"scattergl\": [{\"marker\": {\"colorbar\": {\"outlinewidth\": 0, \"ticks\": \"\"}}, \"type\": \"scattergl\"}], \"scattermapbox\": [{\"marker\": {\"colorbar\": {\"outlinewidth\": 0, \"ticks\": \"\"}}, \"type\": \"scattermapbox\"}], \"scatterpolar\": [{\"marker\": {\"colorbar\": {\"outlinewidth\": 0, \"ticks\": \"\"}}, \"type\": \"scatterpolar\"}], \"scatterpolargl\": [{\"marker\": {\"colorbar\": {\"outlinewidth\": 0, \"ticks\": \"\"}}, \"type\": \"scatterpolargl\"}], \"scatterternary\": [{\"marker\": {\"colorbar\": {\"outlinewidth\": 0, \"ticks\": \"\"}}, \"type\": \"scatterternary\"}], \"surface\": [{\"colorbar\": {\"outlinewidth\": 0, \"ticks\": \"\"}, \"colorscale\": [[0.0, \"#0d0887\"], [0.1111111111111111, \"#46039f\"], [0.2222222222222222, \"#7201a8\"], [0.3333333333333333, \"#9c179e\"], [0.4444444444444444, \"#bd3786\"], [0.5555555555555556, \"#d8576b\"], [0.6666666666666666, \"#ed7953\"], [0.7777777777777778, \"#fb9f3a\"], [0.8888888888888888, \"#fdca26\"], [1.0, \"#f0f921\"]], \"type\": \"surface\"}], \"table\": [{\"cells\": {\"fill\": {\"color\": \"#EBF0F8\"}, \"line\": {\"color\": \"white\"}}, \"header\": {\"fill\": {\"color\": \"#C8D4E3\"}, \"line\": {\"color\": \"white\"}}, \"type\": \"table\"}]}, \"layout\": {\"annotationdefaults\": {\"arrowcolor\": \"#2a3f5f\", \"arrowhead\": 0, \"arrowwidth\": 1}, \"coloraxis\": {\"colorbar\": {\"outlinewidth\": 0, \"ticks\": \"\"}}, \"colorscale\": {\"diverging\": [[0, \"#8e0152\"], [0.1, \"#c51b7d\"], [0.2, \"#de77ae\"], [0.3, \"#f1b6da\"], [0.4, \"#fde0ef\"], [0.5, \"#f7f7f7\"], [0.6, \"#e6f5d0\"], [0.7, \"#b8e186\"], [0.8, \"#7fbc41\"], [0.9, \"#4d9221\"], [1, \"#276419\"]], \"sequential\": [[0.0, \"#0d0887\"], [0.1111111111111111, \"#46039f\"], [0.2222222222222222, \"#7201a8\"], [0.3333333333333333, \"#9c179e\"], [0.4444444444444444, \"#bd3786\"], [0.5555555555555556, \"#d8576b\"], [0.6666666666666666, \"#ed7953\"], [0.7777777777777778, \"#fb9f3a\"], [0.8888888888888888, \"#fdca26\"], [1.0, \"#f0f921\"]], \"sequentialminus\": [[0.0, \"#0d0887\"], [0.1111111111111111, \"#46039f\"], [0.2222222222222222, \"#7201a8\"], [0.3333333333333333, \"#9c179e\"], [0.4444444444444444, \"#bd3786\"], [0.5555555555555556, \"#d8576b\"], [0.6666666666666666, \"#ed7953\"], [0.7777777777777778, \"#fb9f3a\"], [0.8888888888888888, \"#fdca26\"], [1.0, \"#f0f921\"]]}, \"colorway\": [\"#636efa\", \"#EF553B\", \"#00cc96\", \"#ab63fa\", \"#FFA15A\", \"#19d3f3\", \"#FF6692\", \"#B6E880\", \"#FF97FF\", \"#FECB52\"], \"font\": {\"color\": \"#2a3f5f\"}, \"geo\": {\"bgcolor\": \"white\", \"lakecolor\": \"white\", \"landcolor\": \"#E5ECF6\", \"showlakes\": true, \"showland\": true, \"subunitcolor\": \"white\"}, \"hoverlabel\": {\"align\": \"left\"}, \"hovermode\": \"closest\", \"mapbox\": {\"style\": \"light\"}, \"paper_bgcolor\": \"white\", \"plot_bgcolor\": \"#E5ECF6\", \"polar\": {\"angularaxis\": {\"gridcolor\": \"white\", \"linecolor\": \"white\", \"ticks\": \"\"}, \"bgcolor\": \"#E5ECF6\", \"radialaxis\": {\"gridcolor\": \"white\", \"linecolor\": \"white\", \"ticks\": \"\"}}, \"scene\": {\"xaxis\": {\"backgroundcolor\": \"#E5ECF6\", \"gridcolor\": \"white\", \"gridwidth\": 2, \"linecolor\": \"white\", \"showbackground\": true, \"ticks\": \"\", \"zerolinecolor\": \"white\"}, \"yaxis\": {\"backgroundcolor\": \"#E5ECF6\", \"gridcolor\": \"white\", \"gridwidth\": 2, \"linecolor\": \"white\", \"showbackground\": true, \"ticks\": \"\", \"zerolinecolor\": \"white\"}, \"zaxis\": {\"backgroundcolor\": \"#E5ECF6\", \"gridcolor\": \"white\", \"gridwidth\": 2, \"linecolor\": \"white\", \"showbackground\": true, \"ticks\": \"\", \"zerolinecolor\": \"white\"}}, \"shapedefaults\": {\"line\": {\"color\": \"#2a3f5f\"}}, \"ternary\": {\"aaxis\": {\"gridcolor\": \"white\", \"linecolor\": \"white\", \"ticks\": \"\"}, \"baxis\": {\"gridcolor\": \"white\", \"linecolor\": \"white\", \"ticks\": \"\"}, \"bgcolor\": \"#E5ECF6\", \"caxis\": {\"gridcolor\": \"white\", \"linecolor\": \"white\", \"ticks\": \"\"}}, \"title\": {\"x\": 0.05}, \"xaxis\": {\"automargin\": true, \"gridcolor\": \"white\", \"linecolor\": \"white\", \"ticks\": \"\", \"title\": {\"standoff\": 15}, \"zerolinecolor\": \"white\", \"zerolinewidth\": 2}, \"yaxis\": {\"automargin\": true, \"gridcolor\": \"white\", \"linecolor\": \"white\", \"ticks\": \"\", \"title\": {\"standoff\": 15}, \"zerolinecolor\": \"white\", \"zerolinewidth\": 2}}}, \"title\": {\"font\": {\"color\": \"#4D5663\"}}, \"xaxis\": {\"gridcolor\": \"#E1E5ED\", \"showgrid\": true, \"tickfont\": {\"color\": \"#4D5663\"}, \"title\": {\"font\": {\"color\": \"#4D5663\"}, \"text\": \"\"}, \"zerolinecolor\": \"#E1E5ED\"}, \"yaxis\": {\"gridcolor\": \"#E1E5ED\", \"showgrid\": true, \"tickfont\": {\"color\": \"#4D5663\"}, \"title\": {\"font\": {\"color\": \"#4D5663\"}, \"text\": \"\"}, \"zerolinecolor\": \"#E1E5ED\"}},\n",
       "                        {\"showLink\": true, \"linkText\": \"Export to plot.ly\", \"plotlyServerURL\": \"https://plot.ly\", \"responsive\": true}\n",
       "                    ).then(function(){\n",
       "                            \n",
       "var gd = document.getElementById('54ed275c-ebe4-4783-85d3-e16df05d6a42');\n",
       "var x = new MutationObserver(function (mutations, observer) {{\n",
       "        var display = window.getComputedStyle(gd).display;\n",
       "        if (!display || display === 'none') {{\n",
       "            console.log([gd, 'removed!']);\n",
       "            Plotly.purge(gd);\n",
       "            observer.disconnect();\n",
       "        }}\n",
       "}});\n",
       "\n",
       "// Listen for the removal of the full notebook cells\n",
       "var notebookContainer = gd.closest('#notebook-container');\n",
       "if (notebookContainer) {{\n",
       "    x.observe(notebookContainer, {childList: true});\n",
       "}}\n",
       "\n",
       "// Listen for the clearing of the current output cell\n",
       "var outputEl = gd.closest('.output');\n",
       "if (outputEl) {{\n",
       "    x.observe(outputEl, {childList: true});\n",
       "}}\n",
       "\n",
       "                        })\n",
       "                };\n",
       "                });\n",
       "            </script>\n",
       "        </div>"
      ]
     },
     "metadata": {},
     "output_type": "display_data"
    }
   ],
   "source": [
    "df['A'].iplot(kind='hist',bins=25)"
   ]
  },
  {
   "cell_type": "code",
   "execution_count": 17,
   "metadata": {},
   "outputs": [
    {
     "data": {
      "application/vnd.plotly.v1+json": {
       "config": {
        "linkText": "Export to plot.ly",
        "plotlyServerURL": "https://plot.ly",
        "showLink": true
       },
       "data": [
        {
         "marker": {
          "color": [
           "rgb(255, 153, 51)",
           "rgb(55, 128, 191)",
           "rgb(50, 171, 96)",
           "rgb(128, 0, 128)",
           "rgb(219, 64, 82)",
           "rgb(0, 128, 128)",
           "rgb(255, 255, 51)",
           "rgb(128, 128, 0)",
           "rgb(251, 128, 114)",
           "rgb(128, 177, 211)"
          ],
          "line": {
           "width": 1.3
          },
          "size": [
           69,
           51,
           31,
           60,
           60,
           50,
           20,
           37,
           45,
           100,
           63,
           61,
           71,
           28,
           47,
           43,
           79,
           70,
           70,
           47,
           42,
           35,
           67,
           77,
           68,
           112,
           29,
           71,
           45,
           48,
           80,
           62,
           89,
           90,
           77,
           58,
           61,
           31,
           43,
           75,
           40,
           65,
           54,
           54,
           41,
           43,
           42,
           59,
           57,
           92,
           13,
           39,
           50,
           46,
           48,
           41,
           31,
           48,
           63,
           31,
           39,
           76,
           33,
           66,
           45,
           45,
           50,
           27,
           66,
           53,
           54,
           63,
           55,
           49,
           52,
           63,
           79,
           49,
           41,
           26,
           30,
           65,
           47,
           52,
           59,
           45,
           60,
           73,
           12,
           61,
           26,
           38,
           57,
           52,
           64,
           73,
           51,
           32,
           35,
           60
          ],
          "symbol": "circle"
         },
         "mode": "markers",
         "text": "",
         "type": "scatter",
         "x": [
          -3.0891690814370802,
          -0.15093812636863455,
          0.13226757129359545,
          -0.9436480441721036,
          1.0939150837805443,
          2.233999101663424,
          -1.408821280745671,
          0.6644399525912178,
          -1.6692209129812499,
          -0.5781750330564617,
          0.3259479485936982,
          0.35337291909405744,
          -0.9355951333970114,
          1.3993657665589674,
          -0.7264432065839201,
          1.2706747152305884,
          0.08987776345309252,
          -0.8739620333814003,
          0.45305462405840774,
          2.077131993710634,
          -0.6497997380408793,
          0.10363703694124451,
          0.3685517032749556,
          -1.660889834320239,
          0.22748720155204724,
          -0.17608486595685274,
          1.9508324776532389,
          -0.948824710656382,
          0.24637108641800815,
          -0.17990593133279728,
          -0.5755789986094119,
          -0.22662134604804202,
          -0.8538680787755056,
          0.013849875503001482,
          0.32597581297179595,
          -0.8570921503818173,
          1.1028656743252894,
          0.5423182366845734,
          -0.5223174727704796,
          0.8231902161617701,
          0.7082832668864215,
          -2.3610760141909157,
          0.2248092690337905,
          -0.36923956224707316,
          0.47222005942496675,
          1.1822084221798006,
          -0.7039689666073455,
          -1.6448332982778755,
          -0.7701095141840978,
          1.563570590474163,
          -1.012153140899084,
          0.23841585632035256,
          -0.10407886028953234,
          -1.5621766835347606,
          2.287473672845577,
          -1.6895900849694523,
          0.523563807588396,
          -0.2458264678003052,
          -0.4110176453047839,
          0.05109260418553095,
          1.124657961564242,
          0.039085117909342014,
          0.07476390135402051,
          -1.6844573466745725,
          0.012687342579481247,
          -0.8125959503982871,
          0.5429420065790311,
          1.1584453916061306,
          0.2913230192637508,
          -0.5259598537222732,
          -0.40300408177855257,
          -0.3231243016908354,
          1.1195392948215908,
          1.1177784724135182,
          -0.2934667283084928,
          0.44485367348780974,
          0.31945308725082366,
          -0.035216205859157454,
          0.5326000062572194,
          -0.23700601438944363,
          -2.125131809986599,
          1.9665838565142724,
          -0.10621838516393992,
          -1.5297894140868404,
          1.1923521839899056,
          0.42434109188195157,
          -0.5928653108372631,
          0.5444827992464166,
          1.908321054359214,
          0.9201338704472097,
          -0.37017190530359384,
          -0.1287567243335507,
          0.5198475796450365,
          -1.0026106354082849,
          -0.5048666794652888,
          -2.2145820644230936,
          1.223006137776256,
          0.7997705039572335,
          -1.2287365551191047,
          -0.33203915961161806
         ],
         "y": [
          -0.6497331758939314,
          0.28793182818506585,
          -0.6406546473476662,
          0.44288871491097204,
          -0.05516775452979829,
          0.24357440760663784,
          0.19862804394467937,
          0.017871486326105964,
          0.9419586907313144,
          -0.5922269136030222,
          0.4632576220139533,
          -1.02180267541963,
          0.009211380888768295,
          -1.452374979601723,
          0.6076363939370528,
          1.1372970733571235,
          0.8216723348917082,
          0.5156034911723388,
          -0.8402491636980118,
          0.5738466498177162,
          0.4230814437763436,
          -0.2618550866393429,
          -1.4581184044032003,
          1.186524523218494,
          0.16490060860000813,
          0.745770744854132,
          -0.6610696189050297,
          1.3500768352975112,
          1.1987687800465134,
          2.3096028492876384,
          0.5457531625457045,
          -1.8574236349528406,
          -1.18998017247201,
          1.5181164047083455,
          0.14452515865031162,
          0.6790308519434948,
          0.7527245917195355,
          -0.5019644786553503,
          -0.3098563757594705,
          -1.6270825975794787,
          -1.1153274885862796,
          0.0698844178409464,
          -0.13836448145307176,
          0.2977336458815172,
          -1.7761185605661562,
          -1.193535811393635,
          0.6582749459954654,
          0.11742272648375549,
          -0.43788297088276346,
          -1.245679984165115,
          -0.4235286643493187,
          0.02211086881471649,
          -1.4213475477328146,
          -1.547286954040525,
          -2.418368303116361,
          -2.5416510859474353,
          -0.20012910611234505,
          0.2207315892413318,
          0.9806114155971659,
          -0.4514072244754144,
          0.237972413598495,
          1.6661274988172907,
          0.0008207307891878887,
          1.5532407406951003,
          0.05639598449363403,
          -2.2076194668262348,
          -1.2757423993728216,
          -0.7671078846184362,
          -0.44014447187790706,
          -0.09534239410143637,
          0.23862260010165232,
          1.5184905362081385,
          0.25022791644971093,
          0.13193641305590578,
          0.45377837338234756,
          -0.3976932257246214,
          0.9490242186260665,
          -1.3896518058840215,
          0.20243155758583042,
          -2.764972097819883,
          -0.4773196328772329,
          -0.9363311324586043,
          1.3802374486808353,
          0.4431852775753563,
          -1.1880902100557515,
          0.09022540025355277,
          0.30188535198005945,
          -0.5745808656083056,
          -1.3838746723031254,
          -1.5336549625779974,
          -0.4152479223898434,
          -1.082669504325524,
          1.6255905021979637,
          -0.17810907004411655,
          0.14241206049340105,
          -1.0202946103547477,
          0.7833004639524571,
          -0.06931778148223472,
          -1.1869108938985733,
          -2.033802148596967
         ]
        }
       ],
       "layout": {
        "legend": {
         "bgcolor": "#F5F6F9",
         "font": {
          "color": "#4D5663"
         }
        },
        "paper_bgcolor": "#F5F6F9",
        "plot_bgcolor": "#F5F6F9",
        "template": {
         "data": {
          "bar": [
           {
            "error_x": {
             "color": "#2a3f5f"
            },
            "error_y": {
             "color": "#2a3f5f"
            },
            "marker": {
             "line": {
              "color": "#E5ECF6",
              "width": 0.5
             }
            },
            "type": "bar"
           }
          ],
          "barpolar": [
           {
            "marker": {
             "line": {
              "color": "#E5ECF6",
              "width": 0.5
             }
            },
            "type": "barpolar"
           }
          ],
          "carpet": [
           {
            "aaxis": {
             "endlinecolor": "#2a3f5f",
             "gridcolor": "white",
             "linecolor": "white",
             "minorgridcolor": "white",
             "startlinecolor": "#2a3f5f"
            },
            "baxis": {
             "endlinecolor": "#2a3f5f",
             "gridcolor": "white",
             "linecolor": "white",
             "minorgridcolor": "white",
             "startlinecolor": "#2a3f5f"
            },
            "type": "carpet"
           }
          ],
          "choropleth": [
           {
            "colorbar": {
             "outlinewidth": 0,
             "ticks": ""
            },
            "type": "choropleth"
           }
          ],
          "contour": [
           {
            "colorbar": {
             "outlinewidth": 0,
             "ticks": ""
            },
            "colorscale": [
             [
              0,
              "#0d0887"
             ],
             [
              0.1111111111111111,
              "#46039f"
             ],
             [
              0.2222222222222222,
              "#7201a8"
             ],
             [
              0.3333333333333333,
              "#9c179e"
             ],
             [
              0.4444444444444444,
              "#bd3786"
             ],
             [
              0.5555555555555556,
              "#d8576b"
             ],
             [
              0.6666666666666666,
              "#ed7953"
             ],
             [
              0.7777777777777778,
              "#fb9f3a"
             ],
             [
              0.8888888888888888,
              "#fdca26"
             ],
             [
              1,
              "#f0f921"
             ]
            ],
            "type": "contour"
           }
          ],
          "contourcarpet": [
           {
            "colorbar": {
             "outlinewidth": 0,
             "ticks": ""
            },
            "type": "contourcarpet"
           }
          ],
          "heatmap": [
           {
            "colorbar": {
             "outlinewidth": 0,
             "ticks": ""
            },
            "colorscale": [
             [
              0,
              "#0d0887"
             ],
             [
              0.1111111111111111,
              "#46039f"
             ],
             [
              0.2222222222222222,
              "#7201a8"
             ],
             [
              0.3333333333333333,
              "#9c179e"
             ],
             [
              0.4444444444444444,
              "#bd3786"
             ],
             [
              0.5555555555555556,
              "#d8576b"
             ],
             [
              0.6666666666666666,
              "#ed7953"
             ],
             [
              0.7777777777777778,
              "#fb9f3a"
             ],
             [
              0.8888888888888888,
              "#fdca26"
             ],
             [
              1,
              "#f0f921"
             ]
            ],
            "type": "heatmap"
           }
          ],
          "heatmapgl": [
           {
            "colorbar": {
             "outlinewidth": 0,
             "ticks": ""
            },
            "colorscale": [
             [
              0,
              "#0d0887"
             ],
             [
              0.1111111111111111,
              "#46039f"
             ],
             [
              0.2222222222222222,
              "#7201a8"
             ],
             [
              0.3333333333333333,
              "#9c179e"
             ],
             [
              0.4444444444444444,
              "#bd3786"
             ],
             [
              0.5555555555555556,
              "#d8576b"
             ],
             [
              0.6666666666666666,
              "#ed7953"
             ],
             [
              0.7777777777777778,
              "#fb9f3a"
             ],
             [
              0.8888888888888888,
              "#fdca26"
             ],
             [
              1,
              "#f0f921"
             ]
            ],
            "type": "heatmapgl"
           }
          ],
          "histogram": [
           {
            "marker": {
             "colorbar": {
              "outlinewidth": 0,
              "ticks": ""
             }
            },
            "type": "histogram"
           }
          ],
          "histogram2d": [
           {
            "colorbar": {
             "outlinewidth": 0,
             "ticks": ""
            },
            "colorscale": [
             [
              0,
              "#0d0887"
             ],
             [
              0.1111111111111111,
              "#46039f"
             ],
             [
              0.2222222222222222,
              "#7201a8"
             ],
             [
              0.3333333333333333,
              "#9c179e"
             ],
             [
              0.4444444444444444,
              "#bd3786"
             ],
             [
              0.5555555555555556,
              "#d8576b"
             ],
             [
              0.6666666666666666,
              "#ed7953"
             ],
             [
              0.7777777777777778,
              "#fb9f3a"
             ],
             [
              0.8888888888888888,
              "#fdca26"
             ],
             [
              1,
              "#f0f921"
             ]
            ],
            "type": "histogram2d"
           }
          ],
          "histogram2dcontour": [
           {
            "colorbar": {
             "outlinewidth": 0,
             "ticks": ""
            },
            "colorscale": [
             [
              0,
              "#0d0887"
             ],
             [
              0.1111111111111111,
              "#46039f"
             ],
             [
              0.2222222222222222,
              "#7201a8"
             ],
             [
              0.3333333333333333,
              "#9c179e"
             ],
             [
              0.4444444444444444,
              "#bd3786"
             ],
             [
              0.5555555555555556,
              "#d8576b"
             ],
             [
              0.6666666666666666,
              "#ed7953"
             ],
             [
              0.7777777777777778,
              "#fb9f3a"
             ],
             [
              0.8888888888888888,
              "#fdca26"
             ],
             [
              1,
              "#f0f921"
             ]
            ],
            "type": "histogram2dcontour"
           }
          ],
          "mesh3d": [
           {
            "colorbar": {
             "outlinewidth": 0,
             "ticks": ""
            },
            "type": "mesh3d"
           }
          ],
          "parcoords": [
           {
            "line": {
             "colorbar": {
              "outlinewidth": 0,
              "ticks": ""
             }
            },
            "type": "parcoords"
           }
          ],
          "pie": [
           {
            "automargin": true,
            "type": "pie"
           }
          ],
          "scatter": [
           {
            "marker": {
             "colorbar": {
              "outlinewidth": 0,
              "ticks": ""
             }
            },
            "type": "scatter"
           }
          ],
          "scatter3d": [
           {
            "line": {
             "colorbar": {
              "outlinewidth": 0,
              "ticks": ""
             }
            },
            "marker": {
             "colorbar": {
              "outlinewidth": 0,
              "ticks": ""
             }
            },
            "type": "scatter3d"
           }
          ],
          "scattercarpet": [
           {
            "marker": {
             "colorbar": {
              "outlinewidth": 0,
              "ticks": ""
             }
            },
            "type": "scattercarpet"
           }
          ],
          "scattergeo": [
           {
            "marker": {
             "colorbar": {
              "outlinewidth": 0,
              "ticks": ""
             }
            },
            "type": "scattergeo"
           }
          ],
          "scattergl": [
           {
            "marker": {
             "colorbar": {
              "outlinewidth": 0,
              "ticks": ""
             }
            },
            "type": "scattergl"
           }
          ],
          "scattermapbox": [
           {
            "marker": {
             "colorbar": {
              "outlinewidth": 0,
              "ticks": ""
             }
            },
            "type": "scattermapbox"
           }
          ],
          "scatterpolar": [
           {
            "marker": {
             "colorbar": {
              "outlinewidth": 0,
              "ticks": ""
             }
            },
            "type": "scatterpolar"
           }
          ],
          "scatterpolargl": [
           {
            "marker": {
             "colorbar": {
              "outlinewidth": 0,
              "ticks": ""
             }
            },
            "type": "scatterpolargl"
           }
          ],
          "scatterternary": [
           {
            "marker": {
             "colorbar": {
              "outlinewidth": 0,
              "ticks": ""
             }
            },
            "type": "scatterternary"
           }
          ],
          "surface": [
           {
            "colorbar": {
             "outlinewidth": 0,
             "ticks": ""
            },
            "colorscale": [
             [
              0,
              "#0d0887"
             ],
             [
              0.1111111111111111,
              "#46039f"
             ],
             [
              0.2222222222222222,
              "#7201a8"
             ],
             [
              0.3333333333333333,
              "#9c179e"
             ],
             [
              0.4444444444444444,
              "#bd3786"
             ],
             [
              0.5555555555555556,
              "#d8576b"
             ],
             [
              0.6666666666666666,
              "#ed7953"
             ],
             [
              0.7777777777777778,
              "#fb9f3a"
             ],
             [
              0.8888888888888888,
              "#fdca26"
             ],
             [
              1,
              "#f0f921"
             ]
            ],
            "type": "surface"
           }
          ],
          "table": [
           {
            "cells": {
             "fill": {
              "color": "#EBF0F8"
             },
             "line": {
              "color": "white"
             }
            },
            "header": {
             "fill": {
              "color": "#C8D4E3"
             },
             "line": {
              "color": "white"
             }
            },
            "type": "table"
           }
          ]
         },
         "layout": {
          "annotationdefaults": {
           "arrowcolor": "#2a3f5f",
           "arrowhead": 0,
           "arrowwidth": 1
          },
          "coloraxis": {
           "colorbar": {
            "outlinewidth": 0,
            "ticks": ""
           }
          },
          "colorscale": {
           "diverging": [
            [
             0,
             "#8e0152"
            ],
            [
             0.1,
             "#c51b7d"
            ],
            [
             0.2,
             "#de77ae"
            ],
            [
             0.3,
             "#f1b6da"
            ],
            [
             0.4,
             "#fde0ef"
            ],
            [
             0.5,
             "#f7f7f7"
            ],
            [
             0.6,
             "#e6f5d0"
            ],
            [
             0.7,
             "#b8e186"
            ],
            [
             0.8,
             "#7fbc41"
            ],
            [
             0.9,
             "#4d9221"
            ],
            [
             1,
             "#276419"
            ]
           ],
           "sequential": [
            [
             0,
             "#0d0887"
            ],
            [
             0.1111111111111111,
             "#46039f"
            ],
            [
             0.2222222222222222,
             "#7201a8"
            ],
            [
             0.3333333333333333,
             "#9c179e"
            ],
            [
             0.4444444444444444,
             "#bd3786"
            ],
            [
             0.5555555555555556,
             "#d8576b"
            ],
            [
             0.6666666666666666,
             "#ed7953"
            ],
            [
             0.7777777777777778,
             "#fb9f3a"
            ],
            [
             0.8888888888888888,
             "#fdca26"
            ],
            [
             1,
             "#f0f921"
            ]
           ],
           "sequentialminus": [
            [
             0,
             "#0d0887"
            ],
            [
             0.1111111111111111,
             "#46039f"
            ],
            [
             0.2222222222222222,
             "#7201a8"
            ],
            [
             0.3333333333333333,
             "#9c179e"
            ],
            [
             0.4444444444444444,
             "#bd3786"
            ],
            [
             0.5555555555555556,
             "#d8576b"
            ],
            [
             0.6666666666666666,
             "#ed7953"
            ],
            [
             0.7777777777777778,
             "#fb9f3a"
            ],
            [
             0.8888888888888888,
             "#fdca26"
            ],
            [
             1,
             "#f0f921"
            ]
           ]
          },
          "colorway": [
           "#636efa",
           "#EF553B",
           "#00cc96",
           "#ab63fa",
           "#FFA15A",
           "#19d3f3",
           "#FF6692",
           "#B6E880",
           "#FF97FF",
           "#FECB52"
          ],
          "font": {
           "color": "#2a3f5f"
          },
          "geo": {
           "bgcolor": "white",
           "lakecolor": "white",
           "landcolor": "#E5ECF6",
           "showlakes": true,
           "showland": true,
           "subunitcolor": "white"
          },
          "hoverlabel": {
           "align": "left"
          },
          "hovermode": "closest",
          "mapbox": {
           "style": "light"
          },
          "paper_bgcolor": "white",
          "plot_bgcolor": "#E5ECF6",
          "polar": {
           "angularaxis": {
            "gridcolor": "white",
            "linecolor": "white",
            "ticks": ""
           },
           "bgcolor": "#E5ECF6",
           "radialaxis": {
            "gridcolor": "white",
            "linecolor": "white",
            "ticks": ""
           }
          },
          "scene": {
           "xaxis": {
            "backgroundcolor": "#E5ECF6",
            "gridcolor": "white",
            "gridwidth": 2,
            "linecolor": "white",
            "showbackground": true,
            "ticks": "",
            "zerolinecolor": "white"
           },
           "yaxis": {
            "backgroundcolor": "#E5ECF6",
            "gridcolor": "white",
            "gridwidth": 2,
            "linecolor": "white",
            "showbackground": true,
            "ticks": "",
            "zerolinecolor": "white"
           },
           "zaxis": {
            "backgroundcolor": "#E5ECF6",
            "gridcolor": "white",
            "gridwidth": 2,
            "linecolor": "white",
            "showbackground": true,
            "ticks": "",
            "zerolinecolor": "white"
           }
          },
          "shapedefaults": {
           "line": {
            "color": "#2a3f5f"
           }
          },
          "ternary": {
           "aaxis": {
            "gridcolor": "white",
            "linecolor": "white",
            "ticks": ""
           },
           "baxis": {
            "gridcolor": "white",
            "linecolor": "white",
            "ticks": ""
           },
           "bgcolor": "#E5ECF6",
           "caxis": {
            "gridcolor": "white",
            "linecolor": "white",
            "ticks": ""
           }
          },
          "title": {
           "x": 0.05
          },
          "xaxis": {
           "automargin": true,
           "gridcolor": "white",
           "linecolor": "white",
           "ticks": "",
           "title": {
            "standoff": 15
           },
           "zerolinecolor": "white",
           "zerolinewidth": 2
          },
          "yaxis": {
           "automargin": true,
           "gridcolor": "white",
           "linecolor": "white",
           "ticks": "",
           "title": {
            "standoff": 15
           },
           "zerolinecolor": "white",
           "zerolinewidth": 2
          }
         }
        },
        "title": {
         "font": {
          "color": "#4D5663"
         }
        },
        "xaxis": {
         "gridcolor": "#E1E5ED",
         "showgrid": true,
         "tickfont": {
          "color": "#4D5663"
         },
         "title": {
          "font": {
           "color": "#4D5663"
          },
          "text": ""
         },
         "zerolinecolor": "#E1E5ED"
        },
        "yaxis": {
         "gridcolor": "#E1E5ED",
         "showgrid": true,
         "tickfont": {
          "color": "#4D5663"
         },
         "title": {
          "font": {
           "color": "#4D5663"
          },
          "text": ""
         },
         "zerolinecolor": "#E1E5ED"
        }
       }
      },
      "text/html": [
       "<div>\n",
       "        \n",
       "        \n",
       "            <div id=\"d9549a81-a58f-4207-ba2d-e3dcd19b62aa\" class=\"plotly-graph-div\" style=\"height:525px; width:100%;\"></div>\n",
       "            <script type=\"text/javascript\">\n",
       "                require([\"plotly\"], function(Plotly) {\n",
       "                    window.PLOTLYENV=window.PLOTLYENV || {};\n",
       "                    window.PLOTLYENV.BASE_URL='https://plot.ly';\n",
       "                    \n",
       "                if (document.getElementById(\"d9549a81-a58f-4207-ba2d-e3dcd19b62aa\")) {\n",
       "                    Plotly.newPlot(\n",
       "                        'd9549a81-a58f-4207-ba2d-e3dcd19b62aa',\n",
       "                        [{\"marker\": {\"color\": [\"rgb(255, 153, 51)\", \"rgb(55, 128, 191)\", \"rgb(50, 171, 96)\", \"rgb(128, 0, 128)\", \"rgb(219, 64, 82)\", \"rgb(0, 128, 128)\", \"rgb(255, 255, 51)\", \"rgb(128, 128, 0)\", \"rgb(251, 128, 114)\", \"rgb(128, 177, 211)\"], \"line\": {\"width\": 1.3}, \"size\": [69, 51, 31, 60, 60, 50, 20, 37, 45, 100, 63, 61, 71, 28, 47, 43, 79, 70, 70, 47, 42, 35, 67, 77, 68, 112, 29, 71, 45, 48, 80, 62, 89, 90, 77, 58, 61, 31, 43, 75, 40, 65, 54, 54, 41, 43, 42, 59, 57, 92, 13, 39, 50, 46, 48, 41, 31, 48, 63, 31, 39, 76, 33, 66, 45, 45, 50, 27, 66, 53, 54, 63, 55, 49, 52, 63, 79, 49, 41, 26, 30, 65, 47, 52, 59, 45, 60, 73, 12, 61, 26, 38, 57, 52, 64, 73, 51, 32, 35, 60], \"symbol\": \"circle\"}, \"mode\": \"markers\", \"text\": \"\", \"type\": \"scatter\", \"x\": [-3.0891690814370802, -0.15093812636863455, 0.13226757129359545, -0.9436480441721036, 1.0939150837805443, 2.233999101663424, -1.408821280745671, 0.6644399525912178, -1.6692209129812499, -0.5781750330564617, 0.3259479485936982, 0.35337291909405744, -0.9355951333970114, 1.3993657665589674, -0.7264432065839201, 1.2706747152305884, 0.08987776345309252, -0.8739620333814003, 0.45305462405840774, 2.077131993710634, -0.6497997380408793, 0.10363703694124451, 0.3685517032749556, -1.660889834320239, 0.22748720155204724, -0.17608486595685274, 1.9508324776532389, -0.948824710656382, 0.24637108641800815, -0.17990593133279728, -0.5755789986094119, -0.22662134604804202, -0.8538680787755056, 0.013849875503001482, 0.32597581297179595, -0.8570921503818173, 1.1028656743252894, 0.5423182366845734, -0.5223174727704796, 0.8231902161617701, 0.7082832668864215, -2.3610760141909157, 0.2248092690337905, -0.36923956224707316, 0.47222005942496675, 1.1822084221798006, -0.7039689666073455, -1.6448332982778755, -0.7701095141840978, 1.563570590474163, -1.012153140899084, 0.23841585632035256, -0.10407886028953234, -1.5621766835347606, 2.287473672845577, -1.6895900849694523, 0.523563807588396, -0.2458264678003052, -0.4110176453047839, 0.05109260418553095, 1.124657961564242, 0.039085117909342014, 0.07476390135402051, -1.6844573466745725, 0.012687342579481247, -0.8125959503982871, 0.5429420065790311, 1.1584453916061306, 0.2913230192637508, -0.5259598537222732, -0.40300408177855257, -0.3231243016908354, 1.1195392948215908, 1.1177784724135182, -0.2934667283084928, 0.44485367348780974, 0.31945308725082366, -0.035216205859157454, 0.5326000062572194, -0.23700601438944363, -2.125131809986599, 1.9665838565142724, -0.10621838516393992, -1.5297894140868404, 1.1923521839899056, 0.42434109188195157, -0.5928653108372631, 0.5444827992464166, 1.908321054359214, 0.9201338704472097, -0.37017190530359384, -0.1287567243335507, 0.5198475796450365, -1.0026106354082849, -0.5048666794652888, -2.2145820644230936, 1.223006137776256, 0.7997705039572335, -1.2287365551191047, -0.33203915961161806], \"y\": [-0.6497331758939314, 0.28793182818506585, -0.6406546473476662, 0.44288871491097204, -0.05516775452979829, 0.24357440760663784, 0.19862804394467937, 0.017871486326105964, 0.9419586907313144, -0.5922269136030222, 0.4632576220139533, -1.02180267541963, 0.009211380888768295, -1.452374979601723, 0.6076363939370528, 1.1372970733571235, 0.8216723348917082, 0.5156034911723388, -0.8402491636980118, 0.5738466498177162, 0.4230814437763436, -0.2618550866393429, -1.4581184044032003, 1.186524523218494, 0.16490060860000813, 0.745770744854132, -0.6610696189050297, 1.3500768352975112, 1.1987687800465134, 2.3096028492876384, 0.5457531625457045, -1.8574236349528406, -1.18998017247201, 1.5181164047083455, 0.14452515865031162, 0.6790308519434948, 0.7527245917195355, -0.5019644786553503, -0.3098563757594705, -1.6270825975794787, -1.1153274885862796, 0.0698844178409464, -0.13836448145307176, 0.2977336458815172, -1.7761185605661562, -1.193535811393635, 0.6582749459954654, 0.11742272648375549, -0.43788297088276346, -1.245679984165115, -0.4235286643493187, 0.02211086881471649, -1.4213475477328146, -1.547286954040525, -2.418368303116361, -2.5416510859474353, -0.20012910611234505, 0.2207315892413318, 0.9806114155971659, -0.4514072244754144, 0.237972413598495, 1.6661274988172907, 0.0008207307891878887, 1.5532407406951003, 0.05639598449363403, -2.2076194668262348, -1.2757423993728216, -0.7671078846184362, -0.44014447187790706, -0.09534239410143637, 0.23862260010165232, 1.5184905362081385, 0.25022791644971093, 0.13193641305590578, 0.45377837338234756, -0.3976932257246214, 0.9490242186260665, -1.3896518058840215, 0.20243155758583042, -2.764972097819883, -0.4773196328772329, -0.9363311324586043, 1.3802374486808353, 0.4431852775753563, -1.1880902100557515, 0.09022540025355277, 0.30188535198005945, -0.5745808656083056, -1.3838746723031254, -1.5336549625779974, -0.4152479223898434, -1.082669504325524, 1.6255905021979637, -0.17810907004411655, 0.14241206049340105, -1.0202946103547477, 0.7833004639524571, -0.06931778148223472, -1.1869108938985733, -2.033802148596967]}],\n",
       "                        {\"legend\": {\"bgcolor\": \"#F5F6F9\", \"font\": {\"color\": \"#4D5663\"}}, \"paper_bgcolor\": \"#F5F6F9\", \"plot_bgcolor\": \"#F5F6F9\", \"template\": {\"data\": {\"bar\": [{\"error_x\": {\"color\": \"#2a3f5f\"}, \"error_y\": {\"color\": \"#2a3f5f\"}, \"marker\": {\"line\": {\"color\": \"#E5ECF6\", \"width\": 0.5}}, \"type\": \"bar\"}], \"barpolar\": [{\"marker\": {\"line\": {\"color\": \"#E5ECF6\", \"width\": 0.5}}, \"type\": \"barpolar\"}], \"carpet\": [{\"aaxis\": {\"endlinecolor\": \"#2a3f5f\", \"gridcolor\": \"white\", \"linecolor\": \"white\", \"minorgridcolor\": \"white\", \"startlinecolor\": \"#2a3f5f\"}, \"baxis\": {\"endlinecolor\": \"#2a3f5f\", \"gridcolor\": \"white\", \"linecolor\": \"white\", \"minorgridcolor\": \"white\", \"startlinecolor\": \"#2a3f5f\"}, \"type\": \"carpet\"}], \"choropleth\": [{\"colorbar\": {\"outlinewidth\": 0, \"ticks\": \"\"}, \"type\": \"choropleth\"}], \"contour\": [{\"colorbar\": {\"outlinewidth\": 0, \"ticks\": \"\"}, \"colorscale\": [[0.0, \"#0d0887\"], [0.1111111111111111, \"#46039f\"], [0.2222222222222222, \"#7201a8\"], [0.3333333333333333, \"#9c179e\"], [0.4444444444444444, \"#bd3786\"], [0.5555555555555556, \"#d8576b\"], [0.6666666666666666, \"#ed7953\"], [0.7777777777777778, \"#fb9f3a\"], [0.8888888888888888, \"#fdca26\"], [1.0, \"#f0f921\"]], \"type\": \"contour\"}], \"contourcarpet\": [{\"colorbar\": {\"outlinewidth\": 0, \"ticks\": \"\"}, \"type\": \"contourcarpet\"}], \"heatmap\": [{\"colorbar\": {\"outlinewidth\": 0, \"ticks\": \"\"}, \"colorscale\": [[0.0, \"#0d0887\"], [0.1111111111111111, \"#46039f\"], [0.2222222222222222, \"#7201a8\"], [0.3333333333333333, \"#9c179e\"], [0.4444444444444444, \"#bd3786\"], [0.5555555555555556, \"#d8576b\"], [0.6666666666666666, \"#ed7953\"], [0.7777777777777778, \"#fb9f3a\"], [0.8888888888888888, \"#fdca26\"], [1.0, \"#f0f921\"]], \"type\": \"heatmap\"}], \"heatmapgl\": [{\"colorbar\": {\"outlinewidth\": 0, \"ticks\": \"\"}, \"colorscale\": [[0.0, \"#0d0887\"], [0.1111111111111111, \"#46039f\"], [0.2222222222222222, \"#7201a8\"], [0.3333333333333333, \"#9c179e\"], [0.4444444444444444, \"#bd3786\"], [0.5555555555555556, \"#d8576b\"], [0.6666666666666666, \"#ed7953\"], [0.7777777777777778, \"#fb9f3a\"], [0.8888888888888888, \"#fdca26\"], [1.0, \"#f0f921\"]], \"type\": \"heatmapgl\"}], \"histogram\": [{\"marker\": {\"colorbar\": {\"outlinewidth\": 0, \"ticks\": \"\"}}, \"type\": \"histogram\"}], \"histogram2d\": [{\"colorbar\": {\"outlinewidth\": 0, \"ticks\": \"\"}, \"colorscale\": [[0.0, \"#0d0887\"], [0.1111111111111111, \"#46039f\"], [0.2222222222222222, \"#7201a8\"], [0.3333333333333333, \"#9c179e\"], [0.4444444444444444, \"#bd3786\"], [0.5555555555555556, \"#d8576b\"], [0.6666666666666666, \"#ed7953\"], [0.7777777777777778, \"#fb9f3a\"], [0.8888888888888888, \"#fdca26\"], [1.0, \"#f0f921\"]], \"type\": \"histogram2d\"}], \"histogram2dcontour\": [{\"colorbar\": {\"outlinewidth\": 0, \"ticks\": \"\"}, \"colorscale\": [[0.0, \"#0d0887\"], [0.1111111111111111, \"#46039f\"], [0.2222222222222222, \"#7201a8\"], [0.3333333333333333, \"#9c179e\"], [0.4444444444444444, \"#bd3786\"], [0.5555555555555556, \"#d8576b\"], [0.6666666666666666, \"#ed7953\"], [0.7777777777777778, \"#fb9f3a\"], [0.8888888888888888, \"#fdca26\"], [1.0, \"#f0f921\"]], \"type\": \"histogram2dcontour\"}], \"mesh3d\": [{\"colorbar\": {\"outlinewidth\": 0, \"ticks\": \"\"}, \"type\": \"mesh3d\"}], \"parcoords\": [{\"line\": {\"colorbar\": {\"outlinewidth\": 0, \"ticks\": \"\"}}, \"type\": \"parcoords\"}], \"pie\": [{\"automargin\": true, \"type\": \"pie\"}], \"scatter\": [{\"marker\": {\"colorbar\": {\"outlinewidth\": 0, \"ticks\": \"\"}}, \"type\": \"scatter\"}], \"scatter3d\": [{\"line\": {\"colorbar\": {\"outlinewidth\": 0, \"ticks\": \"\"}}, \"marker\": {\"colorbar\": {\"outlinewidth\": 0, \"ticks\": \"\"}}, \"type\": \"scatter3d\"}], \"scattercarpet\": [{\"marker\": {\"colorbar\": {\"outlinewidth\": 0, \"ticks\": \"\"}}, \"type\": \"scattercarpet\"}], \"scattergeo\": [{\"marker\": {\"colorbar\": {\"outlinewidth\": 0, \"ticks\": \"\"}}, \"type\": \"scattergeo\"}], \"scattergl\": [{\"marker\": {\"colorbar\": {\"outlinewidth\": 0, \"ticks\": \"\"}}, \"type\": \"scattergl\"}], \"scattermapbox\": [{\"marker\": {\"colorbar\": {\"outlinewidth\": 0, \"ticks\": \"\"}}, \"type\": \"scattermapbox\"}], \"scatterpolar\": [{\"marker\": {\"colorbar\": {\"outlinewidth\": 0, \"ticks\": \"\"}}, \"type\": \"scatterpolar\"}], \"scatterpolargl\": [{\"marker\": {\"colorbar\": {\"outlinewidth\": 0, \"ticks\": \"\"}}, \"type\": \"scatterpolargl\"}], \"scatterternary\": [{\"marker\": {\"colorbar\": {\"outlinewidth\": 0, \"ticks\": \"\"}}, \"type\": \"scatterternary\"}], \"surface\": [{\"colorbar\": {\"outlinewidth\": 0, \"ticks\": \"\"}, \"colorscale\": [[0.0, \"#0d0887\"], [0.1111111111111111, \"#46039f\"], [0.2222222222222222, \"#7201a8\"], [0.3333333333333333, \"#9c179e\"], [0.4444444444444444, \"#bd3786\"], [0.5555555555555556, \"#d8576b\"], [0.6666666666666666, \"#ed7953\"], [0.7777777777777778, \"#fb9f3a\"], [0.8888888888888888, \"#fdca26\"], [1.0, \"#f0f921\"]], \"type\": \"surface\"}], \"table\": [{\"cells\": {\"fill\": {\"color\": \"#EBF0F8\"}, \"line\": {\"color\": \"white\"}}, \"header\": {\"fill\": {\"color\": \"#C8D4E3\"}, \"line\": {\"color\": \"white\"}}, \"type\": \"table\"}]}, \"layout\": {\"annotationdefaults\": {\"arrowcolor\": \"#2a3f5f\", \"arrowhead\": 0, \"arrowwidth\": 1}, \"coloraxis\": {\"colorbar\": {\"outlinewidth\": 0, \"ticks\": \"\"}}, \"colorscale\": {\"diverging\": [[0, \"#8e0152\"], [0.1, \"#c51b7d\"], [0.2, \"#de77ae\"], [0.3, \"#f1b6da\"], [0.4, \"#fde0ef\"], [0.5, \"#f7f7f7\"], [0.6, \"#e6f5d0\"], [0.7, \"#b8e186\"], [0.8, \"#7fbc41\"], [0.9, \"#4d9221\"], [1, \"#276419\"]], \"sequential\": [[0.0, \"#0d0887\"], [0.1111111111111111, \"#46039f\"], [0.2222222222222222, \"#7201a8\"], [0.3333333333333333, \"#9c179e\"], [0.4444444444444444, \"#bd3786\"], [0.5555555555555556, \"#d8576b\"], [0.6666666666666666, \"#ed7953\"], [0.7777777777777778, \"#fb9f3a\"], [0.8888888888888888, \"#fdca26\"], [1.0, \"#f0f921\"]], \"sequentialminus\": [[0.0, \"#0d0887\"], [0.1111111111111111, \"#46039f\"], [0.2222222222222222, \"#7201a8\"], [0.3333333333333333, \"#9c179e\"], [0.4444444444444444, \"#bd3786\"], [0.5555555555555556, \"#d8576b\"], [0.6666666666666666, \"#ed7953\"], [0.7777777777777778, \"#fb9f3a\"], [0.8888888888888888, \"#fdca26\"], [1.0, \"#f0f921\"]]}, \"colorway\": [\"#636efa\", \"#EF553B\", \"#00cc96\", \"#ab63fa\", \"#FFA15A\", \"#19d3f3\", \"#FF6692\", \"#B6E880\", \"#FF97FF\", \"#FECB52\"], \"font\": {\"color\": \"#2a3f5f\"}, \"geo\": {\"bgcolor\": \"white\", \"lakecolor\": \"white\", \"landcolor\": \"#E5ECF6\", \"showlakes\": true, \"showland\": true, \"subunitcolor\": \"white\"}, \"hoverlabel\": {\"align\": \"left\"}, \"hovermode\": \"closest\", \"mapbox\": {\"style\": \"light\"}, \"paper_bgcolor\": \"white\", \"plot_bgcolor\": \"#E5ECF6\", \"polar\": {\"angularaxis\": {\"gridcolor\": \"white\", \"linecolor\": \"white\", \"ticks\": \"\"}, \"bgcolor\": \"#E5ECF6\", \"radialaxis\": {\"gridcolor\": \"white\", \"linecolor\": \"white\", \"ticks\": \"\"}}, \"scene\": {\"xaxis\": {\"backgroundcolor\": \"#E5ECF6\", \"gridcolor\": \"white\", \"gridwidth\": 2, \"linecolor\": \"white\", \"showbackground\": true, \"ticks\": \"\", \"zerolinecolor\": \"white\"}, \"yaxis\": {\"backgroundcolor\": \"#E5ECF6\", \"gridcolor\": \"white\", \"gridwidth\": 2, \"linecolor\": \"white\", \"showbackground\": true, \"ticks\": \"\", \"zerolinecolor\": \"white\"}, \"zaxis\": {\"backgroundcolor\": \"#E5ECF6\", \"gridcolor\": \"white\", \"gridwidth\": 2, \"linecolor\": \"white\", \"showbackground\": true, \"ticks\": \"\", \"zerolinecolor\": \"white\"}}, \"shapedefaults\": {\"line\": {\"color\": \"#2a3f5f\"}}, \"ternary\": {\"aaxis\": {\"gridcolor\": \"white\", \"linecolor\": \"white\", \"ticks\": \"\"}, \"baxis\": {\"gridcolor\": \"white\", \"linecolor\": \"white\", \"ticks\": \"\"}, \"bgcolor\": \"#E5ECF6\", \"caxis\": {\"gridcolor\": \"white\", \"linecolor\": \"white\", \"ticks\": \"\"}}, \"title\": {\"x\": 0.05}, \"xaxis\": {\"automargin\": true, \"gridcolor\": \"white\", \"linecolor\": \"white\", \"ticks\": \"\", \"title\": {\"standoff\": 15}, \"zerolinecolor\": \"white\", \"zerolinewidth\": 2}, \"yaxis\": {\"automargin\": true, \"gridcolor\": \"white\", \"linecolor\": \"white\", \"ticks\": \"\", \"title\": {\"standoff\": 15}, \"zerolinecolor\": \"white\", \"zerolinewidth\": 2}}}, \"title\": {\"font\": {\"color\": \"#4D5663\"}}, \"xaxis\": {\"gridcolor\": \"#E1E5ED\", \"showgrid\": true, \"tickfont\": {\"color\": \"#4D5663\"}, \"title\": {\"font\": {\"color\": \"#4D5663\"}, \"text\": \"\"}, \"zerolinecolor\": \"#E1E5ED\"}, \"yaxis\": {\"gridcolor\": \"#E1E5ED\", \"showgrid\": true, \"tickfont\": {\"color\": \"#4D5663\"}, \"title\": {\"font\": {\"color\": \"#4D5663\"}, \"text\": \"\"}, \"zerolinecolor\": \"#E1E5ED\"}},\n",
       "                        {\"showLink\": true, \"linkText\": \"Export to plot.ly\", \"plotlyServerURL\": \"https://plot.ly\", \"responsive\": true}\n",
       "                    ).then(function(){\n",
       "                            \n",
       "var gd = document.getElementById('d9549a81-a58f-4207-ba2d-e3dcd19b62aa');\n",
       "var x = new MutationObserver(function (mutations, observer) {{\n",
       "        var display = window.getComputedStyle(gd).display;\n",
       "        if (!display || display === 'none') {{\n",
       "            console.log([gd, 'removed!']);\n",
       "            Plotly.purge(gd);\n",
       "            observer.disconnect();\n",
       "        }}\n",
       "}});\n",
       "\n",
       "// Listen for the removal of the full notebook cells\n",
       "var notebookContainer = gd.closest('#notebook-container');\n",
       "if (notebookContainer) {{\n",
       "    x.observe(notebookContainer, {childList: true});\n",
       "}}\n",
       "\n",
       "// Listen for the clearing of the current output cell\n",
       "var outputEl = gd.closest('.output');\n",
       "if (outputEl) {{\n",
       "    x.observe(outputEl, {childList: true});\n",
       "}}\n",
       "\n",
       "                        })\n",
       "                };\n",
       "                });\n",
       "            </script>\n",
       "        </div>"
      ]
     },
     "metadata": {},
     "output_type": "display_data"
    }
   ],
   "source": [
    "df.iplot(kind='bubble',x='A',y='B',size='C')"
   ]
  },
  {
   "cell_type": "markdown",
   "metadata": {},
   "source": [
    "## scatter_matrix()\n",
    "\n",
    "Similar to sns.pairplot()"
   ]
  },
  {
   "cell_type": "code",
   "execution_count": 18,
   "metadata": {},
   "outputs": [
    {
     "data": {
      "application/vnd.plotly.v1+json": {
       "config": {
        "linkText": "Export to plot.ly",
        "plotlyServerURL": "https://plot.ly",
        "showLink": true
       },
       "data": [
        {
         "histfunc": "count",
         "histnorm": "",
         "marker": {
          "color": "rgba(255, 153, 51, 1.0)",
          "line": {
           "color": "#4D5663",
           "width": 1.3
          }
         },
         "name": "A",
         "nbinsx": 10,
         "opacity": 0.8,
         "orientation": "v",
         "type": "histogram",
         "x": [
          -3.0891690814370802,
          -0.15093812636863455,
          0.13226757129359545,
          -0.9436480441721036,
          1.0939150837805443,
          2.233999101663424,
          -1.408821280745671,
          0.6644399525912178,
          -1.6692209129812499,
          -0.5781750330564617,
          0.3259479485936982,
          0.35337291909405744,
          -0.9355951333970114,
          1.3993657665589674,
          -0.7264432065839201,
          1.2706747152305884,
          0.08987776345309252,
          -0.8739620333814003,
          0.45305462405840774,
          2.077131993710634,
          -0.6497997380408793,
          0.10363703694124451,
          0.3685517032749556,
          -1.660889834320239,
          0.22748720155204724,
          -0.17608486595685274,
          1.9508324776532389,
          -0.948824710656382,
          0.24637108641800815,
          -0.17990593133279728,
          -0.5755789986094119,
          -0.22662134604804202,
          -0.8538680787755056,
          0.013849875503001482,
          0.32597581297179595,
          -0.8570921503818173,
          1.1028656743252894,
          0.5423182366845734,
          -0.5223174727704796,
          0.8231902161617701,
          0.7082832668864215,
          -2.3610760141909157,
          0.2248092690337905,
          -0.36923956224707316,
          0.47222005942496675,
          1.1822084221798006,
          -0.7039689666073455,
          -1.6448332982778755,
          -0.7701095141840978,
          1.563570590474163,
          -1.012153140899084,
          0.23841585632035256,
          -0.10407886028953234,
          -1.5621766835347606,
          2.287473672845577,
          -1.6895900849694523,
          0.523563807588396,
          -0.2458264678003052,
          -0.4110176453047839,
          0.05109260418553095,
          1.124657961564242,
          0.039085117909342014,
          0.07476390135402051,
          -1.6844573466745725,
          0.012687342579481247,
          -0.8125959503982871,
          0.5429420065790311,
          1.1584453916061306,
          0.2913230192637508,
          -0.5259598537222732,
          -0.40300408177855257,
          -0.3231243016908354,
          1.1195392948215908,
          1.1177784724135182,
          -0.2934667283084928,
          0.44485367348780974,
          0.31945308725082366,
          -0.035216205859157454,
          0.5326000062572194,
          -0.23700601438944363,
          -2.125131809986599,
          1.9665838565142724,
          -0.10621838516393992,
          -1.5297894140868404,
          1.1923521839899056,
          0.42434109188195157,
          -0.5928653108372631,
          0.5444827992464166,
          1.908321054359214,
          0.9201338704472097,
          -0.37017190530359384,
          -0.1287567243335507,
          0.5198475796450365,
          -1.0026106354082849,
          -0.5048666794652888,
          -2.2145820644230936,
          1.223006137776256,
          0.7997705039572335,
          -1.2287365551191047,
          -0.33203915961161806
         ],
         "xaxis": "x",
         "yaxis": "y"
        },
        {
         "line": {
          "color": "rgba(128, 128, 128, 1.0)",
          "dash": "solid",
          "shape": "linear",
          "width": 1.3
         },
         "marker": {
          "size": 2,
          "symbol": "circle"
         },
         "mode": "markers",
         "name": "A",
         "text": "",
         "type": "scatter",
         "x": [
          -0.6497331758939314,
          0.28793182818506585,
          -0.6406546473476662,
          0.44288871491097204,
          -0.05516775452979829,
          0.24357440760663784,
          0.19862804394467937,
          0.017871486326105964,
          0.9419586907313144,
          -0.5922269136030222,
          0.4632576220139533,
          -1.02180267541963,
          0.009211380888768295,
          -1.452374979601723,
          0.6076363939370528,
          1.1372970733571235,
          0.8216723348917082,
          0.5156034911723388,
          -0.8402491636980118,
          0.5738466498177162,
          0.4230814437763436,
          -0.2618550866393429,
          -1.4581184044032003,
          1.186524523218494,
          0.16490060860000813,
          0.745770744854132,
          -0.6610696189050297,
          1.3500768352975112,
          1.1987687800465134,
          2.3096028492876384,
          0.5457531625457045,
          -1.8574236349528406,
          -1.18998017247201,
          1.5181164047083455,
          0.14452515865031162,
          0.6790308519434948,
          0.7527245917195355,
          -0.5019644786553503,
          -0.3098563757594705,
          -1.6270825975794787,
          -1.1153274885862796,
          0.0698844178409464,
          -0.13836448145307176,
          0.2977336458815172,
          -1.7761185605661562,
          -1.193535811393635,
          0.6582749459954654,
          0.11742272648375549,
          -0.43788297088276346,
          -1.245679984165115,
          -0.4235286643493187,
          0.02211086881471649,
          -1.4213475477328146,
          -1.547286954040525,
          -2.418368303116361,
          -2.5416510859474353,
          -0.20012910611234505,
          0.2207315892413318,
          0.9806114155971659,
          -0.4514072244754144,
          0.237972413598495,
          1.6661274988172907,
          0.0008207307891878887,
          1.5532407406951003,
          0.05639598449363403,
          -2.2076194668262348,
          -1.2757423993728216,
          -0.7671078846184362,
          -0.44014447187790706,
          -0.09534239410143637,
          0.23862260010165232,
          1.5184905362081385,
          0.25022791644971093,
          0.13193641305590578,
          0.45377837338234756,
          -0.3976932257246214,
          0.9490242186260665,
          -1.3896518058840215,
          0.20243155758583042,
          -2.764972097819883,
          -0.4773196328772329,
          -0.9363311324586043,
          1.3802374486808353,
          0.4431852775753563,
          -1.1880902100557515,
          0.09022540025355277,
          0.30188535198005945,
          -0.5745808656083056,
          -1.3838746723031254,
          -1.5336549625779974,
          -0.4152479223898434,
          -1.082669504325524,
          1.6255905021979637,
          -0.17810907004411655,
          0.14241206049340105,
          -1.0202946103547477,
          0.7833004639524571,
          -0.06931778148223472,
          -1.1869108938985733,
          -2.033802148596967
         ],
         "xaxis": "x2",
         "y": [
          -3.0891690814370802,
          -0.15093812636863455,
          0.13226757129359545,
          -0.9436480441721036,
          1.0939150837805443,
          2.233999101663424,
          -1.408821280745671,
          0.6644399525912178,
          -1.6692209129812499,
          -0.5781750330564617,
          0.3259479485936982,
          0.35337291909405744,
          -0.9355951333970114,
          1.3993657665589674,
          -0.7264432065839201,
          1.2706747152305884,
          0.08987776345309252,
          -0.8739620333814003,
          0.45305462405840774,
          2.077131993710634,
          -0.6497997380408793,
          0.10363703694124451,
          0.3685517032749556,
          -1.660889834320239,
          0.22748720155204724,
          -0.17608486595685274,
          1.9508324776532389,
          -0.948824710656382,
          0.24637108641800815,
          -0.17990593133279728,
          -0.5755789986094119,
          -0.22662134604804202,
          -0.8538680787755056,
          0.013849875503001482,
          0.32597581297179595,
          -0.8570921503818173,
          1.1028656743252894,
          0.5423182366845734,
          -0.5223174727704796,
          0.8231902161617701,
          0.7082832668864215,
          -2.3610760141909157,
          0.2248092690337905,
          -0.36923956224707316,
          0.47222005942496675,
          1.1822084221798006,
          -0.7039689666073455,
          -1.6448332982778755,
          -0.7701095141840978,
          1.563570590474163,
          -1.012153140899084,
          0.23841585632035256,
          -0.10407886028953234,
          -1.5621766835347606,
          2.287473672845577,
          -1.6895900849694523,
          0.523563807588396,
          -0.2458264678003052,
          -0.4110176453047839,
          0.05109260418553095,
          1.124657961564242,
          0.039085117909342014,
          0.07476390135402051,
          -1.6844573466745725,
          0.012687342579481247,
          -0.8125959503982871,
          0.5429420065790311,
          1.1584453916061306,
          0.2913230192637508,
          -0.5259598537222732,
          -0.40300408177855257,
          -0.3231243016908354,
          1.1195392948215908,
          1.1177784724135182,
          -0.2934667283084928,
          0.44485367348780974,
          0.31945308725082366,
          -0.035216205859157454,
          0.5326000062572194,
          -0.23700601438944363,
          -2.125131809986599,
          1.9665838565142724,
          -0.10621838516393992,
          -1.5297894140868404,
          1.1923521839899056,
          0.42434109188195157,
          -0.5928653108372631,
          0.5444827992464166,
          1.908321054359214,
          0.9201338704472097,
          -0.37017190530359384,
          -0.1287567243335507,
          0.5198475796450365,
          -1.0026106354082849,
          -0.5048666794652888,
          -2.2145820644230936,
          1.223006137776256,
          0.7997705039572335,
          -1.2287365551191047,
          -0.33203915961161806
         ],
         "yaxis": "y2"
        },
        {
         "line": {
          "color": "rgba(128, 128, 128, 1.0)",
          "dash": "solid",
          "shape": "linear",
          "width": 1.3
         },
         "marker": {
          "size": 2,
          "symbol": "circle"
         },
         "mode": "markers",
         "name": "A",
         "text": "",
         "type": "scatter",
         "x": [
          0.9619864109999505,
          0.013861433124429024,
          -1.080802469415181,
          0.48394736756975465,
          0.5120455320718367,
          -0.07461927759886754,
          -1.7116495686300837,
          -0.7941224015842213,
          -0.359982515449631,
          2.6745291203697064,
          0.6625547804469379,
          0.5543288624679773,
          1.1228832734953376,
          -1.2822038585448226,
          -0.2028591814433585,
          -0.4585655584372579,
          1.530143430213587,
          1.0235453829774301,
          1.0657320351516428,
          -0.245555618283886,
          -0.48372789991790716,
          -0.8924145655354128,
          0.8975670741950776,
          1.403164132195382,
          0.9439061819923983,
          3.322002335024259,
          -1.1917255310677242,
          1.091491906789954,
          -0.3090403016788589,
          -0.1821533835253619,
          1.6000615513425562,
          0.5834606969058104,
          2.0605042011016717,
          2.1430312958731497,
          1.435862401885988,
          0.38330105195076053,
          0.5299620273942501,
          -1.1011927744095378,
          -0.4560719189166262,
          1.3187435732055468,
          -0.6262044047356647,
          0.7759933962752779,
          0.14898495093892095,
          0.17276867432275977,
          -0.5734086258180138,
          -0.46059040736721557,
          -0.4820270970689329,
          0.42454817310839793,
          0.31678870805642284,
          2.226580343415447,
          -2.100178939821205,
          -0.6777191227343066,
          -0.07593291355797825,
          -0.29078936781913733,
          -0.1479278877933601,
          -0.5337128733236507,
          -1.0884208272743663,
          -0.17689088266606753,
          0.6443317772577273,
          -1.081747000816026,
          -0.6797158400543877,
          1.3592817961076138,
          -0.97400826809905,
          0.8000777057336252,
          -0.3391473095647177,
          -0.33020829329881907,
          -0.07473964326480681,
          -1.3164933774734262,
          0.8479769033662022,
          0.08885550585322498,
          0.15289914397809903,
          0.6595739702774656,
          0.22037688269560846,
          -0.13957798528689355,
          0.05885903363046422,
          0.6555514628496011,
          1.5344164506794673,
          -0.1054607191728966,
          -0.5532004116851079,
          -1.3918707742871401,
          -1.134772579008437,
          0.7504308512256543,
          -0.22493595896064514,
          0.07560723155093399,
          0.45091299097546106,
          -0.35330262350828423,
          0.4937702034710105,
          1.1911471751155656,
          -2.1749000273482473,
          0.5232842800110749,
          -1.3723098190400498,
          -0.7057695398486414,
          0.332218882688542,
          0.0612355899764811,
          0.6998434626043681,
          1.2238485278958968,
          -0.023588204438006112,
          -1.0295786628035937,
          -0.9071492852350115,
          0.4874545774258891
         ],
         "xaxis": "x3",
         "y": [
          -3.0891690814370802,
          -0.15093812636863455,
          0.13226757129359545,
          -0.9436480441721036,
          1.0939150837805443,
          2.233999101663424,
          -1.408821280745671,
          0.6644399525912178,
          -1.6692209129812499,
          -0.5781750330564617,
          0.3259479485936982,
          0.35337291909405744,
          -0.9355951333970114,
          1.3993657665589674,
          -0.7264432065839201,
          1.2706747152305884,
          0.08987776345309252,
          -0.8739620333814003,
          0.45305462405840774,
          2.077131993710634,
          -0.6497997380408793,
          0.10363703694124451,
          0.3685517032749556,
          -1.660889834320239,
          0.22748720155204724,
          -0.17608486595685274,
          1.9508324776532389,
          -0.948824710656382,
          0.24637108641800815,
          -0.17990593133279728,
          -0.5755789986094119,
          -0.22662134604804202,
          -0.8538680787755056,
          0.013849875503001482,
          0.32597581297179595,
          -0.8570921503818173,
          1.1028656743252894,
          0.5423182366845734,
          -0.5223174727704796,
          0.8231902161617701,
          0.7082832668864215,
          -2.3610760141909157,
          0.2248092690337905,
          -0.36923956224707316,
          0.47222005942496675,
          1.1822084221798006,
          -0.7039689666073455,
          -1.6448332982778755,
          -0.7701095141840978,
          1.563570590474163,
          -1.012153140899084,
          0.23841585632035256,
          -0.10407886028953234,
          -1.5621766835347606,
          2.287473672845577,
          -1.6895900849694523,
          0.523563807588396,
          -0.2458264678003052,
          -0.4110176453047839,
          0.05109260418553095,
          1.124657961564242,
          0.039085117909342014,
          0.07476390135402051,
          -1.6844573466745725,
          0.012687342579481247,
          -0.8125959503982871,
          0.5429420065790311,
          1.1584453916061306,
          0.2913230192637508,
          -0.5259598537222732,
          -0.40300408177855257,
          -0.3231243016908354,
          1.1195392948215908,
          1.1177784724135182,
          -0.2934667283084928,
          0.44485367348780974,
          0.31945308725082366,
          -0.035216205859157454,
          0.5326000062572194,
          -0.23700601438944363,
          -2.125131809986599,
          1.9665838565142724,
          -0.10621838516393992,
          -1.5297894140868404,
          1.1923521839899056,
          0.42434109188195157,
          -0.5928653108372631,
          0.5444827992464166,
          1.908321054359214,
          0.9201338704472097,
          -0.37017190530359384,
          -0.1287567243335507,
          0.5198475796450365,
          -1.0026106354082849,
          -0.5048666794652888,
          -2.2145820644230936,
          1.223006137776256,
          0.7997705039572335,
          -1.2287365551191047,
          -0.33203915961161806
         ],
         "yaxis": "y3"
        },
        {
         "line": {
          "color": "rgba(128, 128, 128, 1.0)",
          "dash": "solid",
          "shape": "linear",
          "width": 1.3
         },
         "marker": {
          "size": 2,
          "symbol": "circle"
         },
         "mode": "markers",
         "name": "A",
         "text": "",
         "type": "scatter",
         "x": [
          0.11050283807346196,
          -0.6124519706476302,
          -0.00561315329695152,
          -0.18261862691991845,
          0.41455853153288924,
          -0.9573252294798228,
          0.4156840411424442,
          -0.42541802906630616,
          -0.7906395130066903,
          1.159504221124273,
          -0.8038416619241505,
          0.16270227606158777,
          0.2438330149343708,
          0.48945929261815685,
          -0.7377423679967747,
          -1.5013180272814242,
          -0.643086110853051,
          -0.8612656915115359,
          -0.35851515949006085,
          -1.0003156654011942,
          0.014773346526293222,
          -0.713762377375046,
          0.6368727732731856,
          0.037647868384242465,
          0.10508579589441149,
          -1.1502573728741479,
          1.68870168764999,
          -0.5241742579212024,
          -1.7029651313661043,
          0.18803789128216897,
          -0.11189755001370763,
          1.4856279178531,
          0.9457722185909986,
          -0.8571479221356121,
          0.43856032875207024,
          -0.20769438603808665,
          -1.4498420292908414,
          -0.9651352015610288,
          1.2675464240310226,
          0.480737969028045,
          0.016015135067592324,
          -0.13272468560906403,
          -0.7413674497679424,
          -0.8074776559821747,
          2.366449510073591,
          0.36879685013716024,
          1.852901160330411,
          -1.4056068871461007,
          -1.8343914940514774,
          0.4055089561501989,
          -0.01641516565126167,
          0.56076005092558,
          -1.4279760341826349,
          0.08022771064908127,
          -0.4134028490854769,
          -1.3537498298209454,
          -0.8709997719077641,
          1.4167591925300114,
          -0.9603161056524859,
          0.32210591102733355,
          -0.4623669023363312,
          2.9957917512313936,
          1.0826892840731102,
          0.6974145019740375,
          -1.0850372392841683,
          0.03782675709880494,
          -0.5271667243565479,
          -1.153364461047902,
          -0.41514991419021874,
          -1.3442282083089776,
          -1.1820500090637647,
          1.377094529882286,
          -2.1237777792754655,
          -0.2760040563599227,
          2.2563598302747043,
          -0.5694714715794288,
          0.27349453000384927,
          -1.6268433135512381,
          1.8336785734758279,
          -0.953298534223817,
          2.266810757115749,
          0.6034859938950822,
          -0.8710853636668698,
          0.6993586649335948,
          0.8280448254298782,
          -0.41886578625999427,
          1.65365778438744,
          1.2904717470899971,
          -0.13086895146558986,
          -0.4886000284738405,
          0.5498406201161541,
          -0.9161257933044573,
          0.7174653339539276,
          0.5061810704031973,
          2.5841091186584526,
          -0.9222603526618206,
          -0.5553901503671522,
          1.0519565453843718,
          0.5045188846409153,
          0.024140113407438185
         ],
         "xaxis": "x4",
         "y": [
          -3.0891690814370802,
          -0.15093812636863455,
          0.13226757129359545,
          -0.9436480441721036,
          1.0939150837805443,
          2.233999101663424,
          -1.408821280745671,
          0.6644399525912178,
          -1.6692209129812499,
          -0.5781750330564617,
          0.3259479485936982,
          0.35337291909405744,
          -0.9355951333970114,
          1.3993657665589674,
          -0.7264432065839201,
          1.2706747152305884,
          0.08987776345309252,
          -0.8739620333814003,
          0.45305462405840774,
          2.077131993710634,
          -0.6497997380408793,
          0.10363703694124451,
          0.3685517032749556,
          -1.660889834320239,
          0.22748720155204724,
          -0.17608486595685274,
          1.9508324776532389,
          -0.948824710656382,
          0.24637108641800815,
          -0.17990593133279728,
          -0.5755789986094119,
          -0.22662134604804202,
          -0.8538680787755056,
          0.013849875503001482,
          0.32597581297179595,
          -0.8570921503818173,
          1.1028656743252894,
          0.5423182366845734,
          -0.5223174727704796,
          0.8231902161617701,
          0.7082832668864215,
          -2.3610760141909157,
          0.2248092690337905,
          -0.36923956224707316,
          0.47222005942496675,
          1.1822084221798006,
          -0.7039689666073455,
          -1.6448332982778755,
          -0.7701095141840978,
          1.563570590474163,
          -1.012153140899084,
          0.23841585632035256,
          -0.10407886028953234,
          -1.5621766835347606,
          2.287473672845577,
          -1.6895900849694523,
          0.523563807588396,
          -0.2458264678003052,
          -0.4110176453047839,
          0.05109260418553095,
          1.124657961564242,
          0.039085117909342014,
          0.07476390135402051,
          -1.6844573466745725,
          0.012687342579481247,
          -0.8125959503982871,
          0.5429420065790311,
          1.1584453916061306,
          0.2913230192637508,
          -0.5259598537222732,
          -0.40300408177855257,
          -0.3231243016908354,
          1.1195392948215908,
          1.1177784724135182,
          -0.2934667283084928,
          0.44485367348780974,
          0.31945308725082366,
          -0.035216205859157454,
          0.5326000062572194,
          -0.23700601438944363,
          -2.125131809986599,
          1.9665838565142724,
          -0.10621838516393992,
          -1.5297894140868404,
          1.1923521839899056,
          0.42434109188195157,
          -0.5928653108372631,
          0.5444827992464166,
          1.908321054359214,
          0.9201338704472097,
          -0.37017190530359384,
          -0.1287567243335507,
          0.5198475796450365,
          -1.0026106354082849,
          -0.5048666794652888,
          -2.2145820644230936,
          1.223006137776256,
          0.7997705039572335,
          -1.2287365551191047,
          -0.33203915961161806
         ],
         "yaxis": "y4"
        },
        {
         "line": {
          "color": "rgba(128, 128, 128, 1.0)",
          "dash": "solid",
          "shape": "linear",
          "width": 1.3
         },
         "marker": {
          "size": 2,
          "symbol": "circle"
         },
         "mode": "markers",
         "name": "B",
         "text": "",
         "type": "scatter",
         "x": [
          -3.0891690814370802,
          -0.15093812636863455,
          0.13226757129359545,
          -0.9436480441721036,
          1.0939150837805443,
          2.233999101663424,
          -1.408821280745671,
          0.6644399525912178,
          -1.6692209129812499,
          -0.5781750330564617,
          0.3259479485936982,
          0.35337291909405744,
          -0.9355951333970114,
          1.3993657665589674,
          -0.7264432065839201,
          1.2706747152305884,
          0.08987776345309252,
          -0.8739620333814003,
          0.45305462405840774,
          2.077131993710634,
          -0.6497997380408793,
          0.10363703694124451,
          0.3685517032749556,
          -1.660889834320239,
          0.22748720155204724,
          -0.17608486595685274,
          1.9508324776532389,
          -0.948824710656382,
          0.24637108641800815,
          -0.17990593133279728,
          -0.5755789986094119,
          -0.22662134604804202,
          -0.8538680787755056,
          0.013849875503001482,
          0.32597581297179595,
          -0.8570921503818173,
          1.1028656743252894,
          0.5423182366845734,
          -0.5223174727704796,
          0.8231902161617701,
          0.7082832668864215,
          -2.3610760141909157,
          0.2248092690337905,
          -0.36923956224707316,
          0.47222005942496675,
          1.1822084221798006,
          -0.7039689666073455,
          -1.6448332982778755,
          -0.7701095141840978,
          1.563570590474163,
          -1.012153140899084,
          0.23841585632035256,
          -0.10407886028953234,
          -1.5621766835347606,
          2.287473672845577,
          -1.6895900849694523,
          0.523563807588396,
          -0.2458264678003052,
          -0.4110176453047839,
          0.05109260418553095,
          1.124657961564242,
          0.039085117909342014,
          0.07476390135402051,
          -1.6844573466745725,
          0.012687342579481247,
          -0.8125959503982871,
          0.5429420065790311,
          1.1584453916061306,
          0.2913230192637508,
          -0.5259598537222732,
          -0.40300408177855257,
          -0.3231243016908354,
          1.1195392948215908,
          1.1177784724135182,
          -0.2934667283084928,
          0.44485367348780974,
          0.31945308725082366,
          -0.035216205859157454,
          0.5326000062572194,
          -0.23700601438944363,
          -2.125131809986599,
          1.9665838565142724,
          -0.10621838516393992,
          -1.5297894140868404,
          1.1923521839899056,
          0.42434109188195157,
          -0.5928653108372631,
          0.5444827992464166,
          1.908321054359214,
          0.9201338704472097,
          -0.37017190530359384,
          -0.1287567243335507,
          0.5198475796450365,
          -1.0026106354082849,
          -0.5048666794652888,
          -2.2145820644230936,
          1.223006137776256,
          0.7997705039572335,
          -1.2287365551191047,
          -0.33203915961161806
         ],
         "xaxis": "x5",
         "y": [
          -0.6497331758939314,
          0.28793182818506585,
          -0.6406546473476662,
          0.44288871491097204,
          -0.05516775452979829,
          0.24357440760663784,
          0.19862804394467937,
          0.017871486326105964,
          0.9419586907313144,
          -0.5922269136030222,
          0.4632576220139533,
          -1.02180267541963,
          0.009211380888768295,
          -1.452374979601723,
          0.6076363939370528,
          1.1372970733571235,
          0.8216723348917082,
          0.5156034911723388,
          -0.8402491636980118,
          0.5738466498177162,
          0.4230814437763436,
          -0.2618550866393429,
          -1.4581184044032003,
          1.186524523218494,
          0.16490060860000813,
          0.745770744854132,
          -0.6610696189050297,
          1.3500768352975112,
          1.1987687800465134,
          2.3096028492876384,
          0.5457531625457045,
          -1.8574236349528406,
          -1.18998017247201,
          1.5181164047083455,
          0.14452515865031162,
          0.6790308519434948,
          0.7527245917195355,
          -0.5019644786553503,
          -0.3098563757594705,
          -1.6270825975794787,
          -1.1153274885862796,
          0.0698844178409464,
          -0.13836448145307176,
          0.2977336458815172,
          -1.7761185605661562,
          -1.193535811393635,
          0.6582749459954654,
          0.11742272648375549,
          -0.43788297088276346,
          -1.245679984165115,
          -0.4235286643493187,
          0.02211086881471649,
          -1.4213475477328146,
          -1.547286954040525,
          -2.418368303116361,
          -2.5416510859474353,
          -0.20012910611234505,
          0.2207315892413318,
          0.9806114155971659,
          -0.4514072244754144,
          0.237972413598495,
          1.6661274988172907,
          0.0008207307891878887,
          1.5532407406951003,
          0.05639598449363403,
          -2.2076194668262348,
          -1.2757423993728216,
          -0.7671078846184362,
          -0.44014447187790706,
          -0.09534239410143637,
          0.23862260010165232,
          1.5184905362081385,
          0.25022791644971093,
          0.13193641305590578,
          0.45377837338234756,
          -0.3976932257246214,
          0.9490242186260665,
          -1.3896518058840215,
          0.20243155758583042,
          -2.764972097819883,
          -0.4773196328772329,
          -0.9363311324586043,
          1.3802374486808353,
          0.4431852775753563,
          -1.1880902100557515,
          0.09022540025355277,
          0.30188535198005945,
          -0.5745808656083056,
          -1.3838746723031254,
          -1.5336549625779974,
          -0.4152479223898434,
          -1.082669504325524,
          1.6255905021979637,
          -0.17810907004411655,
          0.14241206049340105,
          -1.0202946103547477,
          0.7833004639524571,
          -0.06931778148223472,
          -1.1869108938985733,
          -2.033802148596967
         ],
         "yaxis": "y5"
        },
        {
         "histfunc": "count",
         "histnorm": "",
         "marker": {
          "color": "rgba(55, 128, 191, 1.0)",
          "line": {
           "color": "#4D5663",
           "width": 1.3
          }
         },
         "name": "B",
         "nbinsx": 10,
         "opacity": 0.8,
         "orientation": "v",
         "type": "histogram",
         "x": [
          -0.6497331758939314,
          0.28793182818506585,
          -0.6406546473476662,
          0.44288871491097204,
          -0.05516775452979829,
          0.24357440760663784,
          0.19862804394467937,
          0.017871486326105964,
          0.9419586907313144,
          -0.5922269136030222,
          0.4632576220139533,
          -1.02180267541963,
          0.009211380888768295,
          -1.452374979601723,
          0.6076363939370528,
          1.1372970733571235,
          0.8216723348917082,
          0.5156034911723388,
          -0.8402491636980118,
          0.5738466498177162,
          0.4230814437763436,
          -0.2618550866393429,
          -1.4581184044032003,
          1.186524523218494,
          0.16490060860000813,
          0.745770744854132,
          -0.6610696189050297,
          1.3500768352975112,
          1.1987687800465134,
          2.3096028492876384,
          0.5457531625457045,
          -1.8574236349528406,
          -1.18998017247201,
          1.5181164047083455,
          0.14452515865031162,
          0.6790308519434948,
          0.7527245917195355,
          -0.5019644786553503,
          -0.3098563757594705,
          -1.6270825975794787,
          -1.1153274885862796,
          0.0698844178409464,
          -0.13836448145307176,
          0.2977336458815172,
          -1.7761185605661562,
          -1.193535811393635,
          0.6582749459954654,
          0.11742272648375549,
          -0.43788297088276346,
          -1.245679984165115,
          -0.4235286643493187,
          0.02211086881471649,
          -1.4213475477328146,
          -1.547286954040525,
          -2.418368303116361,
          -2.5416510859474353,
          -0.20012910611234505,
          0.2207315892413318,
          0.9806114155971659,
          -0.4514072244754144,
          0.237972413598495,
          1.6661274988172907,
          0.0008207307891878887,
          1.5532407406951003,
          0.05639598449363403,
          -2.2076194668262348,
          -1.2757423993728216,
          -0.7671078846184362,
          -0.44014447187790706,
          -0.09534239410143637,
          0.23862260010165232,
          1.5184905362081385,
          0.25022791644971093,
          0.13193641305590578,
          0.45377837338234756,
          -0.3976932257246214,
          0.9490242186260665,
          -1.3896518058840215,
          0.20243155758583042,
          -2.764972097819883,
          -0.4773196328772329,
          -0.9363311324586043,
          1.3802374486808353,
          0.4431852775753563,
          -1.1880902100557515,
          0.09022540025355277,
          0.30188535198005945,
          -0.5745808656083056,
          -1.3838746723031254,
          -1.5336549625779974,
          -0.4152479223898434,
          -1.082669504325524,
          1.6255905021979637,
          -0.17810907004411655,
          0.14241206049340105,
          -1.0202946103547477,
          0.7833004639524571,
          -0.06931778148223472,
          -1.1869108938985733,
          -2.033802148596967
         ],
         "xaxis": "x6",
         "yaxis": "y6"
        },
        {
         "line": {
          "color": "rgba(128, 128, 128, 1.0)",
          "dash": "solid",
          "shape": "linear",
          "width": 1.3
         },
         "marker": {
          "size": 2,
          "symbol": "circle"
         },
         "mode": "markers",
         "name": "B",
         "text": "",
         "type": "scatter",
         "x": [
          0.9619864109999505,
          0.013861433124429024,
          -1.080802469415181,
          0.48394736756975465,
          0.5120455320718367,
          -0.07461927759886754,
          -1.7116495686300837,
          -0.7941224015842213,
          -0.359982515449631,
          2.6745291203697064,
          0.6625547804469379,
          0.5543288624679773,
          1.1228832734953376,
          -1.2822038585448226,
          -0.2028591814433585,
          -0.4585655584372579,
          1.530143430213587,
          1.0235453829774301,
          1.0657320351516428,
          -0.245555618283886,
          -0.48372789991790716,
          -0.8924145655354128,
          0.8975670741950776,
          1.403164132195382,
          0.9439061819923983,
          3.322002335024259,
          -1.1917255310677242,
          1.091491906789954,
          -0.3090403016788589,
          -0.1821533835253619,
          1.6000615513425562,
          0.5834606969058104,
          2.0605042011016717,
          2.1430312958731497,
          1.435862401885988,
          0.38330105195076053,
          0.5299620273942501,
          -1.1011927744095378,
          -0.4560719189166262,
          1.3187435732055468,
          -0.6262044047356647,
          0.7759933962752779,
          0.14898495093892095,
          0.17276867432275977,
          -0.5734086258180138,
          -0.46059040736721557,
          -0.4820270970689329,
          0.42454817310839793,
          0.31678870805642284,
          2.226580343415447,
          -2.100178939821205,
          -0.6777191227343066,
          -0.07593291355797825,
          -0.29078936781913733,
          -0.1479278877933601,
          -0.5337128733236507,
          -1.0884208272743663,
          -0.17689088266606753,
          0.6443317772577273,
          -1.081747000816026,
          -0.6797158400543877,
          1.3592817961076138,
          -0.97400826809905,
          0.8000777057336252,
          -0.3391473095647177,
          -0.33020829329881907,
          -0.07473964326480681,
          -1.3164933774734262,
          0.8479769033662022,
          0.08885550585322498,
          0.15289914397809903,
          0.6595739702774656,
          0.22037688269560846,
          -0.13957798528689355,
          0.05885903363046422,
          0.6555514628496011,
          1.5344164506794673,
          -0.1054607191728966,
          -0.5532004116851079,
          -1.3918707742871401,
          -1.134772579008437,
          0.7504308512256543,
          -0.22493595896064514,
          0.07560723155093399,
          0.45091299097546106,
          -0.35330262350828423,
          0.4937702034710105,
          1.1911471751155656,
          -2.1749000273482473,
          0.5232842800110749,
          -1.3723098190400498,
          -0.7057695398486414,
          0.332218882688542,
          0.0612355899764811,
          0.6998434626043681,
          1.2238485278958968,
          -0.023588204438006112,
          -1.0295786628035937,
          -0.9071492852350115,
          0.4874545774258891
         ],
         "xaxis": "x7",
         "y": [
          -0.6497331758939314,
          0.28793182818506585,
          -0.6406546473476662,
          0.44288871491097204,
          -0.05516775452979829,
          0.24357440760663784,
          0.19862804394467937,
          0.017871486326105964,
          0.9419586907313144,
          -0.5922269136030222,
          0.4632576220139533,
          -1.02180267541963,
          0.009211380888768295,
          -1.452374979601723,
          0.6076363939370528,
          1.1372970733571235,
          0.8216723348917082,
          0.5156034911723388,
          -0.8402491636980118,
          0.5738466498177162,
          0.4230814437763436,
          -0.2618550866393429,
          -1.4581184044032003,
          1.186524523218494,
          0.16490060860000813,
          0.745770744854132,
          -0.6610696189050297,
          1.3500768352975112,
          1.1987687800465134,
          2.3096028492876384,
          0.5457531625457045,
          -1.8574236349528406,
          -1.18998017247201,
          1.5181164047083455,
          0.14452515865031162,
          0.6790308519434948,
          0.7527245917195355,
          -0.5019644786553503,
          -0.3098563757594705,
          -1.6270825975794787,
          -1.1153274885862796,
          0.0698844178409464,
          -0.13836448145307176,
          0.2977336458815172,
          -1.7761185605661562,
          -1.193535811393635,
          0.6582749459954654,
          0.11742272648375549,
          -0.43788297088276346,
          -1.245679984165115,
          -0.4235286643493187,
          0.02211086881471649,
          -1.4213475477328146,
          -1.547286954040525,
          -2.418368303116361,
          -2.5416510859474353,
          -0.20012910611234505,
          0.2207315892413318,
          0.9806114155971659,
          -0.4514072244754144,
          0.237972413598495,
          1.6661274988172907,
          0.0008207307891878887,
          1.5532407406951003,
          0.05639598449363403,
          -2.2076194668262348,
          -1.2757423993728216,
          -0.7671078846184362,
          -0.44014447187790706,
          -0.09534239410143637,
          0.23862260010165232,
          1.5184905362081385,
          0.25022791644971093,
          0.13193641305590578,
          0.45377837338234756,
          -0.3976932257246214,
          0.9490242186260665,
          -1.3896518058840215,
          0.20243155758583042,
          -2.764972097819883,
          -0.4773196328772329,
          -0.9363311324586043,
          1.3802374486808353,
          0.4431852775753563,
          -1.1880902100557515,
          0.09022540025355277,
          0.30188535198005945,
          -0.5745808656083056,
          -1.3838746723031254,
          -1.5336549625779974,
          -0.4152479223898434,
          -1.082669504325524,
          1.6255905021979637,
          -0.17810907004411655,
          0.14241206049340105,
          -1.0202946103547477,
          0.7833004639524571,
          -0.06931778148223472,
          -1.1869108938985733,
          -2.033802148596967
         ],
         "yaxis": "y7"
        },
        {
         "line": {
          "color": "rgba(128, 128, 128, 1.0)",
          "dash": "solid",
          "shape": "linear",
          "width": 1.3
         },
         "marker": {
          "size": 2,
          "symbol": "circle"
         },
         "mode": "markers",
         "name": "B",
         "text": "",
         "type": "scatter",
         "x": [
          0.11050283807346196,
          -0.6124519706476302,
          -0.00561315329695152,
          -0.18261862691991845,
          0.41455853153288924,
          -0.9573252294798228,
          0.4156840411424442,
          -0.42541802906630616,
          -0.7906395130066903,
          1.159504221124273,
          -0.8038416619241505,
          0.16270227606158777,
          0.2438330149343708,
          0.48945929261815685,
          -0.7377423679967747,
          -1.5013180272814242,
          -0.643086110853051,
          -0.8612656915115359,
          -0.35851515949006085,
          -1.0003156654011942,
          0.014773346526293222,
          -0.713762377375046,
          0.6368727732731856,
          0.037647868384242465,
          0.10508579589441149,
          -1.1502573728741479,
          1.68870168764999,
          -0.5241742579212024,
          -1.7029651313661043,
          0.18803789128216897,
          -0.11189755001370763,
          1.4856279178531,
          0.9457722185909986,
          -0.8571479221356121,
          0.43856032875207024,
          -0.20769438603808665,
          -1.4498420292908414,
          -0.9651352015610288,
          1.2675464240310226,
          0.480737969028045,
          0.016015135067592324,
          -0.13272468560906403,
          -0.7413674497679424,
          -0.8074776559821747,
          2.366449510073591,
          0.36879685013716024,
          1.852901160330411,
          -1.4056068871461007,
          -1.8343914940514774,
          0.4055089561501989,
          -0.01641516565126167,
          0.56076005092558,
          -1.4279760341826349,
          0.08022771064908127,
          -0.4134028490854769,
          -1.3537498298209454,
          -0.8709997719077641,
          1.4167591925300114,
          -0.9603161056524859,
          0.32210591102733355,
          -0.4623669023363312,
          2.9957917512313936,
          1.0826892840731102,
          0.6974145019740375,
          -1.0850372392841683,
          0.03782675709880494,
          -0.5271667243565479,
          -1.153364461047902,
          -0.41514991419021874,
          -1.3442282083089776,
          -1.1820500090637647,
          1.377094529882286,
          -2.1237777792754655,
          -0.2760040563599227,
          2.2563598302747043,
          -0.5694714715794288,
          0.27349453000384927,
          -1.6268433135512381,
          1.8336785734758279,
          -0.953298534223817,
          2.266810757115749,
          0.6034859938950822,
          -0.8710853636668698,
          0.6993586649335948,
          0.8280448254298782,
          -0.41886578625999427,
          1.65365778438744,
          1.2904717470899971,
          -0.13086895146558986,
          -0.4886000284738405,
          0.5498406201161541,
          -0.9161257933044573,
          0.7174653339539276,
          0.5061810704031973,
          2.5841091186584526,
          -0.9222603526618206,
          -0.5553901503671522,
          1.0519565453843718,
          0.5045188846409153,
          0.024140113407438185
         ],
         "xaxis": "x8",
         "y": [
          -0.6497331758939314,
          0.28793182818506585,
          -0.6406546473476662,
          0.44288871491097204,
          -0.05516775452979829,
          0.24357440760663784,
          0.19862804394467937,
          0.017871486326105964,
          0.9419586907313144,
          -0.5922269136030222,
          0.4632576220139533,
          -1.02180267541963,
          0.009211380888768295,
          -1.452374979601723,
          0.6076363939370528,
          1.1372970733571235,
          0.8216723348917082,
          0.5156034911723388,
          -0.8402491636980118,
          0.5738466498177162,
          0.4230814437763436,
          -0.2618550866393429,
          -1.4581184044032003,
          1.186524523218494,
          0.16490060860000813,
          0.745770744854132,
          -0.6610696189050297,
          1.3500768352975112,
          1.1987687800465134,
          2.3096028492876384,
          0.5457531625457045,
          -1.8574236349528406,
          -1.18998017247201,
          1.5181164047083455,
          0.14452515865031162,
          0.6790308519434948,
          0.7527245917195355,
          -0.5019644786553503,
          -0.3098563757594705,
          -1.6270825975794787,
          -1.1153274885862796,
          0.0698844178409464,
          -0.13836448145307176,
          0.2977336458815172,
          -1.7761185605661562,
          -1.193535811393635,
          0.6582749459954654,
          0.11742272648375549,
          -0.43788297088276346,
          -1.245679984165115,
          -0.4235286643493187,
          0.02211086881471649,
          -1.4213475477328146,
          -1.547286954040525,
          -2.418368303116361,
          -2.5416510859474353,
          -0.20012910611234505,
          0.2207315892413318,
          0.9806114155971659,
          -0.4514072244754144,
          0.237972413598495,
          1.6661274988172907,
          0.0008207307891878887,
          1.5532407406951003,
          0.05639598449363403,
          -2.2076194668262348,
          -1.2757423993728216,
          -0.7671078846184362,
          -0.44014447187790706,
          -0.09534239410143637,
          0.23862260010165232,
          1.5184905362081385,
          0.25022791644971093,
          0.13193641305590578,
          0.45377837338234756,
          -0.3976932257246214,
          0.9490242186260665,
          -1.3896518058840215,
          0.20243155758583042,
          -2.764972097819883,
          -0.4773196328772329,
          -0.9363311324586043,
          1.3802374486808353,
          0.4431852775753563,
          -1.1880902100557515,
          0.09022540025355277,
          0.30188535198005945,
          -0.5745808656083056,
          -1.3838746723031254,
          -1.5336549625779974,
          -0.4152479223898434,
          -1.082669504325524,
          1.6255905021979637,
          -0.17810907004411655,
          0.14241206049340105,
          -1.0202946103547477,
          0.7833004639524571,
          -0.06931778148223472,
          -1.1869108938985733,
          -2.033802148596967
         ],
         "yaxis": "y8"
        },
        {
         "line": {
          "color": "rgba(128, 128, 128, 1.0)",
          "dash": "solid",
          "shape": "linear",
          "width": 1.3
         },
         "marker": {
          "size": 2,
          "symbol": "circle"
         },
         "mode": "markers",
         "name": "C",
         "text": "",
         "type": "scatter",
         "x": [
          -3.0891690814370802,
          -0.15093812636863455,
          0.13226757129359545,
          -0.9436480441721036,
          1.0939150837805443,
          2.233999101663424,
          -1.408821280745671,
          0.6644399525912178,
          -1.6692209129812499,
          -0.5781750330564617,
          0.3259479485936982,
          0.35337291909405744,
          -0.9355951333970114,
          1.3993657665589674,
          -0.7264432065839201,
          1.2706747152305884,
          0.08987776345309252,
          -0.8739620333814003,
          0.45305462405840774,
          2.077131993710634,
          -0.6497997380408793,
          0.10363703694124451,
          0.3685517032749556,
          -1.660889834320239,
          0.22748720155204724,
          -0.17608486595685274,
          1.9508324776532389,
          -0.948824710656382,
          0.24637108641800815,
          -0.17990593133279728,
          -0.5755789986094119,
          -0.22662134604804202,
          -0.8538680787755056,
          0.013849875503001482,
          0.32597581297179595,
          -0.8570921503818173,
          1.1028656743252894,
          0.5423182366845734,
          -0.5223174727704796,
          0.8231902161617701,
          0.7082832668864215,
          -2.3610760141909157,
          0.2248092690337905,
          -0.36923956224707316,
          0.47222005942496675,
          1.1822084221798006,
          -0.7039689666073455,
          -1.6448332982778755,
          -0.7701095141840978,
          1.563570590474163,
          -1.012153140899084,
          0.23841585632035256,
          -0.10407886028953234,
          -1.5621766835347606,
          2.287473672845577,
          -1.6895900849694523,
          0.523563807588396,
          -0.2458264678003052,
          -0.4110176453047839,
          0.05109260418553095,
          1.124657961564242,
          0.039085117909342014,
          0.07476390135402051,
          -1.6844573466745725,
          0.012687342579481247,
          -0.8125959503982871,
          0.5429420065790311,
          1.1584453916061306,
          0.2913230192637508,
          -0.5259598537222732,
          -0.40300408177855257,
          -0.3231243016908354,
          1.1195392948215908,
          1.1177784724135182,
          -0.2934667283084928,
          0.44485367348780974,
          0.31945308725082366,
          -0.035216205859157454,
          0.5326000062572194,
          -0.23700601438944363,
          -2.125131809986599,
          1.9665838565142724,
          -0.10621838516393992,
          -1.5297894140868404,
          1.1923521839899056,
          0.42434109188195157,
          -0.5928653108372631,
          0.5444827992464166,
          1.908321054359214,
          0.9201338704472097,
          -0.37017190530359384,
          -0.1287567243335507,
          0.5198475796450365,
          -1.0026106354082849,
          -0.5048666794652888,
          -2.2145820644230936,
          1.223006137776256,
          0.7997705039572335,
          -1.2287365551191047,
          -0.33203915961161806
         ],
         "xaxis": "x9",
         "y": [
          0.9619864109999505,
          0.013861433124429024,
          -1.080802469415181,
          0.48394736756975465,
          0.5120455320718367,
          -0.07461927759886754,
          -1.7116495686300837,
          -0.7941224015842213,
          -0.359982515449631,
          2.6745291203697064,
          0.6625547804469379,
          0.5543288624679773,
          1.1228832734953376,
          -1.2822038585448226,
          -0.2028591814433585,
          -0.4585655584372579,
          1.530143430213587,
          1.0235453829774301,
          1.0657320351516428,
          -0.245555618283886,
          -0.48372789991790716,
          -0.8924145655354128,
          0.8975670741950776,
          1.403164132195382,
          0.9439061819923983,
          3.322002335024259,
          -1.1917255310677242,
          1.091491906789954,
          -0.3090403016788589,
          -0.1821533835253619,
          1.6000615513425562,
          0.5834606969058104,
          2.0605042011016717,
          2.1430312958731497,
          1.435862401885988,
          0.38330105195076053,
          0.5299620273942501,
          -1.1011927744095378,
          -0.4560719189166262,
          1.3187435732055468,
          -0.6262044047356647,
          0.7759933962752779,
          0.14898495093892095,
          0.17276867432275977,
          -0.5734086258180138,
          -0.46059040736721557,
          -0.4820270970689329,
          0.42454817310839793,
          0.31678870805642284,
          2.226580343415447,
          -2.100178939821205,
          -0.6777191227343066,
          -0.07593291355797825,
          -0.29078936781913733,
          -0.1479278877933601,
          -0.5337128733236507,
          -1.0884208272743663,
          -0.17689088266606753,
          0.6443317772577273,
          -1.081747000816026,
          -0.6797158400543877,
          1.3592817961076138,
          -0.97400826809905,
          0.8000777057336252,
          -0.3391473095647177,
          -0.33020829329881907,
          -0.07473964326480681,
          -1.3164933774734262,
          0.8479769033662022,
          0.08885550585322498,
          0.15289914397809903,
          0.6595739702774656,
          0.22037688269560846,
          -0.13957798528689355,
          0.05885903363046422,
          0.6555514628496011,
          1.5344164506794673,
          -0.1054607191728966,
          -0.5532004116851079,
          -1.3918707742871401,
          -1.134772579008437,
          0.7504308512256543,
          -0.22493595896064514,
          0.07560723155093399,
          0.45091299097546106,
          -0.35330262350828423,
          0.4937702034710105,
          1.1911471751155656,
          -2.1749000273482473,
          0.5232842800110749,
          -1.3723098190400498,
          -0.7057695398486414,
          0.332218882688542,
          0.0612355899764811,
          0.6998434626043681,
          1.2238485278958968,
          -0.023588204438006112,
          -1.0295786628035937,
          -0.9071492852350115,
          0.4874545774258891
         ],
         "yaxis": "y9"
        },
        {
         "line": {
          "color": "rgba(128, 128, 128, 1.0)",
          "dash": "solid",
          "shape": "linear",
          "width": 1.3
         },
         "marker": {
          "size": 2,
          "symbol": "circle"
         },
         "mode": "markers",
         "name": "C",
         "text": "",
         "type": "scatter",
         "x": [
          -0.6497331758939314,
          0.28793182818506585,
          -0.6406546473476662,
          0.44288871491097204,
          -0.05516775452979829,
          0.24357440760663784,
          0.19862804394467937,
          0.017871486326105964,
          0.9419586907313144,
          -0.5922269136030222,
          0.4632576220139533,
          -1.02180267541963,
          0.009211380888768295,
          -1.452374979601723,
          0.6076363939370528,
          1.1372970733571235,
          0.8216723348917082,
          0.5156034911723388,
          -0.8402491636980118,
          0.5738466498177162,
          0.4230814437763436,
          -0.2618550866393429,
          -1.4581184044032003,
          1.186524523218494,
          0.16490060860000813,
          0.745770744854132,
          -0.6610696189050297,
          1.3500768352975112,
          1.1987687800465134,
          2.3096028492876384,
          0.5457531625457045,
          -1.8574236349528406,
          -1.18998017247201,
          1.5181164047083455,
          0.14452515865031162,
          0.6790308519434948,
          0.7527245917195355,
          -0.5019644786553503,
          -0.3098563757594705,
          -1.6270825975794787,
          -1.1153274885862796,
          0.0698844178409464,
          -0.13836448145307176,
          0.2977336458815172,
          -1.7761185605661562,
          -1.193535811393635,
          0.6582749459954654,
          0.11742272648375549,
          -0.43788297088276346,
          -1.245679984165115,
          -0.4235286643493187,
          0.02211086881471649,
          -1.4213475477328146,
          -1.547286954040525,
          -2.418368303116361,
          -2.5416510859474353,
          -0.20012910611234505,
          0.2207315892413318,
          0.9806114155971659,
          -0.4514072244754144,
          0.237972413598495,
          1.6661274988172907,
          0.0008207307891878887,
          1.5532407406951003,
          0.05639598449363403,
          -2.2076194668262348,
          -1.2757423993728216,
          -0.7671078846184362,
          -0.44014447187790706,
          -0.09534239410143637,
          0.23862260010165232,
          1.5184905362081385,
          0.25022791644971093,
          0.13193641305590578,
          0.45377837338234756,
          -0.3976932257246214,
          0.9490242186260665,
          -1.3896518058840215,
          0.20243155758583042,
          -2.764972097819883,
          -0.4773196328772329,
          -0.9363311324586043,
          1.3802374486808353,
          0.4431852775753563,
          -1.1880902100557515,
          0.09022540025355277,
          0.30188535198005945,
          -0.5745808656083056,
          -1.3838746723031254,
          -1.5336549625779974,
          -0.4152479223898434,
          -1.082669504325524,
          1.6255905021979637,
          -0.17810907004411655,
          0.14241206049340105,
          -1.0202946103547477,
          0.7833004639524571,
          -0.06931778148223472,
          -1.1869108938985733,
          -2.033802148596967
         ],
         "xaxis": "x10",
         "y": [
          0.9619864109999505,
          0.013861433124429024,
          -1.080802469415181,
          0.48394736756975465,
          0.5120455320718367,
          -0.07461927759886754,
          -1.7116495686300837,
          -0.7941224015842213,
          -0.359982515449631,
          2.6745291203697064,
          0.6625547804469379,
          0.5543288624679773,
          1.1228832734953376,
          -1.2822038585448226,
          -0.2028591814433585,
          -0.4585655584372579,
          1.530143430213587,
          1.0235453829774301,
          1.0657320351516428,
          -0.245555618283886,
          -0.48372789991790716,
          -0.8924145655354128,
          0.8975670741950776,
          1.403164132195382,
          0.9439061819923983,
          3.322002335024259,
          -1.1917255310677242,
          1.091491906789954,
          -0.3090403016788589,
          -0.1821533835253619,
          1.6000615513425562,
          0.5834606969058104,
          2.0605042011016717,
          2.1430312958731497,
          1.435862401885988,
          0.38330105195076053,
          0.5299620273942501,
          -1.1011927744095378,
          -0.4560719189166262,
          1.3187435732055468,
          -0.6262044047356647,
          0.7759933962752779,
          0.14898495093892095,
          0.17276867432275977,
          -0.5734086258180138,
          -0.46059040736721557,
          -0.4820270970689329,
          0.42454817310839793,
          0.31678870805642284,
          2.226580343415447,
          -2.100178939821205,
          -0.6777191227343066,
          -0.07593291355797825,
          -0.29078936781913733,
          -0.1479278877933601,
          -0.5337128733236507,
          -1.0884208272743663,
          -0.17689088266606753,
          0.6443317772577273,
          -1.081747000816026,
          -0.6797158400543877,
          1.3592817961076138,
          -0.97400826809905,
          0.8000777057336252,
          -0.3391473095647177,
          -0.33020829329881907,
          -0.07473964326480681,
          -1.3164933774734262,
          0.8479769033662022,
          0.08885550585322498,
          0.15289914397809903,
          0.6595739702774656,
          0.22037688269560846,
          -0.13957798528689355,
          0.05885903363046422,
          0.6555514628496011,
          1.5344164506794673,
          -0.1054607191728966,
          -0.5532004116851079,
          -1.3918707742871401,
          -1.134772579008437,
          0.7504308512256543,
          -0.22493595896064514,
          0.07560723155093399,
          0.45091299097546106,
          -0.35330262350828423,
          0.4937702034710105,
          1.1911471751155656,
          -2.1749000273482473,
          0.5232842800110749,
          -1.3723098190400498,
          -0.7057695398486414,
          0.332218882688542,
          0.0612355899764811,
          0.6998434626043681,
          1.2238485278958968,
          -0.023588204438006112,
          -1.0295786628035937,
          -0.9071492852350115,
          0.4874545774258891
         ],
         "yaxis": "y10"
        },
        {
         "histfunc": "count",
         "histnorm": "",
         "marker": {
          "color": "rgba(50, 171, 96, 1.0)",
          "line": {
           "color": "#4D5663",
           "width": 1.3
          }
         },
         "name": "C",
         "nbinsx": 10,
         "opacity": 0.8,
         "orientation": "v",
         "type": "histogram",
         "x": [
          0.9619864109999505,
          0.013861433124429024,
          -1.080802469415181,
          0.48394736756975465,
          0.5120455320718367,
          -0.07461927759886754,
          -1.7116495686300837,
          -0.7941224015842213,
          -0.359982515449631,
          2.6745291203697064,
          0.6625547804469379,
          0.5543288624679773,
          1.1228832734953376,
          -1.2822038585448226,
          -0.2028591814433585,
          -0.4585655584372579,
          1.530143430213587,
          1.0235453829774301,
          1.0657320351516428,
          -0.245555618283886,
          -0.48372789991790716,
          -0.8924145655354128,
          0.8975670741950776,
          1.403164132195382,
          0.9439061819923983,
          3.322002335024259,
          -1.1917255310677242,
          1.091491906789954,
          -0.3090403016788589,
          -0.1821533835253619,
          1.6000615513425562,
          0.5834606969058104,
          2.0605042011016717,
          2.1430312958731497,
          1.435862401885988,
          0.38330105195076053,
          0.5299620273942501,
          -1.1011927744095378,
          -0.4560719189166262,
          1.3187435732055468,
          -0.6262044047356647,
          0.7759933962752779,
          0.14898495093892095,
          0.17276867432275977,
          -0.5734086258180138,
          -0.46059040736721557,
          -0.4820270970689329,
          0.42454817310839793,
          0.31678870805642284,
          2.226580343415447,
          -2.100178939821205,
          -0.6777191227343066,
          -0.07593291355797825,
          -0.29078936781913733,
          -0.1479278877933601,
          -0.5337128733236507,
          -1.0884208272743663,
          -0.17689088266606753,
          0.6443317772577273,
          -1.081747000816026,
          -0.6797158400543877,
          1.3592817961076138,
          -0.97400826809905,
          0.8000777057336252,
          -0.3391473095647177,
          -0.33020829329881907,
          -0.07473964326480681,
          -1.3164933774734262,
          0.8479769033662022,
          0.08885550585322498,
          0.15289914397809903,
          0.6595739702774656,
          0.22037688269560846,
          -0.13957798528689355,
          0.05885903363046422,
          0.6555514628496011,
          1.5344164506794673,
          -0.1054607191728966,
          -0.5532004116851079,
          -1.3918707742871401,
          -1.134772579008437,
          0.7504308512256543,
          -0.22493595896064514,
          0.07560723155093399,
          0.45091299097546106,
          -0.35330262350828423,
          0.4937702034710105,
          1.1911471751155656,
          -2.1749000273482473,
          0.5232842800110749,
          -1.3723098190400498,
          -0.7057695398486414,
          0.332218882688542,
          0.0612355899764811,
          0.6998434626043681,
          1.2238485278958968,
          -0.023588204438006112,
          -1.0295786628035937,
          -0.9071492852350115,
          0.4874545774258891
         ],
         "xaxis": "x11",
         "yaxis": "y11"
        },
        {
         "line": {
          "color": "rgba(128, 128, 128, 1.0)",
          "dash": "solid",
          "shape": "linear",
          "width": 1.3
         },
         "marker": {
          "size": 2,
          "symbol": "circle"
         },
         "mode": "markers",
         "name": "C",
         "text": "",
         "type": "scatter",
         "x": [
          0.11050283807346196,
          -0.6124519706476302,
          -0.00561315329695152,
          -0.18261862691991845,
          0.41455853153288924,
          -0.9573252294798228,
          0.4156840411424442,
          -0.42541802906630616,
          -0.7906395130066903,
          1.159504221124273,
          -0.8038416619241505,
          0.16270227606158777,
          0.2438330149343708,
          0.48945929261815685,
          -0.7377423679967747,
          -1.5013180272814242,
          -0.643086110853051,
          -0.8612656915115359,
          -0.35851515949006085,
          -1.0003156654011942,
          0.014773346526293222,
          -0.713762377375046,
          0.6368727732731856,
          0.037647868384242465,
          0.10508579589441149,
          -1.1502573728741479,
          1.68870168764999,
          -0.5241742579212024,
          -1.7029651313661043,
          0.18803789128216897,
          -0.11189755001370763,
          1.4856279178531,
          0.9457722185909986,
          -0.8571479221356121,
          0.43856032875207024,
          -0.20769438603808665,
          -1.4498420292908414,
          -0.9651352015610288,
          1.2675464240310226,
          0.480737969028045,
          0.016015135067592324,
          -0.13272468560906403,
          -0.7413674497679424,
          -0.8074776559821747,
          2.366449510073591,
          0.36879685013716024,
          1.852901160330411,
          -1.4056068871461007,
          -1.8343914940514774,
          0.4055089561501989,
          -0.01641516565126167,
          0.56076005092558,
          -1.4279760341826349,
          0.08022771064908127,
          -0.4134028490854769,
          -1.3537498298209454,
          -0.8709997719077641,
          1.4167591925300114,
          -0.9603161056524859,
          0.32210591102733355,
          -0.4623669023363312,
          2.9957917512313936,
          1.0826892840731102,
          0.6974145019740375,
          -1.0850372392841683,
          0.03782675709880494,
          -0.5271667243565479,
          -1.153364461047902,
          -0.41514991419021874,
          -1.3442282083089776,
          -1.1820500090637647,
          1.377094529882286,
          -2.1237777792754655,
          -0.2760040563599227,
          2.2563598302747043,
          -0.5694714715794288,
          0.27349453000384927,
          -1.6268433135512381,
          1.8336785734758279,
          -0.953298534223817,
          2.266810757115749,
          0.6034859938950822,
          -0.8710853636668698,
          0.6993586649335948,
          0.8280448254298782,
          -0.41886578625999427,
          1.65365778438744,
          1.2904717470899971,
          -0.13086895146558986,
          -0.4886000284738405,
          0.5498406201161541,
          -0.9161257933044573,
          0.7174653339539276,
          0.5061810704031973,
          2.5841091186584526,
          -0.9222603526618206,
          -0.5553901503671522,
          1.0519565453843718,
          0.5045188846409153,
          0.024140113407438185
         ],
         "xaxis": "x12",
         "y": [
          0.9619864109999505,
          0.013861433124429024,
          -1.080802469415181,
          0.48394736756975465,
          0.5120455320718367,
          -0.07461927759886754,
          -1.7116495686300837,
          -0.7941224015842213,
          -0.359982515449631,
          2.6745291203697064,
          0.6625547804469379,
          0.5543288624679773,
          1.1228832734953376,
          -1.2822038585448226,
          -0.2028591814433585,
          -0.4585655584372579,
          1.530143430213587,
          1.0235453829774301,
          1.0657320351516428,
          -0.245555618283886,
          -0.48372789991790716,
          -0.8924145655354128,
          0.8975670741950776,
          1.403164132195382,
          0.9439061819923983,
          3.322002335024259,
          -1.1917255310677242,
          1.091491906789954,
          -0.3090403016788589,
          -0.1821533835253619,
          1.6000615513425562,
          0.5834606969058104,
          2.0605042011016717,
          2.1430312958731497,
          1.435862401885988,
          0.38330105195076053,
          0.5299620273942501,
          -1.1011927744095378,
          -0.4560719189166262,
          1.3187435732055468,
          -0.6262044047356647,
          0.7759933962752779,
          0.14898495093892095,
          0.17276867432275977,
          -0.5734086258180138,
          -0.46059040736721557,
          -0.4820270970689329,
          0.42454817310839793,
          0.31678870805642284,
          2.226580343415447,
          -2.100178939821205,
          -0.6777191227343066,
          -0.07593291355797825,
          -0.29078936781913733,
          -0.1479278877933601,
          -0.5337128733236507,
          -1.0884208272743663,
          -0.17689088266606753,
          0.6443317772577273,
          -1.081747000816026,
          -0.6797158400543877,
          1.3592817961076138,
          -0.97400826809905,
          0.8000777057336252,
          -0.3391473095647177,
          -0.33020829329881907,
          -0.07473964326480681,
          -1.3164933774734262,
          0.8479769033662022,
          0.08885550585322498,
          0.15289914397809903,
          0.6595739702774656,
          0.22037688269560846,
          -0.13957798528689355,
          0.05885903363046422,
          0.6555514628496011,
          1.5344164506794673,
          -0.1054607191728966,
          -0.5532004116851079,
          -1.3918707742871401,
          -1.134772579008437,
          0.7504308512256543,
          -0.22493595896064514,
          0.07560723155093399,
          0.45091299097546106,
          -0.35330262350828423,
          0.4937702034710105,
          1.1911471751155656,
          -2.1749000273482473,
          0.5232842800110749,
          -1.3723098190400498,
          -0.7057695398486414,
          0.332218882688542,
          0.0612355899764811,
          0.6998434626043681,
          1.2238485278958968,
          -0.023588204438006112,
          -1.0295786628035937,
          -0.9071492852350115,
          0.4874545774258891
         ],
         "yaxis": "y12"
        },
        {
         "line": {
          "color": "rgba(128, 128, 128, 1.0)",
          "dash": "solid",
          "shape": "linear",
          "width": 1.3
         },
         "marker": {
          "size": 2,
          "symbol": "circle"
         },
         "mode": "markers",
         "name": "D",
         "text": "",
         "type": "scatter",
         "x": [
          -3.0891690814370802,
          -0.15093812636863455,
          0.13226757129359545,
          -0.9436480441721036,
          1.0939150837805443,
          2.233999101663424,
          -1.408821280745671,
          0.6644399525912178,
          -1.6692209129812499,
          -0.5781750330564617,
          0.3259479485936982,
          0.35337291909405744,
          -0.9355951333970114,
          1.3993657665589674,
          -0.7264432065839201,
          1.2706747152305884,
          0.08987776345309252,
          -0.8739620333814003,
          0.45305462405840774,
          2.077131993710634,
          -0.6497997380408793,
          0.10363703694124451,
          0.3685517032749556,
          -1.660889834320239,
          0.22748720155204724,
          -0.17608486595685274,
          1.9508324776532389,
          -0.948824710656382,
          0.24637108641800815,
          -0.17990593133279728,
          -0.5755789986094119,
          -0.22662134604804202,
          -0.8538680787755056,
          0.013849875503001482,
          0.32597581297179595,
          -0.8570921503818173,
          1.1028656743252894,
          0.5423182366845734,
          -0.5223174727704796,
          0.8231902161617701,
          0.7082832668864215,
          -2.3610760141909157,
          0.2248092690337905,
          -0.36923956224707316,
          0.47222005942496675,
          1.1822084221798006,
          -0.7039689666073455,
          -1.6448332982778755,
          -0.7701095141840978,
          1.563570590474163,
          -1.012153140899084,
          0.23841585632035256,
          -0.10407886028953234,
          -1.5621766835347606,
          2.287473672845577,
          -1.6895900849694523,
          0.523563807588396,
          -0.2458264678003052,
          -0.4110176453047839,
          0.05109260418553095,
          1.124657961564242,
          0.039085117909342014,
          0.07476390135402051,
          -1.6844573466745725,
          0.012687342579481247,
          -0.8125959503982871,
          0.5429420065790311,
          1.1584453916061306,
          0.2913230192637508,
          -0.5259598537222732,
          -0.40300408177855257,
          -0.3231243016908354,
          1.1195392948215908,
          1.1177784724135182,
          -0.2934667283084928,
          0.44485367348780974,
          0.31945308725082366,
          -0.035216205859157454,
          0.5326000062572194,
          -0.23700601438944363,
          -2.125131809986599,
          1.9665838565142724,
          -0.10621838516393992,
          -1.5297894140868404,
          1.1923521839899056,
          0.42434109188195157,
          -0.5928653108372631,
          0.5444827992464166,
          1.908321054359214,
          0.9201338704472097,
          -0.37017190530359384,
          -0.1287567243335507,
          0.5198475796450365,
          -1.0026106354082849,
          -0.5048666794652888,
          -2.2145820644230936,
          1.223006137776256,
          0.7997705039572335,
          -1.2287365551191047,
          -0.33203915961161806
         ],
         "xaxis": "x13",
         "y": [
          0.11050283807346196,
          -0.6124519706476302,
          -0.00561315329695152,
          -0.18261862691991845,
          0.41455853153288924,
          -0.9573252294798228,
          0.4156840411424442,
          -0.42541802906630616,
          -0.7906395130066903,
          1.159504221124273,
          -0.8038416619241505,
          0.16270227606158777,
          0.2438330149343708,
          0.48945929261815685,
          -0.7377423679967747,
          -1.5013180272814242,
          -0.643086110853051,
          -0.8612656915115359,
          -0.35851515949006085,
          -1.0003156654011942,
          0.014773346526293222,
          -0.713762377375046,
          0.6368727732731856,
          0.037647868384242465,
          0.10508579589441149,
          -1.1502573728741479,
          1.68870168764999,
          -0.5241742579212024,
          -1.7029651313661043,
          0.18803789128216897,
          -0.11189755001370763,
          1.4856279178531,
          0.9457722185909986,
          -0.8571479221356121,
          0.43856032875207024,
          -0.20769438603808665,
          -1.4498420292908414,
          -0.9651352015610288,
          1.2675464240310226,
          0.480737969028045,
          0.016015135067592324,
          -0.13272468560906403,
          -0.7413674497679424,
          -0.8074776559821747,
          2.366449510073591,
          0.36879685013716024,
          1.852901160330411,
          -1.4056068871461007,
          -1.8343914940514774,
          0.4055089561501989,
          -0.01641516565126167,
          0.56076005092558,
          -1.4279760341826349,
          0.08022771064908127,
          -0.4134028490854769,
          -1.3537498298209454,
          -0.8709997719077641,
          1.4167591925300114,
          -0.9603161056524859,
          0.32210591102733355,
          -0.4623669023363312,
          2.9957917512313936,
          1.0826892840731102,
          0.6974145019740375,
          -1.0850372392841683,
          0.03782675709880494,
          -0.5271667243565479,
          -1.153364461047902,
          -0.41514991419021874,
          -1.3442282083089776,
          -1.1820500090637647,
          1.377094529882286,
          -2.1237777792754655,
          -0.2760040563599227,
          2.2563598302747043,
          -0.5694714715794288,
          0.27349453000384927,
          -1.6268433135512381,
          1.8336785734758279,
          -0.953298534223817,
          2.266810757115749,
          0.6034859938950822,
          -0.8710853636668698,
          0.6993586649335948,
          0.8280448254298782,
          -0.41886578625999427,
          1.65365778438744,
          1.2904717470899971,
          -0.13086895146558986,
          -0.4886000284738405,
          0.5498406201161541,
          -0.9161257933044573,
          0.7174653339539276,
          0.5061810704031973,
          2.5841091186584526,
          -0.9222603526618206,
          -0.5553901503671522,
          1.0519565453843718,
          0.5045188846409153,
          0.024140113407438185
         ],
         "yaxis": "y13"
        },
        {
         "line": {
          "color": "rgba(128, 128, 128, 1.0)",
          "dash": "solid",
          "shape": "linear",
          "width": 1.3
         },
         "marker": {
          "size": 2,
          "symbol": "circle"
         },
         "mode": "markers",
         "name": "D",
         "text": "",
         "type": "scatter",
         "x": [
          -0.6497331758939314,
          0.28793182818506585,
          -0.6406546473476662,
          0.44288871491097204,
          -0.05516775452979829,
          0.24357440760663784,
          0.19862804394467937,
          0.017871486326105964,
          0.9419586907313144,
          -0.5922269136030222,
          0.4632576220139533,
          -1.02180267541963,
          0.009211380888768295,
          -1.452374979601723,
          0.6076363939370528,
          1.1372970733571235,
          0.8216723348917082,
          0.5156034911723388,
          -0.8402491636980118,
          0.5738466498177162,
          0.4230814437763436,
          -0.2618550866393429,
          -1.4581184044032003,
          1.186524523218494,
          0.16490060860000813,
          0.745770744854132,
          -0.6610696189050297,
          1.3500768352975112,
          1.1987687800465134,
          2.3096028492876384,
          0.5457531625457045,
          -1.8574236349528406,
          -1.18998017247201,
          1.5181164047083455,
          0.14452515865031162,
          0.6790308519434948,
          0.7527245917195355,
          -0.5019644786553503,
          -0.3098563757594705,
          -1.6270825975794787,
          -1.1153274885862796,
          0.0698844178409464,
          -0.13836448145307176,
          0.2977336458815172,
          -1.7761185605661562,
          -1.193535811393635,
          0.6582749459954654,
          0.11742272648375549,
          -0.43788297088276346,
          -1.245679984165115,
          -0.4235286643493187,
          0.02211086881471649,
          -1.4213475477328146,
          -1.547286954040525,
          -2.418368303116361,
          -2.5416510859474353,
          -0.20012910611234505,
          0.2207315892413318,
          0.9806114155971659,
          -0.4514072244754144,
          0.237972413598495,
          1.6661274988172907,
          0.0008207307891878887,
          1.5532407406951003,
          0.05639598449363403,
          -2.2076194668262348,
          -1.2757423993728216,
          -0.7671078846184362,
          -0.44014447187790706,
          -0.09534239410143637,
          0.23862260010165232,
          1.5184905362081385,
          0.25022791644971093,
          0.13193641305590578,
          0.45377837338234756,
          -0.3976932257246214,
          0.9490242186260665,
          -1.3896518058840215,
          0.20243155758583042,
          -2.764972097819883,
          -0.4773196328772329,
          -0.9363311324586043,
          1.3802374486808353,
          0.4431852775753563,
          -1.1880902100557515,
          0.09022540025355277,
          0.30188535198005945,
          -0.5745808656083056,
          -1.3838746723031254,
          -1.5336549625779974,
          -0.4152479223898434,
          -1.082669504325524,
          1.6255905021979637,
          -0.17810907004411655,
          0.14241206049340105,
          -1.0202946103547477,
          0.7833004639524571,
          -0.06931778148223472,
          -1.1869108938985733,
          -2.033802148596967
         ],
         "xaxis": "x14",
         "y": [
          0.11050283807346196,
          -0.6124519706476302,
          -0.00561315329695152,
          -0.18261862691991845,
          0.41455853153288924,
          -0.9573252294798228,
          0.4156840411424442,
          -0.42541802906630616,
          -0.7906395130066903,
          1.159504221124273,
          -0.8038416619241505,
          0.16270227606158777,
          0.2438330149343708,
          0.48945929261815685,
          -0.7377423679967747,
          -1.5013180272814242,
          -0.643086110853051,
          -0.8612656915115359,
          -0.35851515949006085,
          -1.0003156654011942,
          0.014773346526293222,
          -0.713762377375046,
          0.6368727732731856,
          0.037647868384242465,
          0.10508579589441149,
          -1.1502573728741479,
          1.68870168764999,
          -0.5241742579212024,
          -1.7029651313661043,
          0.18803789128216897,
          -0.11189755001370763,
          1.4856279178531,
          0.9457722185909986,
          -0.8571479221356121,
          0.43856032875207024,
          -0.20769438603808665,
          -1.4498420292908414,
          -0.9651352015610288,
          1.2675464240310226,
          0.480737969028045,
          0.016015135067592324,
          -0.13272468560906403,
          -0.7413674497679424,
          -0.8074776559821747,
          2.366449510073591,
          0.36879685013716024,
          1.852901160330411,
          -1.4056068871461007,
          -1.8343914940514774,
          0.4055089561501989,
          -0.01641516565126167,
          0.56076005092558,
          -1.4279760341826349,
          0.08022771064908127,
          -0.4134028490854769,
          -1.3537498298209454,
          -0.8709997719077641,
          1.4167591925300114,
          -0.9603161056524859,
          0.32210591102733355,
          -0.4623669023363312,
          2.9957917512313936,
          1.0826892840731102,
          0.6974145019740375,
          -1.0850372392841683,
          0.03782675709880494,
          -0.5271667243565479,
          -1.153364461047902,
          -0.41514991419021874,
          -1.3442282083089776,
          -1.1820500090637647,
          1.377094529882286,
          -2.1237777792754655,
          -0.2760040563599227,
          2.2563598302747043,
          -0.5694714715794288,
          0.27349453000384927,
          -1.6268433135512381,
          1.8336785734758279,
          -0.953298534223817,
          2.266810757115749,
          0.6034859938950822,
          -0.8710853636668698,
          0.6993586649335948,
          0.8280448254298782,
          -0.41886578625999427,
          1.65365778438744,
          1.2904717470899971,
          -0.13086895146558986,
          -0.4886000284738405,
          0.5498406201161541,
          -0.9161257933044573,
          0.7174653339539276,
          0.5061810704031973,
          2.5841091186584526,
          -0.9222603526618206,
          -0.5553901503671522,
          1.0519565453843718,
          0.5045188846409153,
          0.024140113407438185
         ],
         "yaxis": "y14"
        },
        {
         "line": {
          "color": "rgba(128, 128, 128, 1.0)",
          "dash": "solid",
          "shape": "linear",
          "width": 1.3
         },
         "marker": {
          "size": 2,
          "symbol": "circle"
         },
         "mode": "markers",
         "name": "D",
         "text": "",
         "type": "scatter",
         "x": [
          0.9619864109999505,
          0.013861433124429024,
          -1.080802469415181,
          0.48394736756975465,
          0.5120455320718367,
          -0.07461927759886754,
          -1.7116495686300837,
          -0.7941224015842213,
          -0.359982515449631,
          2.6745291203697064,
          0.6625547804469379,
          0.5543288624679773,
          1.1228832734953376,
          -1.2822038585448226,
          -0.2028591814433585,
          -0.4585655584372579,
          1.530143430213587,
          1.0235453829774301,
          1.0657320351516428,
          -0.245555618283886,
          -0.48372789991790716,
          -0.8924145655354128,
          0.8975670741950776,
          1.403164132195382,
          0.9439061819923983,
          3.322002335024259,
          -1.1917255310677242,
          1.091491906789954,
          -0.3090403016788589,
          -0.1821533835253619,
          1.6000615513425562,
          0.5834606969058104,
          2.0605042011016717,
          2.1430312958731497,
          1.435862401885988,
          0.38330105195076053,
          0.5299620273942501,
          -1.1011927744095378,
          -0.4560719189166262,
          1.3187435732055468,
          -0.6262044047356647,
          0.7759933962752779,
          0.14898495093892095,
          0.17276867432275977,
          -0.5734086258180138,
          -0.46059040736721557,
          -0.4820270970689329,
          0.42454817310839793,
          0.31678870805642284,
          2.226580343415447,
          -2.100178939821205,
          -0.6777191227343066,
          -0.07593291355797825,
          -0.29078936781913733,
          -0.1479278877933601,
          -0.5337128733236507,
          -1.0884208272743663,
          -0.17689088266606753,
          0.6443317772577273,
          -1.081747000816026,
          -0.6797158400543877,
          1.3592817961076138,
          -0.97400826809905,
          0.8000777057336252,
          -0.3391473095647177,
          -0.33020829329881907,
          -0.07473964326480681,
          -1.3164933774734262,
          0.8479769033662022,
          0.08885550585322498,
          0.15289914397809903,
          0.6595739702774656,
          0.22037688269560846,
          -0.13957798528689355,
          0.05885903363046422,
          0.6555514628496011,
          1.5344164506794673,
          -0.1054607191728966,
          -0.5532004116851079,
          -1.3918707742871401,
          -1.134772579008437,
          0.7504308512256543,
          -0.22493595896064514,
          0.07560723155093399,
          0.45091299097546106,
          -0.35330262350828423,
          0.4937702034710105,
          1.1911471751155656,
          -2.1749000273482473,
          0.5232842800110749,
          -1.3723098190400498,
          -0.7057695398486414,
          0.332218882688542,
          0.0612355899764811,
          0.6998434626043681,
          1.2238485278958968,
          -0.023588204438006112,
          -1.0295786628035937,
          -0.9071492852350115,
          0.4874545774258891
         ],
         "xaxis": "x15",
         "y": [
          0.11050283807346196,
          -0.6124519706476302,
          -0.00561315329695152,
          -0.18261862691991845,
          0.41455853153288924,
          -0.9573252294798228,
          0.4156840411424442,
          -0.42541802906630616,
          -0.7906395130066903,
          1.159504221124273,
          -0.8038416619241505,
          0.16270227606158777,
          0.2438330149343708,
          0.48945929261815685,
          -0.7377423679967747,
          -1.5013180272814242,
          -0.643086110853051,
          -0.8612656915115359,
          -0.35851515949006085,
          -1.0003156654011942,
          0.014773346526293222,
          -0.713762377375046,
          0.6368727732731856,
          0.037647868384242465,
          0.10508579589441149,
          -1.1502573728741479,
          1.68870168764999,
          -0.5241742579212024,
          -1.7029651313661043,
          0.18803789128216897,
          -0.11189755001370763,
          1.4856279178531,
          0.9457722185909986,
          -0.8571479221356121,
          0.43856032875207024,
          -0.20769438603808665,
          -1.4498420292908414,
          -0.9651352015610288,
          1.2675464240310226,
          0.480737969028045,
          0.016015135067592324,
          -0.13272468560906403,
          -0.7413674497679424,
          -0.8074776559821747,
          2.366449510073591,
          0.36879685013716024,
          1.852901160330411,
          -1.4056068871461007,
          -1.8343914940514774,
          0.4055089561501989,
          -0.01641516565126167,
          0.56076005092558,
          -1.4279760341826349,
          0.08022771064908127,
          -0.4134028490854769,
          -1.3537498298209454,
          -0.8709997719077641,
          1.4167591925300114,
          -0.9603161056524859,
          0.32210591102733355,
          -0.4623669023363312,
          2.9957917512313936,
          1.0826892840731102,
          0.6974145019740375,
          -1.0850372392841683,
          0.03782675709880494,
          -0.5271667243565479,
          -1.153364461047902,
          -0.41514991419021874,
          -1.3442282083089776,
          -1.1820500090637647,
          1.377094529882286,
          -2.1237777792754655,
          -0.2760040563599227,
          2.2563598302747043,
          -0.5694714715794288,
          0.27349453000384927,
          -1.6268433135512381,
          1.8336785734758279,
          -0.953298534223817,
          2.266810757115749,
          0.6034859938950822,
          -0.8710853636668698,
          0.6993586649335948,
          0.8280448254298782,
          -0.41886578625999427,
          1.65365778438744,
          1.2904717470899971,
          -0.13086895146558986,
          -0.4886000284738405,
          0.5498406201161541,
          -0.9161257933044573,
          0.7174653339539276,
          0.5061810704031973,
          2.5841091186584526,
          -0.9222603526618206,
          -0.5553901503671522,
          1.0519565453843718,
          0.5045188846409153,
          0.024140113407438185
         ],
         "yaxis": "y15"
        },
        {
         "histfunc": "count",
         "histnorm": "",
         "marker": {
          "color": "rgba(128, 0, 128, 1.0)",
          "line": {
           "color": "#4D5663",
           "width": 1.3
          }
         },
         "name": "D",
         "nbinsx": 10,
         "opacity": 0.8,
         "orientation": "v",
         "type": "histogram",
         "x": [
          0.11050283807346196,
          -0.6124519706476302,
          -0.00561315329695152,
          -0.18261862691991845,
          0.41455853153288924,
          -0.9573252294798228,
          0.4156840411424442,
          -0.42541802906630616,
          -0.7906395130066903,
          1.159504221124273,
          -0.8038416619241505,
          0.16270227606158777,
          0.2438330149343708,
          0.48945929261815685,
          -0.7377423679967747,
          -1.5013180272814242,
          -0.643086110853051,
          -0.8612656915115359,
          -0.35851515949006085,
          -1.0003156654011942,
          0.014773346526293222,
          -0.713762377375046,
          0.6368727732731856,
          0.037647868384242465,
          0.10508579589441149,
          -1.1502573728741479,
          1.68870168764999,
          -0.5241742579212024,
          -1.7029651313661043,
          0.18803789128216897,
          -0.11189755001370763,
          1.4856279178531,
          0.9457722185909986,
          -0.8571479221356121,
          0.43856032875207024,
          -0.20769438603808665,
          -1.4498420292908414,
          -0.9651352015610288,
          1.2675464240310226,
          0.480737969028045,
          0.016015135067592324,
          -0.13272468560906403,
          -0.7413674497679424,
          -0.8074776559821747,
          2.366449510073591,
          0.36879685013716024,
          1.852901160330411,
          -1.4056068871461007,
          -1.8343914940514774,
          0.4055089561501989,
          -0.01641516565126167,
          0.56076005092558,
          -1.4279760341826349,
          0.08022771064908127,
          -0.4134028490854769,
          -1.3537498298209454,
          -0.8709997719077641,
          1.4167591925300114,
          -0.9603161056524859,
          0.32210591102733355,
          -0.4623669023363312,
          2.9957917512313936,
          1.0826892840731102,
          0.6974145019740375,
          -1.0850372392841683,
          0.03782675709880494,
          -0.5271667243565479,
          -1.153364461047902,
          -0.41514991419021874,
          -1.3442282083089776,
          -1.1820500090637647,
          1.377094529882286,
          -2.1237777792754655,
          -0.2760040563599227,
          2.2563598302747043,
          -0.5694714715794288,
          0.27349453000384927,
          -1.6268433135512381,
          1.8336785734758279,
          -0.953298534223817,
          2.266810757115749,
          0.6034859938950822,
          -0.8710853636668698,
          0.6993586649335948,
          0.8280448254298782,
          -0.41886578625999427,
          1.65365778438744,
          1.2904717470899971,
          -0.13086895146558986,
          -0.4886000284738405,
          0.5498406201161541,
          -0.9161257933044573,
          0.7174653339539276,
          0.5061810704031973,
          2.5841091186584526,
          -0.9222603526618206,
          -0.5553901503671522,
          1.0519565453843718,
          0.5045188846409153,
          0.024140113407438185
         ],
         "xaxis": "x16",
         "yaxis": "y16"
        }
       ],
       "layout": {
        "bargap": 0.02,
        "legend": {
         "bgcolor": "#F5F6F9",
         "font": {
          "color": "#4D5663"
         }
        },
        "paper_bgcolor": "#F5F6F9",
        "plot_bgcolor": "#F5F6F9",
        "showlegend": false,
        "template": {
         "data": {
          "bar": [
           {
            "error_x": {
             "color": "#2a3f5f"
            },
            "error_y": {
             "color": "#2a3f5f"
            },
            "marker": {
             "line": {
              "color": "#E5ECF6",
              "width": 0.5
             }
            },
            "type": "bar"
           }
          ],
          "barpolar": [
           {
            "marker": {
             "line": {
              "color": "#E5ECF6",
              "width": 0.5
             }
            },
            "type": "barpolar"
           }
          ],
          "carpet": [
           {
            "aaxis": {
             "endlinecolor": "#2a3f5f",
             "gridcolor": "white",
             "linecolor": "white",
             "minorgridcolor": "white",
             "startlinecolor": "#2a3f5f"
            },
            "baxis": {
             "endlinecolor": "#2a3f5f",
             "gridcolor": "white",
             "linecolor": "white",
             "minorgridcolor": "white",
             "startlinecolor": "#2a3f5f"
            },
            "type": "carpet"
           }
          ],
          "choropleth": [
           {
            "colorbar": {
             "outlinewidth": 0,
             "ticks": ""
            },
            "type": "choropleth"
           }
          ],
          "contour": [
           {
            "colorbar": {
             "outlinewidth": 0,
             "ticks": ""
            },
            "colorscale": [
             [
              0,
              "#0d0887"
             ],
             [
              0.1111111111111111,
              "#46039f"
             ],
             [
              0.2222222222222222,
              "#7201a8"
             ],
             [
              0.3333333333333333,
              "#9c179e"
             ],
             [
              0.4444444444444444,
              "#bd3786"
             ],
             [
              0.5555555555555556,
              "#d8576b"
             ],
             [
              0.6666666666666666,
              "#ed7953"
             ],
             [
              0.7777777777777778,
              "#fb9f3a"
             ],
             [
              0.8888888888888888,
              "#fdca26"
             ],
             [
              1,
              "#f0f921"
             ]
            ],
            "type": "contour"
           }
          ],
          "contourcarpet": [
           {
            "colorbar": {
             "outlinewidth": 0,
             "ticks": ""
            },
            "type": "contourcarpet"
           }
          ],
          "heatmap": [
           {
            "colorbar": {
             "outlinewidth": 0,
             "ticks": ""
            },
            "colorscale": [
             [
              0,
              "#0d0887"
             ],
             [
              0.1111111111111111,
              "#46039f"
             ],
             [
              0.2222222222222222,
              "#7201a8"
             ],
             [
              0.3333333333333333,
              "#9c179e"
             ],
             [
              0.4444444444444444,
              "#bd3786"
             ],
             [
              0.5555555555555556,
              "#d8576b"
             ],
             [
              0.6666666666666666,
              "#ed7953"
             ],
             [
              0.7777777777777778,
              "#fb9f3a"
             ],
             [
              0.8888888888888888,
              "#fdca26"
             ],
             [
              1,
              "#f0f921"
             ]
            ],
            "type": "heatmap"
           }
          ],
          "heatmapgl": [
           {
            "colorbar": {
             "outlinewidth": 0,
             "ticks": ""
            },
            "colorscale": [
             [
              0,
              "#0d0887"
             ],
             [
              0.1111111111111111,
              "#46039f"
             ],
             [
              0.2222222222222222,
              "#7201a8"
             ],
             [
              0.3333333333333333,
              "#9c179e"
             ],
             [
              0.4444444444444444,
              "#bd3786"
             ],
             [
              0.5555555555555556,
              "#d8576b"
             ],
             [
              0.6666666666666666,
              "#ed7953"
             ],
             [
              0.7777777777777778,
              "#fb9f3a"
             ],
             [
              0.8888888888888888,
              "#fdca26"
             ],
             [
              1,
              "#f0f921"
             ]
            ],
            "type": "heatmapgl"
           }
          ],
          "histogram": [
           {
            "marker": {
             "colorbar": {
              "outlinewidth": 0,
              "ticks": ""
             }
            },
            "type": "histogram"
           }
          ],
          "histogram2d": [
           {
            "colorbar": {
             "outlinewidth": 0,
             "ticks": ""
            },
            "colorscale": [
             [
              0,
              "#0d0887"
             ],
             [
              0.1111111111111111,
              "#46039f"
             ],
             [
              0.2222222222222222,
              "#7201a8"
             ],
             [
              0.3333333333333333,
              "#9c179e"
             ],
             [
              0.4444444444444444,
              "#bd3786"
             ],
             [
              0.5555555555555556,
              "#d8576b"
             ],
             [
              0.6666666666666666,
              "#ed7953"
             ],
             [
              0.7777777777777778,
              "#fb9f3a"
             ],
             [
              0.8888888888888888,
              "#fdca26"
             ],
             [
              1,
              "#f0f921"
             ]
            ],
            "type": "histogram2d"
           }
          ],
          "histogram2dcontour": [
           {
            "colorbar": {
             "outlinewidth": 0,
             "ticks": ""
            },
            "colorscale": [
             [
              0,
              "#0d0887"
             ],
             [
              0.1111111111111111,
              "#46039f"
             ],
             [
              0.2222222222222222,
              "#7201a8"
             ],
             [
              0.3333333333333333,
              "#9c179e"
             ],
             [
              0.4444444444444444,
              "#bd3786"
             ],
             [
              0.5555555555555556,
              "#d8576b"
             ],
             [
              0.6666666666666666,
              "#ed7953"
             ],
             [
              0.7777777777777778,
              "#fb9f3a"
             ],
             [
              0.8888888888888888,
              "#fdca26"
             ],
             [
              1,
              "#f0f921"
             ]
            ],
            "type": "histogram2dcontour"
           }
          ],
          "mesh3d": [
           {
            "colorbar": {
             "outlinewidth": 0,
             "ticks": ""
            },
            "type": "mesh3d"
           }
          ],
          "parcoords": [
           {
            "line": {
             "colorbar": {
              "outlinewidth": 0,
              "ticks": ""
             }
            },
            "type": "parcoords"
           }
          ],
          "pie": [
           {
            "automargin": true,
            "type": "pie"
           }
          ],
          "scatter": [
           {
            "marker": {
             "colorbar": {
              "outlinewidth": 0,
              "ticks": ""
             }
            },
            "type": "scatter"
           }
          ],
          "scatter3d": [
           {
            "line": {
             "colorbar": {
              "outlinewidth": 0,
              "ticks": ""
             }
            },
            "marker": {
             "colorbar": {
              "outlinewidth": 0,
              "ticks": ""
             }
            },
            "type": "scatter3d"
           }
          ],
          "scattercarpet": [
           {
            "marker": {
             "colorbar": {
              "outlinewidth": 0,
              "ticks": ""
             }
            },
            "type": "scattercarpet"
           }
          ],
          "scattergeo": [
           {
            "marker": {
             "colorbar": {
              "outlinewidth": 0,
              "ticks": ""
             }
            },
            "type": "scattergeo"
           }
          ],
          "scattergl": [
           {
            "marker": {
             "colorbar": {
              "outlinewidth": 0,
              "ticks": ""
             }
            },
            "type": "scattergl"
           }
          ],
          "scattermapbox": [
           {
            "marker": {
             "colorbar": {
              "outlinewidth": 0,
              "ticks": ""
             }
            },
            "type": "scattermapbox"
           }
          ],
          "scatterpolar": [
           {
            "marker": {
             "colorbar": {
              "outlinewidth": 0,
              "ticks": ""
             }
            },
            "type": "scatterpolar"
           }
          ],
          "scatterpolargl": [
           {
            "marker": {
             "colorbar": {
              "outlinewidth": 0,
              "ticks": ""
             }
            },
            "type": "scatterpolargl"
           }
          ],
          "scatterternary": [
           {
            "marker": {
             "colorbar": {
              "outlinewidth": 0,
              "ticks": ""
             }
            },
            "type": "scatterternary"
           }
          ],
          "surface": [
           {
            "colorbar": {
             "outlinewidth": 0,
             "ticks": ""
            },
            "colorscale": [
             [
              0,
              "#0d0887"
             ],
             [
              0.1111111111111111,
              "#46039f"
             ],
             [
              0.2222222222222222,
              "#7201a8"
             ],
             [
              0.3333333333333333,
              "#9c179e"
             ],
             [
              0.4444444444444444,
              "#bd3786"
             ],
             [
              0.5555555555555556,
              "#d8576b"
             ],
             [
              0.6666666666666666,
              "#ed7953"
             ],
             [
              0.7777777777777778,
              "#fb9f3a"
             ],
             [
              0.8888888888888888,
              "#fdca26"
             ],
             [
              1,
              "#f0f921"
             ]
            ],
            "type": "surface"
           }
          ],
          "table": [
           {
            "cells": {
             "fill": {
              "color": "#EBF0F8"
             },
             "line": {
              "color": "white"
             }
            },
            "header": {
             "fill": {
              "color": "#C8D4E3"
             },
             "line": {
              "color": "white"
             }
            },
            "type": "table"
           }
          ]
         },
         "layout": {
          "annotationdefaults": {
           "arrowcolor": "#2a3f5f",
           "arrowhead": 0,
           "arrowwidth": 1
          },
          "coloraxis": {
           "colorbar": {
            "outlinewidth": 0,
            "ticks": ""
           }
          },
          "colorscale": {
           "diverging": [
            [
             0,
             "#8e0152"
            ],
            [
             0.1,
             "#c51b7d"
            ],
            [
             0.2,
             "#de77ae"
            ],
            [
             0.3,
             "#f1b6da"
            ],
            [
             0.4,
             "#fde0ef"
            ],
            [
             0.5,
             "#f7f7f7"
            ],
            [
             0.6,
             "#e6f5d0"
            ],
            [
             0.7,
             "#b8e186"
            ],
            [
             0.8,
             "#7fbc41"
            ],
            [
             0.9,
             "#4d9221"
            ],
            [
             1,
             "#276419"
            ]
           ],
           "sequential": [
            [
             0,
             "#0d0887"
            ],
            [
             0.1111111111111111,
             "#46039f"
            ],
            [
             0.2222222222222222,
             "#7201a8"
            ],
            [
             0.3333333333333333,
             "#9c179e"
            ],
            [
             0.4444444444444444,
             "#bd3786"
            ],
            [
             0.5555555555555556,
             "#d8576b"
            ],
            [
             0.6666666666666666,
             "#ed7953"
            ],
            [
             0.7777777777777778,
             "#fb9f3a"
            ],
            [
             0.8888888888888888,
             "#fdca26"
            ],
            [
             1,
             "#f0f921"
            ]
           ],
           "sequentialminus": [
            [
             0,
             "#0d0887"
            ],
            [
             0.1111111111111111,
             "#46039f"
            ],
            [
             0.2222222222222222,
             "#7201a8"
            ],
            [
             0.3333333333333333,
             "#9c179e"
            ],
            [
             0.4444444444444444,
             "#bd3786"
            ],
            [
             0.5555555555555556,
             "#d8576b"
            ],
            [
             0.6666666666666666,
             "#ed7953"
            ],
            [
             0.7777777777777778,
             "#fb9f3a"
            ],
            [
             0.8888888888888888,
             "#fdca26"
            ],
            [
             1,
             "#f0f921"
            ]
           ]
          },
          "colorway": [
           "#636efa",
           "#EF553B",
           "#00cc96",
           "#ab63fa",
           "#FFA15A",
           "#19d3f3",
           "#FF6692",
           "#B6E880",
           "#FF97FF",
           "#FECB52"
          ],
          "font": {
           "color": "#2a3f5f"
          },
          "geo": {
           "bgcolor": "white",
           "lakecolor": "white",
           "landcolor": "#E5ECF6",
           "showlakes": true,
           "showland": true,
           "subunitcolor": "white"
          },
          "hoverlabel": {
           "align": "left"
          },
          "hovermode": "closest",
          "mapbox": {
           "style": "light"
          },
          "paper_bgcolor": "white",
          "plot_bgcolor": "#E5ECF6",
          "polar": {
           "angularaxis": {
            "gridcolor": "white",
            "linecolor": "white",
            "ticks": ""
           },
           "bgcolor": "#E5ECF6",
           "radialaxis": {
            "gridcolor": "white",
            "linecolor": "white",
            "ticks": ""
           }
          },
          "scene": {
           "xaxis": {
            "backgroundcolor": "#E5ECF6",
            "gridcolor": "white",
            "gridwidth": 2,
            "linecolor": "white",
            "showbackground": true,
            "ticks": "",
            "zerolinecolor": "white"
           },
           "yaxis": {
            "backgroundcolor": "#E5ECF6",
            "gridcolor": "white",
            "gridwidth": 2,
            "linecolor": "white",
            "showbackground": true,
            "ticks": "",
            "zerolinecolor": "white"
           },
           "zaxis": {
            "backgroundcolor": "#E5ECF6",
            "gridcolor": "white",
            "gridwidth": 2,
            "linecolor": "white",
            "showbackground": true,
            "ticks": "",
            "zerolinecolor": "white"
           }
          },
          "shapedefaults": {
           "line": {
            "color": "#2a3f5f"
           }
          },
          "ternary": {
           "aaxis": {
            "gridcolor": "white",
            "linecolor": "white",
            "ticks": ""
           },
           "baxis": {
            "gridcolor": "white",
            "linecolor": "white",
            "ticks": ""
           },
           "bgcolor": "#E5ECF6",
           "caxis": {
            "gridcolor": "white",
            "linecolor": "white",
            "ticks": ""
           }
          },
          "title": {
           "x": 0.05
          },
          "xaxis": {
           "automargin": true,
           "gridcolor": "white",
           "linecolor": "white",
           "ticks": "",
           "title": {
            "standoff": 15
           },
           "zerolinecolor": "white",
           "zerolinewidth": 2
          },
          "yaxis": {
           "automargin": true,
           "gridcolor": "white",
           "linecolor": "white",
           "ticks": "",
           "title": {
            "standoff": 15
           },
           "zerolinecolor": "white",
           "zerolinewidth": 2
          }
         }
        },
        "title": {
         "font": {
          "color": "#4D5663"
         }
        },
        "xaxis": {
         "anchor": "y",
         "domain": [
          0,
          0.2125
         ],
         "gridcolor": "#E1E5ED",
         "showgrid": false,
         "tickfont": {
          "color": "#4D5663"
         },
         "title": {
          "font": {
           "color": "#4D5663"
          },
          "text": ""
         },
         "zerolinecolor": "#E1E5ED"
        },
        "xaxis10": {
         "anchor": "y10",
         "domain": [
          0.2625,
          0.475
         ],
         "gridcolor": "#E1E5ED",
         "showgrid": false,
         "tickfont": {
          "color": "#4D5663"
         },
         "title": {
          "font": {
           "color": "#4D5663"
          },
          "text": ""
         },
         "zerolinecolor": "#E1E5ED"
        },
        "xaxis11": {
         "anchor": "y11",
         "domain": [
          0.525,
          0.7375
         ],
         "gridcolor": "#E1E5ED",
         "showgrid": false,
         "tickfont": {
          "color": "#4D5663"
         },
         "title": {
          "font": {
           "color": "#4D5663"
          },
          "text": ""
         },
         "zerolinecolor": "#E1E5ED"
        },
        "xaxis12": {
         "anchor": "y12",
         "domain": [
          0.7875,
          1
         ],
         "gridcolor": "#E1E5ED",
         "showgrid": false,
         "tickfont": {
          "color": "#4D5663"
         },
         "title": {
          "font": {
           "color": "#4D5663"
          },
          "text": ""
         },
         "zerolinecolor": "#E1E5ED"
        },
        "xaxis13": {
         "anchor": "y13",
         "domain": [
          0,
          0.2125
         ],
         "gridcolor": "#E1E5ED",
         "showgrid": false,
         "tickfont": {
          "color": "#4D5663"
         },
         "title": {
          "font": {
           "color": "#4D5663"
          },
          "text": ""
         },
         "zerolinecolor": "#E1E5ED"
        },
        "xaxis14": {
         "anchor": "y14",
         "domain": [
          0.2625,
          0.475
         ],
         "gridcolor": "#E1E5ED",
         "showgrid": false,
         "tickfont": {
          "color": "#4D5663"
         },
         "title": {
          "font": {
           "color": "#4D5663"
          },
          "text": ""
         },
         "zerolinecolor": "#E1E5ED"
        },
        "xaxis15": {
         "anchor": "y15",
         "domain": [
          0.525,
          0.7375
         ],
         "gridcolor": "#E1E5ED",
         "showgrid": false,
         "tickfont": {
          "color": "#4D5663"
         },
         "title": {
          "font": {
           "color": "#4D5663"
          },
          "text": ""
         },
         "zerolinecolor": "#E1E5ED"
        },
        "xaxis16": {
         "anchor": "y16",
         "domain": [
          0.7875,
          1
         ],
         "gridcolor": "#E1E5ED",
         "showgrid": false,
         "tickfont": {
          "color": "#4D5663"
         },
         "title": {
          "font": {
           "color": "#4D5663"
          },
          "text": ""
         },
         "zerolinecolor": "#E1E5ED"
        },
        "xaxis2": {
         "anchor": "y2",
         "domain": [
          0.2625,
          0.475
         ],
         "gridcolor": "#E1E5ED",
         "showgrid": false,
         "tickfont": {
          "color": "#4D5663"
         },
         "title": {
          "font": {
           "color": "#4D5663"
          },
          "text": ""
         },
         "zerolinecolor": "#E1E5ED"
        },
        "xaxis3": {
         "anchor": "y3",
         "domain": [
          0.525,
          0.7375
         ],
         "gridcolor": "#E1E5ED",
         "showgrid": false,
         "tickfont": {
          "color": "#4D5663"
         },
         "title": {
          "font": {
           "color": "#4D5663"
          },
          "text": ""
         },
         "zerolinecolor": "#E1E5ED"
        },
        "xaxis4": {
         "anchor": "y4",
         "domain": [
          0.7875,
          1
         ],
         "gridcolor": "#E1E5ED",
         "showgrid": false,
         "tickfont": {
          "color": "#4D5663"
         },
         "title": {
          "font": {
           "color": "#4D5663"
          },
          "text": ""
         },
         "zerolinecolor": "#E1E5ED"
        },
        "xaxis5": {
         "anchor": "y5",
         "domain": [
          0,
          0.2125
         ],
         "gridcolor": "#E1E5ED",
         "showgrid": false,
         "tickfont": {
          "color": "#4D5663"
         },
         "title": {
          "font": {
           "color": "#4D5663"
          },
          "text": ""
         },
         "zerolinecolor": "#E1E5ED"
        },
        "xaxis6": {
         "anchor": "y6",
         "domain": [
          0.2625,
          0.475
         ],
         "gridcolor": "#E1E5ED",
         "showgrid": false,
         "tickfont": {
          "color": "#4D5663"
         },
         "title": {
          "font": {
           "color": "#4D5663"
          },
          "text": ""
         },
         "zerolinecolor": "#E1E5ED"
        },
        "xaxis7": {
         "anchor": "y7",
         "domain": [
          0.525,
          0.7375
         ],
         "gridcolor": "#E1E5ED",
         "showgrid": false,
         "tickfont": {
          "color": "#4D5663"
         },
         "title": {
          "font": {
           "color": "#4D5663"
          },
          "text": ""
         },
         "zerolinecolor": "#E1E5ED"
        },
        "xaxis8": {
         "anchor": "y8",
         "domain": [
          0.7875,
          1
         ],
         "gridcolor": "#E1E5ED",
         "showgrid": false,
         "tickfont": {
          "color": "#4D5663"
         },
         "title": {
          "font": {
           "color": "#4D5663"
          },
          "text": ""
         },
         "zerolinecolor": "#E1E5ED"
        },
        "xaxis9": {
         "anchor": "y9",
         "domain": [
          0,
          0.2125
         ],
         "gridcolor": "#E1E5ED",
         "showgrid": false,
         "tickfont": {
          "color": "#4D5663"
         },
         "title": {
          "font": {
           "color": "#4D5663"
          },
          "text": ""
         },
         "zerolinecolor": "#E1E5ED"
        },
        "yaxis": {
         "anchor": "x",
         "domain": [
          0.8025,
          1
         ],
         "gridcolor": "#E1E5ED",
         "showgrid": false,
         "tickfont": {
          "color": "#4D5663"
         },
         "title": {
          "font": {
           "color": "#4D5663"
          },
          "text": ""
         },
         "zerolinecolor": "#E1E5ED"
        },
        "yaxis10": {
         "anchor": "x10",
         "domain": [
          0.2675,
          0.465
         ],
         "gridcolor": "#E1E5ED",
         "showgrid": false,
         "tickfont": {
          "color": "#4D5663"
         },
         "title": {
          "font": {
           "color": "#4D5663"
          },
          "text": ""
         },
         "zerolinecolor": "#E1E5ED"
        },
        "yaxis11": {
         "anchor": "x11",
         "domain": [
          0.2675,
          0.465
         ],
         "gridcolor": "#E1E5ED",
         "showgrid": false,
         "tickfont": {
          "color": "#4D5663"
         },
         "title": {
          "font": {
           "color": "#4D5663"
          },
          "text": ""
         },
         "zerolinecolor": "#E1E5ED"
        },
        "yaxis12": {
         "anchor": "x12",
         "domain": [
          0.2675,
          0.465
         ],
         "gridcolor": "#E1E5ED",
         "showgrid": false,
         "tickfont": {
          "color": "#4D5663"
         },
         "title": {
          "font": {
           "color": "#4D5663"
          },
          "text": ""
         },
         "zerolinecolor": "#E1E5ED"
        },
        "yaxis13": {
         "anchor": "x13",
         "domain": [
          0,
          0.1975
         ],
         "gridcolor": "#E1E5ED",
         "showgrid": false,
         "tickfont": {
          "color": "#4D5663"
         },
         "title": {
          "font": {
           "color": "#4D5663"
          },
          "text": ""
         },
         "zerolinecolor": "#E1E5ED"
        },
        "yaxis14": {
         "anchor": "x14",
         "domain": [
          0,
          0.1975
         ],
         "gridcolor": "#E1E5ED",
         "showgrid": false,
         "tickfont": {
          "color": "#4D5663"
         },
         "title": {
          "font": {
           "color": "#4D5663"
          },
          "text": ""
         },
         "zerolinecolor": "#E1E5ED"
        },
        "yaxis15": {
         "anchor": "x15",
         "domain": [
          0,
          0.1975
         ],
         "gridcolor": "#E1E5ED",
         "showgrid": false,
         "tickfont": {
          "color": "#4D5663"
         },
         "title": {
          "font": {
           "color": "#4D5663"
          },
          "text": ""
         },
         "zerolinecolor": "#E1E5ED"
        },
        "yaxis16": {
         "anchor": "x16",
         "domain": [
          0,
          0.1975
         ],
         "gridcolor": "#E1E5ED",
         "showgrid": false,
         "tickfont": {
          "color": "#4D5663"
         },
         "title": {
          "font": {
           "color": "#4D5663"
          },
          "text": ""
         },
         "zerolinecolor": "#E1E5ED"
        },
        "yaxis2": {
         "anchor": "x2",
         "domain": [
          0.8025,
          1
         ],
         "gridcolor": "#E1E5ED",
         "showgrid": false,
         "tickfont": {
          "color": "#4D5663"
         },
         "title": {
          "font": {
           "color": "#4D5663"
          },
          "text": ""
         },
         "zerolinecolor": "#E1E5ED"
        },
        "yaxis3": {
         "anchor": "x3",
         "domain": [
          0.8025,
          1
         ],
         "gridcolor": "#E1E5ED",
         "showgrid": false,
         "tickfont": {
          "color": "#4D5663"
         },
         "title": {
          "font": {
           "color": "#4D5663"
          },
          "text": ""
         },
         "zerolinecolor": "#E1E5ED"
        },
        "yaxis4": {
         "anchor": "x4",
         "domain": [
          0.8025,
          1
         ],
         "gridcolor": "#E1E5ED",
         "showgrid": false,
         "tickfont": {
          "color": "#4D5663"
         },
         "title": {
          "font": {
           "color": "#4D5663"
          },
          "text": ""
         },
         "zerolinecolor": "#E1E5ED"
        },
        "yaxis5": {
         "anchor": "x5",
         "domain": [
          0.535,
          0.7325
         ],
         "gridcolor": "#E1E5ED",
         "showgrid": false,
         "tickfont": {
          "color": "#4D5663"
         },
         "title": {
          "font": {
           "color": "#4D5663"
          },
          "text": ""
         },
         "zerolinecolor": "#E1E5ED"
        },
        "yaxis6": {
         "anchor": "x6",
         "domain": [
          0.535,
          0.7325
         ],
         "gridcolor": "#E1E5ED",
         "showgrid": false,
         "tickfont": {
          "color": "#4D5663"
         },
         "title": {
          "font": {
           "color": "#4D5663"
          },
          "text": ""
         },
         "zerolinecolor": "#E1E5ED"
        },
        "yaxis7": {
         "anchor": "x7",
         "domain": [
          0.535,
          0.7325
         ],
         "gridcolor": "#E1E5ED",
         "showgrid": false,
         "tickfont": {
          "color": "#4D5663"
         },
         "title": {
          "font": {
           "color": "#4D5663"
          },
          "text": ""
         },
         "zerolinecolor": "#E1E5ED"
        },
        "yaxis8": {
         "anchor": "x8",
         "domain": [
          0.535,
          0.7325
         ],
         "gridcolor": "#E1E5ED",
         "showgrid": false,
         "tickfont": {
          "color": "#4D5663"
         },
         "title": {
          "font": {
           "color": "#4D5663"
          },
          "text": ""
         },
         "zerolinecolor": "#E1E5ED"
        },
        "yaxis9": {
         "anchor": "x9",
         "domain": [
          0.2675,
          0.465
         ],
         "gridcolor": "#E1E5ED",
         "showgrid": false,
         "tickfont": {
          "color": "#4D5663"
         },
         "title": {
          "font": {
           "color": "#4D5663"
          },
          "text": ""
         },
         "zerolinecolor": "#E1E5ED"
        }
       }
      },
      "text/html": [
       "<div>\n",
       "        \n",
       "        \n",
       "            <div id=\"e4e83a59-fe4a-487a-9680-a943243ab42f\" class=\"plotly-graph-div\" style=\"height:525px; width:100%;\"></div>\n",
       "            <script type=\"text/javascript\">\n",
       "                require([\"plotly\"], function(Plotly) {\n",
       "                    window.PLOTLYENV=window.PLOTLYENV || {};\n",
       "                    window.PLOTLYENV.BASE_URL='https://plot.ly';\n",
       "                    \n",
       "                if (document.getElementById(\"e4e83a59-fe4a-487a-9680-a943243ab42f\")) {\n",
       "                    Plotly.newPlot(\n",
       "                        'e4e83a59-fe4a-487a-9680-a943243ab42f',\n",
       "                        [{\"histfunc\": \"count\", \"histnorm\": \"\", \"marker\": {\"color\": \"rgba(255, 153, 51, 1.0)\", \"line\": {\"color\": \"#4D5663\", \"width\": 1.3}}, \"name\": \"A\", \"nbinsx\": 10, \"opacity\": 0.8, \"orientation\": \"v\", \"type\": \"histogram\", \"x\": [-3.0891690814370802, -0.15093812636863455, 0.13226757129359545, -0.9436480441721036, 1.0939150837805443, 2.233999101663424, -1.408821280745671, 0.6644399525912178, -1.6692209129812499, -0.5781750330564617, 0.3259479485936982, 0.35337291909405744, -0.9355951333970114, 1.3993657665589674, -0.7264432065839201, 1.2706747152305884, 0.08987776345309252, -0.8739620333814003, 0.45305462405840774, 2.077131993710634, -0.6497997380408793, 0.10363703694124451, 0.3685517032749556, -1.660889834320239, 0.22748720155204724, -0.17608486595685274, 1.9508324776532389, -0.948824710656382, 0.24637108641800815, -0.17990593133279728, -0.5755789986094119, -0.22662134604804202, -0.8538680787755056, 0.013849875503001482, 0.32597581297179595, -0.8570921503818173, 1.1028656743252894, 0.5423182366845734, -0.5223174727704796, 0.8231902161617701, 0.7082832668864215, -2.3610760141909157, 0.2248092690337905, -0.36923956224707316, 0.47222005942496675, 1.1822084221798006, -0.7039689666073455, -1.6448332982778755, -0.7701095141840978, 1.563570590474163, -1.012153140899084, 0.23841585632035256, -0.10407886028953234, -1.5621766835347606, 2.287473672845577, -1.6895900849694523, 0.523563807588396, -0.2458264678003052, -0.4110176453047839, 0.05109260418553095, 1.124657961564242, 0.039085117909342014, 0.07476390135402051, -1.6844573466745725, 0.012687342579481247, -0.8125959503982871, 0.5429420065790311, 1.1584453916061306, 0.2913230192637508, -0.5259598537222732, -0.40300408177855257, -0.3231243016908354, 1.1195392948215908, 1.1177784724135182, -0.2934667283084928, 0.44485367348780974, 0.31945308725082366, -0.035216205859157454, 0.5326000062572194, -0.23700601438944363, -2.125131809986599, 1.9665838565142724, -0.10621838516393992, -1.5297894140868404, 1.1923521839899056, 0.42434109188195157, -0.5928653108372631, 0.5444827992464166, 1.908321054359214, 0.9201338704472097, -0.37017190530359384, -0.1287567243335507, 0.5198475796450365, -1.0026106354082849, -0.5048666794652888, -2.2145820644230936, 1.223006137776256, 0.7997705039572335, -1.2287365551191047, -0.33203915961161806], \"xaxis\": \"x\", \"yaxis\": \"y\"}, {\"line\": {\"color\": \"rgba(128, 128, 128, 1.0)\", \"dash\": \"solid\", \"shape\": \"linear\", \"width\": 1.3}, \"marker\": {\"size\": 2, \"symbol\": \"circle\"}, \"mode\": \"markers\", \"name\": \"A\", \"text\": \"\", \"type\": \"scatter\", \"x\": [-0.6497331758939314, 0.28793182818506585, -0.6406546473476662, 0.44288871491097204, -0.05516775452979829, 0.24357440760663784, 0.19862804394467937, 0.017871486326105964, 0.9419586907313144, -0.5922269136030222, 0.4632576220139533, -1.02180267541963, 0.009211380888768295, -1.452374979601723, 0.6076363939370528, 1.1372970733571235, 0.8216723348917082, 0.5156034911723388, -0.8402491636980118, 0.5738466498177162, 0.4230814437763436, -0.2618550866393429, -1.4581184044032003, 1.186524523218494, 0.16490060860000813, 0.745770744854132, -0.6610696189050297, 1.3500768352975112, 1.1987687800465134, 2.3096028492876384, 0.5457531625457045, -1.8574236349528406, -1.18998017247201, 1.5181164047083455, 0.14452515865031162, 0.6790308519434948, 0.7527245917195355, -0.5019644786553503, -0.3098563757594705, -1.6270825975794787, -1.1153274885862796, 0.0698844178409464, -0.13836448145307176, 0.2977336458815172, -1.7761185605661562, -1.193535811393635, 0.6582749459954654, 0.11742272648375549, -0.43788297088276346, -1.245679984165115, -0.4235286643493187, 0.02211086881471649, -1.4213475477328146, -1.547286954040525, -2.418368303116361, -2.5416510859474353, -0.20012910611234505, 0.2207315892413318, 0.9806114155971659, -0.4514072244754144, 0.237972413598495, 1.6661274988172907, 0.0008207307891878887, 1.5532407406951003, 0.05639598449363403, -2.2076194668262348, -1.2757423993728216, -0.7671078846184362, -0.44014447187790706, -0.09534239410143637, 0.23862260010165232, 1.5184905362081385, 0.25022791644971093, 0.13193641305590578, 0.45377837338234756, -0.3976932257246214, 0.9490242186260665, -1.3896518058840215, 0.20243155758583042, -2.764972097819883, -0.4773196328772329, -0.9363311324586043, 1.3802374486808353, 0.4431852775753563, -1.1880902100557515, 0.09022540025355277, 0.30188535198005945, -0.5745808656083056, -1.3838746723031254, -1.5336549625779974, -0.4152479223898434, -1.082669504325524, 1.6255905021979637, -0.17810907004411655, 0.14241206049340105, -1.0202946103547477, 0.7833004639524571, -0.06931778148223472, -1.1869108938985733, -2.033802148596967], \"xaxis\": \"x2\", \"y\": [-3.0891690814370802, -0.15093812636863455, 0.13226757129359545, -0.9436480441721036, 1.0939150837805443, 2.233999101663424, -1.408821280745671, 0.6644399525912178, -1.6692209129812499, -0.5781750330564617, 0.3259479485936982, 0.35337291909405744, -0.9355951333970114, 1.3993657665589674, -0.7264432065839201, 1.2706747152305884, 0.08987776345309252, -0.8739620333814003, 0.45305462405840774, 2.077131993710634, -0.6497997380408793, 0.10363703694124451, 0.3685517032749556, -1.660889834320239, 0.22748720155204724, -0.17608486595685274, 1.9508324776532389, -0.948824710656382, 0.24637108641800815, -0.17990593133279728, -0.5755789986094119, -0.22662134604804202, -0.8538680787755056, 0.013849875503001482, 0.32597581297179595, -0.8570921503818173, 1.1028656743252894, 0.5423182366845734, -0.5223174727704796, 0.8231902161617701, 0.7082832668864215, -2.3610760141909157, 0.2248092690337905, -0.36923956224707316, 0.47222005942496675, 1.1822084221798006, -0.7039689666073455, -1.6448332982778755, -0.7701095141840978, 1.563570590474163, -1.012153140899084, 0.23841585632035256, -0.10407886028953234, -1.5621766835347606, 2.287473672845577, -1.6895900849694523, 0.523563807588396, -0.2458264678003052, -0.4110176453047839, 0.05109260418553095, 1.124657961564242, 0.039085117909342014, 0.07476390135402051, -1.6844573466745725, 0.012687342579481247, -0.8125959503982871, 0.5429420065790311, 1.1584453916061306, 0.2913230192637508, -0.5259598537222732, -0.40300408177855257, -0.3231243016908354, 1.1195392948215908, 1.1177784724135182, -0.2934667283084928, 0.44485367348780974, 0.31945308725082366, -0.035216205859157454, 0.5326000062572194, -0.23700601438944363, -2.125131809986599, 1.9665838565142724, -0.10621838516393992, -1.5297894140868404, 1.1923521839899056, 0.42434109188195157, -0.5928653108372631, 0.5444827992464166, 1.908321054359214, 0.9201338704472097, -0.37017190530359384, -0.1287567243335507, 0.5198475796450365, -1.0026106354082849, -0.5048666794652888, -2.2145820644230936, 1.223006137776256, 0.7997705039572335, -1.2287365551191047, -0.33203915961161806], \"yaxis\": \"y2\"}, {\"line\": {\"color\": \"rgba(128, 128, 128, 1.0)\", \"dash\": \"solid\", \"shape\": \"linear\", \"width\": 1.3}, \"marker\": {\"size\": 2, \"symbol\": \"circle\"}, \"mode\": \"markers\", \"name\": \"A\", \"text\": \"\", \"type\": \"scatter\", \"x\": [0.9619864109999505, 0.013861433124429024, -1.080802469415181, 0.48394736756975465, 0.5120455320718367, -0.07461927759886754, -1.7116495686300837, -0.7941224015842213, -0.359982515449631, 2.6745291203697064, 0.6625547804469379, 0.5543288624679773, 1.1228832734953376, -1.2822038585448226, -0.2028591814433585, -0.4585655584372579, 1.530143430213587, 1.0235453829774301, 1.0657320351516428, -0.245555618283886, -0.48372789991790716, -0.8924145655354128, 0.8975670741950776, 1.403164132195382, 0.9439061819923983, 3.322002335024259, -1.1917255310677242, 1.091491906789954, -0.3090403016788589, -0.1821533835253619, 1.6000615513425562, 0.5834606969058104, 2.0605042011016717, 2.1430312958731497, 1.435862401885988, 0.38330105195076053, 0.5299620273942501, -1.1011927744095378, -0.4560719189166262, 1.3187435732055468, -0.6262044047356647, 0.7759933962752779, 0.14898495093892095, 0.17276867432275977, -0.5734086258180138, -0.46059040736721557, -0.4820270970689329, 0.42454817310839793, 0.31678870805642284, 2.226580343415447, -2.100178939821205, -0.6777191227343066, -0.07593291355797825, -0.29078936781913733, -0.1479278877933601, -0.5337128733236507, -1.0884208272743663, -0.17689088266606753, 0.6443317772577273, -1.081747000816026, -0.6797158400543877, 1.3592817961076138, -0.97400826809905, 0.8000777057336252, -0.3391473095647177, -0.33020829329881907, -0.07473964326480681, -1.3164933774734262, 0.8479769033662022, 0.08885550585322498, 0.15289914397809903, 0.6595739702774656, 0.22037688269560846, -0.13957798528689355, 0.05885903363046422, 0.6555514628496011, 1.5344164506794673, -0.1054607191728966, -0.5532004116851079, -1.3918707742871401, -1.134772579008437, 0.7504308512256543, -0.22493595896064514, 0.07560723155093399, 0.45091299097546106, -0.35330262350828423, 0.4937702034710105, 1.1911471751155656, -2.1749000273482473, 0.5232842800110749, -1.3723098190400498, -0.7057695398486414, 0.332218882688542, 0.0612355899764811, 0.6998434626043681, 1.2238485278958968, -0.023588204438006112, -1.0295786628035937, -0.9071492852350115, 0.4874545774258891], \"xaxis\": \"x3\", \"y\": [-3.0891690814370802, -0.15093812636863455, 0.13226757129359545, -0.9436480441721036, 1.0939150837805443, 2.233999101663424, -1.408821280745671, 0.6644399525912178, -1.6692209129812499, -0.5781750330564617, 0.3259479485936982, 0.35337291909405744, -0.9355951333970114, 1.3993657665589674, -0.7264432065839201, 1.2706747152305884, 0.08987776345309252, -0.8739620333814003, 0.45305462405840774, 2.077131993710634, -0.6497997380408793, 0.10363703694124451, 0.3685517032749556, -1.660889834320239, 0.22748720155204724, -0.17608486595685274, 1.9508324776532389, -0.948824710656382, 0.24637108641800815, -0.17990593133279728, -0.5755789986094119, -0.22662134604804202, -0.8538680787755056, 0.013849875503001482, 0.32597581297179595, -0.8570921503818173, 1.1028656743252894, 0.5423182366845734, -0.5223174727704796, 0.8231902161617701, 0.7082832668864215, -2.3610760141909157, 0.2248092690337905, -0.36923956224707316, 0.47222005942496675, 1.1822084221798006, -0.7039689666073455, -1.6448332982778755, -0.7701095141840978, 1.563570590474163, -1.012153140899084, 0.23841585632035256, -0.10407886028953234, -1.5621766835347606, 2.287473672845577, -1.6895900849694523, 0.523563807588396, -0.2458264678003052, -0.4110176453047839, 0.05109260418553095, 1.124657961564242, 0.039085117909342014, 0.07476390135402051, -1.6844573466745725, 0.012687342579481247, -0.8125959503982871, 0.5429420065790311, 1.1584453916061306, 0.2913230192637508, -0.5259598537222732, -0.40300408177855257, -0.3231243016908354, 1.1195392948215908, 1.1177784724135182, -0.2934667283084928, 0.44485367348780974, 0.31945308725082366, -0.035216205859157454, 0.5326000062572194, -0.23700601438944363, -2.125131809986599, 1.9665838565142724, -0.10621838516393992, -1.5297894140868404, 1.1923521839899056, 0.42434109188195157, -0.5928653108372631, 0.5444827992464166, 1.908321054359214, 0.9201338704472097, -0.37017190530359384, -0.1287567243335507, 0.5198475796450365, -1.0026106354082849, -0.5048666794652888, -2.2145820644230936, 1.223006137776256, 0.7997705039572335, -1.2287365551191047, -0.33203915961161806], \"yaxis\": \"y3\"}, {\"line\": {\"color\": \"rgba(128, 128, 128, 1.0)\", \"dash\": \"solid\", \"shape\": \"linear\", \"width\": 1.3}, \"marker\": {\"size\": 2, \"symbol\": \"circle\"}, \"mode\": \"markers\", \"name\": \"A\", \"text\": \"\", \"type\": \"scatter\", \"x\": [0.11050283807346196, -0.6124519706476302, -0.00561315329695152, -0.18261862691991845, 0.41455853153288924, -0.9573252294798228, 0.4156840411424442, -0.42541802906630616, -0.7906395130066903, 1.159504221124273, -0.8038416619241505, 0.16270227606158777, 0.2438330149343708, 0.48945929261815685, -0.7377423679967747, -1.5013180272814242, -0.643086110853051, -0.8612656915115359, -0.35851515949006085, -1.0003156654011942, 0.014773346526293222, -0.713762377375046, 0.6368727732731856, 0.037647868384242465, 0.10508579589441149, -1.1502573728741479, 1.68870168764999, -0.5241742579212024, -1.7029651313661043, 0.18803789128216897, -0.11189755001370763, 1.4856279178531, 0.9457722185909986, -0.8571479221356121, 0.43856032875207024, -0.20769438603808665, -1.4498420292908414, -0.9651352015610288, 1.2675464240310226, 0.480737969028045, 0.016015135067592324, -0.13272468560906403, -0.7413674497679424, -0.8074776559821747, 2.366449510073591, 0.36879685013716024, 1.852901160330411, -1.4056068871461007, -1.8343914940514774, 0.4055089561501989, -0.01641516565126167, 0.56076005092558, -1.4279760341826349, 0.08022771064908127, -0.4134028490854769, -1.3537498298209454, -0.8709997719077641, 1.4167591925300114, -0.9603161056524859, 0.32210591102733355, -0.4623669023363312, 2.9957917512313936, 1.0826892840731102, 0.6974145019740375, -1.0850372392841683, 0.03782675709880494, -0.5271667243565479, -1.153364461047902, -0.41514991419021874, -1.3442282083089776, -1.1820500090637647, 1.377094529882286, -2.1237777792754655, -0.2760040563599227, 2.2563598302747043, -0.5694714715794288, 0.27349453000384927, -1.6268433135512381, 1.8336785734758279, -0.953298534223817, 2.266810757115749, 0.6034859938950822, -0.8710853636668698, 0.6993586649335948, 0.8280448254298782, -0.41886578625999427, 1.65365778438744, 1.2904717470899971, -0.13086895146558986, -0.4886000284738405, 0.5498406201161541, -0.9161257933044573, 0.7174653339539276, 0.5061810704031973, 2.5841091186584526, -0.9222603526618206, -0.5553901503671522, 1.0519565453843718, 0.5045188846409153, 0.024140113407438185], \"xaxis\": \"x4\", \"y\": [-3.0891690814370802, -0.15093812636863455, 0.13226757129359545, -0.9436480441721036, 1.0939150837805443, 2.233999101663424, -1.408821280745671, 0.6644399525912178, -1.6692209129812499, -0.5781750330564617, 0.3259479485936982, 0.35337291909405744, -0.9355951333970114, 1.3993657665589674, -0.7264432065839201, 1.2706747152305884, 0.08987776345309252, -0.8739620333814003, 0.45305462405840774, 2.077131993710634, -0.6497997380408793, 0.10363703694124451, 0.3685517032749556, -1.660889834320239, 0.22748720155204724, -0.17608486595685274, 1.9508324776532389, -0.948824710656382, 0.24637108641800815, -0.17990593133279728, -0.5755789986094119, -0.22662134604804202, -0.8538680787755056, 0.013849875503001482, 0.32597581297179595, -0.8570921503818173, 1.1028656743252894, 0.5423182366845734, -0.5223174727704796, 0.8231902161617701, 0.7082832668864215, -2.3610760141909157, 0.2248092690337905, -0.36923956224707316, 0.47222005942496675, 1.1822084221798006, -0.7039689666073455, -1.6448332982778755, -0.7701095141840978, 1.563570590474163, -1.012153140899084, 0.23841585632035256, -0.10407886028953234, -1.5621766835347606, 2.287473672845577, -1.6895900849694523, 0.523563807588396, -0.2458264678003052, -0.4110176453047839, 0.05109260418553095, 1.124657961564242, 0.039085117909342014, 0.07476390135402051, -1.6844573466745725, 0.012687342579481247, -0.8125959503982871, 0.5429420065790311, 1.1584453916061306, 0.2913230192637508, -0.5259598537222732, -0.40300408177855257, -0.3231243016908354, 1.1195392948215908, 1.1177784724135182, -0.2934667283084928, 0.44485367348780974, 0.31945308725082366, -0.035216205859157454, 0.5326000062572194, -0.23700601438944363, -2.125131809986599, 1.9665838565142724, -0.10621838516393992, -1.5297894140868404, 1.1923521839899056, 0.42434109188195157, -0.5928653108372631, 0.5444827992464166, 1.908321054359214, 0.9201338704472097, -0.37017190530359384, -0.1287567243335507, 0.5198475796450365, -1.0026106354082849, -0.5048666794652888, -2.2145820644230936, 1.223006137776256, 0.7997705039572335, -1.2287365551191047, -0.33203915961161806], \"yaxis\": \"y4\"}, {\"line\": {\"color\": \"rgba(128, 128, 128, 1.0)\", \"dash\": \"solid\", \"shape\": \"linear\", \"width\": 1.3}, \"marker\": {\"size\": 2, \"symbol\": \"circle\"}, \"mode\": \"markers\", \"name\": \"B\", \"text\": \"\", \"type\": \"scatter\", \"x\": [-3.0891690814370802, -0.15093812636863455, 0.13226757129359545, -0.9436480441721036, 1.0939150837805443, 2.233999101663424, -1.408821280745671, 0.6644399525912178, -1.6692209129812499, -0.5781750330564617, 0.3259479485936982, 0.35337291909405744, -0.9355951333970114, 1.3993657665589674, -0.7264432065839201, 1.2706747152305884, 0.08987776345309252, -0.8739620333814003, 0.45305462405840774, 2.077131993710634, -0.6497997380408793, 0.10363703694124451, 0.3685517032749556, -1.660889834320239, 0.22748720155204724, -0.17608486595685274, 1.9508324776532389, -0.948824710656382, 0.24637108641800815, -0.17990593133279728, -0.5755789986094119, -0.22662134604804202, -0.8538680787755056, 0.013849875503001482, 0.32597581297179595, -0.8570921503818173, 1.1028656743252894, 0.5423182366845734, -0.5223174727704796, 0.8231902161617701, 0.7082832668864215, -2.3610760141909157, 0.2248092690337905, -0.36923956224707316, 0.47222005942496675, 1.1822084221798006, -0.7039689666073455, -1.6448332982778755, -0.7701095141840978, 1.563570590474163, -1.012153140899084, 0.23841585632035256, -0.10407886028953234, -1.5621766835347606, 2.287473672845577, -1.6895900849694523, 0.523563807588396, -0.2458264678003052, -0.4110176453047839, 0.05109260418553095, 1.124657961564242, 0.039085117909342014, 0.07476390135402051, -1.6844573466745725, 0.012687342579481247, -0.8125959503982871, 0.5429420065790311, 1.1584453916061306, 0.2913230192637508, -0.5259598537222732, -0.40300408177855257, -0.3231243016908354, 1.1195392948215908, 1.1177784724135182, -0.2934667283084928, 0.44485367348780974, 0.31945308725082366, -0.035216205859157454, 0.5326000062572194, -0.23700601438944363, -2.125131809986599, 1.9665838565142724, -0.10621838516393992, -1.5297894140868404, 1.1923521839899056, 0.42434109188195157, -0.5928653108372631, 0.5444827992464166, 1.908321054359214, 0.9201338704472097, -0.37017190530359384, -0.1287567243335507, 0.5198475796450365, -1.0026106354082849, -0.5048666794652888, -2.2145820644230936, 1.223006137776256, 0.7997705039572335, -1.2287365551191047, -0.33203915961161806], \"xaxis\": \"x5\", \"y\": [-0.6497331758939314, 0.28793182818506585, -0.6406546473476662, 0.44288871491097204, -0.05516775452979829, 0.24357440760663784, 0.19862804394467937, 0.017871486326105964, 0.9419586907313144, -0.5922269136030222, 0.4632576220139533, -1.02180267541963, 0.009211380888768295, -1.452374979601723, 0.6076363939370528, 1.1372970733571235, 0.8216723348917082, 0.5156034911723388, -0.8402491636980118, 0.5738466498177162, 0.4230814437763436, -0.2618550866393429, -1.4581184044032003, 1.186524523218494, 0.16490060860000813, 0.745770744854132, -0.6610696189050297, 1.3500768352975112, 1.1987687800465134, 2.3096028492876384, 0.5457531625457045, -1.8574236349528406, -1.18998017247201, 1.5181164047083455, 0.14452515865031162, 0.6790308519434948, 0.7527245917195355, -0.5019644786553503, -0.3098563757594705, -1.6270825975794787, -1.1153274885862796, 0.0698844178409464, -0.13836448145307176, 0.2977336458815172, -1.7761185605661562, -1.193535811393635, 0.6582749459954654, 0.11742272648375549, -0.43788297088276346, -1.245679984165115, -0.4235286643493187, 0.02211086881471649, -1.4213475477328146, -1.547286954040525, -2.418368303116361, -2.5416510859474353, -0.20012910611234505, 0.2207315892413318, 0.9806114155971659, -0.4514072244754144, 0.237972413598495, 1.6661274988172907, 0.0008207307891878887, 1.5532407406951003, 0.05639598449363403, -2.2076194668262348, -1.2757423993728216, -0.7671078846184362, -0.44014447187790706, -0.09534239410143637, 0.23862260010165232, 1.5184905362081385, 0.25022791644971093, 0.13193641305590578, 0.45377837338234756, -0.3976932257246214, 0.9490242186260665, -1.3896518058840215, 0.20243155758583042, -2.764972097819883, -0.4773196328772329, -0.9363311324586043, 1.3802374486808353, 0.4431852775753563, -1.1880902100557515, 0.09022540025355277, 0.30188535198005945, -0.5745808656083056, -1.3838746723031254, -1.5336549625779974, -0.4152479223898434, -1.082669504325524, 1.6255905021979637, -0.17810907004411655, 0.14241206049340105, -1.0202946103547477, 0.7833004639524571, -0.06931778148223472, -1.1869108938985733, -2.033802148596967], \"yaxis\": \"y5\"}, {\"histfunc\": \"count\", \"histnorm\": \"\", \"marker\": {\"color\": \"rgba(55, 128, 191, 1.0)\", \"line\": {\"color\": \"#4D5663\", \"width\": 1.3}}, \"name\": \"B\", \"nbinsx\": 10, \"opacity\": 0.8, \"orientation\": \"v\", \"type\": \"histogram\", \"x\": [-0.6497331758939314, 0.28793182818506585, -0.6406546473476662, 0.44288871491097204, -0.05516775452979829, 0.24357440760663784, 0.19862804394467937, 0.017871486326105964, 0.9419586907313144, -0.5922269136030222, 0.4632576220139533, -1.02180267541963, 0.009211380888768295, -1.452374979601723, 0.6076363939370528, 1.1372970733571235, 0.8216723348917082, 0.5156034911723388, -0.8402491636980118, 0.5738466498177162, 0.4230814437763436, -0.2618550866393429, -1.4581184044032003, 1.186524523218494, 0.16490060860000813, 0.745770744854132, -0.6610696189050297, 1.3500768352975112, 1.1987687800465134, 2.3096028492876384, 0.5457531625457045, -1.8574236349528406, -1.18998017247201, 1.5181164047083455, 0.14452515865031162, 0.6790308519434948, 0.7527245917195355, -0.5019644786553503, -0.3098563757594705, -1.6270825975794787, -1.1153274885862796, 0.0698844178409464, -0.13836448145307176, 0.2977336458815172, -1.7761185605661562, -1.193535811393635, 0.6582749459954654, 0.11742272648375549, -0.43788297088276346, -1.245679984165115, -0.4235286643493187, 0.02211086881471649, -1.4213475477328146, -1.547286954040525, -2.418368303116361, -2.5416510859474353, -0.20012910611234505, 0.2207315892413318, 0.9806114155971659, -0.4514072244754144, 0.237972413598495, 1.6661274988172907, 0.0008207307891878887, 1.5532407406951003, 0.05639598449363403, -2.2076194668262348, -1.2757423993728216, -0.7671078846184362, -0.44014447187790706, -0.09534239410143637, 0.23862260010165232, 1.5184905362081385, 0.25022791644971093, 0.13193641305590578, 0.45377837338234756, -0.3976932257246214, 0.9490242186260665, -1.3896518058840215, 0.20243155758583042, -2.764972097819883, -0.4773196328772329, -0.9363311324586043, 1.3802374486808353, 0.4431852775753563, -1.1880902100557515, 0.09022540025355277, 0.30188535198005945, -0.5745808656083056, -1.3838746723031254, -1.5336549625779974, -0.4152479223898434, -1.082669504325524, 1.6255905021979637, -0.17810907004411655, 0.14241206049340105, -1.0202946103547477, 0.7833004639524571, -0.06931778148223472, -1.1869108938985733, -2.033802148596967], \"xaxis\": \"x6\", \"yaxis\": \"y6\"}, {\"line\": {\"color\": \"rgba(128, 128, 128, 1.0)\", \"dash\": \"solid\", \"shape\": \"linear\", \"width\": 1.3}, \"marker\": {\"size\": 2, \"symbol\": \"circle\"}, \"mode\": \"markers\", \"name\": \"B\", \"text\": \"\", \"type\": \"scatter\", \"x\": [0.9619864109999505, 0.013861433124429024, -1.080802469415181, 0.48394736756975465, 0.5120455320718367, -0.07461927759886754, -1.7116495686300837, -0.7941224015842213, -0.359982515449631, 2.6745291203697064, 0.6625547804469379, 0.5543288624679773, 1.1228832734953376, -1.2822038585448226, -0.2028591814433585, -0.4585655584372579, 1.530143430213587, 1.0235453829774301, 1.0657320351516428, -0.245555618283886, -0.48372789991790716, -0.8924145655354128, 0.8975670741950776, 1.403164132195382, 0.9439061819923983, 3.322002335024259, -1.1917255310677242, 1.091491906789954, -0.3090403016788589, -0.1821533835253619, 1.6000615513425562, 0.5834606969058104, 2.0605042011016717, 2.1430312958731497, 1.435862401885988, 0.38330105195076053, 0.5299620273942501, -1.1011927744095378, -0.4560719189166262, 1.3187435732055468, -0.6262044047356647, 0.7759933962752779, 0.14898495093892095, 0.17276867432275977, -0.5734086258180138, -0.46059040736721557, -0.4820270970689329, 0.42454817310839793, 0.31678870805642284, 2.226580343415447, -2.100178939821205, -0.6777191227343066, -0.07593291355797825, -0.29078936781913733, -0.1479278877933601, -0.5337128733236507, -1.0884208272743663, -0.17689088266606753, 0.6443317772577273, -1.081747000816026, -0.6797158400543877, 1.3592817961076138, -0.97400826809905, 0.8000777057336252, -0.3391473095647177, -0.33020829329881907, -0.07473964326480681, -1.3164933774734262, 0.8479769033662022, 0.08885550585322498, 0.15289914397809903, 0.6595739702774656, 0.22037688269560846, -0.13957798528689355, 0.05885903363046422, 0.6555514628496011, 1.5344164506794673, -0.1054607191728966, -0.5532004116851079, -1.3918707742871401, -1.134772579008437, 0.7504308512256543, -0.22493595896064514, 0.07560723155093399, 0.45091299097546106, -0.35330262350828423, 0.4937702034710105, 1.1911471751155656, -2.1749000273482473, 0.5232842800110749, -1.3723098190400498, -0.7057695398486414, 0.332218882688542, 0.0612355899764811, 0.6998434626043681, 1.2238485278958968, -0.023588204438006112, -1.0295786628035937, -0.9071492852350115, 0.4874545774258891], \"xaxis\": \"x7\", \"y\": [-0.6497331758939314, 0.28793182818506585, -0.6406546473476662, 0.44288871491097204, -0.05516775452979829, 0.24357440760663784, 0.19862804394467937, 0.017871486326105964, 0.9419586907313144, -0.5922269136030222, 0.4632576220139533, -1.02180267541963, 0.009211380888768295, -1.452374979601723, 0.6076363939370528, 1.1372970733571235, 0.8216723348917082, 0.5156034911723388, -0.8402491636980118, 0.5738466498177162, 0.4230814437763436, -0.2618550866393429, -1.4581184044032003, 1.186524523218494, 0.16490060860000813, 0.745770744854132, -0.6610696189050297, 1.3500768352975112, 1.1987687800465134, 2.3096028492876384, 0.5457531625457045, -1.8574236349528406, -1.18998017247201, 1.5181164047083455, 0.14452515865031162, 0.6790308519434948, 0.7527245917195355, -0.5019644786553503, -0.3098563757594705, -1.6270825975794787, -1.1153274885862796, 0.0698844178409464, -0.13836448145307176, 0.2977336458815172, -1.7761185605661562, -1.193535811393635, 0.6582749459954654, 0.11742272648375549, -0.43788297088276346, -1.245679984165115, -0.4235286643493187, 0.02211086881471649, -1.4213475477328146, -1.547286954040525, -2.418368303116361, -2.5416510859474353, -0.20012910611234505, 0.2207315892413318, 0.9806114155971659, -0.4514072244754144, 0.237972413598495, 1.6661274988172907, 0.0008207307891878887, 1.5532407406951003, 0.05639598449363403, -2.2076194668262348, -1.2757423993728216, -0.7671078846184362, -0.44014447187790706, -0.09534239410143637, 0.23862260010165232, 1.5184905362081385, 0.25022791644971093, 0.13193641305590578, 0.45377837338234756, -0.3976932257246214, 0.9490242186260665, -1.3896518058840215, 0.20243155758583042, -2.764972097819883, -0.4773196328772329, -0.9363311324586043, 1.3802374486808353, 0.4431852775753563, -1.1880902100557515, 0.09022540025355277, 0.30188535198005945, -0.5745808656083056, -1.3838746723031254, -1.5336549625779974, -0.4152479223898434, -1.082669504325524, 1.6255905021979637, -0.17810907004411655, 0.14241206049340105, -1.0202946103547477, 0.7833004639524571, -0.06931778148223472, -1.1869108938985733, -2.033802148596967], \"yaxis\": \"y7\"}, {\"line\": {\"color\": \"rgba(128, 128, 128, 1.0)\", \"dash\": \"solid\", \"shape\": \"linear\", \"width\": 1.3}, \"marker\": {\"size\": 2, \"symbol\": \"circle\"}, \"mode\": \"markers\", \"name\": \"B\", \"text\": \"\", \"type\": \"scatter\", \"x\": [0.11050283807346196, -0.6124519706476302, -0.00561315329695152, -0.18261862691991845, 0.41455853153288924, -0.9573252294798228, 0.4156840411424442, -0.42541802906630616, -0.7906395130066903, 1.159504221124273, -0.8038416619241505, 0.16270227606158777, 0.2438330149343708, 0.48945929261815685, -0.7377423679967747, -1.5013180272814242, -0.643086110853051, -0.8612656915115359, -0.35851515949006085, -1.0003156654011942, 0.014773346526293222, -0.713762377375046, 0.6368727732731856, 0.037647868384242465, 0.10508579589441149, -1.1502573728741479, 1.68870168764999, -0.5241742579212024, -1.7029651313661043, 0.18803789128216897, -0.11189755001370763, 1.4856279178531, 0.9457722185909986, -0.8571479221356121, 0.43856032875207024, -0.20769438603808665, -1.4498420292908414, -0.9651352015610288, 1.2675464240310226, 0.480737969028045, 0.016015135067592324, -0.13272468560906403, -0.7413674497679424, -0.8074776559821747, 2.366449510073591, 0.36879685013716024, 1.852901160330411, -1.4056068871461007, -1.8343914940514774, 0.4055089561501989, -0.01641516565126167, 0.56076005092558, -1.4279760341826349, 0.08022771064908127, -0.4134028490854769, -1.3537498298209454, -0.8709997719077641, 1.4167591925300114, -0.9603161056524859, 0.32210591102733355, -0.4623669023363312, 2.9957917512313936, 1.0826892840731102, 0.6974145019740375, -1.0850372392841683, 0.03782675709880494, -0.5271667243565479, -1.153364461047902, -0.41514991419021874, -1.3442282083089776, -1.1820500090637647, 1.377094529882286, -2.1237777792754655, -0.2760040563599227, 2.2563598302747043, -0.5694714715794288, 0.27349453000384927, -1.6268433135512381, 1.8336785734758279, -0.953298534223817, 2.266810757115749, 0.6034859938950822, -0.8710853636668698, 0.6993586649335948, 0.8280448254298782, -0.41886578625999427, 1.65365778438744, 1.2904717470899971, -0.13086895146558986, -0.4886000284738405, 0.5498406201161541, -0.9161257933044573, 0.7174653339539276, 0.5061810704031973, 2.5841091186584526, -0.9222603526618206, -0.5553901503671522, 1.0519565453843718, 0.5045188846409153, 0.024140113407438185], \"xaxis\": \"x8\", \"y\": [-0.6497331758939314, 0.28793182818506585, -0.6406546473476662, 0.44288871491097204, -0.05516775452979829, 0.24357440760663784, 0.19862804394467937, 0.017871486326105964, 0.9419586907313144, -0.5922269136030222, 0.4632576220139533, -1.02180267541963, 0.009211380888768295, -1.452374979601723, 0.6076363939370528, 1.1372970733571235, 0.8216723348917082, 0.5156034911723388, -0.8402491636980118, 0.5738466498177162, 0.4230814437763436, -0.2618550866393429, -1.4581184044032003, 1.186524523218494, 0.16490060860000813, 0.745770744854132, -0.6610696189050297, 1.3500768352975112, 1.1987687800465134, 2.3096028492876384, 0.5457531625457045, -1.8574236349528406, -1.18998017247201, 1.5181164047083455, 0.14452515865031162, 0.6790308519434948, 0.7527245917195355, -0.5019644786553503, -0.3098563757594705, -1.6270825975794787, -1.1153274885862796, 0.0698844178409464, -0.13836448145307176, 0.2977336458815172, -1.7761185605661562, -1.193535811393635, 0.6582749459954654, 0.11742272648375549, -0.43788297088276346, -1.245679984165115, -0.4235286643493187, 0.02211086881471649, -1.4213475477328146, -1.547286954040525, -2.418368303116361, -2.5416510859474353, -0.20012910611234505, 0.2207315892413318, 0.9806114155971659, -0.4514072244754144, 0.237972413598495, 1.6661274988172907, 0.0008207307891878887, 1.5532407406951003, 0.05639598449363403, -2.2076194668262348, -1.2757423993728216, -0.7671078846184362, -0.44014447187790706, -0.09534239410143637, 0.23862260010165232, 1.5184905362081385, 0.25022791644971093, 0.13193641305590578, 0.45377837338234756, -0.3976932257246214, 0.9490242186260665, -1.3896518058840215, 0.20243155758583042, -2.764972097819883, -0.4773196328772329, -0.9363311324586043, 1.3802374486808353, 0.4431852775753563, -1.1880902100557515, 0.09022540025355277, 0.30188535198005945, -0.5745808656083056, -1.3838746723031254, -1.5336549625779974, -0.4152479223898434, -1.082669504325524, 1.6255905021979637, -0.17810907004411655, 0.14241206049340105, -1.0202946103547477, 0.7833004639524571, -0.06931778148223472, -1.1869108938985733, -2.033802148596967], \"yaxis\": \"y8\"}, {\"line\": {\"color\": \"rgba(128, 128, 128, 1.0)\", \"dash\": \"solid\", \"shape\": \"linear\", \"width\": 1.3}, \"marker\": {\"size\": 2, \"symbol\": \"circle\"}, \"mode\": \"markers\", \"name\": \"C\", \"text\": \"\", \"type\": \"scatter\", \"x\": [-3.0891690814370802, -0.15093812636863455, 0.13226757129359545, -0.9436480441721036, 1.0939150837805443, 2.233999101663424, -1.408821280745671, 0.6644399525912178, -1.6692209129812499, -0.5781750330564617, 0.3259479485936982, 0.35337291909405744, -0.9355951333970114, 1.3993657665589674, -0.7264432065839201, 1.2706747152305884, 0.08987776345309252, -0.8739620333814003, 0.45305462405840774, 2.077131993710634, -0.6497997380408793, 0.10363703694124451, 0.3685517032749556, -1.660889834320239, 0.22748720155204724, -0.17608486595685274, 1.9508324776532389, -0.948824710656382, 0.24637108641800815, -0.17990593133279728, -0.5755789986094119, -0.22662134604804202, -0.8538680787755056, 0.013849875503001482, 0.32597581297179595, -0.8570921503818173, 1.1028656743252894, 0.5423182366845734, -0.5223174727704796, 0.8231902161617701, 0.7082832668864215, -2.3610760141909157, 0.2248092690337905, -0.36923956224707316, 0.47222005942496675, 1.1822084221798006, -0.7039689666073455, -1.6448332982778755, -0.7701095141840978, 1.563570590474163, -1.012153140899084, 0.23841585632035256, -0.10407886028953234, -1.5621766835347606, 2.287473672845577, -1.6895900849694523, 0.523563807588396, -0.2458264678003052, -0.4110176453047839, 0.05109260418553095, 1.124657961564242, 0.039085117909342014, 0.07476390135402051, -1.6844573466745725, 0.012687342579481247, -0.8125959503982871, 0.5429420065790311, 1.1584453916061306, 0.2913230192637508, -0.5259598537222732, -0.40300408177855257, -0.3231243016908354, 1.1195392948215908, 1.1177784724135182, -0.2934667283084928, 0.44485367348780974, 0.31945308725082366, -0.035216205859157454, 0.5326000062572194, -0.23700601438944363, -2.125131809986599, 1.9665838565142724, -0.10621838516393992, -1.5297894140868404, 1.1923521839899056, 0.42434109188195157, -0.5928653108372631, 0.5444827992464166, 1.908321054359214, 0.9201338704472097, -0.37017190530359384, -0.1287567243335507, 0.5198475796450365, -1.0026106354082849, -0.5048666794652888, -2.2145820644230936, 1.223006137776256, 0.7997705039572335, -1.2287365551191047, -0.33203915961161806], \"xaxis\": \"x9\", \"y\": [0.9619864109999505, 0.013861433124429024, -1.080802469415181, 0.48394736756975465, 0.5120455320718367, -0.07461927759886754, -1.7116495686300837, -0.7941224015842213, -0.359982515449631, 2.6745291203697064, 0.6625547804469379, 0.5543288624679773, 1.1228832734953376, -1.2822038585448226, -0.2028591814433585, -0.4585655584372579, 1.530143430213587, 1.0235453829774301, 1.0657320351516428, -0.245555618283886, -0.48372789991790716, -0.8924145655354128, 0.8975670741950776, 1.403164132195382, 0.9439061819923983, 3.322002335024259, -1.1917255310677242, 1.091491906789954, -0.3090403016788589, -0.1821533835253619, 1.6000615513425562, 0.5834606969058104, 2.0605042011016717, 2.1430312958731497, 1.435862401885988, 0.38330105195076053, 0.5299620273942501, -1.1011927744095378, -0.4560719189166262, 1.3187435732055468, -0.6262044047356647, 0.7759933962752779, 0.14898495093892095, 0.17276867432275977, -0.5734086258180138, -0.46059040736721557, -0.4820270970689329, 0.42454817310839793, 0.31678870805642284, 2.226580343415447, -2.100178939821205, -0.6777191227343066, -0.07593291355797825, -0.29078936781913733, -0.1479278877933601, -0.5337128733236507, -1.0884208272743663, -0.17689088266606753, 0.6443317772577273, -1.081747000816026, -0.6797158400543877, 1.3592817961076138, -0.97400826809905, 0.8000777057336252, -0.3391473095647177, -0.33020829329881907, -0.07473964326480681, -1.3164933774734262, 0.8479769033662022, 0.08885550585322498, 0.15289914397809903, 0.6595739702774656, 0.22037688269560846, -0.13957798528689355, 0.05885903363046422, 0.6555514628496011, 1.5344164506794673, -0.1054607191728966, -0.5532004116851079, -1.3918707742871401, -1.134772579008437, 0.7504308512256543, -0.22493595896064514, 0.07560723155093399, 0.45091299097546106, -0.35330262350828423, 0.4937702034710105, 1.1911471751155656, -2.1749000273482473, 0.5232842800110749, -1.3723098190400498, -0.7057695398486414, 0.332218882688542, 0.0612355899764811, 0.6998434626043681, 1.2238485278958968, -0.023588204438006112, -1.0295786628035937, -0.9071492852350115, 0.4874545774258891], \"yaxis\": \"y9\"}, {\"line\": {\"color\": \"rgba(128, 128, 128, 1.0)\", \"dash\": \"solid\", \"shape\": \"linear\", \"width\": 1.3}, \"marker\": {\"size\": 2, \"symbol\": \"circle\"}, \"mode\": \"markers\", \"name\": \"C\", \"text\": \"\", \"type\": \"scatter\", \"x\": [-0.6497331758939314, 0.28793182818506585, -0.6406546473476662, 0.44288871491097204, -0.05516775452979829, 0.24357440760663784, 0.19862804394467937, 0.017871486326105964, 0.9419586907313144, -0.5922269136030222, 0.4632576220139533, -1.02180267541963, 0.009211380888768295, -1.452374979601723, 0.6076363939370528, 1.1372970733571235, 0.8216723348917082, 0.5156034911723388, -0.8402491636980118, 0.5738466498177162, 0.4230814437763436, -0.2618550866393429, -1.4581184044032003, 1.186524523218494, 0.16490060860000813, 0.745770744854132, -0.6610696189050297, 1.3500768352975112, 1.1987687800465134, 2.3096028492876384, 0.5457531625457045, -1.8574236349528406, -1.18998017247201, 1.5181164047083455, 0.14452515865031162, 0.6790308519434948, 0.7527245917195355, -0.5019644786553503, -0.3098563757594705, -1.6270825975794787, -1.1153274885862796, 0.0698844178409464, -0.13836448145307176, 0.2977336458815172, -1.7761185605661562, -1.193535811393635, 0.6582749459954654, 0.11742272648375549, -0.43788297088276346, -1.245679984165115, -0.4235286643493187, 0.02211086881471649, -1.4213475477328146, -1.547286954040525, -2.418368303116361, -2.5416510859474353, -0.20012910611234505, 0.2207315892413318, 0.9806114155971659, -0.4514072244754144, 0.237972413598495, 1.6661274988172907, 0.0008207307891878887, 1.5532407406951003, 0.05639598449363403, -2.2076194668262348, -1.2757423993728216, -0.7671078846184362, -0.44014447187790706, -0.09534239410143637, 0.23862260010165232, 1.5184905362081385, 0.25022791644971093, 0.13193641305590578, 0.45377837338234756, -0.3976932257246214, 0.9490242186260665, -1.3896518058840215, 0.20243155758583042, -2.764972097819883, -0.4773196328772329, -0.9363311324586043, 1.3802374486808353, 0.4431852775753563, -1.1880902100557515, 0.09022540025355277, 0.30188535198005945, -0.5745808656083056, -1.3838746723031254, -1.5336549625779974, -0.4152479223898434, -1.082669504325524, 1.6255905021979637, -0.17810907004411655, 0.14241206049340105, -1.0202946103547477, 0.7833004639524571, -0.06931778148223472, -1.1869108938985733, -2.033802148596967], \"xaxis\": \"x10\", \"y\": [0.9619864109999505, 0.013861433124429024, -1.080802469415181, 0.48394736756975465, 0.5120455320718367, -0.07461927759886754, -1.7116495686300837, -0.7941224015842213, -0.359982515449631, 2.6745291203697064, 0.6625547804469379, 0.5543288624679773, 1.1228832734953376, -1.2822038585448226, -0.2028591814433585, -0.4585655584372579, 1.530143430213587, 1.0235453829774301, 1.0657320351516428, -0.245555618283886, -0.48372789991790716, -0.8924145655354128, 0.8975670741950776, 1.403164132195382, 0.9439061819923983, 3.322002335024259, -1.1917255310677242, 1.091491906789954, -0.3090403016788589, -0.1821533835253619, 1.6000615513425562, 0.5834606969058104, 2.0605042011016717, 2.1430312958731497, 1.435862401885988, 0.38330105195076053, 0.5299620273942501, -1.1011927744095378, -0.4560719189166262, 1.3187435732055468, -0.6262044047356647, 0.7759933962752779, 0.14898495093892095, 0.17276867432275977, -0.5734086258180138, -0.46059040736721557, -0.4820270970689329, 0.42454817310839793, 0.31678870805642284, 2.226580343415447, -2.100178939821205, -0.6777191227343066, -0.07593291355797825, -0.29078936781913733, -0.1479278877933601, -0.5337128733236507, -1.0884208272743663, -0.17689088266606753, 0.6443317772577273, -1.081747000816026, -0.6797158400543877, 1.3592817961076138, -0.97400826809905, 0.8000777057336252, -0.3391473095647177, -0.33020829329881907, -0.07473964326480681, -1.3164933774734262, 0.8479769033662022, 0.08885550585322498, 0.15289914397809903, 0.6595739702774656, 0.22037688269560846, -0.13957798528689355, 0.05885903363046422, 0.6555514628496011, 1.5344164506794673, -0.1054607191728966, -0.5532004116851079, -1.3918707742871401, -1.134772579008437, 0.7504308512256543, -0.22493595896064514, 0.07560723155093399, 0.45091299097546106, -0.35330262350828423, 0.4937702034710105, 1.1911471751155656, -2.1749000273482473, 0.5232842800110749, -1.3723098190400498, -0.7057695398486414, 0.332218882688542, 0.0612355899764811, 0.6998434626043681, 1.2238485278958968, -0.023588204438006112, -1.0295786628035937, -0.9071492852350115, 0.4874545774258891], \"yaxis\": \"y10\"}, {\"histfunc\": \"count\", \"histnorm\": \"\", \"marker\": {\"color\": \"rgba(50, 171, 96, 1.0)\", \"line\": {\"color\": \"#4D5663\", \"width\": 1.3}}, \"name\": \"C\", \"nbinsx\": 10, \"opacity\": 0.8, \"orientation\": \"v\", \"type\": \"histogram\", \"x\": [0.9619864109999505, 0.013861433124429024, -1.080802469415181, 0.48394736756975465, 0.5120455320718367, -0.07461927759886754, -1.7116495686300837, -0.7941224015842213, -0.359982515449631, 2.6745291203697064, 0.6625547804469379, 0.5543288624679773, 1.1228832734953376, -1.2822038585448226, -0.2028591814433585, -0.4585655584372579, 1.530143430213587, 1.0235453829774301, 1.0657320351516428, -0.245555618283886, -0.48372789991790716, -0.8924145655354128, 0.8975670741950776, 1.403164132195382, 0.9439061819923983, 3.322002335024259, -1.1917255310677242, 1.091491906789954, -0.3090403016788589, -0.1821533835253619, 1.6000615513425562, 0.5834606969058104, 2.0605042011016717, 2.1430312958731497, 1.435862401885988, 0.38330105195076053, 0.5299620273942501, -1.1011927744095378, -0.4560719189166262, 1.3187435732055468, -0.6262044047356647, 0.7759933962752779, 0.14898495093892095, 0.17276867432275977, -0.5734086258180138, -0.46059040736721557, -0.4820270970689329, 0.42454817310839793, 0.31678870805642284, 2.226580343415447, -2.100178939821205, -0.6777191227343066, -0.07593291355797825, -0.29078936781913733, -0.1479278877933601, -0.5337128733236507, -1.0884208272743663, -0.17689088266606753, 0.6443317772577273, -1.081747000816026, -0.6797158400543877, 1.3592817961076138, -0.97400826809905, 0.8000777057336252, -0.3391473095647177, -0.33020829329881907, -0.07473964326480681, -1.3164933774734262, 0.8479769033662022, 0.08885550585322498, 0.15289914397809903, 0.6595739702774656, 0.22037688269560846, -0.13957798528689355, 0.05885903363046422, 0.6555514628496011, 1.5344164506794673, -0.1054607191728966, -0.5532004116851079, -1.3918707742871401, -1.134772579008437, 0.7504308512256543, -0.22493595896064514, 0.07560723155093399, 0.45091299097546106, -0.35330262350828423, 0.4937702034710105, 1.1911471751155656, -2.1749000273482473, 0.5232842800110749, -1.3723098190400498, -0.7057695398486414, 0.332218882688542, 0.0612355899764811, 0.6998434626043681, 1.2238485278958968, -0.023588204438006112, -1.0295786628035937, -0.9071492852350115, 0.4874545774258891], \"xaxis\": \"x11\", \"yaxis\": \"y11\"}, {\"line\": {\"color\": \"rgba(128, 128, 128, 1.0)\", \"dash\": \"solid\", \"shape\": \"linear\", \"width\": 1.3}, \"marker\": {\"size\": 2, \"symbol\": \"circle\"}, \"mode\": \"markers\", \"name\": \"C\", \"text\": \"\", \"type\": \"scatter\", \"x\": [0.11050283807346196, -0.6124519706476302, -0.00561315329695152, -0.18261862691991845, 0.41455853153288924, -0.9573252294798228, 0.4156840411424442, -0.42541802906630616, -0.7906395130066903, 1.159504221124273, -0.8038416619241505, 0.16270227606158777, 0.2438330149343708, 0.48945929261815685, -0.7377423679967747, -1.5013180272814242, -0.643086110853051, -0.8612656915115359, -0.35851515949006085, -1.0003156654011942, 0.014773346526293222, -0.713762377375046, 0.6368727732731856, 0.037647868384242465, 0.10508579589441149, -1.1502573728741479, 1.68870168764999, -0.5241742579212024, -1.7029651313661043, 0.18803789128216897, -0.11189755001370763, 1.4856279178531, 0.9457722185909986, -0.8571479221356121, 0.43856032875207024, -0.20769438603808665, -1.4498420292908414, -0.9651352015610288, 1.2675464240310226, 0.480737969028045, 0.016015135067592324, -0.13272468560906403, -0.7413674497679424, -0.8074776559821747, 2.366449510073591, 0.36879685013716024, 1.852901160330411, -1.4056068871461007, -1.8343914940514774, 0.4055089561501989, -0.01641516565126167, 0.56076005092558, -1.4279760341826349, 0.08022771064908127, -0.4134028490854769, -1.3537498298209454, -0.8709997719077641, 1.4167591925300114, -0.9603161056524859, 0.32210591102733355, -0.4623669023363312, 2.9957917512313936, 1.0826892840731102, 0.6974145019740375, -1.0850372392841683, 0.03782675709880494, -0.5271667243565479, -1.153364461047902, -0.41514991419021874, -1.3442282083089776, -1.1820500090637647, 1.377094529882286, -2.1237777792754655, -0.2760040563599227, 2.2563598302747043, -0.5694714715794288, 0.27349453000384927, -1.6268433135512381, 1.8336785734758279, -0.953298534223817, 2.266810757115749, 0.6034859938950822, -0.8710853636668698, 0.6993586649335948, 0.8280448254298782, -0.41886578625999427, 1.65365778438744, 1.2904717470899971, -0.13086895146558986, -0.4886000284738405, 0.5498406201161541, -0.9161257933044573, 0.7174653339539276, 0.5061810704031973, 2.5841091186584526, -0.9222603526618206, -0.5553901503671522, 1.0519565453843718, 0.5045188846409153, 0.024140113407438185], \"xaxis\": \"x12\", \"y\": [0.9619864109999505, 0.013861433124429024, -1.080802469415181, 0.48394736756975465, 0.5120455320718367, -0.07461927759886754, -1.7116495686300837, -0.7941224015842213, -0.359982515449631, 2.6745291203697064, 0.6625547804469379, 0.5543288624679773, 1.1228832734953376, -1.2822038585448226, -0.2028591814433585, -0.4585655584372579, 1.530143430213587, 1.0235453829774301, 1.0657320351516428, -0.245555618283886, -0.48372789991790716, -0.8924145655354128, 0.8975670741950776, 1.403164132195382, 0.9439061819923983, 3.322002335024259, -1.1917255310677242, 1.091491906789954, -0.3090403016788589, -0.1821533835253619, 1.6000615513425562, 0.5834606969058104, 2.0605042011016717, 2.1430312958731497, 1.435862401885988, 0.38330105195076053, 0.5299620273942501, -1.1011927744095378, -0.4560719189166262, 1.3187435732055468, -0.6262044047356647, 0.7759933962752779, 0.14898495093892095, 0.17276867432275977, -0.5734086258180138, -0.46059040736721557, -0.4820270970689329, 0.42454817310839793, 0.31678870805642284, 2.226580343415447, -2.100178939821205, -0.6777191227343066, -0.07593291355797825, -0.29078936781913733, -0.1479278877933601, -0.5337128733236507, -1.0884208272743663, -0.17689088266606753, 0.6443317772577273, -1.081747000816026, -0.6797158400543877, 1.3592817961076138, -0.97400826809905, 0.8000777057336252, -0.3391473095647177, -0.33020829329881907, -0.07473964326480681, -1.3164933774734262, 0.8479769033662022, 0.08885550585322498, 0.15289914397809903, 0.6595739702774656, 0.22037688269560846, -0.13957798528689355, 0.05885903363046422, 0.6555514628496011, 1.5344164506794673, -0.1054607191728966, -0.5532004116851079, -1.3918707742871401, -1.134772579008437, 0.7504308512256543, -0.22493595896064514, 0.07560723155093399, 0.45091299097546106, -0.35330262350828423, 0.4937702034710105, 1.1911471751155656, -2.1749000273482473, 0.5232842800110749, -1.3723098190400498, -0.7057695398486414, 0.332218882688542, 0.0612355899764811, 0.6998434626043681, 1.2238485278958968, -0.023588204438006112, -1.0295786628035937, -0.9071492852350115, 0.4874545774258891], \"yaxis\": \"y12\"}, {\"line\": {\"color\": \"rgba(128, 128, 128, 1.0)\", \"dash\": \"solid\", \"shape\": \"linear\", \"width\": 1.3}, \"marker\": {\"size\": 2, \"symbol\": \"circle\"}, \"mode\": \"markers\", \"name\": \"D\", \"text\": \"\", \"type\": \"scatter\", \"x\": [-3.0891690814370802, -0.15093812636863455, 0.13226757129359545, -0.9436480441721036, 1.0939150837805443, 2.233999101663424, -1.408821280745671, 0.6644399525912178, -1.6692209129812499, -0.5781750330564617, 0.3259479485936982, 0.35337291909405744, -0.9355951333970114, 1.3993657665589674, -0.7264432065839201, 1.2706747152305884, 0.08987776345309252, -0.8739620333814003, 0.45305462405840774, 2.077131993710634, -0.6497997380408793, 0.10363703694124451, 0.3685517032749556, -1.660889834320239, 0.22748720155204724, -0.17608486595685274, 1.9508324776532389, -0.948824710656382, 0.24637108641800815, -0.17990593133279728, -0.5755789986094119, -0.22662134604804202, -0.8538680787755056, 0.013849875503001482, 0.32597581297179595, -0.8570921503818173, 1.1028656743252894, 0.5423182366845734, -0.5223174727704796, 0.8231902161617701, 0.7082832668864215, -2.3610760141909157, 0.2248092690337905, -0.36923956224707316, 0.47222005942496675, 1.1822084221798006, -0.7039689666073455, -1.6448332982778755, -0.7701095141840978, 1.563570590474163, -1.012153140899084, 0.23841585632035256, -0.10407886028953234, -1.5621766835347606, 2.287473672845577, -1.6895900849694523, 0.523563807588396, -0.2458264678003052, -0.4110176453047839, 0.05109260418553095, 1.124657961564242, 0.039085117909342014, 0.07476390135402051, -1.6844573466745725, 0.012687342579481247, -0.8125959503982871, 0.5429420065790311, 1.1584453916061306, 0.2913230192637508, -0.5259598537222732, -0.40300408177855257, -0.3231243016908354, 1.1195392948215908, 1.1177784724135182, -0.2934667283084928, 0.44485367348780974, 0.31945308725082366, -0.035216205859157454, 0.5326000062572194, -0.23700601438944363, -2.125131809986599, 1.9665838565142724, -0.10621838516393992, -1.5297894140868404, 1.1923521839899056, 0.42434109188195157, -0.5928653108372631, 0.5444827992464166, 1.908321054359214, 0.9201338704472097, -0.37017190530359384, -0.1287567243335507, 0.5198475796450365, -1.0026106354082849, -0.5048666794652888, -2.2145820644230936, 1.223006137776256, 0.7997705039572335, -1.2287365551191047, -0.33203915961161806], \"xaxis\": \"x13\", \"y\": [0.11050283807346196, -0.6124519706476302, -0.00561315329695152, -0.18261862691991845, 0.41455853153288924, -0.9573252294798228, 0.4156840411424442, -0.42541802906630616, -0.7906395130066903, 1.159504221124273, -0.8038416619241505, 0.16270227606158777, 0.2438330149343708, 0.48945929261815685, -0.7377423679967747, -1.5013180272814242, -0.643086110853051, -0.8612656915115359, -0.35851515949006085, -1.0003156654011942, 0.014773346526293222, -0.713762377375046, 0.6368727732731856, 0.037647868384242465, 0.10508579589441149, -1.1502573728741479, 1.68870168764999, -0.5241742579212024, -1.7029651313661043, 0.18803789128216897, -0.11189755001370763, 1.4856279178531, 0.9457722185909986, -0.8571479221356121, 0.43856032875207024, -0.20769438603808665, -1.4498420292908414, -0.9651352015610288, 1.2675464240310226, 0.480737969028045, 0.016015135067592324, -0.13272468560906403, -0.7413674497679424, -0.8074776559821747, 2.366449510073591, 0.36879685013716024, 1.852901160330411, -1.4056068871461007, -1.8343914940514774, 0.4055089561501989, -0.01641516565126167, 0.56076005092558, -1.4279760341826349, 0.08022771064908127, -0.4134028490854769, -1.3537498298209454, -0.8709997719077641, 1.4167591925300114, -0.9603161056524859, 0.32210591102733355, -0.4623669023363312, 2.9957917512313936, 1.0826892840731102, 0.6974145019740375, -1.0850372392841683, 0.03782675709880494, -0.5271667243565479, -1.153364461047902, -0.41514991419021874, -1.3442282083089776, -1.1820500090637647, 1.377094529882286, -2.1237777792754655, -0.2760040563599227, 2.2563598302747043, -0.5694714715794288, 0.27349453000384927, -1.6268433135512381, 1.8336785734758279, -0.953298534223817, 2.266810757115749, 0.6034859938950822, -0.8710853636668698, 0.6993586649335948, 0.8280448254298782, -0.41886578625999427, 1.65365778438744, 1.2904717470899971, -0.13086895146558986, -0.4886000284738405, 0.5498406201161541, -0.9161257933044573, 0.7174653339539276, 0.5061810704031973, 2.5841091186584526, -0.9222603526618206, -0.5553901503671522, 1.0519565453843718, 0.5045188846409153, 0.024140113407438185], \"yaxis\": \"y13\"}, {\"line\": {\"color\": \"rgba(128, 128, 128, 1.0)\", \"dash\": \"solid\", \"shape\": \"linear\", \"width\": 1.3}, \"marker\": {\"size\": 2, \"symbol\": \"circle\"}, \"mode\": \"markers\", \"name\": \"D\", \"text\": \"\", \"type\": \"scatter\", \"x\": [-0.6497331758939314, 0.28793182818506585, -0.6406546473476662, 0.44288871491097204, -0.05516775452979829, 0.24357440760663784, 0.19862804394467937, 0.017871486326105964, 0.9419586907313144, -0.5922269136030222, 0.4632576220139533, -1.02180267541963, 0.009211380888768295, -1.452374979601723, 0.6076363939370528, 1.1372970733571235, 0.8216723348917082, 0.5156034911723388, -0.8402491636980118, 0.5738466498177162, 0.4230814437763436, -0.2618550866393429, -1.4581184044032003, 1.186524523218494, 0.16490060860000813, 0.745770744854132, -0.6610696189050297, 1.3500768352975112, 1.1987687800465134, 2.3096028492876384, 0.5457531625457045, -1.8574236349528406, -1.18998017247201, 1.5181164047083455, 0.14452515865031162, 0.6790308519434948, 0.7527245917195355, -0.5019644786553503, -0.3098563757594705, -1.6270825975794787, -1.1153274885862796, 0.0698844178409464, -0.13836448145307176, 0.2977336458815172, -1.7761185605661562, -1.193535811393635, 0.6582749459954654, 0.11742272648375549, -0.43788297088276346, -1.245679984165115, -0.4235286643493187, 0.02211086881471649, -1.4213475477328146, -1.547286954040525, -2.418368303116361, -2.5416510859474353, -0.20012910611234505, 0.2207315892413318, 0.9806114155971659, -0.4514072244754144, 0.237972413598495, 1.6661274988172907, 0.0008207307891878887, 1.5532407406951003, 0.05639598449363403, -2.2076194668262348, -1.2757423993728216, -0.7671078846184362, -0.44014447187790706, -0.09534239410143637, 0.23862260010165232, 1.5184905362081385, 0.25022791644971093, 0.13193641305590578, 0.45377837338234756, -0.3976932257246214, 0.9490242186260665, -1.3896518058840215, 0.20243155758583042, -2.764972097819883, -0.4773196328772329, -0.9363311324586043, 1.3802374486808353, 0.4431852775753563, -1.1880902100557515, 0.09022540025355277, 0.30188535198005945, -0.5745808656083056, -1.3838746723031254, -1.5336549625779974, -0.4152479223898434, -1.082669504325524, 1.6255905021979637, -0.17810907004411655, 0.14241206049340105, -1.0202946103547477, 0.7833004639524571, -0.06931778148223472, -1.1869108938985733, -2.033802148596967], \"xaxis\": \"x14\", \"y\": [0.11050283807346196, -0.6124519706476302, -0.00561315329695152, -0.18261862691991845, 0.41455853153288924, -0.9573252294798228, 0.4156840411424442, -0.42541802906630616, -0.7906395130066903, 1.159504221124273, -0.8038416619241505, 0.16270227606158777, 0.2438330149343708, 0.48945929261815685, -0.7377423679967747, -1.5013180272814242, -0.643086110853051, -0.8612656915115359, -0.35851515949006085, -1.0003156654011942, 0.014773346526293222, -0.713762377375046, 0.6368727732731856, 0.037647868384242465, 0.10508579589441149, -1.1502573728741479, 1.68870168764999, -0.5241742579212024, -1.7029651313661043, 0.18803789128216897, -0.11189755001370763, 1.4856279178531, 0.9457722185909986, -0.8571479221356121, 0.43856032875207024, -0.20769438603808665, -1.4498420292908414, -0.9651352015610288, 1.2675464240310226, 0.480737969028045, 0.016015135067592324, -0.13272468560906403, -0.7413674497679424, -0.8074776559821747, 2.366449510073591, 0.36879685013716024, 1.852901160330411, -1.4056068871461007, -1.8343914940514774, 0.4055089561501989, -0.01641516565126167, 0.56076005092558, -1.4279760341826349, 0.08022771064908127, -0.4134028490854769, -1.3537498298209454, -0.8709997719077641, 1.4167591925300114, -0.9603161056524859, 0.32210591102733355, -0.4623669023363312, 2.9957917512313936, 1.0826892840731102, 0.6974145019740375, -1.0850372392841683, 0.03782675709880494, -0.5271667243565479, -1.153364461047902, -0.41514991419021874, -1.3442282083089776, -1.1820500090637647, 1.377094529882286, -2.1237777792754655, -0.2760040563599227, 2.2563598302747043, -0.5694714715794288, 0.27349453000384927, -1.6268433135512381, 1.8336785734758279, -0.953298534223817, 2.266810757115749, 0.6034859938950822, -0.8710853636668698, 0.6993586649335948, 0.8280448254298782, -0.41886578625999427, 1.65365778438744, 1.2904717470899971, -0.13086895146558986, -0.4886000284738405, 0.5498406201161541, -0.9161257933044573, 0.7174653339539276, 0.5061810704031973, 2.5841091186584526, -0.9222603526618206, -0.5553901503671522, 1.0519565453843718, 0.5045188846409153, 0.024140113407438185], \"yaxis\": \"y14\"}, {\"line\": {\"color\": \"rgba(128, 128, 128, 1.0)\", \"dash\": \"solid\", \"shape\": \"linear\", \"width\": 1.3}, \"marker\": {\"size\": 2, \"symbol\": \"circle\"}, \"mode\": \"markers\", \"name\": \"D\", \"text\": \"\", \"type\": \"scatter\", \"x\": [0.9619864109999505, 0.013861433124429024, -1.080802469415181, 0.48394736756975465, 0.5120455320718367, -0.07461927759886754, -1.7116495686300837, -0.7941224015842213, -0.359982515449631, 2.6745291203697064, 0.6625547804469379, 0.5543288624679773, 1.1228832734953376, -1.2822038585448226, -0.2028591814433585, -0.4585655584372579, 1.530143430213587, 1.0235453829774301, 1.0657320351516428, -0.245555618283886, -0.48372789991790716, -0.8924145655354128, 0.8975670741950776, 1.403164132195382, 0.9439061819923983, 3.322002335024259, -1.1917255310677242, 1.091491906789954, -0.3090403016788589, -0.1821533835253619, 1.6000615513425562, 0.5834606969058104, 2.0605042011016717, 2.1430312958731497, 1.435862401885988, 0.38330105195076053, 0.5299620273942501, -1.1011927744095378, -0.4560719189166262, 1.3187435732055468, -0.6262044047356647, 0.7759933962752779, 0.14898495093892095, 0.17276867432275977, -0.5734086258180138, -0.46059040736721557, -0.4820270970689329, 0.42454817310839793, 0.31678870805642284, 2.226580343415447, -2.100178939821205, -0.6777191227343066, -0.07593291355797825, -0.29078936781913733, -0.1479278877933601, -0.5337128733236507, -1.0884208272743663, -0.17689088266606753, 0.6443317772577273, -1.081747000816026, -0.6797158400543877, 1.3592817961076138, -0.97400826809905, 0.8000777057336252, -0.3391473095647177, -0.33020829329881907, -0.07473964326480681, -1.3164933774734262, 0.8479769033662022, 0.08885550585322498, 0.15289914397809903, 0.6595739702774656, 0.22037688269560846, -0.13957798528689355, 0.05885903363046422, 0.6555514628496011, 1.5344164506794673, -0.1054607191728966, -0.5532004116851079, -1.3918707742871401, -1.134772579008437, 0.7504308512256543, -0.22493595896064514, 0.07560723155093399, 0.45091299097546106, -0.35330262350828423, 0.4937702034710105, 1.1911471751155656, -2.1749000273482473, 0.5232842800110749, -1.3723098190400498, -0.7057695398486414, 0.332218882688542, 0.0612355899764811, 0.6998434626043681, 1.2238485278958968, -0.023588204438006112, -1.0295786628035937, -0.9071492852350115, 0.4874545774258891], \"xaxis\": \"x15\", \"y\": [0.11050283807346196, -0.6124519706476302, -0.00561315329695152, -0.18261862691991845, 0.41455853153288924, -0.9573252294798228, 0.4156840411424442, -0.42541802906630616, -0.7906395130066903, 1.159504221124273, -0.8038416619241505, 0.16270227606158777, 0.2438330149343708, 0.48945929261815685, -0.7377423679967747, -1.5013180272814242, -0.643086110853051, -0.8612656915115359, -0.35851515949006085, -1.0003156654011942, 0.014773346526293222, -0.713762377375046, 0.6368727732731856, 0.037647868384242465, 0.10508579589441149, -1.1502573728741479, 1.68870168764999, -0.5241742579212024, -1.7029651313661043, 0.18803789128216897, -0.11189755001370763, 1.4856279178531, 0.9457722185909986, -0.8571479221356121, 0.43856032875207024, -0.20769438603808665, -1.4498420292908414, -0.9651352015610288, 1.2675464240310226, 0.480737969028045, 0.016015135067592324, -0.13272468560906403, -0.7413674497679424, -0.8074776559821747, 2.366449510073591, 0.36879685013716024, 1.852901160330411, -1.4056068871461007, -1.8343914940514774, 0.4055089561501989, -0.01641516565126167, 0.56076005092558, -1.4279760341826349, 0.08022771064908127, -0.4134028490854769, -1.3537498298209454, -0.8709997719077641, 1.4167591925300114, -0.9603161056524859, 0.32210591102733355, -0.4623669023363312, 2.9957917512313936, 1.0826892840731102, 0.6974145019740375, -1.0850372392841683, 0.03782675709880494, -0.5271667243565479, -1.153364461047902, -0.41514991419021874, -1.3442282083089776, -1.1820500090637647, 1.377094529882286, -2.1237777792754655, -0.2760040563599227, 2.2563598302747043, -0.5694714715794288, 0.27349453000384927, -1.6268433135512381, 1.8336785734758279, -0.953298534223817, 2.266810757115749, 0.6034859938950822, -0.8710853636668698, 0.6993586649335948, 0.8280448254298782, -0.41886578625999427, 1.65365778438744, 1.2904717470899971, -0.13086895146558986, -0.4886000284738405, 0.5498406201161541, -0.9161257933044573, 0.7174653339539276, 0.5061810704031973, 2.5841091186584526, -0.9222603526618206, -0.5553901503671522, 1.0519565453843718, 0.5045188846409153, 0.024140113407438185], \"yaxis\": \"y15\"}, {\"histfunc\": \"count\", \"histnorm\": \"\", \"marker\": {\"color\": \"rgba(128, 0, 128, 1.0)\", \"line\": {\"color\": \"#4D5663\", \"width\": 1.3}}, \"name\": \"D\", \"nbinsx\": 10, \"opacity\": 0.8, \"orientation\": \"v\", \"type\": \"histogram\", \"x\": [0.11050283807346196, -0.6124519706476302, -0.00561315329695152, -0.18261862691991845, 0.41455853153288924, -0.9573252294798228, 0.4156840411424442, -0.42541802906630616, -0.7906395130066903, 1.159504221124273, -0.8038416619241505, 0.16270227606158777, 0.2438330149343708, 0.48945929261815685, -0.7377423679967747, -1.5013180272814242, -0.643086110853051, -0.8612656915115359, -0.35851515949006085, -1.0003156654011942, 0.014773346526293222, -0.713762377375046, 0.6368727732731856, 0.037647868384242465, 0.10508579589441149, -1.1502573728741479, 1.68870168764999, -0.5241742579212024, -1.7029651313661043, 0.18803789128216897, -0.11189755001370763, 1.4856279178531, 0.9457722185909986, -0.8571479221356121, 0.43856032875207024, -0.20769438603808665, -1.4498420292908414, -0.9651352015610288, 1.2675464240310226, 0.480737969028045, 0.016015135067592324, -0.13272468560906403, -0.7413674497679424, -0.8074776559821747, 2.366449510073591, 0.36879685013716024, 1.852901160330411, -1.4056068871461007, -1.8343914940514774, 0.4055089561501989, -0.01641516565126167, 0.56076005092558, -1.4279760341826349, 0.08022771064908127, -0.4134028490854769, -1.3537498298209454, -0.8709997719077641, 1.4167591925300114, -0.9603161056524859, 0.32210591102733355, -0.4623669023363312, 2.9957917512313936, 1.0826892840731102, 0.6974145019740375, -1.0850372392841683, 0.03782675709880494, -0.5271667243565479, -1.153364461047902, -0.41514991419021874, -1.3442282083089776, -1.1820500090637647, 1.377094529882286, -2.1237777792754655, -0.2760040563599227, 2.2563598302747043, -0.5694714715794288, 0.27349453000384927, -1.6268433135512381, 1.8336785734758279, -0.953298534223817, 2.266810757115749, 0.6034859938950822, -0.8710853636668698, 0.6993586649335948, 0.8280448254298782, -0.41886578625999427, 1.65365778438744, 1.2904717470899971, -0.13086895146558986, -0.4886000284738405, 0.5498406201161541, -0.9161257933044573, 0.7174653339539276, 0.5061810704031973, 2.5841091186584526, -0.9222603526618206, -0.5553901503671522, 1.0519565453843718, 0.5045188846409153, 0.024140113407438185], \"xaxis\": \"x16\", \"yaxis\": \"y16\"}],\n",
       "                        {\"bargap\": 0.02, \"legend\": {\"bgcolor\": \"#F5F6F9\", \"font\": {\"color\": \"#4D5663\"}}, \"paper_bgcolor\": \"#F5F6F9\", \"plot_bgcolor\": \"#F5F6F9\", \"showlegend\": false, \"template\": {\"data\": {\"bar\": [{\"error_x\": {\"color\": \"#2a3f5f\"}, \"error_y\": {\"color\": \"#2a3f5f\"}, \"marker\": {\"line\": {\"color\": \"#E5ECF6\", \"width\": 0.5}}, \"type\": \"bar\"}], \"barpolar\": [{\"marker\": {\"line\": {\"color\": \"#E5ECF6\", \"width\": 0.5}}, \"type\": \"barpolar\"}], \"carpet\": [{\"aaxis\": {\"endlinecolor\": \"#2a3f5f\", \"gridcolor\": \"white\", \"linecolor\": \"white\", \"minorgridcolor\": \"white\", \"startlinecolor\": \"#2a3f5f\"}, \"baxis\": {\"endlinecolor\": \"#2a3f5f\", \"gridcolor\": \"white\", \"linecolor\": \"white\", \"minorgridcolor\": \"white\", \"startlinecolor\": \"#2a3f5f\"}, \"type\": \"carpet\"}], \"choropleth\": [{\"colorbar\": {\"outlinewidth\": 0, \"ticks\": \"\"}, \"type\": \"choropleth\"}], \"contour\": [{\"colorbar\": {\"outlinewidth\": 0, \"ticks\": \"\"}, \"colorscale\": [[0.0, \"#0d0887\"], [0.1111111111111111, \"#46039f\"], [0.2222222222222222, \"#7201a8\"], [0.3333333333333333, \"#9c179e\"], [0.4444444444444444, \"#bd3786\"], [0.5555555555555556, \"#d8576b\"], [0.6666666666666666, \"#ed7953\"], [0.7777777777777778, \"#fb9f3a\"], [0.8888888888888888, \"#fdca26\"], [1.0, \"#f0f921\"]], \"type\": \"contour\"}], \"contourcarpet\": [{\"colorbar\": {\"outlinewidth\": 0, \"ticks\": \"\"}, \"type\": \"contourcarpet\"}], \"heatmap\": [{\"colorbar\": {\"outlinewidth\": 0, \"ticks\": \"\"}, \"colorscale\": [[0.0, \"#0d0887\"], [0.1111111111111111, \"#46039f\"], [0.2222222222222222, \"#7201a8\"], [0.3333333333333333, \"#9c179e\"], [0.4444444444444444, \"#bd3786\"], [0.5555555555555556, \"#d8576b\"], [0.6666666666666666, \"#ed7953\"], [0.7777777777777778, \"#fb9f3a\"], [0.8888888888888888, \"#fdca26\"], [1.0, \"#f0f921\"]], \"type\": \"heatmap\"}], \"heatmapgl\": [{\"colorbar\": {\"outlinewidth\": 0, \"ticks\": \"\"}, \"colorscale\": [[0.0, \"#0d0887\"], [0.1111111111111111, \"#46039f\"], [0.2222222222222222, \"#7201a8\"], [0.3333333333333333, \"#9c179e\"], [0.4444444444444444, \"#bd3786\"], [0.5555555555555556, \"#d8576b\"], [0.6666666666666666, \"#ed7953\"], [0.7777777777777778, \"#fb9f3a\"], [0.8888888888888888, \"#fdca26\"], [1.0, \"#f0f921\"]], \"type\": \"heatmapgl\"}], \"histogram\": [{\"marker\": {\"colorbar\": {\"outlinewidth\": 0, \"ticks\": \"\"}}, \"type\": \"histogram\"}], \"histogram2d\": [{\"colorbar\": {\"outlinewidth\": 0, \"ticks\": \"\"}, \"colorscale\": [[0.0, \"#0d0887\"], [0.1111111111111111, \"#46039f\"], [0.2222222222222222, \"#7201a8\"], [0.3333333333333333, \"#9c179e\"], [0.4444444444444444, \"#bd3786\"], [0.5555555555555556, \"#d8576b\"], [0.6666666666666666, \"#ed7953\"], [0.7777777777777778, \"#fb9f3a\"], [0.8888888888888888, \"#fdca26\"], [1.0, \"#f0f921\"]], \"type\": \"histogram2d\"}], \"histogram2dcontour\": [{\"colorbar\": {\"outlinewidth\": 0, \"ticks\": \"\"}, \"colorscale\": [[0.0, \"#0d0887\"], [0.1111111111111111, \"#46039f\"], [0.2222222222222222, \"#7201a8\"], [0.3333333333333333, \"#9c179e\"], [0.4444444444444444, \"#bd3786\"], [0.5555555555555556, \"#d8576b\"], [0.6666666666666666, \"#ed7953\"], [0.7777777777777778, \"#fb9f3a\"], [0.8888888888888888, \"#fdca26\"], [1.0, \"#f0f921\"]], \"type\": \"histogram2dcontour\"}], \"mesh3d\": [{\"colorbar\": {\"outlinewidth\": 0, \"ticks\": \"\"}, \"type\": \"mesh3d\"}], \"parcoords\": [{\"line\": {\"colorbar\": {\"outlinewidth\": 0, \"ticks\": \"\"}}, \"type\": \"parcoords\"}], \"pie\": [{\"automargin\": true, \"type\": \"pie\"}], \"scatter\": [{\"marker\": {\"colorbar\": {\"outlinewidth\": 0, \"ticks\": \"\"}}, \"type\": \"scatter\"}], \"scatter3d\": [{\"line\": {\"colorbar\": {\"outlinewidth\": 0, \"ticks\": \"\"}}, \"marker\": {\"colorbar\": {\"outlinewidth\": 0, \"ticks\": \"\"}}, \"type\": \"scatter3d\"}], \"scattercarpet\": [{\"marker\": {\"colorbar\": {\"outlinewidth\": 0, \"ticks\": \"\"}}, \"type\": \"scattercarpet\"}], \"scattergeo\": [{\"marker\": {\"colorbar\": {\"outlinewidth\": 0, \"ticks\": \"\"}}, \"type\": \"scattergeo\"}], \"scattergl\": [{\"marker\": {\"colorbar\": {\"outlinewidth\": 0, \"ticks\": \"\"}}, \"type\": \"scattergl\"}], \"scattermapbox\": [{\"marker\": {\"colorbar\": {\"outlinewidth\": 0, \"ticks\": \"\"}}, \"type\": \"scattermapbox\"}], \"scatterpolar\": [{\"marker\": {\"colorbar\": {\"outlinewidth\": 0, \"ticks\": \"\"}}, \"type\": \"scatterpolar\"}], \"scatterpolargl\": [{\"marker\": {\"colorbar\": {\"outlinewidth\": 0, \"ticks\": \"\"}}, \"type\": \"scatterpolargl\"}], \"scatterternary\": [{\"marker\": {\"colorbar\": {\"outlinewidth\": 0, \"ticks\": \"\"}}, \"type\": \"scatterternary\"}], \"surface\": [{\"colorbar\": {\"outlinewidth\": 0, \"ticks\": \"\"}, \"colorscale\": [[0.0, \"#0d0887\"], [0.1111111111111111, \"#46039f\"], [0.2222222222222222, \"#7201a8\"], [0.3333333333333333, \"#9c179e\"], [0.4444444444444444, \"#bd3786\"], [0.5555555555555556, \"#d8576b\"], [0.6666666666666666, \"#ed7953\"], [0.7777777777777778, \"#fb9f3a\"], [0.8888888888888888, \"#fdca26\"], [1.0, \"#f0f921\"]], \"type\": \"surface\"}], \"table\": [{\"cells\": {\"fill\": {\"color\": \"#EBF0F8\"}, \"line\": {\"color\": \"white\"}}, \"header\": {\"fill\": {\"color\": \"#C8D4E3\"}, \"line\": {\"color\": \"white\"}}, \"type\": \"table\"}]}, \"layout\": {\"annotationdefaults\": {\"arrowcolor\": \"#2a3f5f\", \"arrowhead\": 0, \"arrowwidth\": 1}, \"coloraxis\": {\"colorbar\": {\"outlinewidth\": 0, \"ticks\": \"\"}}, \"colorscale\": {\"diverging\": [[0, \"#8e0152\"], [0.1, \"#c51b7d\"], [0.2, \"#de77ae\"], [0.3, \"#f1b6da\"], [0.4, \"#fde0ef\"], [0.5, \"#f7f7f7\"], [0.6, \"#e6f5d0\"], [0.7, \"#b8e186\"], [0.8, \"#7fbc41\"], [0.9, \"#4d9221\"], [1, \"#276419\"]], \"sequential\": [[0.0, \"#0d0887\"], [0.1111111111111111, \"#46039f\"], [0.2222222222222222, \"#7201a8\"], [0.3333333333333333, \"#9c179e\"], [0.4444444444444444, \"#bd3786\"], [0.5555555555555556, \"#d8576b\"], [0.6666666666666666, \"#ed7953\"], [0.7777777777777778, \"#fb9f3a\"], [0.8888888888888888, \"#fdca26\"], [1.0, \"#f0f921\"]], \"sequentialminus\": [[0.0, \"#0d0887\"], [0.1111111111111111, \"#46039f\"], [0.2222222222222222, \"#7201a8\"], [0.3333333333333333, \"#9c179e\"], [0.4444444444444444, \"#bd3786\"], [0.5555555555555556, \"#d8576b\"], [0.6666666666666666, \"#ed7953\"], [0.7777777777777778, \"#fb9f3a\"], [0.8888888888888888, \"#fdca26\"], [1.0, \"#f0f921\"]]}, \"colorway\": [\"#636efa\", \"#EF553B\", \"#00cc96\", \"#ab63fa\", \"#FFA15A\", \"#19d3f3\", \"#FF6692\", \"#B6E880\", \"#FF97FF\", \"#FECB52\"], \"font\": {\"color\": \"#2a3f5f\"}, \"geo\": {\"bgcolor\": \"white\", \"lakecolor\": \"white\", \"landcolor\": \"#E5ECF6\", \"showlakes\": true, \"showland\": true, \"subunitcolor\": \"white\"}, \"hoverlabel\": {\"align\": \"left\"}, \"hovermode\": \"closest\", \"mapbox\": {\"style\": \"light\"}, \"paper_bgcolor\": \"white\", \"plot_bgcolor\": \"#E5ECF6\", \"polar\": {\"angularaxis\": {\"gridcolor\": \"white\", \"linecolor\": \"white\", \"ticks\": \"\"}, \"bgcolor\": \"#E5ECF6\", \"radialaxis\": {\"gridcolor\": \"white\", \"linecolor\": \"white\", \"ticks\": \"\"}}, \"scene\": {\"xaxis\": {\"backgroundcolor\": \"#E5ECF6\", \"gridcolor\": \"white\", \"gridwidth\": 2, \"linecolor\": \"white\", \"showbackground\": true, \"ticks\": \"\", \"zerolinecolor\": \"white\"}, \"yaxis\": {\"backgroundcolor\": \"#E5ECF6\", \"gridcolor\": \"white\", \"gridwidth\": 2, \"linecolor\": \"white\", \"showbackground\": true, \"ticks\": \"\", \"zerolinecolor\": \"white\"}, \"zaxis\": {\"backgroundcolor\": \"#E5ECF6\", \"gridcolor\": \"white\", \"gridwidth\": 2, \"linecolor\": \"white\", \"showbackground\": true, \"ticks\": \"\", \"zerolinecolor\": \"white\"}}, \"shapedefaults\": {\"line\": {\"color\": \"#2a3f5f\"}}, \"ternary\": {\"aaxis\": {\"gridcolor\": \"white\", \"linecolor\": \"white\", \"ticks\": \"\"}, \"baxis\": {\"gridcolor\": \"white\", \"linecolor\": \"white\", \"ticks\": \"\"}, \"bgcolor\": \"#E5ECF6\", \"caxis\": {\"gridcolor\": \"white\", \"linecolor\": \"white\", \"ticks\": \"\"}}, \"title\": {\"x\": 0.05}, \"xaxis\": {\"automargin\": true, \"gridcolor\": \"white\", \"linecolor\": \"white\", \"ticks\": \"\", \"title\": {\"standoff\": 15}, \"zerolinecolor\": \"white\", \"zerolinewidth\": 2}, \"yaxis\": {\"automargin\": true, \"gridcolor\": \"white\", \"linecolor\": \"white\", \"ticks\": \"\", \"title\": {\"standoff\": 15}, \"zerolinecolor\": \"white\", \"zerolinewidth\": 2}}}, \"title\": {\"font\": {\"color\": \"#4D5663\"}}, \"xaxis\": {\"anchor\": \"y\", \"domain\": [0.0, 0.2125], \"gridcolor\": \"#E1E5ED\", \"showgrid\": false, \"tickfont\": {\"color\": \"#4D5663\"}, \"title\": {\"font\": {\"color\": \"#4D5663\"}, \"text\": \"\"}, \"zerolinecolor\": \"#E1E5ED\"}, \"xaxis10\": {\"anchor\": \"y10\", \"domain\": [0.2625, 0.475], \"gridcolor\": \"#E1E5ED\", \"showgrid\": false, \"tickfont\": {\"color\": \"#4D5663\"}, \"title\": {\"font\": {\"color\": \"#4D5663\"}, \"text\": \"\"}, \"zerolinecolor\": \"#E1E5ED\"}, \"xaxis11\": {\"anchor\": \"y11\", \"domain\": [0.525, 0.7375], \"gridcolor\": \"#E1E5ED\", \"showgrid\": false, \"tickfont\": {\"color\": \"#4D5663\"}, \"title\": {\"font\": {\"color\": \"#4D5663\"}, \"text\": \"\"}, \"zerolinecolor\": \"#E1E5ED\"}, \"xaxis12\": {\"anchor\": \"y12\", \"domain\": [0.7875, 1.0], \"gridcolor\": \"#E1E5ED\", \"showgrid\": false, \"tickfont\": {\"color\": \"#4D5663\"}, \"title\": {\"font\": {\"color\": \"#4D5663\"}, \"text\": \"\"}, \"zerolinecolor\": \"#E1E5ED\"}, \"xaxis13\": {\"anchor\": \"y13\", \"domain\": [0.0, 0.2125], \"gridcolor\": \"#E1E5ED\", \"showgrid\": false, \"tickfont\": {\"color\": \"#4D5663\"}, \"title\": {\"font\": {\"color\": \"#4D5663\"}, \"text\": \"\"}, \"zerolinecolor\": \"#E1E5ED\"}, \"xaxis14\": {\"anchor\": \"y14\", \"domain\": [0.2625, 0.475], \"gridcolor\": \"#E1E5ED\", \"showgrid\": false, \"tickfont\": {\"color\": \"#4D5663\"}, \"title\": {\"font\": {\"color\": \"#4D5663\"}, \"text\": \"\"}, \"zerolinecolor\": \"#E1E5ED\"}, \"xaxis15\": {\"anchor\": \"y15\", \"domain\": [0.525, 0.7375], \"gridcolor\": \"#E1E5ED\", \"showgrid\": false, \"tickfont\": {\"color\": \"#4D5663\"}, \"title\": {\"font\": {\"color\": \"#4D5663\"}, \"text\": \"\"}, \"zerolinecolor\": \"#E1E5ED\"}, \"xaxis16\": {\"anchor\": \"y16\", \"domain\": [0.7875, 1.0], \"gridcolor\": \"#E1E5ED\", \"showgrid\": false, \"tickfont\": {\"color\": \"#4D5663\"}, \"title\": {\"font\": {\"color\": \"#4D5663\"}, \"text\": \"\"}, \"zerolinecolor\": \"#E1E5ED\"}, \"xaxis2\": {\"anchor\": \"y2\", \"domain\": [0.2625, 0.475], \"gridcolor\": \"#E1E5ED\", \"showgrid\": false, \"tickfont\": {\"color\": \"#4D5663\"}, \"title\": {\"font\": {\"color\": \"#4D5663\"}, \"text\": \"\"}, \"zerolinecolor\": \"#E1E5ED\"}, \"xaxis3\": {\"anchor\": \"y3\", \"domain\": [0.525, 0.7375], \"gridcolor\": \"#E1E5ED\", \"showgrid\": false, \"tickfont\": {\"color\": \"#4D5663\"}, \"title\": {\"font\": {\"color\": \"#4D5663\"}, \"text\": \"\"}, \"zerolinecolor\": \"#E1E5ED\"}, \"xaxis4\": {\"anchor\": \"y4\", \"domain\": [0.7875, 1.0], \"gridcolor\": \"#E1E5ED\", \"showgrid\": false, \"tickfont\": {\"color\": \"#4D5663\"}, \"title\": {\"font\": {\"color\": \"#4D5663\"}, \"text\": \"\"}, \"zerolinecolor\": \"#E1E5ED\"}, \"xaxis5\": {\"anchor\": \"y5\", \"domain\": [0.0, 0.2125], \"gridcolor\": \"#E1E5ED\", \"showgrid\": false, \"tickfont\": {\"color\": \"#4D5663\"}, \"title\": {\"font\": {\"color\": \"#4D5663\"}, \"text\": \"\"}, \"zerolinecolor\": \"#E1E5ED\"}, \"xaxis6\": {\"anchor\": \"y6\", \"domain\": [0.2625, 0.475], \"gridcolor\": \"#E1E5ED\", \"showgrid\": false, \"tickfont\": {\"color\": \"#4D5663\"}, \"title\": {\"font\": {\"color\": \"#4D5663\"}, \"text\": \"\"}, \"zerolinecolor\": \"#E1E5ED\"}, \"xaxis7\": {\"anchor\": \"y7\", \"domain\": [0.525, 0.7375], \"gridcolor\": \"#E1E5ED\", \"showgrid\": false, \"tickfont\": {\"color\": \"#4D5663\"}, \"title\": {\"font\": {\"color\": \"#4D5663\"}, \"text\": \"\"}, \"zerolinecolor\": \"#E1E5ED\"}, \"xaxis8\": {\"anchor\": \"y8\", \"domain\": [0.7875, 1.0], \"gridcolor\": \"#E1E5ED\", \"showgrid\": false, \"tickfont\": {\"color\": \"#4D5663\"}, \"title\": {\"font\": {\"color\": \"#4D5663\"}, \"text\": \"\"}, \"zerolinecolor\": \"#E1E5ED\"}, \"xaxis9\": {\"anchor\": \"y9\", \"domain\": [0.0, 0.2125], \"gridcolor\": \"#E1E5ED\", \"showgrid\": false, \"tickfont\": {\"color\": \"#4D5663\"}, \"title\": {\"font\": {\"color\": \"#4D5663\"}, \"text\": \"\"}, \"zerolinecolor\": \"#E1E5ED\"}, \"yaxis\": {\"anchor\": \"x\", \"domain\": [0.8025, 1.0], \"gridcolor\": \"#E1E5ED\", \"showgrid\": false, \"tickfont\": {\"color\": \"#4D5663\"}, \"title\": {\"font\": {\"color\": \"#4D5663\"}, \"text\": \"\"}, \"zerolinecolor\": \"#E1E5ED\"}, \"yaxis10\": {\"anchor\": \"x10\", \"domain\": [0.2675, 0.465], \"gridcolor\": \"#E1E5ED\", \"showgrid\": false, \"tickfont\": {\"color\": \"#4D5663\"}, \"title\": {\"font\": {\"color\": \"#4D5663\"}, \"text\": \"\"}, \"zerolinecolor\": \"#E1E5ED\"}, \"yaxis11\": {\"anchor\": \"x11\", \"domain\": [0.2675, 0.465], \"gridcolor\": \"#E1E5ED\", \"showgrid\": false, \"tickfont\": {\"color\": \"#4D5663\"}, \"title\": {\"font\": {\"color\": \"#4D5663\"}, \"text\": \"\"}, \"zerolinecolor\": \"#E1E5ED\"}, \"yaxis12\": {\"anchor\": \"x12\", \"domain\": [0.2675, 0.465], \"gridcolor\": \"#E1E5ED\", \"showgrid\": false, \"tickfont\": {\"color\": \"#4D5663\"}, \"title\": {\"font\": {\"color\": \"#4D5663\"}, \"text\": \"\"}, \"zerolinecolor\": \"#E1E5ED\"}, \"yaxis13\": {\"anchor\": \"x13\", \"domain\": [0.0, 0.1975], \"gridcolor\": \"#E1E5ED\", \"showgrid\": false, \"tickfont\": {\"color\": \"#4D5663\"}, \"title\": {\"font\": {\"color\": \"#4D5663\"}, \"text\": \"\"}, \"zerolinecolor\": \"#E1E5ED\"}, \"yaxis14\": {\"anchor\": \"x14\", \"domain\": [0.0, 0.1975], \"gridcolor\": \"#E1E5ED\", \"showgrid\": false, \"tickfont\": {\"color\": \"#4D5663\"}, \"title\": {\"font\": {\"color\": \"#4D5663\"}, \"text\": \"\"}, \"zerolinecolor\": \"#E1E5ED\"}, \"yaxis15\": {\"anchor\": \"x15\", \"domain\": [0.0, 0.1975], \"gridcolor\": \"#E1E5ED\", \"showgrid\": false, \"tickfont\": {\"color\": \"#4D5663\"}, \"title\": {\"font\": {\"color\": \"#4D5663\"}, \"text\": \"\"}, \"zerolinecolor\": \"#E1E5ED\"}, \"yaxis16\": {\"anchor\": \"x16\", \"domain\": [0.0, 0.1975], \"gridcolor\": \"#E1E5ED\", \"showgrid\": false, \"tickfont\": {\"color\": \"#4D5663\"}, \"title\": {\"font\": {\"color\": \"#4D5663\"}, \"text\": \"\"}, \"zerolinecolor\": \"#E1E5ED\"}, \"yaxis2\": {\"anchor\": \"x2\", \"domain\": [0.8025, 1.0], \"gridcolor\": \"#E1E5ED\", \"showgrid\": false, \"tickfont\": {\"color\": \"#4D5663\"}, \"title\": {\"font\": {\"color\": \"#4D5663\"}, \"text\": \"\"}, \"zerolinecolor\": \"#E1E5ED\"}, \"yaxis3\": {\"anchor\": \"x3\", \"domain\": [0.8025, 1.0], \"gridcolor\": \"#E1E5ED\", \"showgrid\": false, \"tickfont\": {\"color\": \"#4D5663\"}, \"title\": {\"font\": {\"color\": \"#4D5663\"}, \"text\": \"\"}, \"zerolinecolor\": \"#E1E5ED\"}, \"yaxis4\": {\"anchor\": \"x4\", \"domain\": [0.8025, 1.0], \"gridcolor\": \"#E1E5ED\", \"showgrid\": false, \"tickfont\": {\"color\": \"#4D5663\"}, \"title\": {\"font\": {\"color\": \"#4D5663\"}, \"text\": \"\"}, \"zerolinecolor\": \"#E1E5ED\"}, \"yaxis5\": {\"anchor\": \"x5\", \"domain\": [0.535, 0.7325], \"gridcolor\": \"#E1E5ED\", \"showgrid\": false, \"tickfont\": {\"color\": \"#4D5663\"}, \"title\": {\"font\": {\"color\": \"#4D5663\"}, \"text\": \"\"}, \"zerolinecolor\": \"#E1E5ED\"}, \"yaxis6\": {\"anchor\": \"x6\", \"domain\": [0.535, 0.7325], \"gridcolor\": \"#E1E5ED\", \"showgrid\": false, \"tickfont\": {\"color\": \"#4D5663\"}, \"title\": {\"font\": {\"color\": \"#4D5663\"}, \"text\": \"\"}, \"zerolinecolor\": \"#E1E5ED\"}, \"yaxis7\": {\"anchor\": \"x7\", \"domain\": [0.535, 0.7325], \"gridcolor\": \"#E1E5ED\", \"showgrid\": false, \"tickfont\": {\"color\": \"#4D5663\"}, \"title\": {\"font\": {\"color\": \"#4D5663\"}, \"text\": \"\"}, \"zerolinecolor\": \"#E1E5ED\"}, \"yaxis8\": {\"anchor\": \"x8\", \"domain\": [0.535, 0.7325], \"gridcolor\": \"#E1E5ED\", \"showgrid\": false, \"tickfont\": {\"color\": \"#4D5663\"}, \"title\": {\"font\": {\"color\": \"#4D5663\"}, \"text\": \"\"}, \"zerolinecolor\": \"#E1E5ED\"}, \"yaxis9\": {\"anchor\": \"x9\", \"domain\": [0.2675, 0.465], \"gridcolor\": \"#E1E5ED\", \"showgrid\": false, \"tickfont\": {\"color\": \"#4D5663\"}, \"title\": {\"font\": {\"color\": \"#4D5663\"}, \"text\": \"\"}, \"zerolinecolor\": \"#E1E5ED\"}},\n",
       "                        {\"showLink\": true, \"linkText\": \"Export to plot.ly\", \"plotlyServerURL\": \"https://plot.ly\", \"responsive\": true}\n",
       "                    ).then(function(){\n",
       "                            \n",
       "var gd = document.getElementById('e4e83a59-fe4a-487a-9680-a943243ab42f');\n",
       "var x = new MutationObserver(function (mutations, observer) {{\n",
       "        var display = window.getComputedStyle(gd).display;\n",
       "        if (!display || display === 'none') {{\n",
       "            console.log([gd, 'removed!']);\n",
       "            Plotly.purge(gd);\n",
       "            observer.disconnect();\n",
       "        }}\n",
       "}});\n",
       "\n",
       "// Listen for the removal of the full notebook cells\n",
       "var notebookContainer = gd.closest('#notebook-container');\n",
       "if (notebookContainer) {{\n",
       "    x.observe(notebookContainer, {childList: true});\n",
       "}}\n",
       "\n",
       "// Listen for the clearing of the current output cell\n",
       "var outputEl = gd.closest('.output');\n",
       "if (outputEl) {{\n",
       "    x.observe(outputEl, {childList: true});\n",
       "}}\n",
       "\n",
       "                        })\n",
       "                };\n",
       "                });\n",
       "            </script>\n",
       "        </div>"
      ]
     },
     "metadata": {},
     "output_type": "display_data"
    }
   ],
   "source": [
    "df.scatter_matrix()"
   ]
  },
  {
   "cell_type": "markdown",
   "metadata": {
    "collapsed": true
   },
   "source": [
    "# Great Job!"
   ]
  }
 ],
 "metadata": {
  "kernelspec": {
   "display_name": "Python 3",
   "language": "python",
   "name": "python3"
  },
  "language_info": {
   "codemirror_mode": {
    "name": "ipython",
    "version": 3
   },
   "file_extension": ".py",
   "mimetype": "text/x-python",
   "name": "python",
   "nbconvert_exporter": "python",
   "pygments_lexer": "ipython3",
   "version": "3.7.6"
  }
 },
 "nbformat": 4,
 "nbformat_minor": 1
}
